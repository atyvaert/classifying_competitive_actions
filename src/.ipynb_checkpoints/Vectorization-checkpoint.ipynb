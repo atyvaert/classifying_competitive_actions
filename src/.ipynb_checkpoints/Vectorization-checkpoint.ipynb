{
 "cells": [
  {
   "cell_type": "markdown",
   "id": "5a4e09ae",
   "metadata": {},
   "source": [
    "# Vectorization"
   ]
  },
  {
   "cell_type": "markdown",
   "id": "4c84a60a",
   "metadata": {},
   "source": [
    "## 1. Data loading"
   ]
  },
  {
   "cell_type": "code",
   "execution_count": 18,
   "id": "d64ee893",
   "metadata": {},
   "outputs": [],
   "source": [
    "# General Packages #\n",
    "import os\n",
    "import pandas as pd\n",
    "import numpy as np\n",
    "import string\n",
    "import re\n",
    "from scipy.stats import randint\n",
    "import random\n",
    "\n",
    "# Load TQDM to Show Progress Bars #\n",
    "from tqdm import tqdm\n",
    "from tqdm.notebook import tqdm as tqdm_notebook\n",
    "\n",
    "# Sklearn Packages #\n",
    "from sklearn.feature_extraction.text import TfidfTransformer, CountVectorizer, TfidfVectorizer\n",
    "from sklearn.metrics import mean_squared_error, r2_score, accuracy_score, classification_report\n",
    "from sklearn.model_selection import train_test_split, StratifiedShuffleSplit, StratifiedKFold, cross_val_predict, GridSearchCV\n",
    "from sklearn.metrics import roc_auc_score, precision_score, recall_score, f1_score, confusion_matrix\n",
    "from sklearn.ensemble import RandomForestClassifier, AdaBoostClassifier, BaggingClassifier, GradientBoostingClassifier\n",
    "from sklearn.linear_model import Lasso, LassoCV, SGDClassifier, LogisticRegression, RidgeCV, RidgeClassifierCV, HuberRegressor, LinearRegression\n",
    "from sklearn.naive_bayes import MultinomialNB\n",
    "from sklearn.neural_network import MLPClassifier\n",
    "from sklearn.discriminant_analysis import QuadraticDiscriminantAnalysis\n",
    "from sklearn.svm import SVC\n",
    "from sklearn.neighbors import KNeighborsClassifier\n",
    "from sklearn.preprocessing import LabelEncoder\n",
    "from sklearn.calibration import CalibratedClassifierCV\n",
    "\n",
    "# NLTK Packages #\n",
    "import nltk\n",
    "from nltk.corpus import stopwords\n",
    "from textblob import TextBlob, Word\n",
    "\n",
    "# Import necessary libraries for handling imbalanced data\n",
    "from imblearn.combine import SMOTETomek\n",
    "from imblearn.metrics import geometric_mean_score\n",
    "from imblearn.ensemble import RUSBoostClassifier\n",
    "from imblearn.ensemble import smote\n",
    "from imblearn.pipeline import make_pipeline\n",
    "from imblearn.over_sampling import SMOTE\n",
    "\n"
   ]
  },
  {
   "cell_type": "code",
   "execution_count": 19,
   "id": "842f017d",
   "metadata": {},
   "outputs": [],
   "source": [
    "# Turn off warnings, just to avoid pesky messages that might cause confusion here\n",
    "# Remove when testing your own code #\n",
    "import warnings\n",
    "warnings.filterwarnings(\"ignore\")"
   ]
  },
  {
   "cell_type": "code",
   "execution_count": 20,
   "id": "d269c277",
   "metadata": {},
   "outputs": [
    {
     "data": {
      "text/html": [
       "<div>\n",
       "<style scoped>\n",
       "    .dataframe tbody tr th:only-of-type {\n",
       "        vertical-align: middle;\n",
       "    }\n",
       "\n",
       "    .dataframe tbody tr th {\n",
       "        vertical-align: top;\n",
       "    }\n",
       "\n",
       "    .dataframe thead th {\n",
       "        text-align: right;\n",
       "    }\n",
       "</style>\n",
       "<table border=\"1\" class=\"dataframe\">\n",
       "  <thead>\n",
       "    <tr style=\"text-align: right;\">\n",
       "      <th></th>\n",
       "      <th>id</th>\n",
       "      <th>Headline</th>\n",
       "      <th>category</th>\n",
       "    </tr>\n",
       "  </thead>\n",
       "  <tbody>\n",
       "    <tr>\n",
       "      <th>0</th>\n",
       "      <td>194578</td>\n",
       "      <td>Head Line: US Patent granted to BASF SE (Delaw...</td>\n",
       "      <td>None</td>\n",
       "    </tr>\n",
       "    <tr>\n",
       "      <th>1</th>\n",
       "      <td>564295</td>\n",
       "      <td>Societe Generale Launches a Next-Generation Ca...</td>\n",
       "      <td>None</td>\n",
       "    </tr>\n",
       "    <tr>\n",
       "      <th>2</th>\n",
       "      <td>504138</td>\n",
       "      <td>BARCLAYS PLC Form 8.3 - EUTELSAT COMMUNICATION...</td>\n",
       "      <td>None</td>\n",
       "    </tr>\n",
       "    <tr>\n",
       "      <th>3</th>\n",
       "      <td>91379</td>\n",
       "      <td>ASML: 4Q Earnings Snapshot</td>\n",
       "      <td>None</td>\n",
       "    </tr>\n",
       "    <tr>\n",
       "      <th>4</th>\n",
       "      <td>265750</td>\n",
       "      <td>Form 8.3 - AXA INVESTMENT MANAGERS : Booker Gr...</td>\n",
       "      <td>None</td>\n",
       "    </tr>\n",
       "  </tbody>\n",
       "</table>\n",
       "</div>"
      ],
      "text/plain": [
       "       id                                           Headline category\n",
       "0  194578  Head Line: US Patent granted to BASF SE (Delaw...     None\n",
       "1  564295  Societe Generale Launches a Next-Generation Ca...     None\n",
       "2  504138  BARCLAYS PLC Form 8.3 - EUTELSAT COMMUNICATION...     None\n",
       "3   91379                         ASML: 4Q Earnings Snapshot     None\n",
       "4  265750  Form 8.3 - AXA INVESTMENT MANAGERS : Booker Gr...     None"
      ]
     },
     "execution_count": 20,
     "metadata": {},
     "output_type": "execute_result"
    }
   ],
   "source": [
    "# Change to Working Directory with Training Data # \n",
    "os.chdir(\"/Users/Artur/Desktop/thesis_HIR_versie5/coding\")\n",
    "\n",
    "# Load Training Data #\n",
    "df_train = pd.read_csv(\"./data/train_adjusted.csv\", header = 0)\n",
    "df_test = pd.read_csv(\"./data/test_adjusted.csv\", header = 0)\n",
    "\n",
    "# inspect the data\n",
    "df_train.head(5)"
   ]
  },
  {
   "cell_type": "markdown",
   "id": "34f0d420",
   "metadata": {},
   "source": [
    "# 1.1 Bag of words"
   ]
  },
  {
   "cell_type": "markdown",
   "id": "1b3c5922",
   "metadata": {},
   "source": [
    "## 1.1.2 Define the BOW vectorizer"
   ]
  },
  {
   "cell_type": "markdown",
   "id": "b0347fda",
   "metadata": {},
   "source": [
    "Define the tokenizer that we will use for the vectorizers."
   ]
  },
  {
   "cell_type": "markdown",
   "id": "1b12cd57",
   "metadata": {},
   "source": [
    "*** to do: Dollar signs + names of the company ***"
   ]
  },
  {
   "cell_type": "code",
   "execution_count": 21,
   "id": "379f6824",
   "metadata": {},
   "outputs": [],
   "source": [
    "def textblob_tokenizer(str_input):\n",
    "    # Convert list to string\n",
    "    input_str = str_input\n",
    "    if isinstance(input_str, list):\n",
    "        input_str = ' '.join(input_str)\n",
    "    \n",
    "    # Remove punctuation\n",
    "    str_input = str_input.translate(str.maketrans('', '', string.punctuation))\n",
    "    \n",
    "    # Define stop words\n",
    "    stop_words = set(stopwords.words('english'))\n",
    "\n",
    "    # Tokenize text\n",
    "    blob = TextBlob(str_input.lower())\n",
    "    tokens = blob.words\n",
    "    \n",
    "    # Remove numbers, stop words, and words with one character\n",
    "    words = [word for word in tokens if not re.match('^\\d+$', word) and word not in stop_words and len(word) > 1]\n",
    "    \n",
    "    # Lemmatize words\n",
    "    words = [Word(word).lemmatize() for word in words]\n",
    "    \n",
    "    return words"
   ]
  },
  {
   "cell_type": "code",
   "execution_count": 22,
   "id": "1ef5fcad",
   "metadata": {},
   "outputs": [],
   "source": [
    "# inspect the cleaned data\n",
    "df_train['cleaned_headline'] = df_train['Headline'].apply(textblob_tokenizer)\n",
    "\n",
    "# check the data\n",
    "#df_train[[\"cleaned_headline\", \"Headline\"]]"
   ]
  },
  {
   "cell_type": "markdown",
   "id": "f69593e0",
   "metadata": {},
   "source": [
    "Define the parameters of the vectorizer"
   ]
  },
  {
   "cell_type": "code",
   "execution_count": 23,
   "id": "13f53e17",
   "metadata": {},
   "outputs": [],
   "source": [
    "# Minimum Document Frequency -- Minimum number of times a word needs to occur to be considered #\n",
    "MINDF = 10\n",
    "\n",
    "# Maximum Document Frequency -- Maximum share of documents where a word needs to occur to be considered #\n",
    "MAXDF = 0.9\n",
    "\n",
    "# Maximum number of features we would want to consider -- ranked by most frequently occuring #\n",
    "MF= 800\n",
    "\n",
    "# NGrams -- Number of Word Pairs. Takes the form (Min, Max). E.g. (1, 2) means single words and word pairs # \n",
    "NGrams = (1,2)"
   ]
  },
  {
   "cell_type": "markdown",
   "id": "a97e0189",
   "metadata": {},
   "source": [
    "Define the vectorizer itself"
   ]
  },
  {
   "cell_type": "code",
   "execution_count": 24,
   "id": "1f4d2387",
   "metadata": {},
   "outputs": [],
   "source": [
    "# define the vectorizer\n",
    "vec_bow = CountVectorizer(max_features= MF,\n",
    "                          min_df = MINDF,\n",
    "                          max_df = MAXDF,\n",
    "                          ngram_range=(1, 2),\n",
    "                          tokenizer=textblob_tokenizer)"
   ]
  },
  {
   "cell_type": "markdown",
   "id": "d49cac20",
   "metadata": {},
   "source": [
    "Define the dependent variables"
   ]
  },
  {
   "cell_type": "code",
   "execution_count": 25,
   "id": "8acbb138",
   "metadata": {},
   "outputs": [],
   "source": [
    "# create independent variable with BOW\n",
    "X_train_bow = vec_bow.fit_transform(df_train['Headline'])\n",
    "\n",
    "# Transform the test set using the same vectorizer\n",
    "X_test_bow = vec_bow.transform(df_test['Headline'])"
   ]
  },
  {
   "cell_type": "code",
   "execution_count": 26,
   "id": "55352706",
   "metadata": {},
   "outputs": [
    {
     "name": "stdout",
     "output_type": "stream",
     "text": [
      "{'head': 312, 'line': 407, 'u': 751, 'patent': 524, 'granted': 296, 'basf': 85, 'se': 646, 'delaware': 177, 'may': 443, 'titled': 730, 'composition': 143, 'comprising': 145, 'method': 451, 'using': 768, 'head line': 313, 'line u': 408, 'u patent': 752, 'patent granted': 527, 'basf se': 86, 'societe': 677, 'generale': 282, 'launch': 398, 'security': 650, 'societe generale': 678, 'barclays': 82, 'plc': 548, 'form': 259, 'communication': 139, 'barclays plc': 83, 'plc form': 553, 'earnings': 206, 'axa': 74, 'investment': 366, 'booker': 102, 'group': 300, 'booker group': 103, 'group plc': 303, 'glencore': 289, 'transaction': 742, 'share': 660, 'glencore plc': 290, 'plc transaction': 561, 'transaction share': 743, 'trust': 748, 'corporation': 158, 'annual': 43, 'financial': 251, 'report': 612, 'plc annual': 550, 'annual financial': 44, 'financial report': 252, 'infineon': 340, 'technology': 714, 'ag': 16, 'applies': 49, 'sensor': 655, 'system': 710, 'infineon technology': 341, 'applies u': 50, 'patent titled': 534, 'system method': 711, 'holding': 322, 'company': 141, 'plc holding': 556, 'holding company': 323, 'bank': 78, 'set': 659, 'rate': 602, 'bond': 101, 'wipo': 788, 'publishes': 591, 'bayer': 87, 'pharma': 539, 'derivative': 180, 'treatment': 745, 'cancer': 116, 'german': 284, 'inventor': 365, 'wipo publishes': 789, 'publishes patent': 592, 'german inventor': 285, 'covid19': 159, 'trading': 741, 'update': 762, 'issued': 369, 'siemens': 667, 'nov': 490, 'apparatus': 46, 'imaging': 329, 'image': 328, 'chinese': 130, 'patent issued': 528, 'issued siemens': 373, 'method apparatus': 452, 'chief': 128, 'executive': 237, 'retail': 617, 'customer': 163, 'novo': 493, 'nordisk': 485, 'international': 359, 'operation': 511, 'novo nordisk': 494, 'element': 211, 'swedish': 704, 'swedish inventor': 705, 'plant': 545, 'awarded': 73, 'development': 188, 'global': 291, 'oil': 504, 'market': 441, 'leading': 399, 'player': 547, 'use': 766, 'win': 785, 'national': 472, 'grid': 298, 'national grid': 473, 'arkema': 55, 'france': 271, 'file': 246, 'application': 47, 'article': 57, 'international patent': 360, 'file application': 247, 'analyst': 36, 'action': 10, 'credit': 160, 'suisse': 700, 'price': 570, 'target': 713, 'neutral': 478, 'analyst action': 37, 'action credit': 11, 'credit suisse': 161, 'new': 479, 'production': 574, 'germany': 286, 'director': 193, 'dealing': 174, 'dividend': 198, 'general': 280, 'half': 305, 'year': 797, 'plc half': 554, 'half year': 306, 'july': 387, 'updated': 763, 'industrial': 338, 'asset': 60, 'management': 435, 'strategic': 695, 'abb': 1, 'schneider': 642, 'electric': 207, 'inc': 332, 'asset management': 61, 'schneider electric': 643, 'renault': 610, 'acquires': 8, 'medium': 445, 'profile': 575, 'president': 568, 'officer': 503, 'nestle': 474, 'limited': 404, 'gkn': 287, 'april': 52, 'worldwide': 795, 'review': 619, 'clariant': 132, 'royal': 628, 'dutch': 203, 'shell': 663, 'royal dutch': 629, 'dutch shell': 205, 'aircraft': 23, 'engine': 215, 'device': 189, 'french': 272, 'french inventor': 273, 'smith': 674, 'preliminary': 565, 'result': 616, 'plc preliminary': 558, 'preliminary result': 566, 'appoints': 51, 'deutsche': 183, 'telekom': 719, 'providing': 584, 'access': 3, 'network': 477, 'program': 577, 'computer': 146, 'product': 573, 'deutsche telekom': 186, 'ag titled': 18, 'titled method': 731, 'merck': 448, 'kgaa': 393, 'sign': 669, 'research': 613, 'agreement': 20, 'supply': 702, 'nokia': 482, 'oy': 518, 'based': 84, 'user': 767, 'equipment': 221, 'patent nokia': 530, 'nokia technology': 484, 'allianz': 28, 'gmbh': 293, 'uk': 757, 'top': 733, 'military': 457, 'contract': 149, 'award': 72, 'bae': 75, 'ltd': 427, 'worth': 796, 'contract award': 150, 'bae system': 76, 'win contract': 786, 'contract worth': 153, 'ubs': 754, 'eptri': 218, 'lonmin': 421, 'form eptri': 265, 'lonmin plc': 422, 'schroders': 644, 'industry': 339, 'schroders plc': 645, 'uspto': 769, 'published': 589, 'ab': 0, 'press': 569, 'unit': 760, 'uspto published': 770, 'published patent': 590, 'patent application': 525, 'health': 314, 'controlling': 155, 'shareholder': 661, 'stake': 682, 'board': 98, 'change': 125, 'solution': 680, 'circuit': 131, 'canadian': 115, 'issued nokia': 372, 'nokia solution': 483, 'solution network': 681, 'vodafone': 778, 'mobile': 460, 'q4': 597, 'aktiengesellschaft': 24, 'electrical': 208, 'machine': 430, 'assembly': 59, 'line wipo': 409, 'patent siemens': 532, 'siemens aktiengesellschaft': 668, 'aktiengesellschaft titled': 25, 'swiss': 706, 'federal': 243, 'institute': 349, 'intellectual': 354, 'property': 579, 'grant': 294, 'trade': 737, 'mark': 440, 'british': 106, 'american': 32, 'tobacco': 732, 'brand': 105, 'swiss federal': 707, 'federal institute': 245, 'institute intellectual': 350, 'intellectual property': 355, 'grant trade': 295, 'trade mark': 738, 'british american': 107, 'american tobacco': 34, 'total': 735, 'sa': 634, 'start': 686, 'full': 274, 'capacity': 117, 'dec': 175, 'swiss inventor': 708, 'india': 335, 'member': 447, 'vehicle': 776, 'including': 333, 'first': 256, 'commerzbank': 138, 'say': 641, 'cut': 164, 'stmicroelectronics': 692, 'sept': 656, 'integrated': 353, 'issued stmicroelectronics': 374, 'announces': 42, 'join': 383, 'delivery': 178, 'bmo': 94, 'ucits': 755, 'etf': 226, 'net': 475, 'value': 772, 'bmo barclays': 95, 'ucits etf': 756, 'etf net': 227, 'net asset': 476, 'asset value': 62, 'disclosure': 196, 'shire': 665, 'form shire': 268, 'shire plc': 666, 'pharmaceutical': 540, 'distribution': 197, 'informa': 342, 'generale sa': 283, 'sa form': 635, 'informa plc': 343, 'australian': 68, 'london': 418, 'stock': 693, 'exchange': 235, 'notice': 488, 'london stock': 420, 'stock exchange': 694, 'tesco': 721, 'sell': 653, 'manufacturing': 438, 'china': 129, 'morgan': 462, 'stanley': 684, 'capital': 118, 'service': 658, 'llc': 411, 'sky': 671, 'morgan stanley': 463, 'llc form': 412, 'eptri sky': 219, 'sky plc': 672, 'halfyear': 308, 'plc halfyear': 555, 'halfyear report': 309, 'food': 257, 'future': 277, 'insight': 348, 'alstom': 29, 'high': 318, 'british inventor': 108, 'acquisition': 9, 'english': 216, 'volkswagen': 780, 'meeting': 446, 'annual general': 45, 'general meeting': 281, 'vanguard': 773, 'vanguard group': 774, 'group form': 301, 'form booker': 262, 'cybg': 165, 'publication': 588, 'cybg plc': 166, 'state': 687, 'diageo': 190, 'north': 486, 'america': 31, 'office': 500, 'italian': 376, 'deal': 173, 'aviva': 70, 'home': 325, 'aviva plc': 71, 'inmarsat': 345, 'inmarsat plc': 346, 'chairman': 124, 'exchange group': 236, 'power': 564, 'outlook': 517, 'trend': 746, 'telefonica': 718, 'smart': 673, 'rexam': 620, 'interim': 357, 'rexam plc': 621, 'unilever': 758, 'nv': 496, 'care': 120, 'indian': 336, 'unilever plc': 759, 'novartis': 491, 'etc': 225, 'novartis ag': 492, 'feb': 241, 'standard': 683, 'life': 402, 'bg': 90, 'form bg': 261, 'bg group': 91, 'data': 170, 'analysis': 35, 'limited form': 405, 'aug': 65, 'old': 505, 'mutual': 469, 'old mutual': 506, 'mutual plc': 470, 'insurance': 351, 'danish': 168, 'insurance group': 352, 'radio': 600, 'finnish': 253, 'finnish inventor': 254, 'jan': 378, 'wireless': 790, 'koninklijke': 395, 'philip': 542, 'air': 21, 'patent koninklijke': 529, 'koninklijke philip': 396, 'dutch inventor': 204, 'issued koninklijke': 371, 'full year': 275, 'glaxosmithkline': 288, 'quarter': 598, 'quarter result': 599, 'information': 344, 'notification': 489, 'corporate': 157, 'revenue': 618, 'key': 390, 'key player': 391, 'february': 242, 'ryanair': 633, 'profit': 576, 'rise': 625, 'rating': 603, 'monitoring': 461, 'producing': 572, 'method producing': 454, 'arrangement': 56, 'co': 135, 'anheuserbusch': 38, 'inbev': 331, 'stanley co': 685, 'anheuserbusch inbev': 39, 'jpmorgan': 385, 'amendment': 30, 'jpmorgan security': 386, 'security plc': 652, 'plc amendment': 549, 'protection': 583, 'phase': 541, 'news': 480, 'top news': 734, 'form tesco': 270, 'tesco plc': 722, 'directorpdmr': 194, 'shareholding': 662, 'plc directorpdmr': 551, 'directorpdmr shareholding': 195, 'bp': 104, 'eur': 229, 'partner': 522, 'receives': 605, 'fda': 239, 'patient': 535, 'rio': 623, 'tinto': 728, 'rio tinto': 624, 'tinto plc': 729, 'world': 794, 'europe': 232, 'plan': 544, 'facility': 238, 'material': 442, 'patent basf': 526, 'blackrock': 93, 'bayerische': 88, 'motoren': 466, 'werke': 784, 'operating': 510, 'bayerische motoren': 89, 'motoren werke': 467, 'smurfit': 675, 'kappa': 389, 'smurfit kappa': 676, 'buy': 111, 'payment': 536, 'deutsche bank': 184, 'bank ag': 79, 'ag form': 17, 'roche': 626, 'diagnostics': 191, 'medical': 444, 'thereof': 724, 'april titled': 53, 'boerse': 99, 'deutsche boerse': 185, 'land': 397, 'bnp': 96, 'paribas': 519, 'june': 388, 'bnp paribas': 97, 'million': 459, 'control': 154, 'open': 508, 'platform': 546, 'name': 471, 'conference': 147, 'digital': 192, 'telefonaktiebolaget': 716, 'lm': 416, 'ericsson': 222, 'publ': 586, 'patent telefonaktiebolaget': 533, 'telefonaktiebolaget lm': 717, 'lm ericsson': 417, 'ericsson publ': 223, 'post': 563, 'hammerson': 310, 'yearly': 799, 'hammerson plc': 311, 'half yearly': 307, 'optical': 513, 'energy': 213, 'joint': 384, 'turbine': 749, 'gas': 279, 'automotive': 69, 'forecast': 258, 'vendor': 777, 'valeo': 771, 'research market': 614, 'key vendor': 392, 'sap': 640, 'note': 487, 'release': 608, 'trial': 747, 'alcatel': 26, 'lucent': 429, 'alcatel lucent': 27, 'announcement': 41, 'continental': 148, 'australia': 66, 'growth': 304, 'q3': 596, 'help': 316, 'usa': 764, 'support': 703, 'telecom': 715, 'ceo': 123, 'eptnonri': 217, 'form eptnonri': 264, 'legal': 400, 'legal general': 401, 'thales': 723, 'dd': 171, 'form dd': 263, 'statement': 689, 'business': 109, 'aberdeen': 2, 'management plc': 437, 'bank plc': 80, 'suisse security': 701, 'security eur': 651, 'eur ltd': 230, 'ltd form': 428, 'form sky': 269, 'lp': 425, 'lp form': 426, 'hsbc': 326, 'hsbc holding': 327, 'holding plc': 324, 'intu': 363, 'intu property': 364, 'property plc': 582, 'corp': 156, 'european': 233, 'european patent': 234, 'patent office': 531, 'present': 567, 'december': 176, 'january': 379, 'september': 657, 'ended': 212, 'plc result': 559, 'energy plc': 214, 'adidas': 13, 'john': 380, 'wood': 792, 'john wood': 381, 'wood group': 793, 'acquire': 7, 'eu': 228, 'trademark': 739, 'design': 181, 'linde': 406, 'hoffmannla': 320, 'hoffmannla roche': 321, 'carnival': 121, 'purchase': 593, 'form royal': 267, 'shell plc': 664, 'syngenta': 709, 'group holding': 302, 'next': 481, 'software': 679, 'opportunity': 512, 'vodafone group': 779, 'paribas london': 520, 'london form': 419, 'investor': 367, 'cell': 122, 'cagr': 113, 'sale': 638, 'johnson': 382, 'llp': 414, 'llp form': 415, 'g4s': 278, 'henkel': 317, 'oct': 498, 'astrazeneca': 64, 'close': 133, 'component': 142, 'issued telefonaktiebolaget': 375, 'q2': 595, 'call': 114, 'public': 587, 'offer': 499, 'q1': 594, 'performance': 537, 'office granted': 501, 'granted patent': 297, 'philip nv': 543, 'year result': 798, 'partnership': 523, 'grid plc': 299, 'acid': 6, 'chemical': 127, 'project': 578, 'major': 431, 'electronic': 209, 'sanofi': 639, 'boerse ag': 100, 'prudential': 585, 'listing': 410, 'coating': 137, 'issue': 368, 'plc interim': 557, 'interim result': 358, 'hill': 319, 'volvo': 781, 'application method': 48, 'process': 571, 'street': 696, 'advisor': 14, 'state street': 688, 'street global': 697, 'global advisor': 292, 'advisor form': 15, 'increase': 334, 'cloud': 134, 'form anheuserbusch': 260, 'study': 699, 'airbus': 22, 'order': 515, 'rollsroyce': 627, 'eqspvr': 220, 'according': 4, 'section': 648, 'release according': 609, 'according article': 5, 'article section': 58, 'part': 521, 'car': 119, 'two': 750, 'loss': 424, 'firm': 255, 'deutschland': 187, 'voting': 782, 'right': 622, 'plc total': 560, 'total voting': 736, 'voting right': 783, 'loreal': 423, 'military federal': 458, 'federal contract': 244, 'euronext': 231, 'reach': 604, 'daimler': 167, 'motor': 464, 'additional': 12, 'metal': 450, 'australia patent': 67, 'healthcare': 315, 'orange': 514, 'rpc': 630, 'rpc group': 631, 'businesswire': 110, 'second': 647, 'danish inventor': 169, 'light': 403, 'nv titled': 497, 'resource': 615, 'size': 670, 'de': 172, 'announce': 40, 'make': 432, 'time': 727, 'method device': 453, 'issued infineon': 370, 'chatter': 126, 'wolters': 791, 'innovation': 347, 'thyssenkrupp': 726, 'tender': 720, 'trader': 740, 'recognised': 607, 'status': 690, 'final': 248, 'electronics': 210, 'plc final': 552, 'final result': 249, 'featuring': 240, 'transmission': 744, 'one': 507, 'italian inventor': 377, 'pfizer': 538, 'assigned': 63, 'receives patent': 606, 'motor vehicle': 465, 'lloyd': 413, 'banking': 81, 'demand': 179, 'man': 433, 'man group': 434, 'king': 394, 'merger': 449, 'property granted': 580, 'agm': 19, 'wind': 787, 'method system': 455, 'third': 725, 'intl': 361, 'co intl': 136, 'intl plc': 362, 'arcelormittal': 54, 'others': 516, 'management form': 436, 'form rexam': 266, 'variable': 775, 'opening': 509, 'position': 562, 'interest': 356, 'impact': 330, 'march': 439, 'steel': 691, 'american inventor': 33, 'dominating': 199, 'replacement': 611, 'dublin': 202, 'banco': 77, 'multiple': 468, 'compound': 144, 'drug': 201, 'cable': 112, 'united': 761, 'crh': 162, 'property office': 581, 'number': 495, 'takeover': 712, 'rule': 632, 'structure': 698, 'detection': 182, 'compagnie': 140, 'et': 224, 'contract awarded': 151, 'drive': 200, 'usd': 765, 'billion': 92, 'raise': 601, 'office published': 502, 'finance': 250, 'ubm': 753, 'semiconductor': 654, 'contract notice': 152, 'sainsbury': 636, 'sainsbury plc': 637, 'fund': 276, 'indian patent': 337, 'michelin': 456, 'sector': 649}\n"
     ]
    }
   ],
   "source": [
    "# inspect the vectorizer and the cleaned data\n",
    "print(vec_bow.vocabulary_)"
   ]
  },
  {
   "cell_type": "markdown",
   "id": "e10ab559",
   "metadata": {},
   "source": [
    "## 1.1.3 Classification for each category"
   ]
  },
  {
   "cell_type": "code",
   "execution_count": 37,
   "id": "70865c59",
   "metadata": {},
   "outputs": [
    {
     "name": "stdout",
     "output_type": "stream",
     "text": [
      "['None' 'Financing' 'Production-related actions' 'Merger & \\nacquisitions'\n",
      " 'Corporate \\ngovernance' 'Strategic alliance'\n",
      " 'Expansion in existing market (product/service/geographical)'\n",
      " 'Divestiture' 'Human resources'\n",
      " 'New product introduction/\\nservice offering' 'External venturing'\n",
      " 'Marketing' 'Product/\\nservice improvement'\n",
      " 'New geographical market entry' 'R&D-related actions']\n"
     ]
    }
   ],
   "source": [
    "# Create a list with the different categories\n",
    "categories = df_train[\"category\"].unique()\n",
    "print(categories)"
   ]
  },
  {
   "cell_type": "code",
   "execution_count": 38,
   "id": "3b04a739",
   "metadata": {},
   "outputs": [],
   "source": [
    "def create_results_df():\n",
    "    # Create an empty dataframe with the categories to store the results of the rfc\n",
    "    results_df = pd.DataFrame(index=categories)\n",
    "\n",
    "    # Add columns for the metrics\n",
    "    columns = ['accuracy', 'precision', 'recall', 'f1', 'FN', 'FP', 'TN', 'TP']\n",
    "    for col in columns:\n",
    "        results_df[col] = 0\n",
    "\n",
    "    return results_df\n"
   ]
  },
  {
   "cell_type": "code",
   "execution_count": 49,
   "id": "39250381",
   "metadata": {},
   "outputs": [],
   "source": [
    "def get_classification_metrics(y_true, y_pred, category):\n",
    "    \n",
    "    # Calculate Model Performance Metrics\n",
    "    accuracy = accuracy_score(y_true, y_pred)\n",
    "    precision = precision_score(y_true, y_pred, pos_label = category)\n",
    "    recall = recall_score(y_true, y_pred, pos_label = category)\n",
    "    f1 = f1_score(y_true, y_pred, pos_label = category)\n",
    "    CM = confusion_matrix(y_true, y_pred, labels= [category, 'other'])\n",
    "    \n",
    "    TP = np.round(CM[0][0], 3)\n",
    "    FP = np.round(CM[0][1], 3)\n",
    "    FN = np.round(CM[1][0], 3)\n",
    "    TN = np.round(CM[1][1], 3) \n",
    "    \n",
    "    return accuracy, precision, recall, f1, FN, FP, TN, TP"
   ]
  },
  {
   "cell_type": "code",
   "execution_count": 50,
   "id": "176ab481",
   "metadata": {},
   "outputs": [],
   "source": [
    "# Define the number of folds for cross-validation\n",
    "n_splits = 5\n",
    "\n",
    "# Initialize the stratified k-fold object\n",
    "skf = StratifiedKFold(n_splits=n_splits, shuffle=True, random_state=42) # ensures class balances are kept\n"
   ]
  },
  {
   "cell_type": "code",
   "execution_count": 57,
   "id": "6af0a3c5",
   "metadata": {},
   "outputs": [],
   "source": [
    "def evaluate_categories(model, results_df):\n",
    "    \n",
    "    # Empty the dictionary with optimal parameters for each category\n",
    "    best_params_dict = {}\n",
    "    \n",
    "    for category in tqdm_notebook(categories, desc=\"Evaluating categories\"):\n",
    "        \n",
    "        # Set a random seed for reproducibility\n",
    "        random.seed(123)\n",
    "        \n",
    "        # Create a new column in the training and test dataframes to store the modified category\n",
    "        df_train['modified_category'] = df_train['category'].apply(lambda x: x if x == category else 'other')\n",
    "        df_test['modified_category'] = df_test['category'].apply(lambda x: x if x == category else 'other')\n",
    "\n",
    "        # Get the indices of the category observations and non-category observations\n",
    "        cat_i = np.where(df_train['modified_category'] == category)[0]\n",
    "        noncat_i = np.where(df_train['modified_category'] != category)[0]\n",
    "\n",
    "        # Shuffle the non-category indices and select the same number as the category observations\n",
    "        np.random.shuffle(noncat_i)\n",
    "        noncat_i = noncat_i[:len(cat_i)]\n",
    "\n",
    "        # Combine the category and non-category indices into one list\n",
    "        indices = np.concatenate((cat_i, noncat_i))\n",
    "\n",
    "        # Shuffle the indices to ensure randomness\n",
    "        np.random.shuffle(indices)\n",
    "\n",
    "        # Extract the features and dependent variable for the selected indices\n",
    "        X_train = X_train_bow[indices]\n",
    "        y_train = df_train['modified_category'][indices]\n",
    "\n",
    "        # Perform the grid search using cross-validation\n",
    "        grid_search = GridSearchCV(model, param_grid, cv=skf, scoring='accuracy')\n",
    "        grid_search.fit(X_train, y_train)\n",
    "\n",
    "        # Get the best model and its hyperparameters\n",
    "        best_model = grid_search.best_estimator_\n",
    "        best_params = grid_search.best_params_\n",
    "\n",
    "        # Store the best parameters for the current category in the dictionary\n",
    "        best_params_dict[category] = best_params\n",
    "\n",
    "        # Retrain the best model with the whole training set\n",
    "        best_model.fit(X_train, y_train)\n",
    "        \n",
    "        # Calibrate the model using Platt scaling\n",
    "        #calibrated_model = CalibratedClassifierCV(best_model, cv='prefit', method='sigmoid')\n",
    "        #calibrated_model.fit(X_train, y_train)\n",
    "\n",
    "        # Make predictions on the test set\n",
    "        #y_pred = calibrated_model.predict(X_test_bow)\n",
    "\n",
    "        # Make predictions on the test set\n",
    "        y_pred = best_model.predict(X_test_bow)\n",
    "        y_pred_proba = best_model.predict_proba(X_test_bow)\n",
    "\n",
    "        # define the dep variable of the test set\n",
    "        y_test = df_test['modified_category']\n",
    "\n",
    "        # Calculate the classification metrics\n",
    "        accuracy, precision, recall, f1, FN, FP, TN, TP = get_classification_metrics(y_test, y_pred, category)\n",
    "\n",
    "        # Store the results in a dataframe\n",
    "        results_df.loc[category] = [accuracy, precision, recall, f1, FN, FP, TN, TP]\n",
    "        \n",
    "    # return the dictionary with the best parameters\n",
    "    return best_params_dict, best_params, y_pred_proba\n",
    "    "
   ]
  },
  {
   "cell_type": "markdown",
   "id": "867c8b42",
   "metadata": {},
   "source": [
    "### A. Random forest classifier"
   ]
  },
  {
   "cell_type": "code",
   "execution_count": 58,
   "id": "5135fcda",
   "metadata": {},
   "outputs": [],
   "source": [
    "# Create an empty dataframe with the categories to store the results of the rfc\n",
    "results_rfc_df = create_results_df()"
   ]
  },
  {
   "cell_type": "code",
   "execution_count": 59,
   "id": "0b14b7fa",
   "metadata": {},
   "outputs": [],
   "source": [
    "# Initialize the classifier\n",
    "rfc = RandomForestClassifier(random_state = 1234)\n",
    "\n",
    "# Define the parameter grid for the grid search\n",
    "param_grid = {\n",
    "    'n_estimators': [100, 500],\n",
    "    'max_depth': [None],\n",
    "    'min_samples_leaf': [1, 2],\n",
    "    'max_features': ['sqrt']\n",
    "}\n"
   ]
  },
  {
   "cell_type": "code",
   "execution_count": 61,
   "id": "30056ec6",
   "metadata": {},
   "outputs": [
    {
     "data": {
      "application/vnd.jupyter.widget-view+json": {
       "model_id": "2212dbc10cb04aeda171b4e6eb64d0df",
       "version_major": 2,
       "version_minor": 0
      },
      "text/plain": [
       "Evaluating categories:   0%|          | 0/15 [00:00<?, ?it/s]"
      ]
     },
     "metadata": {},
     "output_type": "display_data"
    }
   ],
   "source": [
    "\n",
    "#\n",
    "best_params_dict, best_params, y_pred_proba = evaluate_categories(rfc, results_rfc_df)"
   ]
  },
  {
   "cell_type": "code",
   "execution_count": 62,
   "id": "cef41565",
   "metadata": {},
   "outputs": [
    {
     "name": "stdout",
     "output_type": "stream",
     "text": [
      "[[0.32756061 0.67243939]\n",
      " [0.         1.        ]\n",
      " [0.017      0.983     ]\n",
      " ...\n",
      " [0.06821429 0.93178571]\n",
      " [0.00625    0.99375   ]\n",
      " [0.5499881  0.4500119 ]]\n"
     ]
    }
   ],
   "source": [
    "print(y_pred_proba)"
   ]
  },
  {
   "cell_type": "code",
   "execution_count": 67,
   "id": "11213035",
   "metadata": {},
   "outputs": [
    {
     "name": "stdout",
     "output_type": "stream",
     "text": [
      "\n",
      "Best hyperparameters for each category:\n"
     ]
    },
    {
     "data": {
      "text/html": [
       "<div>\n",
       "<style scoped>\n",
       "    .dataframe tbody tr th:only-of-type {\n",
       "        vertical-align: middle;\n",
       "    }\n",
       "\n",
       "    .dataframe tbody tr th {\n",
       "        vertical-align: top;\n",
       "    }\n",
       "\n",
       "    .dataframe thead th {\n",
       "        text-align: right;\n",
       "    }\n",
       "</style>\n",
       "<table border=\"1\" class=\"dataframe\">\n",
       "  <thead>\n",
       "    <tr style=\"text-align: right;\">\n",
       "      <th></th>\n",
       "      <th>C</th>\n",
       "      <th>penalty</th>\n",
       "    </tr>\n",
       "  </thead>\n",
       "  <tbody>\n",
       "    <tr>\n",
       "      <th>None</th>\n",
       "      <td>1.0</td>\n",
       "      <td>l2</td>\n",
       "    </tr>\n",
       "    <tr>\n",
       "      <th>Financing</th>\n",
       "      <td>10.0</td>\n",
       "      <td>l2</td>\n",
       "    </tr>\n",
       "    <tr>\n",
       "      <th>Production-related actions</th>\n",
       "      <td>1.0</td>\n",
       "      <td>l2</td>\n",
       "    </tr>\n",
       "    <tr>\n",
       "      <th>Merger &amp; \\nacquisitions</th>\n",
       "      <td>1.0</td>\n",
       "      <td>l2</td>\n",
       "    </tr>\n",
       "    <tr>\n",
       "      <th>Corporate \\ngovernance</th>\n",
       "      <td>1.0</td>\n",
       "      <td>l2</td>\n",
       "    </tr>\n",
       "    <tr>\n",
       "      <th>Strategic alliance</th>\n",
       "      <td>1.0</td>\n",
       "      <td>l2</td>\n",
       "    </tr>\n",
       "    <tr>\n",
       "      <th>Expansion in existing market (product/service/geographical)</th>\n",
       "      <td>1.0</td>\n",
       "      <td>l2</td>\n",
       "    </tr>\n",
       "    <tr>\n",
       "      <th>Divestiture</th>\n",
       "      <td>1.0</td>\n",
       "      <td>l2</td>\n",
       "    </tr>\n",
       "    <tr>\n",
       "      <th>Human resources</th>\n",
       "      <td>0.1</td>\n",
       "      <td>l2</td>\n",
       "    </tr>\n",
       "    <tr>\n",
       "      <th>New product introduction/\\nservice offering</th>\n",
       "      <td>1.0</td>\n",
       "      <td>l2</td>\n",
       "    </tr>\n",
       "    <tr>\n",
       "      <th>External venturing</th>\n",
       "      <td>1.0</td>\n",
       "      <td>l2</td>\n",
       "    </tr>\n",
       "    <tr>\n",
       "      <th>Marketing</th>\n",
       "      <td>1.0</td>\n",
       "      <td>l2</td>\n",
       "    </tr>\n",
       "    <tr>\n",
       "      <th>Product/\\nservice improvement</th>\n",
       "      <td>1.0</td>\n",
       "      <td>l2</td>\n",
       "    </tr>\n",
       "    <tr>\n",
       "      <th>New geographical market entry</th>\n",
       "      <td>1.0</td>\n",
       "      <td>l2</td>\n",
       "    </tr>\n",
       "    <tr>\n",
       "      <th>R&amp;D-related actions</th>\n",
       "      <td>0.1</td>\n",
       "      <td>l2</td>\n",
       "    </tr>\n",
       "  </tbody>\n",
       "</table>\n",
       "</div>"
      ],
      "text/plain": [
       "                                                       C penalty\n",
       "None                                                 1.0      l2\n",
       "Financing                                           10.0      l2\n",
       "Production-related actions                           1.0      l2\n",
       "Merger & \\nacquisitions                              1.0      l2\n",
       "Corporate \\ngovernance                               1.0      l2\n",
       "Strategic alliance                                   1.0      l2\n",
       "Expansion in existing market (product/service/g...   1.0      l2\n",
       "Divestiture                                          1.0      l2\n",
       "Human resources                                      0.1      l2\n",
       "New product introduction/\\nservice offering          1.0      l2\n",
       "External venturing                                   1.0      l2\n",
       "Marketing                                            1.0      l2\n",
       "Product/\\nservice improvement                        1.0      l2\n",
       "New geographical market entry                        1.0      l2\n",
       "R&D-related actions                                  0.1      l2"
      ]
     },
     "metadata": {},
     "output_type": "display_data"
    }
   ],
   "source": [
    "# Create a new dataframe to store the best hyperparameters for each category\n",
    "best_params_df = pd.DataFrame.from_dict(best_params_dict, orient='index')\n",
    "\n",
    "# Rename the columns of the best_params_df\n",
    "best_params_df.columns = [f'{param}' for param in best_params.keys()]\n",
    "\n",
    "# Display the best parameters\n",
    "print(\"\\nBest hyperparameters for each category:\")\n",
    "display(best_params_df)"
   ]
  },
  {
   "cell_type": "code",
   "execution_count": 68,
   "id": "47f2ca11",
   "metadata": {},
   "outputs": [
    {
     "data": {
      "text/html": [
       "<div>\n",
       "<style scoped>\n",
       "    .dataframe tbody tr th:only-of-type {\n",
       "        vertical-align: middle;\n",
       "    }\n",
       "\n",
       "    .dataframe tbody tr th {\n",
       "        vertical-align: top;\n",
       "    }\n",
       "\n",
       "    .dataframe thead th {\n",
       "        text-align: right;\n",
       "    }\n",
       "</style>\n",
       "<table border=\"1\" class=\"dataframe\">\n",
       "  <thead>\n",
       "    <tr style=\"text-align: right;\">\n",
       "      <th></th>\n",
       "      <th>accuracy</th>\n",
       "      <th>precision</th>\n",
       "      <th>recall</th>\n",
       "      <th>f1</th>\n",
       "      <th>FN</th>\n",
       "      <th>FP</th>\n",
       "      <th>TN</th>\n",
       "      <th>TP</th>\n",
       "    </tr>\n",
       "  </thead>\n",
       "  <tbody>\n",
       "    <tr>\n",
       "      <th>None</th>\n",
       "      <td>0.921768</td>\n",
       "      <td>0.932119</td>\n",
       "      <td>0.984671</td>\n",
       "      <td>0.957675</td>\n",
       "      <td>697</td>\n",
       "      <td>149</td>\n",
       "      <td>397</td>\n",
       "      <td>9571</td>\n",
       "    </tr>\n",
       "    <tr>\n",
       "      <th>Financing</th>\n",
       "      <td>0.910856</td>\n",
       "      <td>0.054563</td>\n",
       "      <td>0.833333</td>\n",
       "      <td>0.102421</td>\n",
       "      <td>953</td>\n",
       "      <td>11</td>\n",
       "      <td>9795</td>\n",
       "      <td>55</td>\n",
       "    </tr>\n",
       "    <tr>\n",
       "      <th>Production-related actions</th>\n",
       "      <td>0.831977</td>\n",
       "      <td>0.027331</td>\n",
       "      <td>0.962264</td>\n",
       "      <td>0.053153</td>\n",
       "      <td>1815</td>\n",
       "      <td>2</td>\n",
       "      <td>8946</td>\n",
       "      <td>51</td>\n",
       "    </tr>\n",
       "    <tr>\n",
       "      <th>Merger &amp; \\nacquisitions</th>\n",
       "      <td>0.927594</td>\n",
       "      <td>0.116092</td>\n",
       "      <td>0.878261</td>\n",
       "      <td>0.205076</td>\n",
       "      <td>769</td>\n",
       "      <td>14</td>\n",
       "      <td>9930</td>\n",
       "      <td>101</td>\n",
       "    </tr>\n",
       "    <tr>\n",
       "      <th>Corporate \\ngovernance</th>\n",
       "      <td>0.925652</td>\n",
       "      <td>0.149733</td>\n",
       "      <td>0.939597</td>\n",
       "      <td>0.258303</td>\n",
       "      <td>795</td>\n",
       "      <td>9</td>\n",
       "      <td>9870</td>\n",
       "      <td>140</td>\n",
       "    </tr>\n",
       "    <tr>\n",
       "      <th>Strategic alliance</th>\n",
       "      <td>0.843259</td>\n",
       "      <td>0.099143</td>\n",
       "      <td>0.929648</td>\n",
       "      <td>0.179177</td>\n",
       "      <td>1681</td>\n",
       "      <td>14</td>\n",
       "      <td>8934</td>\n",
       "      <td>185</td>\n",
       "    </tr>\n",
       "    <tr>\n",
       "      <th>Expansion in existing market (product/service/geographical)</th>\n",
       "      <td>0.706029</td>\n",
       "      <td>0.018238</td>\n",
       "      <td>0.951613</td>\n",
       "      <td>0.035790</td>\n",
       "      <td>3176</td>\n",
       "      <td>3</td>\n",
       "      <td>7576</td>\n",
       "      <td>59</td>\n",
       "    </tr>\n",
       "    <tr>\n",
       "      <th>Divestiture</th>\n",
       "      <td>0.796468</td>\n",
       "      <td>0.020508</td>\n",
       "      <td>0.920000</td>\n",
       "      <td>0.040122</td>\n",
       "      <td>2197</td>\n",
       "      <td>4</td>\n",
       "      <td>8567</td>\n",
       "      <td>46</td>\n",
       "    </tr>\n",
       "    <tr>\n",
       "      <th>Human resources</th>\n",
       "      <td>0.618088</td>\n",
       "      <td>0.009357</td>\n",
       "      <td>0.975000</td>\n",
       "      <td>0.018536</td>\n",
       "      <td>4129</td>\n",
       "      <td>1</td>\n",
       "      <td>6645</td>\n",
       "      <td>39</td>\n",
       "    </tr>\n",
       "    <tr>\n",
       "      <th>New product introduction/\\nservice offering</th>\n",
       "      <td>0.863233</td>\n",
       "      <td>0.077646</td>\n",
       "      <td>0.953846</td>\n",
       "      <td>0.143602</td>\n",
       "      <td>1473</td>\n",
       "      <td>6</td>\n",
       "      <td>9211</td>\n",
       "      <td>124</td>\n",
       "    </tr>\n",
       "    <tr>\n",
       "      <th>External venturing</th>\n",
       "      <td>0.754670</td>\n",
       "      <td>0.021787</td>\n",
       "      <td>0.936508</td>\n",
       "      <td>0.042584</td>\n",
       "      <td>2649</td>\n",
       "      <td>4</td>\n",
       "      <td>8102</td>\n",
       "      <td>59</td>\n",
       "    </tr>\n",
       "    <tr>\n",
       "      <th>Marketing</th>\n",
       "      <td>0.761883</td>\n",
       "      <td>0.018314</td>\n",
       "      <td>0.960000</td>\n",
       "      <td>0.035942</td>\n",
       "      <td>2573</td>\n",
       "      <td>2</td>\n",
       "      <td>8191</td>\n",
       "      <td>48</td>\n",
       "    </tr>\n",
       "    <tr>\n",
       "      <th>Product/\\nservice improvement</th>\n",
       "      <td>0.785463</td>\n",
       "      <td>0.025253</td>\n",
       "      <td>0.937500</td>\n",
       "      <td>0.049180</td>\n",
       "      <td>2316</td>\n",
       "      <td>4</td>\n",
       "      <td>8434</td>\n",
       "      <td>60</td>\n",
       "    </tr>\n",
       "    <tr>\n",
       "      <th>New geographical market entry</th>\n",
       "      <td>0.639911</td>\n",
       "      <td>0.004602</td>\n",
       "      <td>0.947368</td>\n",
       "      <td>0.009160</td>\n",
       "      <td>3893</td>\n",
       "      <td>1</td>\n",
       "      <td>6902</td>\n",
       "      <td>18</td>\n",
       "    </tr>\n",
       "    <tr>\n",
       "      <th>R&amp;D-related actions</th>\n",
       "      <td>0.882097</td>\n",
       "      <td>0.021588</td>\n",
       "      <td>0.823529</td>\n",
       "      <td>0.042074</td>\n",
       "      <td>1269</td>\n",
       "      <td>6</td>\n",
       "      <td>9511</td>\n",
       "      <td>28</td>\n",
       "    </tr>\n",
       "  </tbody>\n",
       "</table>\n",
       "</div>"
      ],
      "text/plain": [
       "                                                    accuracy  precision  \\\n",
       "None                                                0.921768   0.932119   \n",
       "Financing                                           0.910856   0.054563   \n",
       "Production-related actions                          0.831977   0.027331   \n",
       "Merger & \\nacquisitions                             0.927594   0.116092   \n",
       "Corporate \\ngovernance                              0.925652   0.149733   \n",
       "Strategic alliance                                  0.843259   0.099143   \n",
       "Expansion in existing market (product/service/g...  0.706029   0.018238   \n",
       "Divestiture                                         0.796468   0.020508   \n",
       "Human resources                                     0.618088   0.009357   \n",
       "New product introduction/\\nservice offering         0.863233   0.077646   \n",
       "External venturing                                  0.754670   0.021787   \n",
       "Marketing                                           0.761883   0.018314   \n",
       "Product/\\nservice improvement                       0.785463   0.025253   \n",
       "New geographical market entry                       0.639911   0.004602   \n",
       "R&D-related actions                                 0.882097   0.021588   \n",
       "\n",
       "                                                      recall        f1    FN  \\\n",
       "None                                                0.984671  0.957675   697   \n",
       "Financing                                           0.833333  0.102421   953   \n",
       "Production-related actions                          0.962264  0.053153  1815   \n",
       "Merger & \\nacquisitions                             0.878261  0.205076   769   \n",
       "Corporate \\ngovernance                              0.939597  0.258303   795   \n",
       "Strategic alliance                                  0.929648  0.179177  1681   \n",
       "Expansion in existing market (product/service/g...  0.951613  0.035790  3176   \n",
       "Divestiture                                         0.920000  0.040122  2197   \n",
       "Human resources                                     0.975000  0.018536  4129   \n",
       "New product introduction/\\nservice offering         0.953846  0.143602  1473   \n",
       "External venturing                                  0.936508  0.042584  2649   \n",
       "Marketing                                           0.960000  0.035942  2573   \n",
       "Product/\\nservice improvement                       0.937500  0.049180  2316   \n",
       "New geographical market entry                       0.947368  0.009160  3893   \n",
       "R&D-related actions                                 0.823529  0.042074  1269   \n",
       "\n",
       "                                                     FP    TN    TP  \n",
       "None                                                149   397  9571  \n",
       "Financing                                            11  9795    55  \n",
       "Production-related actions                            2  8946    51  \n",
       "Merger & \\nacquisitions                              14  9930   101  \n",
       "Corporate \\ngovernance                                9  9870   140  \n",
       "Strategic alliance                                   14  8934   185  \n",
       "Expansion in existing market (product/service/g...    3  7576    59  \n",
       "Divestiture                                           4  8567    46  \n",
       "Human resources                                       1  6645    39  \n",
       "New product introduction/\\nservice offering           6  9211   124  \n",
       "External venturing                                    4  8102    59  \n",
       "Marketing                                             2  8191    48  \n",
       "Product/\\nservice improvement                         4  8434    60  \n",
       "New geographical market entry                         1  6902    18  \n",
       "R&D-related actions                                   6  9511    28  "
      ]
     },
     "execution_count": 68,
     "metadata": {},
     "output_type": "execute_result"
    }
   ],
   "source": [
    "# display the results of classification\n",
    "results_rfc_df"
   ]
  },
  {
   "cell_type": "code",
   "execution_count": null,
   "id": "30092285",
   "metadata": {},
   "outputs": [],
   "source": [
    "# add the model we used to the results\n",
    "results_rfc_df['Model'] = 'BOW + rf'"
   ]
  },
  {
   "cell_type": "code",
   "execution_count": 26,
   "id": "469dcffd",
   "metadata": {},
   "outputs": [],
   "source": [
    "# write away the results\n",
    "results_rfc_df.to_excel('./Output/Model performance/BOW_rf.xlsx', index = False, header = True)\n",
    "best_params_df.to_excel('./Output/parameters/BOW_rf.xlsx', index = False, header = True)"
   ]
  },
  {
   "cell_type": "markdown",
   "id": "1bf0c820",
   "metadata": {},
   "source": [
    "### B. Logistic regression"
   ]
  },
  {
   "cell_type": "code",
   "execution_count": 63,
   "id": "d5be5b33",
   "metadata": {},
   "outputs": [],
   "source": [
    "# Create an empty dataframe with the categories to store the results of the logistic regression\n",
    "results_log_df = create_results_df()"
   ]
  },
  {
   "cell_type": "code",
   "execution_count": 64,
   "id": "5f739694",
   "metadata": {},
   "outputs": [],
   "source": [
    "# Initialize the logistic regression classifier\n",
    "logreg = LogisticRegression()\n",
    "\n",
    "# Define the parameter grid\n",
    "param_grid = {\n",
    "    'penalty': ['None','l1', 'l2'], # normal, lasso or ridge\n",
    "    'C': [0.1, 1, 10]               # The inverse penalization term (smaller is higher penalization)\n",
    "}\n"
   ]
  },
  {
   "cell_type": "code",
   "execution_count": 65,
   "id": "cbcef415",
   "metadata": {},
   "outputs": [
    {
     "data": {
      "application/vnd.jupyter.widget-view+json": {
       "model_id": "4bfa8487a2b040c7981347e3a878b699",
       "version_major": 2,
       "version_minor": 0
      },
      "text/plain": [
       "Evaluating categories:   0%|          | 0/15 [00:00<?, ?it/s]"
      ]
     },
     "metadata": {},
     "output_type": "display_data"
    }
   ],
   "source": [
    "# Set a random seed for reproducibility\n",
    "random.seed(123)\n",
    "\n",
    "# \n",
    "best_params_dict, best_params, y_pred_proba = evaluate_categories(logreg, results_log_df)"
   ]
  },
  {
   "cell_type": "code",
   "execution_count": 66,
   "id": "4dbb66bc",
   "metadata": {},
   "outputs": [
    {
     "data": {
      "text/plain": [
       "array([[0.41902674, 0.58097326],\n",
       "       [0.1114994 , 0.8885006 ],\n",
       "       [0.20779439, 0.79220561],\n",
       "       ...,\n",
       "       [0.27172306, 0.72827694],\n",
       "       [0.22462194, 0.77537806],\n",
       "       [0.48671195, 0.51328805]])"
      ]
     },
     "execution_count": 66,
     "metadata": {},
     "output_type": "execute_result"
    }
   ],
   "source": [
    "y_pred_proba"
   ]
  },
  {
   "cell_type": "code",
   "execution_count": 30,
   "id": "0ac00b07",
   "metadata": {},
   "outputs": [
    {
     "name": "stdout",
     "output_type": "stream",
     "text": [
      "\n",
      "Best hyperparameters for each category:\n"
     ]
    },
    {
     "data": {
      "text/html": [
       "<div>\n",
       "<style scoped>\n",
       "    .dataframe tbody tr th:only-of-type {\n",
       "        vertical-align: middle;\n",
       "    }\n",
       "\n",
       "    .dataframe tbody tr th {\n",
       "        vertical-align: top;\n",
       "    }\n",
       "\n",
       "    .dataframe thead th {\n",
       "        text-align: right;\n",
       "    }\n",
       "</style>\n",
       "<table border=\"1\" class=\"dataframe\">\n",
       "  <thead>\n",
       "    <tr style=\"text-align: right;\">\n",
       "      <th></th>\n",
       "      <th>C</th>\n",
       "      <th>penalty</th>\n",
       "    </tr>\n",
       "  </thead>\n",
       "  <tbody>\n",
       "    <tr>\n",
       "      <th>None</th>\n",
       "      <td>1.0</td>\n",
       "      <td>l2</td>\n",
       "    </tr>\n",
       "    <tr>\n",
       "      <th>Financing</th>\n",
       "      <td>1.0</td>\n",
       "      <td>l2</td>\n",
       "    </tr>\n",
       "    <tr>\n",
       "      <th>Production-related actions</th>\n",
       "      <td>1.0</td>\n",
       "      <td>l2</td>\n",
       "    </tr>\n",
       "    <tr>\n",
       "      <th>Merger &amp; \\nacquisitions</th>\n",
       "      <td>1.0</td>\n",
       "      <td>l2</td>\n",
       "    </tr>\n",
       "    <tr>\n",
       "      <th>Corporate \\ngovernance</th>\n",
       "      <td>1.0</td>\n",
       "      <td>l2</td>\n",
       "    </tr>\n",
       "    <tr>\n",
       "      <th>Strategic alliance</th>\n",
       "      <td>1.0</td>\n",
       "      <td>l2</td>\n",
       "    </tr>\n",
       "    <tr>\n",
       "      <th>Expansion in existing market (product/service/geographical)</th>\n",
       "      <td>1.0</td>\n",
       "      <td>l2</td>\n",
       "    </tr>\n",
       "    <tr>\n",
       "      <th>Divestiture</th>\n",
       "      <td>0.1</td>\n",
       "      <td>l2</td>\n",
       "    </tr>\n",
       "    <tr>\n",
       "      <th>Human resources</th>\n",
       "      <td>1.0</td>\n",
       "      <td>l2</td>\n",
       "    </tr>\n",
       "    <tr>\n",
       "      <th>New product introduction/\\nservice offering</th>\n",
       "      <td>0.1</td>\n",
       "      <td>l2</td>\n",
       "    </tr>\n",
       "    <tr>\n",
       "      <th>External venturing</th>\n",
       "      <td>1.0</td>\n",
       "      <td>l2</td>\n",
       "    </tr>\n",
       "    <tr>\n",
       "      <th>Marketing</th>\n",
       "      <td>0.1</td>\n",
       "      <td>l2</td>\n",
       "    </tr>\n",
       "    <tr>\n",
       "      <th>Product/\\nservice improvement</th>\n",
       "      <td>1.0</td>\n",
       "      <td>l2</td>\n",
       "    </tr>\n",
       "    <tr>\n",
       "      <th>New geographical market entry</th>\n",
       "      <td>1.0</td>\n",
       "      <td>l2</td>\n",
       "    </tr>\n",
       "    <tr>\n",
       "      <th>R&amp;D-related actions</th>\n",
       "      <td>10.0</td>\n",
       "      <td>l2</td>\n",
       "    </tr>\n",
       "  </tbody>\n",
       "</table>\n",
       "</div>"
      ],
      "text/plain": [
       "                                                       C penalty\n",
       "None                                                 1.0      l2\n",
       "Financing                                            1.0      l2\n",
       "Production-related actions                           1.0      l2\n",
       "Merger & \\nacquisitions                              1.0      l2\n",
       "Corporate \\ngovernance                               1.0      l2\n",
       "Strategic alliance                                   1.0      l2\n",
       "Expansion in existing market (product/service/g...   1.0      l2\n",
       "Divestiture                                          0.1      l2\n",
       "Human resources                                      1.0      l2\n",
       "New product introduction/\\nservice offering          0.1      l2\n",
       "External venturing                                   1.0      l2\n",
       "Marketing                                            0.1      l2\n",
       "Product/\\nservice improvement                        1.0      l2\n",
       "New geographical market entry                        1.0      l2\n",
       "R&D-related actions                                 10.0      l2"
      ]
     },
     "metadata": {},
     "output_type": "display_data"
    }
   ],
   "source": [
    "# Create a new dataframe to store the best hyperparameters for each category\n",
    "best_params_df = pd.DataFrame.from_dict(best_params_dict, orient='index')\n",
    "\n",
    "# Rename the columns of the best_params_df\n",
    "best_params_df.columns = [f'{param}' for param in best_params.keys()]\n",
    "\n",
    "# Display the best parameters\n",
    "print(\"\\nBest hyperparameters for each category:\")\n",
    "display(best_params_df)"
   ]
  },
  {
   "cell_type": "code",
   "execution_count": 31,
   "id": "acfab4fe",
   "metadata": {},
   "outputs": [
    {
     "data": {
      "text/html": [
       "<div>\n",
       "<style scoped>\n",
       "    .dataframe tbody tr th:only-of-type {\n",
       "        vertical-align: middle;\n",
       "    }\n",
       "\n",
       "    .dataframe tbody tr th {\n",
       "        vertical-align: top;\n",
       "    }\n",
       "\n",
       "    .dataframe thead th {\n",
       "        text-align: right;\n",
       "    }\n",
       "</style>\n",
       "<table border=\"1\" class=\"dataframe\">\n",
       "  <thead>\n",
       "    <tr style=\"text-align: right;\">\n",
       "      <th></th>\n",
       "      <th>accuracy</th>\n",
       "      <th>precision</th>\n",
       "      <th>recall</th>\n",
       "      <th>f1</th>\n",
       "      <th>FN</th>\n",
       "      <th>FP</th>\n",
       "      <th>TN</th>\n",
       "      <th>TP</th>\n",
       "    </tr>\n",
       "  </thead>\n",
       "  <tbody>\n",
       "    <tr>\n",
       "      <th>None</th>\n",
       "      <td>0.921491</td>\n",
       "      <td>0.938507</td>\n",
       "      <td>0.976646</td>\n",
       "      <td>0.957197</td>\n",
       "      <td>622</td>\n",
       "      <td>227</td>\n",
       "      <td>472</td>\n",
       "      <td>9493</td>\n",
       "    </tr>\n",
       "    <tr>\n",
       "      <th>Financing</th>\n",
       "      <td>0.932402</td>\n",
       "      <td>0.070968</td>\n",
       "      <td>0.833333</td>\n",
       "      <td>0.130797</td>\n",
       "      <td>720</td>\n",
       "      <td>11</td>\n",
       "      <td>10028</td>\n",
       "      <td>55</td>\n",
       "    </tr>\n",
       "    <tr>\n",
       "      <th>Production-related actions</th>\n",
       "      <td>0.847050</td>\n",
       "      <td>0.030499</td>\n",
       "      <td>0.981132</td>\n",
       "      <td>0.059158</td>\n",
       "      <td>1653</td>\n",
       "      <td>1</td>\n",
       "      <td>9108</td>\n",
       "      <td>52</td>\n",
       "    </tr>\n",
       "    <tr>\n",
       "      <th>Merger &amp; \\nacquisitions</th>\n",
       "      <td>0.926114</td>\n",
       "      <td>0.113995</td>\n",
       "      <td>0.878261</td>\n",
       "      <td>0.201798</td>\n",
       "      <td>785</td>\n",
       "      <td>14</td>\n",
       "      <td>9914</td>\n",
       "      <td>101</td>\n",
       "    </tr>\n",
       "    <tr>\n",
       "      <th>Corporate \\ngovernance</th>\n",
       "      <td>0.944239</td>\n",
       "      <td>0.190736</td>\n",
       "      <td>0.939597</td>\n",
       "      <td>0.317101</td>\n",
       "      <td>594</td>\n",
       "      <td>9</td>\n",
       "      <td>10071</td>\n",
       "      <td>140</td>\n",
       "    </tr>\n",
       "    <tr>\n",
       "      <th>Strategic alliance</th>\n",
       "      <td>0.859441</td>\n",
       "      <td>0.103303</td>\n",
       "      <td>0.864322</td>\n",
       "      <td>0.184549</td>\n",
       "      <td>1493</td>\n",
       "      <td>27</td>\n",
       "      <td>9122</td>\n",
       "      <td>172</td>\n",
       "    </tr>\n",
       "    <tr>\n",
       "      <th>Expansion in existing market (product/service/geographical)</th>\n",
       "      <td>0.746162</td>\n",
       "      <td>0.020379</td>\n",
       "      <td>0.919355</td>\n",
       "      <td>0.039874</td>\n",
       "      <td>2740</td>\n",
       "      <td>5</td>\n",
       "      <td>8012</td>\n",
       "      <td>57</td>\n",
       "    </tr>\n",
       "    <tr>\n",
       "      <th>Divestiture</th>\n",
       "      <td>0.924635</td>\n",
       "      <td>0.049470</td>\n",
       "      <td>0.840000</td>\n",
       "      <td>0.093437</td>\n",
       "      <td>807</td>\n",
       "      <td>8</td>\n",
       "      <td>9957</td>\n",
       "      <td>42</td>\n",
       "    </tr>\n",
       "    <tr>\n",
       "      <th>Human resources</th>\n",
       "      <td>0.727390</td>\n",
       "      <td>0.012408</td>\n",
       "      <td>0.925000</td>\n",
       "      <td>0.024487</td>\n",
       "      <td>2945</td>\n",
       "      <td>3</td>\n",
       "      <td>7829</td>\n",
       "      <td>37</td>\n",
       "    </tr>\n",
       "    <tr>\n",
       "      <th>New product introduction/\\nservice offering</th>\n",
       "      <td>0.927224</td>\n",
       "      <td>0.131313</td>\n",
       "      <td>0.900000</td>\n",
       "      <td>0.229187</td>\n",
       "      <td>774</td>\n",
       "      <td>13</td>\n",
       "      <td>9910</td>\n",
       "      <td>117</td>\n",
       "    </tr>\n",
       "    <tr>\n",
       "      <th>External venturing</th>\n",
       "      <td>0.820973</td>\n",
       "      <td>0.025342</td>\n",
       "      <td>0.793651</td>\n",
       "      <td>0.049116</td>\n",
       "      <td>1923</td>\n",
       "      <td>13</td>\n",
       "      <td>8828</td>\n",
       "      <td>50</td>\n",
       "    </tr>\n",
       "    <tr>\n",
       "      <th>Marketing</th>\n",
       "      <td>0.700573</td>\n",
       "      <td>0.014616</td>\n",
       "      <td>0.960000</td>\n",
       "      <td>0.028794</td>\n",
       "      <td>3236</td>\n",
       "      <td>2</td>\n",
       "      <td>7528</td>\n",
       "      <td>48</td>\n",
       "    </tr>\n",
       "    <tr>\n",
       "      <th>Product/\\nservice improvement</th>\n",
       "      <td>0.807842</td>\n",
       "      <td>0.026786</td>\n",
       "      <td>0.890625</td>\n",
       "      <td>0.052007</td>\n",
       "      <td>2071</td>\n",
       "      <td>7</td>\n",
       "      <td>8679</td>\n",
       "      <td>57</td>\n",
       "    </tr>\n",
       "    <tr>\n",
       "      <th>New geographical market entry</th>\n",
       "      <td>0.637414</td>\n",
       "      <td>0.004571</td>\n",
       "      <td>0.947368</td>\n",
       "      <td>0.009098</td>\n",
       "      <td>3920</td>\n",
       "      <td>1</td>\n",
       "      <td>6875</td>\n",
       "      <td>18</td>\n",
       "    </tr>\n",
       "    <tr>\n",
       "      <th>R&amp;D-related actions</th>\n",
       "      <td>0.787683</td>\n",
       "      <td>0.014175</td>\n",
       "      <td>0.970588</td>\n",
       "      <td>0.027942</td>\n",
       "      <td>2295</td>\n",
       "      <td>1</td>\n",
       "      <td>8485</td>\n",
       "      <td>33</td>\n",
       "    </tr>\n",
       "  </tbody>\n",
       "</table>\n",
       "</div>"
      ],
      "text/plain": [
       "                                                    accuracy  precision  \\\n",
       "None                                                0.921491   0.938507   \n",
       "Financing                                           0.932402   0.070968   \n",
       "Production-related actions                          0.847050   0.030499   \n",
       "Merger & \\nacquisitions                             0.926114   0.113995   \n",
       "Corporate \\ngovernance                              0.944239   0.190736   \n",
       "Strategic alliance                                  0.859441   0.103303   \n",
       "Expansion in existing market (product/service/g...  0.746162   0.020379   \n",
       "Divestiture                                         0.924635   0.049470   \n",
       "Human resources                                     0.727390   0.012408   \n",
       "New product introduction/\\nservice offering         0.927224   0.131313   \n",
       "External venturing                                  0.820973   0.025342   \n",
       "Marketing                                           0.700573   0.014616   \n",
       "Product/\\nservice improvement                       0.807842   0.026786   \n",
       "New geographical market entry                       0.637414   0.004571   \n",
       "R&D-related actions                                 0.787683   0.014175   \n",
       "\n",
       "                                                      recall        f1    FN  \\\n",
       "None                                                0.976646  0.957197   622   \n",
       "Financing                                           0.833333  0.130797   720   \n",
       "Production-related actions                          0.981132  0.059158  1653   \n",
       "Merger & \\nacquisitions                             0.878261  0.201798   785   \n",
       "Corporate \\ngovernance                              0.939597  0.317101   594   \n",
       "Strategic alliance                                  0.864322  0.184549  1493   \n",
       "Expansion in existing market (product/service/g...  0.919355  0.039874  2740   \n",
       "Divestiture                                         0.840000  0.093437   807   \n",
       "Human resources                                     0.925000  0.024487  2945   \n",
       "New product introduction/\\nservice offering         0.900000  0.229187   774   \n",
       "External venturing                                  0.793651  0.049116  1923   \n",
       "Marketing                                           0.960000  0.028794  3236   \n",
       "Product/\\nservice improvement                       0.890625  0.052007  2071   \n",
       "New geographical market entry                       0.947368  0.009098  3920   \n",
       "R&D-related actions                                 0.970588  0.027942  2295   \n",
       "\n",
       "                                                     FP     TN    TP  \n",
       "None                                                227    472  9493  \n",
       "Financing                                            11  10028    55  \n",
       "Production-related actions                            1   9108    52  \n",
       "Merger & \\nacquisitions                              14   9914   101  \n",
       "Corporate \\ngovernance                                9  10071   140  \n",
       "Strategic alliance                                   27   9122   172  \n",
       "Expansion in existing market (product/service/g...    5   8012    57  \n",
       "Divestiture                                           8   9957    42  \n",
       "Human resources                                       3   7829    37  \n",
       "New product introduction/\\nservice offering          13   9910   117  \n",
       "External venturing                                   13   8828    50  \n",
       "Marketing                                             2   7528    48  \n",
       "Product/\\nservice improvement                         7   8679    57  \n",
       "New geographical market entry                         1   6875    18  \n",
       "R&D-related actions                                   1   8485    33  "
      ]
     },
     "execution_count": 31,
     "metadata": {},
     "output_type": "execute_result"
    }
   ],
   "source": [
    "# display the results of classification\n",
    "results_log_df"
   ]
  },
  {
   "cell_type": "code",
   "execution_count": 32,
   "id": "ca579605",
   "metadata": {},
   "outputs": [],
   "source": [
    "# add the model we used to the results\n",
    "results_log_df['Model'] = 'BOW + log'\n",
    "\n",
    "# write away the results\n",
    "results_log_df.to_excel('./Output/Model performance/BOW_log.xlsx', index = False, header = True)\n",
    "best_params_df.to_excel('./Output/parameters/BOW_log.xlsx', index = False, header = True)"
   ]
  },
  {
   "cell_type": "markdown",
   "id": "e9b58d3f",
   "metadata": {},
   "source": [
    "### C. Support Vector Machine"
   ]
  },
  {
   "cell_type": "code",
   "execution_count": 33,
   "id": "5f30434c",
   "metadata": {},
   "outputs": [],
   "source": [
    "# Create an empty dataframe with the categories to store the results of the svm\n",
    "results_svm_df = create_results_df()"
   ]
  },
  {
   "cell_type": "code",
   "execution_count": 34,
   "id": "737c9b89",
   "metadata": {},
   "outputs": [],
   "source": [
    "# Initialize the SVM classifier\n",
    "svm = SVC(random_state = 123)\n",
    "\n",
    "# Create a parameter grid for the SVM\n",
    "param_grid = {\n",
    "    'C': [0.1, 1, 10, 100], # inverse regularization parameter\n",
    "    'kernel': ['linear', 'poly', 'rbf'], # what type of kernel need to be used\n",
    "}\n"
   ]
  },
  {
   "cell_type": "code",
   "execution_count": null,
   "id": "d4c1f557",
   "metadata": {},
   "outputs": [
    {
     "data": {
      "application/vnd.jupyter.widget-view+json": {
       "model_id": "9d46cf18eadb40ebbcd0a60f310469df",
       "version_major": 2,
       "version_minor": 0
      },
      "text/plain": [
       "Evaluating categories:   0%|          | 0/15 [00:00<?, ?it/s]"
      ]
     },
     "metadata": {},
     "output_type": "display_data"
    }
   ],
   "source": [
    "# Set a random seed for reproducibility\n",
    "random.seed(123)\n",
    "\n",
    "# \n",
    "best_params_dict, best_params = evaluate_categories(svm, results_svm_df)"
   ]
  },
  {
   "cell_type": "code",
   "execution_count": null,
   "id": "16da61e3",
   "metadata": {},
   "outputs": [],
   "source": [
    "# Create a new dataframe to store the best hyperparameters for each category\n",
    "best_params_df = pd.DataFrame.from_dict(best_params_dict, orient='index')\n",
    "\n",
    "# Rename the columns of the best_params_df\n",
    "best_params_df.columns = [f'{param}' for param in best_params.keys()]\n",
    "\n",
    "# Display the best parameters\n",
    "print(\"\\nBest hyperparameters for each category:\")\n",
    "display(best_params_df)"
   ]
  },
  {
   "cell_type": "code",
   "execution_count": null,
   "id": "c8b3a28d",
   "metadata": {},
   "outputs": [],
   "source": [
    "# display the results of classification\n",
    "results_svm_df"
   ]
  },
  {
   "cell_type": "code",
   "execution_count": null,
   "id": "68c1e55f",
   "metadata": {},
   "outputs": [],
   "source": [
    "# add the model we used to the results\n",
    "results_svm_df['Model'] = 'BOW + svm'\n",
    "\n",
    "# write away the results\n",
    "results_svm_df.to_excel('./Output/Model performance/BOW_svm.xlsx', index = False, header = True)\n",
    "best_params_df.to_excel('./Output/parameters/BOW_svm.xlsx', index = False, header = True)"
   ]
  },
  {
   "cell_type": "code",
   "execution_count": null,
   "id": "329c00a3",
   "metadata": {},
   "outputs": [],
   "source": []
  },
  {
   "cell_type": "markdown",
   "id": "96950841",
   "metadata": {},
   "source": [
    "### D. Adaboost classifier"
   ]
  },
  {
   "cell_type": "code",
   "execution_count": null,
   "id": "7f128d72",
   "metadata": {},
   "outputs": [],
   "source": [
    "# Create an empty dataframe with the categories to store the results of the ada\n",
    "results_ada_df = create_results_df()"
   ]
  },
  {
   "cell_type": "code",
   "execution_count": null,
   "id": "04affff0",
   "metadata": {},
   "outputs": [],
   "source": [
    "# Initialize decision tree base estimator for AdaBoost\n",
    "base_estimator = DecisionTreeClassifier()\n",
    "\n",
    "# Initialize AdaBoost classifier\n",
    "ada = AdaBoostClassifier(base_estimator=base_estimator, random_state = 123)\n",
    "\n",
    "# Define parameter grid for AdaBoost\n",
    "param_grid = {\n",
    "    'n_estimators': [50, 100, 250],   # the maximum number of estimators before boosting is terminated\n",
    "    'learning_rate': [0.1, 0.5, 1.0], # weight applied to each classifier at boosting iteration\n",
    "                                      # A higher learning rate increases the contribution of each classifier. \n",
    "}"
   ]
  },
  {
   "cell_type": "code",
   "execution_count": null,
   "id": "6be9326c",
   "metadata": {},
   "outputs": [],
   "source": [
    "# Set a random seed for reproducibility\n",
    "random.seed(123)\n",
    "\n",
    "# \n",
    "best_params_dict, best_params = evaluate_categories(ada, results_ada_df)"
   ]
  },
  {
   "cell_type": "code",
   "execution_count": null,
   "id": "fdbce6a8",
   "metadata": {},
   "outputs": [],
   "source": [
    "# Create a new dataframe to store the best hyperparameters for each category\n",
    "best_params_df = pd.DataFrame.from_dict(best_params_dict, orient='index')\n",
    "\n",
    "# Rename the columns of the best_params_df\n",
    "best_params_df.columns = [f'{param}' for param in best_params.keys()]\n",
    "\n",
    "# Display the best parameters\n",
    "print(\"\\nBest hyperparameters for each category:\")\n",
    "display(best_params_df)"
   ]
  },
  {
   "cell_type": "code",
   "execution_count": null,
   "id": "5da19f25",
   "metadata": {},
   "outputs": [],
   "source": [
    "# display the results of classification\n",
    "results_ada_df"
   ]
  },
  {
   "cell_type": "code",
   "execution_count": null,
   "id": "ad73aed5",
   "metadata": {},
   "outputs": [],
   "source": [
    "# add the model we used to the results\n",
    "results_ada_df['Model'] = 'BOW + ada'\n",
    "\n",
    "# write away the results\n",
    "results_ada_df.to_excel('./Output/Model performance/BOW_ada.xlsx', index = False, header = True)\n",
    "best_params_df.to_excel('./Output/parameters/BOW_ada.xlsx', index = False, header = True)"
   ]
  },
  {
   "cell_type": "markdown",
   "id": "4bb1d7b0",
   "metadata": {},
   "source": [
    "### E. Gradient boosting classifier"
   ]
  },
  {
   "cell_type": "code",
   "execution_count": null,
   "id": "28c18d8e",
   "metadata": {},
   "outputs": [],
   "source": [
    "# Create an empty dataframe with the categories to store the results of the svm\n",
    "results_gbc_df = create_results_df()"
   ]
  },
  {
   "cell_type": "code",
   "execution_count": null,
   "id": "bffc07c0",
   "metadata": {},
   "outputs": [],
   "source": [
    "# Initialize the classifier\n",
    "gbc = GradientBoostingClassifier(random_state = 123)\n",
    "\n",
    "param_grid = {\n",
    "    'n_estimators': [100, 250], # the number of boosting stages to perform\n",
    "    'learning_rate': [0.1, 0.5, 1], # the contribution of each tree\n",
    "    'max_depth': [1, 3, 5], # The maximum depth of individual estimators\n",
    "    'subsample': [0.3, 0.6, 1],    # The fraction of samples used of fitting, if smaller than one it becomes stochastic gradient boosting\n",
    "    'max_features': ['sqrt']\n",
    "}"
   ]
  },
  {
   "cell_type": "code",
   "execution_count": null,
   "id": "d1fb68ea",
   "metadata": {},
   "outputs": [],
   "source": [
    "# Set a random seed for reproducibility\n",
    "random.seed(123)\n",
    "\n",
    "# \n",
    "best_params_dict, best_params = evaluate_categories(gbc, results_gbc_df)"
   ]
  },
  {
   "cell_type": "code",
   "execution_count": null,
   "id": "b1ab07d2",
   "metadata": {},
   "outputs": [],
   "source": [
    "# Create a new dataframe to store the best hyperparameters for each category\n",
    "best_params_df = pd.DataFrame.from_dict(best_params_dict, orient='index')\n",
    "\n",
    "# Rename the columns of the best_params_df\n",
    "best_params_df.columns = [f'{param}' for param in best_params.keys()]\n",
    "\n",
    "# Display the best parameters\n",
    "print(\"\\nBest hyperparameters for each category:\")\n",
    "display(best_params_df)"
   ]
  },
  {
   "cell_type": "code",
   "execution_count": null,
   "id": "4a3d2ce1",
   "metadata": {},
   "outputs": [],
   "source": [
    "# display the results of classification\n",
    "results_gbc_df"
   ]
  },
  {
   "cell_type": "code",
   "execution_count": null,
   "id": "64c988aa",
   "metadata": {},
   "outputs": [],
   "source": [
    "# add the model we used to the results\n",
    "results_gbc_df['Model'] = 'BOW + gbc'\n",
    "\n",
    "# write away the results\n",
    "results_gbc_df.to_excel('./Output/Model performance/BOW_gbc.xlsx', index = False, header = True)\n",
    "best_params_df.to_excel('./Output/parameters/BOW_gbc.xlsx', index = False, header = True)"
   ]
  },
  {
   "cell_type": "markdown",
   "id": "9764d913",
   "metadata": {},
   "source": [
    "# 1.2 TFIDTF vectorizer"
   ]
  },
  {
   "cell_type": "code",
   "execution_count": null,
   "id": "5fcc3994",
   "metadata": {},
   "outputs": [],
   "source": []
  },
  {
   "cell_type": "code",
   "execution_count": null,
   "id": "487e4511",
   "metadata": {},
   "outputs": [],
   "source": [
    "# Define TF IDF Vectorizer #\n",
    "vec_tf_idf = TfidfVectorizer(max_features= MF,\n",
    "                      max_df = MAXDF,\n",
    "                      ngram_range=(1, 2),\n",
    "                      tokenizer=textblob_tokenizer)"
   ]
  },
  {
   "cell_type": "code",
   "execution_count": null,
   "id": "bddfef90",
   "metadata": {},
   "outputs": [],
   "source": [
    "# create independent variable with TF IDF\n",
    "X_tf_idf = vec_tf_idf.fit_transform(df_train['Headline'])\n",
    "print(X_tf_idf[:2])"
   ]
  },
  {
   "cell_type": "code",
   "execution_count": null,
   "id": "b6489501",
   "metadata": {},
   "outputs": [],
   "source": []
  },
  {
   "cell_type": "code",
   "execution_count": null,
   "id": "ab34b46a",
   "metadata": {},
   "outputs": [],
   "source": []
  },
  {
   "cell_type": "code",
   "execution_count": 30,
   "id": "26018175",
   "metadata": {},
   "outputs": [],
   "source": []
  },
  {
   "cell_type": "code",
   "execution_count": null,
   "id": "b38def52",
   "metadata": {},
   "outputs": [],
   "source": []
  },
  {
   "cell_type": "code",
   "execution_count": null,
   "id": "30c4f576",
   "metadata": {},
   "outputs": [],
   "source": []
  },
  {
   "cell_type": "code",
   "execution_count": null,
   "id": "ee01f28b",
   "metadata": {},
   "outputs": [],
   "source": []
  },
  {
   "cell_type": "code",
   "execution_count": null,
   "id": "fa946f4b",
   "metadata": {},
   "outputs": [],
   "source": []
  },
  {
   "cell_type": "code",
   "execution_count": null,
   "id": "ab79e930",
   "metadata": {},
   "outputs": [],
   "source": []
  },
  {
   "cell_type": "code",
   "execution_count": null,
   "id": "791afc84",
   "metadata": {},
   "outputs": [],
   "source": []
  },
  {
   "cell_type": "code",
   "execution_count": null,
   "id": "12676c25",
   "metadata": {},
   "outputs": [],
   "source": []
  }
 ],
 "metadata": {
  "kernelspec": {
   "display_name": "Python 3",
   "language": "python",
   "name": "python3"
  },
  "language_info": {
   "codemirror_mode": {
    "name": "ipython",
    "version": 3
   },
   "file_extension": ".py",
   "mimetype": "text/x-python",
   "name": "python",
   "nbconvert_exporter": "python",
   "pygments_lexer": "ipython3",
   "version": "3.8.8"
  }
 },
 "nbformat": 4,
 "nbformat_minor": 5
}
