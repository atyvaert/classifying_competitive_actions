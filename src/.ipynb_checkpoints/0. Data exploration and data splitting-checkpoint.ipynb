{
 "cells": [
  {
   "cell_type": "markdown",
   "id": "afef5260",
   "metadata": {},
   "source": [
    "# A. Data exploration and data splitting"
   ]
  },
  {
   "cell_type": "markdown",
   "id": "c6ef732a",
   "metadata": {},
   "source": [
    "In this notebook, I load in the original data and explore the raw data. This step is really important to gain more insights into the data before constructing my classification models. After inspecting the raw data, I drop unnecessary columns from the database. Then, I have a look at the class imbalance in my dataset. Here, it becomes clear that I have big class imbalances and few observations for some categories. Therefore, I reevaluated the categories and reclassified certain categories depending on the number of observations and their relevance. Finally, I split the data into a training and a test set, with a 80/20 train test split while maintaining the class frequencies in each dataset."
   ]
  },
  {
   "cell_type": "markdown",
   "id": "7ea13f2c",
   "metadata": {},
   "source": [
    "# 0. Data loading"
   ]
  },
  {
   "cell_type": "markdown",
   "id": "d73e4520",
   "metadata": {},
   "source": [
    "Start by loading in all the necessary packages and the raw data. In order to load in the data, I changed the working directory of this file. This should be adjusted to your own personal storage of the files. Then, I have a first look at the data by inspecting the first 5 observations."
   ]
  },
  {
   "cell_type": "code",
   "execution_count": 1,
   "id": "797034e7",
   "metadata": {},
   "outputs": [],
   "source": [
    "# Import necessary libraries\n",
    "import pandas as pd\n",
    "import os\n",
    "from sklearn.model_selection import train_test_split"
   ]
  },
  {
   "cell_type": "code",
   "execution_count": 2,
   "id": "8558be12",
   "metadata": {},
   "outputs": [
    {
     "data": {
      "text/html": [
       "<div>\n",
       "<style scoped>\n",
       "    .dataframe tbody tr th:only-of-type {\n",
       "        vertical-align: middle;\n",
       "    }\n",
       "\n",
       "    .dataframe tbody tr th {\n",
       "        vertical-align: top;\n",
       "    }\n",
       "\n",
       "    .dataframe thead th {\n",
       "        text-align: right;\n",
       "    }\n",
       "</style>\n",
       "<table border=\"1\" class=\"dataframe\">\n",
       "  <thead>\n",
       "    <tr style=\"text-align: right;\">\n",
       "      <th></th>\n",
       "      <th>id</th>\n",
       "      <th>publisher</th>\n",
       "      <th>TickerSymbolNexisUni</th>\n",
       "      <th>TickerSymbol</th>\n",
       "      <th>BvDIDnumber</th>\n",
       "      <th>IdentifierRIC</th>\n",
       "      <th>extrainfo</th>\n",
       "      <th>CountryOfExchange</th>\n",
       "      <th>CountryOfHQ</th>\n",
       "      <th>USSICIndustry</th>\n",
       "      <th>...</th>\n",
       "      <th>Human resources</th>\n",
       "      <th>R&amp;D-related actions</th>\n",
       "      <th>Licensing</th>\n",
       "      <th>Production-related actions</th>\n",
       "      <th>Supplier/\\noutsourcing</th>\n",
       "      <th>Corporate \\ngovernance</th>\n",
       "      <th>Legal</th>\n",
       "      <th>Signaling</th>\n",
       "      <th>Symbolic</th>\n",
       "      <th>Comments</th>\n",
       "    </tr>\n",
       "  </thead>\n",
       "  <tbody>\n",
       "    <tr>\n",
       "      <th>0</th>\n",
       "      <td>34</td>\n",
       "      <td>SeeNews Italy</td>\n",
       "      <td>A2A</td>\n",
       "      <td>A2A</td>\n",
       "      <td>IT11957540153</td>\n",
       "      <td>A2.MI</td>\n",
       "      <td>NaN</td>\n",
       "      <td>Italy</td>\n",
       "      <td>Italy</td>\n",
       "      <td>Transportation, Communications, Electric, Gas,...</td>\n",
       "      <td>...</td>\n",
       "      <td>NaN</td>\n",
       "      <td>NaN</td>\n",
       "      <td>NaN</td>\n",
       "      <td>NaN</td>\n",
       "      <td>NaN</td>\n",
       "      <td>1.0</td>\n",
       "      <td>NaN</td>\n",
       "      <td>NaN</td>\n",
       "      <td>NaN</td>\n",
       "      <td>NaN</td>\n",
       "    </tr>\n",
       "    <tr>\n",
       "      <th>1</th>\n",
       "      <td>39</td>\n",
       "      <td>SeeNews Italy</td>\n",
       "      <td>A2A</td>\n",
       "      <td>A2A</td>\n",
       "      <td>IT11957540153</td>\n",
       "      <td>A2.MI</td>\n",
       "      <td>NaN</td>\n",
       "      <td>Italy</td>\n",
       "      <td>Italy</td>\n",
       "      <td>Transportation, Communications, Electric, Gas,...</td>\n",
       "      <td>...</td>\n",
       "      <td>NaN</td>\n",
       "      <td>NaN</td>\n",
       "      <td>NaN</td>\n",
       "      <td>NaN</td>\n",
       "      <td>NaN</td>\n",
       "      <td>NaN</td>\n",
       "      <td>NaN</td>\n",
       "      <td>NaN</td>\n",
       "      <td>NaN</td>\n",
       "      <td>NaN</td>\n",
       "    </tr>\n",
       "    <tr>\n",
       "      <th>2</th>\n",
       "      <td>61</td>\n",
       "      <td>SeeNews Italy</td>\n",
       "      <td>A2A</td>\n",
       "      <td>A2A</td>\n",
       "      <td>IT11957540153</td>\n",
       "      <td>A2.MI</td>\n",
       "      <td>NaN</td>\n",
       "      <td>Italy</td>\n",
       "      <td>Italy</td>\n",
       "      <td>Transportation, Communications, Electric, Gas,...</td>\n",
       "      <td>...</td>\n",
       "      <td>NaN</td>\n",
       "      <td>NaN</td>\n",
       "      <td>NaN</td>\n",
       "      <td>NaN</td>\n",
       "      <td>NaN</td>\n",
       "      <td>NaN</td>\n",
       "      <td>NaN</td>\n",
       "      <td>NaN</td>\n",
       "      <td>NaN</td>\n",
       "      <td>NaN</td>\n",
       "    </tr>\n",
       "    <tr>\n",
       "      <th>3</th>\n",
       "      <td>139</td>\n",
       "      <td>Impact Financial News</td>\n",
       "      <td>A2A</td>\n",
       "      <td>A2A</td>\n",
       "      <td>IT11957540153</td>\n",
       "      <td>A2.MI</td>\n",
       "      <td>NaN</td>\n",
       "      <td>Italy</td>\n",
       "      <td>Italy</td>\n",
       "      <td>Transportation, Communications, Electric, Gas,...</td>\n",
       "      <td>...</td>\n",
       "      <td>NaN</td>\n",
       "      <td>NaN</td>\n",
       "      <td>NaN</td>\n",
       "      <td>NaN</td>\n",
       "      <td>NaN</td>\n",
       "      <td>NaN</td>\n",
       "      <td>NaN</td>\n",
       "      <td>NaN</td>\n",
       "      <td>NaN</td>\n",
       "      <td>NaN</td>\n",
       "    </tr>\n",
       "    <tr>\n",
       "      <th>4</th>\n",
       "      <td>145</td>\n",
       "      <td>Midnight Trader Live Briefs</td>\n",
       "      <td>AA.</td>\n",
       "      <td>AA.</td>\n",
       "      <td>GB05149111</td>\n",
       "      <td>AAAA.L</td>\n",
       "      <td>NaN</td>\n",
       "      <td>United Kingdom</td>\n",
       "      <td>United Kingdom</td>\n",
       "      <td>Retail trade</td>\n",
       "      <td>...</td>\n",
       "      <td>NaN</td>\n",
       "      <td>NaN</td>\n",
       "      <td>NaN</td>\n",
       "      <td>NaN</td>\n",
       "      <td>NaN</td>\n",
       "      <td>NaN</td>\n",
       "      <td>NaN</td>\n",
       "      <td>NaN</td>\n",
       "      <td>NaN</td>\n",
       "      <td>NaN</td>\n",
       "    </tr>\n",
       "  </tbody>\n",
       "</table>\n",
       "<p>5 rows × 44 columns</p>\n",
       "</div>"
      ],
      "text/plain": [
       "    id                    publisher TickerSymbolNexisUni TickerSymbol  \\\n",
       "0   34                SeeNews Italy                  A2A          A2A   \n",
       "1   39                SeeNews Italy                  A2A          A2A   \n",
       "2   61                SeeNews Italy                  A2A          A2A   \n",
       "3  139        Impact Financial News                  A2A          A2A   \n",
       "4  145  Midnight Trader Live Briefs                  AA.          AA.   \n",
       "\n",
       "     BvDIDnumber IdentifierRIC extrainfo CountryOfExchange     CountryOfHQ  \\\n",
       "0  IT11957540153         A2.MI       NaN             Italy           Italy   \n",
       "1  IT11957540153         A2.MI       NaN             Italy           Italy   \n",
       "2  IT11957540153         A2.MI       NaN             Italy           Italy   \n",
       "3  IT11957540153         A2.MI       NaN             Italy           Italy   \n",
       "4     GB05149111        AAAA.L       NaN    United Kingdom  United Kingdom   \n",
       "\n",
       "                                       USSICIndustry  ... Human resources  \\\n",
       "0  Transportation, Communications, Electric, Gas,...  ...             NaN   \n",
       "1  Transportation, Communications, Electric, Gas,...  ...             NaN   \n",
       "2  Transportation, Communications, Electric, Gas,...  ...             NaN   \n",
       "3  Transportation, Communications, Electric, Gas,...  ...             NaN   \n",
       "4                                       Retail trade  ...             NaN   \n",
       "\n",
       "  R&D-related actions Licensing Production-related actions  \\\n",
       "0                 NaN       NaN                        NaN   \n",
       "1                 NaN       NaN                        NaN   \n",
       "2                 NaN       NaN                        NaN   \n",
       "3                 NaN       NaN                        NaN   \n",
       "4                 NaN       NaN                        NaN   \n",
       "\n",
       "   Supplier/\\noutsourcing  Corporate \\ngovernance  Legal  Signaling  Symbolic  \\\n",
       "0                     NaN                     1.0    NaN        NaN       NaN   \n",
       "1                     NaN                     NaN    NaN        NaN       NaN   \n",
       "2                     NaN                     NaN    NaN        NaN       NaN   \n",
       "3                     NaN                     NaN    NaN        NaN       NaN   \n",
       "4                     NaN                     NaN    NaN        NaN       NaN   \n",
       "\n",
       "   Comments  \n",
       "0       NaN  \n",
       "1       NaN  \n",
       "2       NaN  \n",
       "3       NaN  \n",
       "4       NaN  \n",
       "\n",
       "[5 rows x 44 columns]"
      ]
     },
     "execution_count": 2,
     "metadata": {},
     "output_type": "execute_result"
    }
   ],
   "source": [
    "# Change to Working Directory with Training Data # \n",
    "os.chdir(\"/Users/Artur/Desktop/thesis_HIR_versie5/coding\")\n",
    "\n",
    "# Load Training Data #\n",
    "df_data = pd.read_excel(\"./data/bronze_data/STOXX EU 600.xlsx\", header = 0)\n",
    "\n",
    "# inspect the data\n",
    "df_data.head(5)"
   ]
  },
  {
   "cell_type": "markdown",
   "id": "77acd797",
   "metadata": {},
   "source": [
    "Drop unnecessary columns from your data. These columns do not add any value to the classification model I aim to construct. Afterwards, I only keep the id, the headlines and the category of my observations."
   ]
  },
  {
   "cell_type": "code",
   "execution_count": 3,
   "id": "55e15b2b",
   "metadata": {},
   "outputs": [
    {
     "data": {
      "text/html": [
       "<div>\n",
       "<style scoped>\n",
       "    .dataframe tbody tr th:only-of-type {\n",
       "        vertical-align: middle;\n",
       "    }\n",
       "\n",
       "    .dataframe tbody tr th {\n",
       "        vertical-align: top;\n",
       "    }\n",
       "\n",
       "    .dataframe thead th {\n",
       "        text-align: right;\n",
       "    }\n",
       "</style>\n",
       "<table border=\"1\" class=\"dataframe\">\n",
       "  <thead>\n",
       "    <tr style=\"text-align: right;\">\n",
       "      <th></th>\n",
       "      <th>id</th>\n",
       "      <th>Headline</th>\n",
       "      <th>None</th>\n",
       "      <th>New product introduction/\\nservice offering</th>\n",
       "      <th>Product/\\nservice improvement</th>\n",
       "      <th>Product/\\nservice deletion</th>\n",
       "      <th>New geographical market entry</th>\n",
       "      <th>New product/service\\n market entry</th>\n",
       "      <th>Expansion in existing market (product/service/geographical)</th>\n",
       "      <th>Reducing market presence or\\n exiting a market (product/service/geographical)</th>\n",
       "      <th>...</th>\n",
       "      <th>Financing</th>\n",
       "      <th>Human resources</th>\n",
       "      <th>R&amp;D-related actions</th>\n",
       "      <th>Licensing</th>\n",
       "      <th>Production-related actions</th>\n",
       "      <th>Supplier/\\noutsourcing</th>\n",
       "      <th>Corporate \\ngovernance</th>\n",
       "      <th>Legal</th>\n",
       "      <th>Signaling</th>\n",
       "      <th>Symbolic</th>\n",
       "    </tr>\n",
       "  </thead>\n",
       "  <tbody>\n",
       "    <tr>\n",
       "      <th>0</th>\n",
       "      <td>34</td>\n",
       "      <td>Multiutility A2A appoints Andrea Crenna CFO</td>\n",
       "      <td>NaN</td>\n",
       "      <td>NaN</td>\n",
       "      <td>NaN</td>\n",
       "      <td>NaN</td>\n",
       "      <td>NaN</td>\n",
       "      <td>NaN</td>\n",
       "      <td>NaN</td>\n",
       "      <td>NaN</td>\n",
       "      <td>...</td>\n",
       "      <td>NaN</td>\n",
       "      <td>NaN</td>\n",
       "      <td>NaN</td>\n",
       "      <td>NaN</td>\n",
       "      <td>NaN</td>\n",
       "      <td>NaN</td>\n",
       "      <td>1.0</td>\n",
       "      <td>NaN</td>\n",
       "      <td>NaN</td>\n",
       "      <td>NaN</td>\n",
       "    </tr>\n",
       "    <tr>\n",
       "      <th>1</th>\n",
       "      <td>39</td>\n",
       "      <td>Italian A2A Reti Elettriche gives application ...</td>\n",
       "      <td>1.0</td>\n",
       "      <td>NaN</td>\n",
       "      <td>NaN</td>\n",
       "      <td>NaN</td>\n",
       "      <td>NaN</td>\n",
       "      <td>NaN</td>\n",
       "      <td>NaN</td>\n",
       "      <td>NaN</td>\n",
       "      <td>...</td>\n",
       "      <td>NaN</td>\n",
       "      <td>NaN</td>\n",
       "      <td>NaN</td>\n",
       "      <td>NaN</td>\n",
       "      <td>NaN</td>\n",
       "      <td>NaN</td>\n",
       "      <td>NaN</td>\n",
       "      <td>NaN</td>\n",
       "      <td>NaN</td>\n",
       "      <td>NaN</td>\n",
       "    </tr>\n",
       "    <tr>\n",
       "      <th>2</th>\n",
       "      <td>61</td>\n",
       "      <td>Italian M&amp;A Deals: Telecom Italia, A2A, Fiat C...</td>\n",
       "      <td>1.0</td>\n",
       "      <td>NaN</td>\n",
       "      <td>NaN</td>\n",
       "      <td>NaN</td>\n",
       "      <td>NaN</td>\n",
       "      <td>NaN</td>\n",
       "      <td>NaN</td>\n",
       "      <td>NaN</td>\n",
       "      <td>...</td>\n",
       "      <td>NaN</td>\n",
       "      <td>NaN</td>\n",
       "      <td>NaN</td>\n",
       "      <td>NaN</td>\n",
       "      <td>NaN</td>\n",
       "      <td>NaN</td>\n",
       "      <td>NaN</td>\n",
       "      <td>NaN</td>\n",
       "      <td>NaN</td>\n",
       "      <td>NaN</td>\n",
       "    </tr>\n",
       "    <tr>\n",
       "      <th>3</th>\n",
       "      <td>139</td>\n",
       "      <td>Press release - ORDINARY MEETING OF THE A2A S....</td>\n",
       "      <td>1.0</td>\n",
       "      <td>NaN</td>\n",
       "      <td>NaN</td>\n",
       "      <td>NaN</td>\n",
       "      <td>NaN</td>\n",
       "      <td>NaN</td>\n",
       "      <td>NaN</td>\n",
       "      <td>NaN</td>\n",
       "      <td>...</td>\n",
       "      <td>NaN</td>\n",
       "      <td>NaN</td>\n",
       "      <td>NaN</td>\n",
       "      <td>NaN</td>\n",
       "      <td>NaN</td>\n",
       "      <td>NaN</td>\n",
       "      <td>NaN</td>\n",
       "      <td>NaN</td>\n",
       "      <td>NaN</td>\n",
       "      <td>NaN</td>\n",
       "    </tr>\n",
       "    <tr>\n",
       "      <th>4</th>\n",
       "      <td>145</td>\n",
       "      <td>--Alcoa (AA) Q4 Earnings of $0.04 Ex Items, Re...</td>\n",
       "      <td>1.0</td>\n",
       "      <td>NaN</td>\n",
       "      <td>NaN</td>\n",
       "      <td>NaN</td>\n",
       "      <td>NaN</td>\n",
       "      <td>NaN</td>\n",
       "      <td>NaN</td>\n",
       "      <td>NaN</td>\n",
       "      <td>...</td>\n",
       "      <td>NaN</td>\n",
       "      <td>NaN</td>\n",
       "      <td>NaN</td>\n",
       "      <td>NaN</td>\n",
       "      <td>NaN</td>\n",
       "      <td>NaN</td>\n",
       "      <td>NaN</td>\n",
       "      <td>NaN</td>\n",
       "      <td>NaN</td>\n",
       "      <td>NaN</td>\n",
       "    </tr>\n",
       "  </tbody>\n",
       "</table>\n",
       "<p>5 rows × 31 columns</p>\n",
       "</div>"
      ],
      "text/plain": [
       "    id                                           Headline  None  \\\n",
       "0   34        Multiutility A2A appoints Andrea Crenna CFO   NaN   \n",
       "1   39  Italian A2A Reti Elettriche gives application ...   1.0   \n",
       "2   61  Italian M&A Deals: Telecom Italia, A2A, Fiat C...   1.0   \n",
       "3  139  Press release - ORDINARY MEETING OF THE A2A S....   1.0   \n",
       "4  145  --Alcoa (AA) Q4 Earnings of $0.04 Ex Items, Re...   1.0   \n",
       "\n",
       "   New product introduction/\\nservice offering  Product/\\nservice improvement  \\\n",
       "0                                          NaN                            NaN   \n",
       "1                                          NaN                            NaN   \n",
       "2                                          NaN                            NaN   \n",
       "3                                          NaN                            NaN   \n",
       "4                                          NaN                            NaN   \n",
       "\n",
       "   Product/\\nservice deletion  New geographical market entry  \\\n",
       "0                         NaN                            NaN   \n",
       "1                         NaN                            NaN   \n",
       "2                         NaN                            NaN   \n",
       "3                         NaN                            NaN   \n",
       "4                         NaN                            NaN   \n",
       "\n",
       "   New product/service\\n market entry  \\\n",
       "0                                 NaN   \n",
       "1                                 NaN   \n",
       "2                                 NaN   \n",
       "3                                 NaN   \n",
       "4                                 NaN   \n",
       "\n",
       "   Expansion in existing market (product/service/geographical)  \\\n",
       "0                                                NaN             \n",
       "1                                                NaN             \n",
       "2                                                NaN             \n",
       "3                                                NaN             \n",
       "4                                                NaN             \n",
       "\n",
       "   Reducing market presence or\\n exiting a market (product/service/geographical)  \\\n",
       "0                                                NaN                               \n",
       "1                                                NaN                               \n",
       "2                                                NaN                               \n",
       "3                                                NaN                               \n",
       "4                                                NaN                               \n",
       "\n",
       "   ...  Financing  Human resources  R&D-related actions  Licensing  \\\n",
       "0  ...        NaN              NaN                  NaN        NaN   \n",
       "1  ...        NaN              NaN                  NaN        NaN   \n",
       "2  ...        NaN              NaN                  NaN        NaN   \n",
       "3  ...        NaN              NaN                  NaN        NaN   \n",
       "4  ...        NaN              NaN                  NaN        NaN   \n",
       "\n",
       "   Production-related actions  Supplier/\\noutsourcing  Corporate \\ngovernance  \\\n",
       "0                         NaN                     NaN                     1.0   \n",
       "1                         NaN                     NaN                     NaN   \n",
       "2                         NaN                     NaN                     NaN   \n",
       "3                         NaN                     NaN                     NaN   \n",
       "4                         NaN                     NaN                     NaN   \n",
       "\n",
       "   Legal  Signaling  Symbolic  \n",
       "0    NaN        NaN       NaN  \n",
       "1    NaN        NaN       NaN  \n",
       "2    NaN        NaN       NaN  \n",
       "3    NaN        NaN       NaN  \n",
       "4    NaN        NaN       NaN  \n",
       "\n",
       "[5 rows x 31 columns]"
      ]
     },
     "execution_count": 3,
     "metadata": {},
     "output_type": "execute_result"
    }
   ],
   "source": [
    "# drop all unnecessary columns\n",
    "df_data = df_data.drop(df_data.columns[1:13], axis = 1)\n",
    "df_data = df_data.drop(df_data.columns[31], axis = 1)\n",
    "\n",
    "# inspect the data\n",
    "df_data.head(5)"
   ]
  },
  {
   "cell_type": "code",
   "execution_count": 4,
   "id": "f2683985",
   "metadata": {},
   "outputs": [
    {
     "data": {
      "text/plain": [
       "id                                                                                 int64\n",
       "Headline                                                                          object\n",
       "None                                                                             float64\n",
       "New product introduction/\\nservice offering                                      float64\n",
       "Product/\\nservice improvement                                                    float64\n",
       "Product/\\nservice deletion                                                       float64\n",
       "New geographical market entry                                                    float64\n",
       "New product/service\\n market entry                                               float64\n",
       "Expansion in existing market (product/service/geographical)                      float64\n",
       "Reducing market presence or\\n exiting a market (product/service/geographical)    float64\n",
       "Advertising actions                                                              float64\n",
       "Pricing actions                                                                  float64\n",
       "Customer service/relations                                                       float64\n",
       "Merger & \\nacquisitions                                                          float64\n",
       "Joint venture                                                                    float64\n",
       "Strategic alliance                                                               float64\n",
       "External venturing                                                               float64\n",
       "De-venturing                                                                     float64\n",
       "Divestiture                                                                      float64\n",
       "Reorganisation/\\nrestructuring                                                   float64\n",
       "Spin-off                                                                         float64\n",
       "Financing                                                                        float64\n",
       "Human resources                                                                  float64\n",
       "R&D-related actions                                                              float64\n",
       "Licensing                                                                        float64\n",
       "Production-related actions                                                       float64\n",
       "Supplier/\\noutsourcing                                                           float64\n",
       "Corporate \\ngovernance                                                           float64\n",
       "Legal                                                                            float64\n",
       "Signaling                                                                        float64\n",
       "Symbolic                                                                         float64\n",
       "dtype: object"
      ]
     },
     "execution_count": 4,
     "metadata": {},
     "output_type": "execute_result"
    }
   ],
   "source": [
    "# inspect the data types\n",
    "df_data.dtypes"
   ]
  },
  {
   "cell_type": "markdown",
   "id": "d2c8ab9e",
   "metadata": {},
   "source": [
    "# 1. Inspect the class imbalance"
   ]
  },
  {
   "cell_type": "markdown",
   "id": "06488d92",
   "metadata": {},
   "source": [
    "In this exploration phase, I already looked at what my data looks like, the type of the data and other information. Now, I am going to inspect the class frequencies of my dependent variable, the category the headline belongs to. Before I start this process, I convert all missing values to zero as this has the same meaning for my analysis and is needed to look at the class frequencies.\n",
    "\n",
    "In this step, I already notice that I have one majority class 'None' and 28 minority classes. The majority class accounts for almost 86% of the data, while the 28 other classes need to share the remaining 14%. It is clear that this issue will need to dealt with as it has a great influence on the performance of my models.\n",
    "\n",
    "Next, it also becomes clear that some categories have a very limited number of observations. It is very difficult for a machine learning model to learn from the data if there are only so few instances available. Therefore, it is clear that this is one of the issues that will have to be dealt with."
   ]
  },
  {
   "cell_type": "markdown",
   "id": "3fc15c13",
   "metadata": {},
   "source": [
    "#### Inspect the class frequencies"
   ]
  },
  {
   "cell_type": "code",
   "execution_count": 5,
   "id": "a31868ea",
   "metadata": {},
   "outputs": [
    {
     "data": {
      "text/plain": [
       "None                                                                             0.859743\n",
       "New product introduction/\\nservice offering                                      0.011987\n",
       "Product/\\nservice improvement                                                    0.005883\n",
       "Product/\\nservice deletion                                                       0.000370\n",
       "New geographical market entry                                                    0.001554\n",
       "New product/service\\n market entry                                               0.000203\n",
       "Expansion in existing market (product/service/geographical)                      0.005753\n",
       "Reducing market presence or\\n exiting a market (product/service/geographical)    0.001221\n",
       "Advertising actions                                                              0.002812\n",
       "Pricing actions                                                                  0.001424\n",
       "Customer service/relations                                                       0.000481\n",
       "Merger & \\nacquisitions                                                          0.010637\n",
       "Joint venture                                                                    0.001646\n",
       "Strategic alliance                                                               0.018425\n",
       "External venturing                                                               0.004144\n",
       "De-venturing                                                                     0.001702\n",
       "Divestiture                                                                      0.004606\n",
       "Reorganisation/\\nrestructuring                                                   0.000980\n",
       "Spin-off                                                                         0.000148\n",
       "Financing                                                                        0.006068\n",
       "Human resources                                                                  0.003718\n",
       "R&D-related actions                                                              0.003182\n",
       "Licensing                                                                        0.000925\n",
       "Production-related actions                                                       0.004902\n",
       "Supplier/\\noutsourcing                                                           0.000296\n",
       "Corporate \\ngovernance                                                           0.013800\n",
       "Legal                                                                            0.025547\n",
       "Signaling                                                                        0.002497\n",
       "Symbolic                                                                         0.005531\n",
       "dtype: float64"
      ]
     },
     "execution_count": 5,
     "metadata": {},
     "output_type": "execute_result"
    }
   ],
   "source": [
    "# convert all missing values to zero\n",
    "df_data = df_data.fillna(0)\n",
    "\n",
    "# Create a new dataframe with only the columns of the different categories\n",
    "df_categories = df_data.iloc[:, 2:]\n",
    "\n",
    "# Get the frequency of ones in each column and divide by the number of observations\n",
    "class_frequencies = df_categories.sum()/df_categories.count()\n",
    "\n",
    "# Print the count of ones in each column\n",
    "class_frequencies.head(29)"
   ]
  },
  {
   "cell_type": "code",
   "execution_count": 6,
   "id": "6f82c59f",
   "metadata": {},
   "outputs": [
    {
     "name": "stderr",
     "output_type": "stream",
     "text": [
      "<ipython-input-6-624f2832adf0>:2: UserWarning: Pandas requires version '1.4.3' or newer of 'xlsxwriter' (version '1.3.8' currently installed).\n",
      "  class_frequencies.to_excel('./Output/Class imbalance/class_frequencies_bronze.xlsx', index=True)\n"
     ]
    }
   ],
   "source": [
    "# Output the class frequencies to excel\n",
    "class_frequencies.to_excel('./Output/Class imbalance/class_frequencies_bronze.xlsx', index=True)"
   ]
  },
  {
   "cell_type": "markdown",
   "id": "befbe3d3",
   "metadata": {},
   "source": [
    "#### Inspect the number of observations per class"
   ]
  },
  {
   "cell_type": "code",
   "execution_count": 7,
   "id": "433f1ba0",
   "metadata": {},
   "outputs": [
    {
     "data": {
      "text/plain": [
       "None                                                                             46476.0\n",
       "New product introduction/\\nservice offering                                        648.0\n",
       "Product/\\nservice improvement                                                      318.0\n",
       "Product/\\nservice deletion                                                          20.0\n",
       "New geographical market entry                                                       84.0\n",
       "New product/service\\n market entry                                                  11.0\n",
       "Expansion in existing market (product/service/geographical)                        311.0\n",
       "Reducing market presence or\\n exiting a market (product/service/geographical)       66.0\n",
       "Advertising actions                                                                152.0\n",
       "Pricing actions                                                                     77.0\n",
       "Customer service/relations                                                          26.0\n",
       "Merger & \\nacquisitions                                                            575.0\n",
       "Joint venture                                                                       89.0\n",
       "Strategic alliance                                                                 996.0\n",
       "External venturing                                                                 224.0\n",
       "De-venturing                                                                        92.0\n",
       "Divestiture                                                                        249.0\n",
       "Reorganisation/\\nrestructuring                                                      53.0\n",
       "Spin-off                                                                             8.0\n",
       "Financing                                                                          328.0\n",
       "Human resources                                                                    201.0\n",
       "R&D-related actions                                                                172.0\n",
       "Licensing                                                                           50.0\n",
       "Production-related actions                                                         265.0\n",
       "Supplier/\\noutsourcing                                                              16.0\n",
       "Corporate \\ngovernance                                                             746.0\n",
       "Legal                                                                             1381.0\n",
       "Signaling                                                                          135.0\n",
       "Symbolic                                                                           299.0\n",
       "dtype: float64"
      ]
     },
     "execution_count": 7,
     "metadata": {},
     "output_type": "execute_result"
    }
   ],
   "source": [
    "# Get the frequency of ones in each column\n",
    "class_observations = df_categories.sum()\n",
    "\n",
    "# Print the count of ones in each column\n",
    "class_observations.head(29)"
   ]
  },
  {
   "cell_type": "code",
   "execution_count": 8,
   "id": "2beb1917",
   "metadata": {},
   "outputs": [
    {
     "name": "stderr",
     "output_type": "stream",
     "text": [
      "<ipython-input-8-6d5a3669ca92>:2: UserWarning: Pandas requires version '1.4.3' or newer of 'xlsxwriter' (version '1.3.8' currently installed).\n",
      "  class_observations.to_excel('./Output/Class imbalance/class_observations_bronze.xlsx', index=True)\n"
     ]
    }
   ],
   "source": [
    "# output the class frequencies to excel\n",
    "class_observations.to_excel('./Output/Class imbalance/class_observations_bronze.xlsx', index=True)"
   ]
  },
  {
   "cell_type": "markdown",
   "id": "7bcb1bee",
   "metadata": {},
   "source": [
    "## 2. Create dependent variable"
   ]
  },
  {
   "cell_type": "markdown",
   "id": "a65d6c8b",
   "metadata": {},
   "source": [
    "In the current dataset, the dependent variable is spread out over multiple columns with one column per category. In order to train a classification algorithm, I create a new column that indicates which category a headline belongs to. This way, all 29 columns are melted into one categorical variable."
   ]
  },
  {
   "cell_type": "code",
   "execution_count": 9,
   "id": "86d01da7",
   "metadata": {},
   "outputs": [
    {
     "data": {
      "text/html": [
       "<div>\n",
       "<style scoped>\n",
       "    .dataframe tbody tr th:only-of-type {\n",
       "        vertical-align: middle;\n",
       "    }\n",
       "\n",
       "    .dataframe tbody tr th {\n",
       "        vertical-align: top;\n",
       "    }\n",
       "\n",
       "    .dataframe thead th {\n",
       "        text-align: right;\n",
       "    }\n",
       "</style>\n",
       "<table border=\"1\" class=\"dataframe\">\n",
       "  <thead>\n",
       "    <tr style=\"text-align: right;\">\n",
       "      <th></th>\n",
       "      <th>id</th>\n",
       "      <th>Headline</th>\n",
       "      <th>category</th>\n",
       "    </tr>\n",
       "  </thead>\n",
       "  <tbody>\n",
       "    <tr>\n",
       "      <th>1</th>\n",
       "      <td>39</td>\n",
       "      <td>Italian A2A Reti Elettriche gives application ...</td>\n",
       "      <td>None</td>\n",
       "    </tr>\n",
       "    <tr>\n",
       "      <th>2</th>\n",
       "      <td>61</td>\n",
       "      <td>Italian M&amp;A Deals: Telecom Italia, A2A, Fiat C...</td>\n",
       "      <td>None</td>\n",
       "    </tr>\n",
       "    <tr>\n",
       "      <th>3</th>\n",
       "      <td>139</td>\n",
       "      <td>Press release - ORDINARY MEETING OF THE A2A S....</td>\n",
       "      <td>None</td>\n",
       "    </tr>\n",
       "    <tr>\n",
       "      <th>4</th>\n",
       "      <td>145</td>\n",
       "      <td>--Alcoa (AA) Q4 Earnings of $0.04 Ex Items, Re...</td>\n",
       "      <td>None</td>\n",
       "    </tr>\n",
       "    <tr>\n",
       "      <th>5</th>\n",
       "      <td>161</td>\n",
       "      <td>AA PLC Announcement of Completion of Offer &amp; O...</td>\n",
       "      <td>None</td>\n",
       "    </tr>\n",
       "  </tbody>\n",
       "</table>\n",
       "</div>"
      ],
      "text/plain": [
       "    id                                           Headline category\n",
       "1   39  Italian A2A Reti Elettriche gives application ...     None\n",
       "2   61  Italian M&A Deals: Telecom Italia, A2A, Fiat C...     None\n",
       "3  139  Press release - ORDINARY MEETING OF THE A2A S....     None\n",
       "4  145  --Alcoa (AA) Q4 Earnings of $0.04 Ex Items, Re...     None\n",
       "5  161  AA PLC Announcement of Completion of Offer & O...     None"
      ]
     },
     "execution_count": 9,
     "metadata": {},
     "output_type": "execute_result"
    }
   ],
   "source": [
    "# Define the different categories\n",
    "category_columns = ['None', 'New product introduction/\\nservice offering',\n",
    "                    'Product/\\nservice improvement', 'Product/\\nservice deletion',\n",
    "                    'New geographical market entry', 'New product/service\\n market entry',\n",
    "                    'Expansion in existing market (product/service/geographical)',\n",
    "                    'Reducing market presence or\\n exiting a market (product/service/geographical)',\n",
    "                    'Advertising actions', 'Pricing actions', 'Customer service/relations',\n",
    "                    'Merger & \\nacquisitions', 'Joint venture', 'Strategic alliance', \n",
    "                    'External venturing', 'De-venturing', 'Divestiture', 'Reorganisation/\\nrestructuring',\n",
    "                    'Spin-off', 'Financing', 'Human resources', 'R&D-related actions', 'Licensing', \n",
    "                    'Production-related actions', 'Supplier/\\noutsourcing', 'Corporate \\ngovernance',\n",
    "                    'Legal', 'Signaling', 'Symbolic']\n",
    "\n",
    "# Melt category columns into a single column, the dependent variable\n",
    "df_melted = pd.melt(df_data, id_vars=['id', 'Headline'], value_vars=category_columns, var_name='category', value_name='category_value')\n",
    "df_melted = df_melted[df_melted.category_value == 1]\n",
    "df_melted = df_melted.drop('category_value', axis=1)\n",
    "\n",
    "# inspect the data\n",
    "df_melted.head(5)"
   ]
  },
  {
   "cell_type": "markdown",
   "id": "bc2c7267",
   "metadata": {},
   "source": [
    "## 3. Split into train and test set"
   ]
  },
  {
   "cell_type": "markdown",
   "id": "7481f0b5",
   "metadata": {},
   "source": [
    "Next, I split the data into a train and a test set by using a 80/20 distribution. When splitting the data, I preserve the distribution of the dependent variable so my train and test set are representative for the sample.\n",
    "\n",
    "Further, the training set will be used to train my models in the following notebooks, while the test set will only be used to evaluate the performance of the models."
   ]
  },
  {
   "cell_type": "code",
   "execution_count": 10,
   "id": "078fce25",
   "metadata": {},
   "outputs": [],
   "source": [
    "# Split the data into training and testing sets while preserving the distribution of the dependent variable\n",
    "train, test = train_test_split(df_melted, test_size =0.2, stratify=df_melted['category'], random_state=7)\n"
   ]
  },
  {
   "cell_type": "code",
   "execution_count": 11,
   "id": "37da7f4e",
   "metadata": {},
   "outputs": [
    {
     "name": "stdout",
     "output_type": "stream",
     "text": [
      "Number of samples in training set: 43254\n",
      "Number of samples in testing set: 10814\n"
     ]
    }
   ],
   "source": [
    "# Print the number of samples in each dataset\n",
    "print('Number of samples in training set:', len(train))\n",
    "print('Number of samples in testing set:', len(test))\n"
   ]
  },
  {
   "cell_type": "code",
   "execution_count": 12,
   "id": "166dbe43",
   "metadata": {},
   "outputs": [
    {
     "data": {
      "text/html": [
       "<div>\n",
       "<style scoped>\n",
       "    .dataframe tbody tr th:only-of-type {\n",
       "        vertical-align: middle;\n",
       "    }\n",
       "\n",
       "    .dataframe tbody tr th {\n",
       "        vertical-align: top;\n",
       "    }\n",
       "\n",
       "    .dataframe thead th {\n",
       "        text-align: right;\n",
       "    }\n",
       "</style>\n",
       "<table border=\"1\" class=\"dataframe\">\n",
       "  <thead>\n",
       "    <tr style=\"text-align: right;\">\n",
       "      <th></th>\n",
       "      <th>id</th>\n",
       "      <th>Headline</th>\n",
       "      <th>category</th>\n",
       "    </tr>\n",
       "  </thead>\n",
       "  <tbody>\n",
       "    <tr>\n",
       "      <th>7183</th>\n",
       "      <td>194578</td>\n",
       "      <td>Head Line: US Patent granted to BASF SE (Delaw...</td>\n",
       "      <td>None</td>\n",
       "    </tr>\n",
       "    <tr>\n",
       "      <th>21198</th>\n",
       "      <td>564295</td>\n",
       "      <td>Societe Generale Launches a Next-Generation Ca...</td>\n",
       "      <td>None</td>\n",
       "    </tr>\n",
       "    <tr>\n",
       "      <th>18921</th>\n",
       "      <td>504138</td>\n",
       "      <td>BARCLAYS PLC Form 8.3 - EUTELSAT COMMUNICATION...</td>\n",
       "      <td>None</td>\n",
       "    </tr>\n",
       "    <tr>\n",
       "      <th>3325</th>\n",
       "      <td>91379</td>\n",
       "      <td>ASML: 4Q Earnings Snapshot</td>\n",
       "      <td>None</td>\n",
       "    </tr>\n",
       "    <tr>\n",
       "      <th>10015</th>\n",
       "      <td>265750</td>\n",
       "      <td>Form 8.3 - AXA INVESTMENT MANAGERS : Booker Gr...</td>\n",
       "      <td>None</td>\n",
       "    </tr>\n",
       "  </tbody>\n",
       "</table>\n",
       "</div>"
      ],
      "text/plain": [
       "           id                                           Headline category\n",
       "7183   194578  Head Line: US Patent granted to BASF SE (Delaw...     None\n",
       "21198  564295  Societe Generale Launches a Next-Generation Ca...     None\n",
       "18921  504138  BARCLAYS PLC Form 8.3 - EUTELSAT COMMUNICATION...     None\n",
       "3325    91379                         ASML: 4Q Earnings Snapshot     None\n",
       "10015  265750  Form 8.3 - AXA INVESTMENT MANAGERS : Booker Gr...     None"
      ]
     },
     "execution_count": 12,
     "metadata": {},
     "output_type": "execute_result"
    }
   ],
   "source": [
    "train.head(5)"
   ]
  },
  {
   "cell_type": "code",
   "execution_count": 13,
   "id": "2153affa",
   "metadata": {},
   "outputs": [
    {
     "name": "stdout",
     "output_type": "stream",
     "text": [
      "None                                                                             0.859574\n",
      "Legal                                                                            0.025547\n",
      "Strategic alliance                                                               0.018426\n",
      "Corporate \\ngovernance                                                           0.013802\n",
      "New product introduction/\\nservice offering                                      0.011976\n",
      "Merger & \\nacquisitions                                                          0.010635\n",
      "Financing                                                                        0.006057\n",
      "Product/\\nservice improvement                                                    0.005872\n",
      "Expansion in existing market (product/service/geographical)                      0.005757\n",
      "Symbolic                                                                         0.005526\n",
      "Production-related actions                                                       0.004901\n",
      "Divestiture                                                                      0.004601\n",
      "External venturing                                                               0.004138\n",
      "Human resources                                                                  0.003722\n",
      "R&D-related actions                                                              0.003190\n",
      "Advertising actions                                                              0.002821\n",
      "Signaling                                                                        0.002497\n",
      "De-venturing                                                                     0.001711\n",
      "Joint venture                                                                    0.001641\n",
      "New geographical market entry                                                    0.001549\n",
      "Pricing actions                                                                  0.001433\n",
      "Reducing market presence or\\n exiting a market (product/service/geographical)    0.001225\n",
      "Reorganisation/\\nrestructuring                                                   0.000971\n",
      "Licensing                                                                        0.000925\n",
      "Customer service/relations                                                       0.000486\n",
      "Product/\\nservice deletion                                                       0.000370\n",
      "Supplier/\\noutsourcing                                                           0.000301\n",
      "New product/service\\n market entry                                               0.000208\n",
      "Spin-off                                                                         0.000139\n",
      "Name: category, dtype: float64\n"
     ]
    }
   ],
   "source": [
    "# print the distribution of the classes in the training data\n",
    "class_frequencies_train = train['category'].value_counts()/len(train)\n",
    "\n",
    "# print the class frequencies\n",
    "print(class_frequencies_train)"
   ]
  },
  {
   "cell_type": "code",
   "execution_count": 14,
   "id": "1dce9b7d",
   "metadata": {},
   "outputs": [
    {
     "name": "stdout",
     "output_type": "stream",
     "text": [
      "None                                                                             0.859626\n",
      "Legal                                                                            0.025522\n",
      "Strategic alliance                                                               0.018402\n",
      "Corporate \\ngovernance                                                           0.013778\n",
      "New product introduction/\\nservice offering                                      0.012021\n",
      "Merger & \\nacquisitions                                                          0.010634\n",
      "Financing                                                                        0.006103\n",
      "Product/\\nservice improvement                                                    0.005918\n",
      "Expansion in existing market (product/service/geographical)                      0.005733\n",
      "Symbolic                                                                         0.005548\n",
      "Production-related actions                                                       0.004901\n",
      "Divestiture                                                                      0.004624\n",
      "External venturing                                                               0.004161\n",
      "Human resources                                                                  0.003699\n",
      "R&D-related actions                                                              0.003144\n",
      "Advertising actions                                                              0.002774\n",
      "Signaling                                                                        0.002497\n",
      "De-venturing                                                                     0.001665\n",
      "Joint venture                                                                    0.001665\n",
      "New geographical market entry                                                    0.001572\n",
      "Pricing actions                                                                  0.001387\n",
      "Reducing market presence or\\n exiting a market (product/service/geographical)    0.001202\n",
      "Reorganisation/\\nrestructuring                                                   0.001017\n",
      "Licensing                                                                        0.000925\n",
      "Customer service/relations                                                       0.000462\n",
      "Product/\\nservice deletion                                                       0.000370\n",
      "Supplier/\\noutsourcing                                                           0.000277\n",
      "Spin-off                                                                         0.000185\n",
      "New product/service\\n market entry                                               0.000185\n",
      "Name: category, dtype: float64\n"
     ]
    }
   ],
   "source": [
    "# print the distribution of the classes in the training data\n",
    "class_frequencies = test['category'].value_counts()/len(test)\n",
    "\n",
    "# print the class frequencies\n",
    "print(class_frequencies)"
   ]
  },
  {
   "cell_type": "markdown",
   "id": "4075973d",
   "metadata": {},
   "source": [
    "## 4. Adjust the data"
   ]
  },
  {
   "cell_type": "markdown",
   "id": "d903580e",
   "metadata": {},
   "source": [
    "It was clear from the beginning that building a classification model with so many categories would be a serious challenge. Therefore, I consulted my promotor Bettina De Ruyck to identify categories that could be merged due to few observations or categories with less relevance. As a result, I reclassified the irrelevant categories to the category 'None' and I melted the following categories to a new category:\n",
    "\n",
    "1. External venturing and Joint venture -> Venturing\n",
    "2. Advertising actions, Pricing actions, and Customer service/relations -> Marketing"
   ]
  },
  {
   "cell_type": "markdown",
   "id": "beac376b",
   "metadata": {},
   "source": [
    "First, drop the categories that were seen as unimportant after evaluation. These categories will be relocated to the category 'None'"
   ]
  },
  {
   "cell_type": "code",
   "execution_count": 15,
   "id": "f40723aa",
   "metadata": {},
   "outputs": [
    {
     "data": {
      "text/html": [
       "<div>\n",
       "<style scoped>\n",
       "    .dataframe tbody tr th:only-of-type {\n",
       "        vertical-align: middle;\n",
       "    }\n",
       "\n",
       "    .dataframe tbody tr th {\n",
       "        vertical-align: top;\n",
       "    }\n",
       "\n",
       "    .dataframe thead th {\n",
       "        text-align: right;\n",
       "    }\n",
       "</style>\n",
       "<table border=\"1\" class=\"dataframe\">\n",
       "  <thead>\n",
       "    <tr style=\"text-align: right;\">\n",
       "      <th></th>\n",
       "      <th>id</th>\n",
       "      <th>Headline</th>\n",
       "      <th>category</th>\n",
       "    </tr>\n",
       "  </thead>\n",
       "  <tbody>\n",
       "    <tr>\n",
       "      <th>7183</th>\n",
       "      <td>194578</td>\n",
       "      <td>Head Line: US Patent granted to BASF SE (Delaw...</td>\n",
       "      <td>None</td>\n",
       "    </tr>\n",
       "    <tr>\n",
       "      <th>21198</th>\n",
       "      <td>564295</td>\n",
       "      <td>Societe Generale Launches a Next-Generation Ca...</td>\n",
       "      <td>None</td>\n",
       "    </tr>\n",
       "    <tr>\n",
       "      <th>18921</th>\n",
       "      <td>504138</td>\n",
       "      <td>BARCLAYS PLC Form 8.3 - EUTELSAT COMMUNICATION...</td>\n",
       "      <td>None</td>\n",
       "    </tr>\n",
       "    <tr>\n",
       "      <th>3325</th>\n",
       "      <td>91379</td>\n",
       "      <td>ASML: 4Q Earnings Snapshot</td>\n",
       "      <td>None</td>\n",
       "    </tr>\n",
       "    <tr>\n",
       "      <th>10015</th>\n",
       "      <td>265750</td>\n",
       "      <td>Form 8.3 - AXA INVESTMENT MANAGERS : Booker Gr...</td>\n",
       "      <td>None</td>\n",
       "    </tr>\n",
       "  </tbody>\n",
       "</table>\n",
       "</div>"
      ],
      "text/plain": [
       "           id                                           Headline category\n",
       "7183   194578  Head Line: US Patent granted to BASF SE (Delaw...     None\n",
       "21198  564295  Societe Generale Launches a Next-Generation Ca...     None\n",
       "18921  504138  BARCLAYS PLC Form 8.3 - EUTELSAT COMMUNICATION...     None\n",
       "3325    91379                         ASML: 4Q Earnings Snapshot     None\n",
       "10015  265750  Form 8.3 - AXA INVESTMENT MANAGERS : Booker Gr...     None"
      ]
     },
     "execution_count": 15,
     "metadata": {},
     "output_type": "execute_result"
    }
   ],
   "source": [
    "# duplicate the original training dataset\n",
    "train_adj = train.copy()\n",
    "\n",
    "# Recategorize the unimportant categories to the category 'None'\n",
    "train_adj.replace(['De-venturing', 'Reorganisation/\\nrestructuring',\n",
    "                          'Spin-off', 'Reducing market presence or\\n exiting a market (product/service/geographical)',\n",
    "                          'Product/\\nservice deletion', 'Licensing', 'Legal',\n",
    "                          'Supplier/\\noutsourcing', 'Symbolic', 'Signaling'], 'None', inplace=True)\n",
    "\n",
    "# Inspect the data\n",
    "train_adj.head(5)"
   ]
  },
  {
   "cell_type": "markdown",
   "id": "7c66353c",
   "metadata": {},
   "source": [
    "Perform the same process for the test set"
   ]
  },
  {
   "cell_type": "code",
   "execution_count": 16,
   "id": "ed60da85",
   "metadata": {},
   "outputs": [],
   "source": [
    " # duplicate the original training dataset\n",
    "test_adj = test\n",
    "\n",
    "# Recategorize the unimportant categories to the category 'None'\n",
    "test_adj.replace(['De-venturing', 'Reorganisation/\\nrestructuring',\n",
    "                          'Spin-off', 'Reducing market presence or\\n exiting a market (product/service/geographical)',\n",
    "                          'Product/\\nservice deletion', 'Licensing', 'Legal',\n",
    "                          'Supplier/\\noutsourcing', 'Symbolic', 'Signaling'], 'None', inplace=True)\n"
   ]
  },
  {
   "cell_type": "markdown",
   "id": "348434bd",
   "metadata": {},
   "source": [
    "Second, recategorize other identified categories into a specific category."
   ]
  },
  {
   "cell_type": "code",
   "execution_count": 17,
   "id": "5c7bb6cc",
   "metadata": {},
   "outputs": [],
   "source": [
    "# Recategorize advertising, pricing and customer service into a new marketing category\n",
    "train_adj.replace(['Advertising actions', 'Pricing actions',\n",
    "                          'Customer service/relations'], 'Marketing', inplace=True)\n",
    "test_adj.replace(['Advertising actions', 'Pricing actions',\n",
    "                          'Customer service/relations'], 'Marketing', inplace=True)\n",
    "\n",
    "# Recategorize joint venture into external venturing\n",
    "train_adj.replace(['Joint venture', 'External venturing'], 'Venturing', inplace=True)\n",
    "test_adj.replace(['Joint venture', 'External venturing'], 'Venturing', inplace=True)\n",
    "\n",
    "# Recategorize new product/service market entry into New geographical market entry\n",
    "train_adj.replace(['New product/service\\n market entry', 'New geographical market entry'], 'Market entry', inplace=True)\n",
    "test_adj.replace(['New product/service\\n market entry', 'New geographical market entry'], 'Market entry', inplace=True)"
   ]
  },
  {
   "cell_type": "markdown",
   "id": "2339dbeb",
   "metadata": {},
   "source": [
    "Get the number of observations per category for the two datasets combined"
   ]
  },
  {
   "cell_type": "code",
   "execution_count": 18,
   "id": "df600803",
   "metadata": {},
   "outputs": [
    {
     "data": {
      "text/plain": [
       "None                                                           48596\n",
       "Strategic alliance                                               996\n",
       "Corporate \\ngovernance                                           746\n",
       "New product introduction/\\nservice offering                      648\n",
       "Merger & \\nacquisitions                                          575\n",
       "Financing                                                        328\n",
       "Product/\\nservice improvement                                    318\n",
       "Venturing                                                        313\n",
       "Expansion in existing market (product/service/geographical)      311\n",
       "Production-related actions                                       265\n",
       "Marketing                                                        255\n",
       "Divestiture                                                      249\n",
       "Human resources                                                  201\n",
       "R&D-related actions                                              172\n",
       "Market entry                                                      95\n",
       "Name: category, dtype: int64"
      ]
     },
     "execution_count": 18,
     "metadata": {},
     "output_type": "execute_result"
    }
   ],
   "source": [
    "# Concatenate train and test datasets\n",
    "df_data = pd.concat([train_adj, test_adj], ignore_index=True)\n",
    "\n",
    "# Calculate the frequency of each unique value in the 'category' column\n",
    "df_data_obs = df_data['category'].value_counts()\n",
    "df_data_obs"
   ]
  },
  {
   "cell_type": "code",
   "execution_count": 19,
   "id": "8c247275",
   "metadata": {},
   "outputs": [],
   "source": [
    "# get the frequency per category\n",
    "df_data_freq = df_data['category'].value_counts()/len(df_data)"
   ]
  },
  {
   "cell_type": "code",
   "execution_count": 20,
   "id": "89ae0e1a",
   "metadata": {},
   "outputs": [
    {
     "name": "stderr",
     "output_type": "stream",
     "text": [
      "<ipython-input-20-213b4c276c62>:2: UserWarning: Pandas requires version '1.4.3' or newer of 'xlsxwriter' (version '1.3.8' currently installed).\n",
      "  df_data_obs.to_excel('./Output/Class imbalance/class_observations_silver.xlsx', index=True)\n",
      "<ipython-input-20-213b4c276c62>:3: UserWarning: Pandas requires version '1.4.3' or newer of 'xlsxwriter' (version '1.3.8' currently installed).\n",
      "  df_data_freq.to_excel('./Output/Class imbalance/class_frequencies_silver.xlsx', index=True)\n"
     ]
    }
   ],
   "source": [
    "# Output the class observations and frequencies to excel\n",
    "df_data_obs.to_excel('./Output/Class imbalance/class_observations_silver.xlsx', index=True)\n",
    "df_data_freq.to_excel('./Output/Class imbalance/class_frequencies_silver.xlsx', index=True)"
   ]
  },
  {
   "cell_type": "markdown",
   "id": "d6d4e157",
   "metadata": {},
   "source": [
    "## 5. Write away"
   ]
  },
  {
   "cell_type": "markdown",
   "id": "00e95972",
   "metadata": {},
   "source": [
    "Write the data away as silver data as some changes have been made so it differs from the original (= bronze) data. However, it still needs some preprocessing, after it which will be stored as gold data."
   ]
  },
  {
   "cell_type": "code",
   "execution_count": 21,
   "id": "467695d4",
   "metadata": {},
   "outputs": [],
   "source": [
    "# Save the adjusted train and test sets to CSV files\n",
    "train_adj.to_csv('./data/silver_data/train.csv', index=False)\n",
    "test_adj.to_csv('./data/silver_data/test.csv', index=False)"
   ]
  },
  {
   "cell_type": "code",
   "execution_count": null,
   "id": "1e16e48c",
   "metadata": {},
   "outputs": [],
   "source": []
  }
 ],
 "metadata": {
  "kernelspec": {
   "display_name": "Python 3",
   "language": "python",
   "name": "python3"
  },
  "language_info": {
   "codemirror_mode": {
    "name": "ipython",
    "version": 3
   },
   "file_extension": ".py",
   "mimetype": "text/x-python",
   "name": "python",
   "nbconvert_exporter": "python",
   "pygments_lexer": "ipython3",
   "version": "3.8.8"
  }
 },
 "nbformat": 4,
 "nbformat_minor": 5
}
