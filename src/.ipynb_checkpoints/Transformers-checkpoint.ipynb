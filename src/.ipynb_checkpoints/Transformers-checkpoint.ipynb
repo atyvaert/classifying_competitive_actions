{
 "cells": [
  {
   "cell_type": "markdown",
   "id": "cf43c7f3",
   "metadata": {},
   "source": [
    "# D. Transformers"
   ]
  },
  {
   "cell_type": "markdown",
   "id": "6b5e5b6d",
   "metadata": {},
   "source": [
    "# 0. Data loading"
   ]
  },
  {
   "cell_type": "code",
   "execution_count": 1,
   "id": "705a75fe",
   "metadata": {},
   "outputs": [],
   "source": [
    "# General Packages #\n",
    "import os\n",
    "import pandas as pd\n",
    "import numpy as np\n",
    "import string\n",
    "import re\n",
    "from scipy.stats import randint\n",
    "import random\n",
    "from collections import Counter\n",
    "\n",
    "# Sklearn Packages #\n",
    "from sklearn.feature_extraction.text import TfidfTransformer, CountVectorizer, TfidfVectorizer\n",
    "from sklearn.model_selection import train_test_split, StratifiedShuffleSplit, StratifiedKFold, cross_val_predict, GridSearchCV\n",
    "from sklearn.metrics import accuracy_score, precision_score, recall_score, f1_score, classification_report, make_scorer\n",
    "from sklearn.ensemble import RandomForestClassifier, AdaBoostClassifier\n",
    "from sklearn.linear_model import LogisticRegression\n",
    "from sklearn.svm import SVC\n",
    "from sklearn.tree import DecisionTreeClassifier\n",
    "\n",
    "# NLTK Packages #\n",
    "import nltk\n",
    "from nltk.corpus import stopwords\n",
    "from textblob import TextBlob, Word\n",
    "from nltk.tokenize import word_tokenize\n",
    "\n",
    "# Import necessary libraries for handling imbalanced data\n",
    "from imblearn.pipeline import make_pipeline\n",
    "from imblearn.over_sampling import SMOTE\n",
    "from imblearn.under_sampling import RandomUnderSampler\n",
    "\n",
    "# Embedding related imports\n",
    "import sys\n",
    "import gensim\n",
    "from gensim.models import Word2Vec, Doc2Vec\n",
    "from gensim.models.phrases import Phraser, Phrases\n",
    "from gensim.models import KeyedVectors\n",
    "import gensim.downloader\n",
    "from gensim.models.doc2vec import Doc2Vec, TaggedDocument\n",
    "from gensim.scripts.glove2word2vec import glove2word2vec\n",
    "\n",
    "# Transform packages\n",
    "from simpletransformers.classification import ClassificationModel\n",
    "import logging\n",
    "\n",
    "\n"
   ]
  },
  {
   "cell_type": "code",
   "execution_count": 2,
   "id": "68ac2a2e",
   "metadata": {},
   "outputs": [],
   "source": [
    "# Turn of warnings, just to avoid pesky messages that might cause confusion here\n",
    "# Remove when testing your own code #\n",
    "import warnings\n",
    "#warnings.filterwarnings(\"ignore\")"
   ]
  },
  {
   "cell_type": "code",
   "execution_count": 3,
   "id": "4d611c36",
   "metadata": {},
   "outputs": [
    {
     "data": {
      "text/html": [
       "<div>\n",
       "<style scoped>\n",
       "    .dataframe tbody tr th:only-of-type {\n",
       "        vertical-align: middle;\n",
       "    }\n",
       "\n",
       "    .dataframe tbody tr th {\n",
       "        vertical-align: top;\n",
       "    }\n",
       "\n",
       "    .dataframe thead th {\n",
       "        text-align: right;\n",
       "    }\n",
       "</style>\n",
       "<table border=\"1\" class=\"dataframe\">\n",
       "  <thead>\n",
       "    <tr style=\"text-align: right;\">\n",
       "      <th></th>\n",
       "      <th>id</th>\n",
       "      <th>Headline</th>\n",
       "      <th>category</th>\n",
       "      <th>cleaned_headline</th>\n",
       "    </tr>\n",
       "  </thead>\n",
       "  <tbody>\n",
       "    <tr>\n",
       "      <th>0</th>\n",
       "      <td>194578</td>\n",
       "      <td>Head Line: US Patent granted to BASF SE (Delaw...</td>\n",
       "      <td>None</td>\n",
       "      <td>head u patent granted se delaware may titled c...</td>\n",
       "    </tr>\n",
       "    <tr>\n",
       "      <th>1</th>\n",
       "      <td>564295</td>\n",
       "      <td>Societe Generale Launches a Next-Generation Ca...</td>\n",
       "      <td>None</td>\n",
       "      <td>societe generale launch nextgeneration card in...</td>\n",
       "    </tr>\n",
       "    <tr>\n",
       "      <th>2</th>\n",
       "      <td>504138</td>\n",
       "      <td>BARCLAYS PLC Form 8.3 - EUTELSAT COMMUNICATION...</td>\n",
       "      <td>None</td>\n",
       "      <td>plc form communication</td>\n",
       "    </tr>\n",
       "    <tr>\n",
       "      <th>3</th>\n",
       "      <td>91379</td>\n",
       "      <td>ASML: 4Q Earnings Snapshot</td>\n",
       "      <td>None</td>\n",
       "      <td>4q earnings snapshot</td>\n",
       "    </tr>\n",
       "    <tr>\n",
       "      <th>4</th>\n",
       "      <td>265750</td>\n",
       "      <td>Form 8.3 - AXA INVESTMENT MANAGERS : Booker Gr...</td>\n",
       "      <td>None</td>\n",
       "      <td>form investment manager group plc</td>\n",
       "    </tr>\n",
       "  </tbody>\n",
       "</table>\n",
       "</div>"
      ],
      "text/plain": [
       "       id                                           Headline category  \\\n",
       "0  194578  Head Line: US Patent granted to BASF SE (Delaw...     None   \n",
       "1  564295  Societe Generale Launches a Next-Generation Ca...     None   \n",
       "2  504138  BARCLAYS PLC Form 8.3 - EUTELSAT COMMUNICATION...     None   \n",
       "3   91379                         ASML: 4Q Earnings Snapshot     None   \n",
       "4  265750  Form 8.3 - AXA INVESTMENT MANAGERS : Booker Gr...     None   \n",
       "\n",
       "                                    cleaned_headline  \n",
       "0  head u patent granted se delaware may titled c...  \n",
       "1  societe generale launch nextgeneration card in...  \n",
       "2                             plc form communication  \n",
       "3                               4q earnings snapshot  \n",
       "4                  form investment manager group plc  "
      ]
     },
     "execution_count": 3,
     "metadata": {},
     "output_type": "execute_result"
    }
   ],
   "source": [
    "# Change to Working Directory with Training Data # \n",
    "#os.chdir(\"/Users/Artur/Desktop/thesis_HIR_versie5/coding\")\n",
    "os.chdir(\"/Users/juarel/Desktop/studies artur/thesis_HIR/coding\")\n",
    "\n",
    "# Load the preprocessed data #\n",
    "df_train = pd.read_csv(\"./data/gold_data/train.csv\", header = 0)\n",
    "df_test = pd.read_csv(\"./data/gold_data/test.csv\", header = 0)\n",
    "\n",
    "# inspect the data\n",
    "df_train.head(5)"
   ]
  },
  {
   "cell_type": "markdown",
   "id": "cb86cefd",
   "metadata": {},
   "source": [
    "# 1. Define functions and parameters"
   ]
  },
  {
   "cell_type": "markdown",
   "id": "fccab087",
   "metadata": {},
   "source": [
    "Before we continue, we first define some useful functions and parameters that we use throughout this notebook. The first four functions and parameters were also used and defined in the previous notebook.\n",
    "\n",
    "\n",
    "\n",
    "2. Define a dataframe to store the results of the different models. Moreover, also define a dictionary that stores the best parameters for each model.\n",
    "\n",
    "3. Define the number of splits, the stratified cross validator to ensure class frequencies are considered, and the scoring metric based on the average F1 score. We use an F1 score as scoring metric as accuracy is not a good evaluation metric in our case.\n",
    "\n",
    "4. Define a function that trains the defined model, the input data, the classifier and its parameter grid. Besides, it will also take 4 parameters as input that give more information about the model that is being trained. This is usefull for the storage of the performance of the different algorithms.\n",
    "\n"
   ]
  },
  {
   "cell_type": "code",
   "execution_count": 4,
   "id": "faf61e3e",
   "metadata": {},
   "outputs": [],
   "source": [
    "# 1. Function that returns classication metrics\n",
    "def get_classification_metrics(y_true, y_pred):\n",
    "    \n",
    "    # Calculate Model Performance Metrics\n",
    "    accuracy = accuracy_score(y_true, y_pred)\n",
    "    precision = precision_score(y_true, y_pred, average='macro')\n",
    "    recall = recall_score(y_true, y_pred, average='macro')\n",
    "    f1 = f1_score(y_true, y_pred, average='macro')\n",
    "\n",
    "\n",
    "    return accuracy, precision, recall, f1\n"
   ]
  },
  {
   "cell_type": "code",
   "execution_count": 5,
   "id": "d4703149",
   "metadata": {},
   "outputs": [],
   "source": [
    "# 2. Create an empty dataframe to store the results of all the models\n",
    "results_all_df = pd.DataFrame()\n",
    "\n",
    "# Add columns for the metrics\n",
    "columns = ['vectorizer', 'FS', 'classifier', 'resampling','accuracy', 'precision', 'recall', 'f1']\n",
    "for col in columns:\n",
    "    results_all_df[col] = 0\n",
    "\n",
    "# create an empty dictionary to store the optimal parameters\n",
    "best_params_dict = {}"
   ]
  },
  {
   "cell_type": "code",
   "execution_count": 6,
   "id": "d97903e5",
   "metadata": {},
   "outputs": [],
   "source": [
    "# 3. Define different parameters\n",
    "# Define the number of folds for cross-validation\n",
    "n_splits = 5\n",
    "\n",
    "# Initialize the stratified k-fold object\n",
    "skf = StratifiedKFold(n_splits=n_splits, shuffle=True, random_state=42) # ensures class balances are kept\n",
    "\n",
    "# Define the scoring metric\n",
    "scoring = make_scorer(f1_score, average= 'macro')"
   ]
  },
  {
   "cell_type": "code",
   "execution_count": 7,
   "id": "ab34db38",
   "metadata": {},
   "outputs": [],
   "source": [
    "# 4. Define a function to train and evaluate the different models\n",
    "def perform_grid_search(name, model, param_grid, X_train, X_test, y_train, y_test,\n",
    "                       vectorizer, FS, classifier, resampling):\n",
    "    \n",
    "    # Define a seed value\n",
    "    random.seed(7)\n",
    "        \n",
    "    # Perform the grid search using cross-validation\n",
    "    grid_search = GridSearchCV(model, param_grid, cv=skf, scoring=scoring)\n",
    "    grid_search.fit(X_train, y_train)\n",
    "\n",
    "    # Get the best model and its hyperparameters\n",
    "    best_model = grid_search.best_estimator_\n",
    "    best_params = grid_search.best_params_\n",
    "\n",
    "    # Store the best parameters for the current category in the dictionary\n",
    "    best_params_dict[name] = best_params\n",
    "    print(f'best parameters: {best_params}')\n",
    "\n",
    "    # Retrain the best model with the whole training set\n",
    "    best_model.fit(X_train, y_train)\n",
    "\n",
    "    # Make predictions on the test set\n",
    "    y_pred = best_model.predict(X_test)\n",
    "    \n",
    "    # Calculate the probabilities (not for SVM as this is not possible)\n",
    "    if classifier != 'SVM':\n",
    "        y_pred_proba = best_model.predict_proba(X_test)\n",
    "        \n",
    "        # Find the highest probability for each observation\n",
    "        highest_prob = np.amax(y_pred_proba, axis = 1)\n",
    "    \n",
    "        # Create a DataFrame with test observations, highest probabilities, and predicted classes\n",
    "        predictions_df = pd.DataFrame({'Observation_nr': y_test.index, 'Probability': highest_prob, 'Prediction': y_pred})\n",
    "        \n",
    "    else:\n",
    "        # Create a DataFrame with test observations and predicted classes\n",
    "        predictions_df = pd.DataFrame({'Observation_nr': y_test.index, 'Prediction': y_pred})\n",
    "        \n",
    "    # Store the final predictions with its probability for the test set\n",
    "    predictions_df.to_csv(f'./Output/predictions/{name}.csv', index = False, header = True)\n",
    "    #predictions_df.to_excel(f'./Output/predictions/{name}.xlsx', index = False, header = True)\n",
    "\n",
    "    # Calculate the classification metrics\n",
    "    accuracy, precision, recall, f1 = get_classification_metrics(y_test, y_pred)\n",
    "    \n",
    "    # print the results\n",
    "    print(f'Results for {name}:')\n",
    "    print(f'Accuracy: {accuracy}')\n",
    "    print(f'Precision: {precision}')\n",
    "    print(f'Recall: {recall}')\n",
    "    print(f'F1: {f1}')\n",
    "    \n",
    "    # add the results to the dataframe with all the results\n",
    "    results_all_df.loc[name] = [vectorizer, FS, classifier, resampling, accuracy, precision, recall, f1]"
   ]
  },
  {
   "cell_type": "code",
   "execution_count": 8,
   "id": "86ffaa2e",
   "metadata": {},
   "outputs": [],
   "source": [
    "# 5. Define a function to transform the data into embeddings based on a trained model\n",
    "def vectorize_embedding(headline, model, size):\n",
    "    \n",
    "    # Split the headline into individual words\n",
    "    words = headline.split()\n",
    "\n",
    "    # Retrieve word vectors for each word in the headline\n",
    "    words_vecs = [model.wv[word] for word in words if word in model.wv]\n",
    "\n",
    "    # If no word vectors are found (i.e., no matching words in the pretrained model),\n",
    "    # return a zero vector of the defined dimension\n",
    "    if len(words_vecs) == 0:\n",
    "        return np.zeros(size)\n",
    "\n",
    "    # Convert the list of word vectors into a numpy array and average across all words\n",
    "    words_vecs = np.array(words_vecs)\n",
    "    mean_vector = words_vecs.mean(axis=0)\n",
    "\n",
    "    return mean_vector"
   ]
  },
  {
   "cell_type": "code",
   "execution_count": 9,
   "id": "df299197",
   "metadata": {},
   "outputs": [],
   "source": [
    "# 6. Define a function to transform the data into embeddings based on a pretrained model\n",
    "def vectorize_pretrained(headline, pre_trained_model, size):\n",
    "\n",
    "    # Split the headline into individual words\n",
    "    words = headline.split()\n",
    "\n",
    "    # Retrieve word embedding for each word in the headline\n",
    "    words_vecs = [pre_trained_model[word] for word in words if word in pre_trained_model]\n",
    "\n",
    "    # If no word vectors are found (i.e., no matching words in the pretrained model),\n",
    "    # return a zero vector of the specified dimension\n",
    "    if len(words_vecs) == 0:\n",
    "        return np.zeros(size)\n",
    "\n",
    "    # Convert the list of word vectors into a numpy array and average across word vectors\n",
    "    words_vecs = np.array(words_vecs)\n",
    "    mean_vector = words_vecs.mean(axis=0)\n",
    "\n",
    "    return mean_vector"
   ]
  },
  {
   "cell_type": "code",
   "execution_count": 10,
   "id": "ab6ad650",
   "metadata": {},
   "outputs": [],
   "source": [
    "# define the independent and dependent variables\n",
    "X_train = df_train['cleaned_headline']\n",
    "X_test = df_test['cleaned_headline']\n",
    "\n",
    "y_train = df_train['category']\n",
    "y_test = df_test['category']"
   ]
  },
  {
   "cell_type": "markdown",
   "id": "24c12a88",
   "metadata": {},
   "source": [
    "# 2. Transformers"
   ]
  },
  {
   "cell_type": "markdown",
   "id": "f6fc4c1a",
   "metadata": {},
   "source": [
    "https://simpletransformers.ai/docs/classification-specifics/#supported-model-types"
   ]
  },
  {
   "cell_type": "markdown",
   "id": "f15b018e",
   "metadata": {},
   "source": [
    "## 2.1 Bert"
   ]
  },
  {
   "cell_type": "code",
   "execution_count": 11,
   "id": "dda4e3f5",
   "metadata": {},
   "outputs": [],
   "source": [
    "# Define with what vectorizer we build the models with for storage\n",
    "vectorizer = 'Transformer'"
   ]
  },
  {
   "cell_type": "code",
   "execution_count": 12,
   "id": "607f4832",
   "metadata": {},
   "outputs": [],
   "source": [
    "# Define the implementation method of word2vec\n",
    "FS = 'Bert'"
   ]
  },
  {
   "cell_type": "code",
   "execution_count": 13,
   "id": "06d1f326",
   "metadata": {},
   "outputs": [],
   "source": [
    "import torch\n",
    "from torch.utils.data import TensorDataset, DataLoader, RandomSampler, SequentialSampler\n",
    "from transformers import BertTokenizer, BertForSequenceClassification\n",
    "from tabulate import tabulate\n",
    "from tqdm import trange\n"
   ]
  },
  {
   "cell_type": "markdown",
   "id": "c4a88e7d",
   "metadata": {},
   "source": [
    "By default, ClassificationModel expects the labels to be ints from 0 up to num_labels.\n",
    "\n",
    "If your dataset contains labels in another format (e.g. string labels like positive, negative), you can provide the list of all labels to the model args. Simple Transformers will handle the label mappings internally. "
   ]
  },
  {
   "cell_type": "code",
   "execution_count": 14,
   "id": "18aa3729",
   "metadata": {},
   "outputs": [],
   "source": [
    "import logging\n",
    "from simpletransformers.classification import ClassificationModel, ClassificationArgs\n",
    "\n",
    "logging.basicConfig(level=logging.ERROR)\n",
    "transformers_logger = logging.getLogger(\"transformers\")\n",
    "transformers_logger.setLevel(logging.ERROR)"
   ]
  },
  {
   "cell_type": "code",
   "execution_count": 15,
   "id": "b202adec",
   "metadata": {},
   "outputs": [],
   "source": [
    "categories = df_train['category'].unique()"
   ]
  },
  {
   "cell_type": "code",
   "execution_count": 16,
   "id": "e8343e2e",
   "metadata": {},
   "outputs": [],
   "source": [
    "# Optional model configuration\n",
    "model_args = ClassificationArgs()\n",
    "model_args.num_train_epochs= 5\n",
    "model_args.labels_list = [categories]"
   ]
  },
  {
   "cell_type": "code",
   "execution_count": 40,
   "id": "93233b6c",
   "metadata": {},
   "outputs": [
    {
     "data": {
      "text/plain": [
       "15"
      ]
     },
     "execution_count": 40,
     "metadata": {},
     "output_type": "execute_result"
    }
   ],
   "source": [
    "from sklearn.preprocessing import LabelEncoder\n",
    "\n",
    "# Encode the labels as integers\n",
    "label_encoder = LabelEncoder()\n",
    "df_train[\"label_encoded\"] = label_encoder.fit_transform(df_train[\"category\"])\n",
    "df_test[\"label_encoded\"] = label_encoder.transform(df_test[\"category\"])\n",
    "\n",
    "# Get the number of labels\n",
    "num_labels = len(label_encoder.classes_)\n",
    "num_labels"
   ]
  },
  {
   "cell_type": "code",
   "execution_count": 19,
   "id": "4b451874",
   "metadata": {},
   "outputs": [],
   "source": [
    "model_args = {\n",
    "    \"num_train_epochs\": 10,\n",
    "    \"train_batch_size\": 16,\n",
    "    \"eval_batch_size\": 32,\n",
    "    \"overwrite_output_dir\": True,\n",
    "    \"save_model_every_epoch\": False,\n",
    "    \"reprocess_input_data\": True,\n",
    "    'do_lower_case':True,\n",
    "    \"num_labels\": num_labels\n",
    "}"
   ]
  },
  {
   "cell_type": "code",
   "execution_count": 20,
   "id": "27e3c4bb",
   "metadata": {},
   "outputs": [],
   "source": [
    "# Create a ClassificationModel\n",
    "model = ClassificationModel(\n",
    "    \"roberta\", \"roberta-base\", args=model_args, use_cuda=False, show_running_loss = True\n",
    ")\n"
   ]
  },
  {
   "cell_type": "code",
   "execution_count": 32,
   "id": "27f00904",
   "metadata": {},
   "outputs": [
    {
     "data": {
      "text/plain": [
       "15"
      ]
     },
     "execution_count": 32,
     "metadata": {},
     "output_type": "execute_result"
    }
   ],
   "source": [
    "# Create train_df and apply label decoding to obtain string labels\n",
    "input_transf = df_train[['cleaned_headline', 'label_encoded']]\n",
    "input_transf.columns = [\"text\", \"labels\"]\n",
    "input_transf['labels'].nunique()"
   ]
  },
  {
   "cell_type": "code",
   "execution_count": 41,
   "id": "539b6732",
   "metadata": {},
   "outputs": [],
   "source": [
    "transf_test = df_test[['cleaned_headline', 'label_encoded']]\n",
    "transf_test.columns = [\"text\", \"labels\"]"
   ]
  },
  {
   "cell_type": "code",
   "execution_count": 39,
   "id": "091d3a94",
   "metadata": {},
   "outputs": [
    {
     "data": {
      "application/vnd.jupyter.widget-view+json": {
       "model_id": "cfe9916197fd4a298d202da2ef7bedd8",
       "version_major": 2,
       "version_minor": 0
      },
      "text/plain": [
       "  0%|          | 0/43246 [00:00<?, ?it/s]"
      ]
     },
     "metadata": {},
     "output_type": "display_data"
    },
    {
     "data": {
      "application/vnd.jupyter.widget-view+json": {
       "model_id": "403ca9d7b80c4e3a83ad28655a2b70bc",
       "version_major": 2,
       "version_minor": 0
      },
      "text/plain": [
       "Epoch:   0%|          | 0/1 [00:00<?, ?it/s]"
      ]
     },
     "metadata": {},
     "output_type": "display_data"
    },
    {
     "data": {
      "application/vnd.jupyter.widget-view+json": {
       "model_id": "91a570a90d044c6ca303066383be4404",
       "version_major": 2,
       "version_minor": 0
      },
      "text/plain": [
       "Running Epoch 0 of 1:   0%|          | 0/5406 [00:00<?, ?it/s]"
      ]
     },
     "metadata": {},
     "output_type": "display_data"
    },
    {
     "data": {
      "text/plain": [
       "(5406, 0.38439933955724315)"
      ]
     },
     "execution_count": 39,
     "metadata": {},
     "output_type": "execute_result"
    }
   ],
   "source": [
    "# Optional model configuration\n",
    "model_args = ClassificationArgs(num_train_epochs=1)\n",
    "\n",
    "# Create a ClassificationModel\n",
    "model = ClassificationModel(\n",
    "    'bert',\n",
    "    'bert-base-cased',\n",
    "    num_labels=15,\n",
    "    args=model_args,\n",
    "    use_cuda = False) \n",
    "\n",
    "# Train the model\n",
    "model.train_model(input_transf)\n"
   ]
  },
  {
   "cell_type": "code",
   "execution_count": null,
   "id": "4defb502",
   "metadata": {},
   "outputs": [],
   "source": [
    "# Predict on the test set and decode the integer labels to obtain string labels\n",
    "_, predictions = model.predict([text for text, _ in TestDataframe])\n",
    "predicted_labels = label_encoder.inverse_transform(predictions)"
   ]
  },
  {
   "cell_type": "code",
   "execution_count": null,
   "id": "b5a31a8d",
   "metadata": {},
   "outputs": [],
   "source": [
    "# Prepare the test data\n",
    "test_data = pd.DataFrame({\"text\": X_test})\n",
    "\n",
    "# Make predictions on the test data\n",
    "predictions, _ = model.predict(test_data[\"text\"])\n",
    "\n",
    "# Decode the integer predictions back to their original string labels\n",
    "decoded_predictions = label_encoder.inverse_transform(predictions)\n"
   ]
  },
  {
   "cell_type": "code",
   "execution_count": 42,
   "id": "51c74b81",
   "metadata": {},
   "outputs": [
    {
     "data": {
      "application/vnd.jupyter.widget-view+json": {
       "model_id": "d7bce7b090aa4a3f808e76602b67bf2b",
       "version_major": 2,
       "version_minor": 0
      },
      "text/plain": [
       "  0%|          | 0/10810 [00:00<?, ?it/s]"
      ]
     },
     "metadata": {},
     "output_type": "display_data"
    },
    {
     "data": {
      "application/vnd.jupyter.widget-view+json": {
       "model_id": "b1018a53a81e49c6bc8e33ec7bdf6c86",
       "version_major": 2,
       "version_minor": 0
      },
      "text/plain": [
       "Running Evaluation:   0%|          | 0/1352 [00:00<?, ?it/s]"
      ]
     },
     "metadata": {},
     "output_type": "display_data"
    }
   ],
   "source": [
    "result, model_outputs, wrong_predictions = model.eval_model(transf_test)"
   ]
  },
  {
   "cell_type": "code",
   "execution_count": 43,
   "id": "95080681",
   "metadata": {},
   "outputs": [
    {
     "ename": "NameError",
     "evalue": "name 'y_true' is not defined",
     "output_type": "error",
     "traceback": [
      "\u001b[0;31m---------------------------------------------------------------------------\u001b[0m",
      "\u001b[0;31mNameError\u001b[0m                                 Traceback (most recent call last)",
      "\u001b[0;32m<ipython-input-43-95ae5a2b28ad>\u001b[0m in \u001b[0;36m<module>\u001b[0;34m\u001b[0m\n\u001b[0;32m----> 1\u001b[0;31m \u001b[0mf1\u001b[0m \u001b[0;34m=\u001b[0m \u001b[0mf1_score\u001b[0m\u001b[0;34m(\u001b[0m\u001b[0my_true\u001b[0m\u001b[0;34m,\u001b[0m \u001b[0mmodel_outputs\u001b[0m\u001b[0;34m,\u001b[0m \u001b[0maverage\u001b[0m\u001b[0;34m=\u001b[0m\u001b[0;34m'macro'\u001b[0m\u001b[0;34m)\u001b[0m\u001b[0;34m\u001b[0m\u001b[0;34m\u001b[0m\u001b[0m\n\u001b[0m",
      "\u001b[0;31mNameError\u001b[0m: name 'y_true' is not defined"
     ]
    }
   ],
   "source": [
    "f1 = f1_score(y_test, model_outputs, average='macro')"
   ]
  },
  {
   "cell_type": "code",
   "execution_count": 46,
   "id": "3ef2462e",
   "metadata": {},
   "outputs": [
    {
     "data": {
      "text/plain": [
       "[{'guid': 25, 'text_a': 'businesswire dassault systèmes completes quintiq acquisition', 'text_b': None, 'label': 9},\n",
       " {'guid': 27, 'text_a': 'societe generale two major strategic initiative french retail', 'text_b': None, 'label': 9},\n",
       " {'guid': 36, 'text_a': 'numericable bid sfr', 'text_b': None, 'label': 7},\n",
       " {'guid': 79, 'text_a': 'aurelius agrees acquire wheel structure', 'text_b': None, 'label': 9},\n",
       " {'guid': 109, 'text_a': 'regroups digital asset appoints new talent', 'text_b': None, 'label': 4},\n",
       " {'guid': 120, 'text_a': 'group plc ctec appointment chief executive officer 25mar', 'text_b': None, 'label': 9},\n",
       " {'guid': 172, 'text_a': 'orange spain discount movie eur black friday', 'text_b': None, 'label': 6},\n",
       " {'guid': 177, 'text_a': 'first shop open qatar committed spread footprint', 'text_b': None, 'label': 5},\n",
       " {'guid': 198, 'text_a': 'group get usd350 million egyptian government', 'text_b': None, 'label': 3},\n",
       " {'guid': 208, 'text_a': 'stefan beck new cio wiebe der horst lead project implement new architecture', 'text_b': None, 'label': 0},\n",
       " {'guid': 216, 'text_a': 'tgsnopec company asa announces expansion 3d project argentina', 'text_b': None, 'label': 9},\n",
       " {'guid': 235, 'text_a': 'announces eur160m sale portfolio poland', 'text_b': None, 'label': 1},\n",
       " {'guid': 236, 'text_a': 'divests stake turritella project', 'text_b': None, 'label': 1},\n",
       " {'guid': 244, 'text_a': 'invest â180m energy africa', 'text_b': None, 'label': 14},\n",
       " {'guid': 264, 'text_a': 'idea complete world largest dynamic spectrum refarming deployment improve network coverage enhance connectivity', 'text_b': None, 'label': 10},\n",
       " {'guid': 265, 'text_a': 'plc strategic distribution acquisition america', 'text_b': None, 'label': 9},\n",
       " {'guid': 268, 'text_a': 'ready system help virginian find gainful employmentbae system inc provide opportunity virginian use talent return work', 'text_b': None, 'label': 13},\n",
       " {'guid': 271, 'text_a': 'loréal advance commitment promoting sun safety la rocheposay uv sense first batteryfree wearable electronic uv sensor', 'text_b': None, 'label': 8},\n",
       " {'guid': 272, 'text_a': 'orange completes sale ee stake', 'text_b': None, 'label': 1},\n",
       " {'guid': 274, 'text_a': 'expands custom design workshop hemel hempstead meet rising demand oil gas industry', 'text_b': None, 'label': 11},\n",
       " {'guid': 310, 'text_a': 'bm retail sa board appointment', 'text_b': None, 'label': 9},\n",
       " {'guid': 329, 'text_a': 'completes mln euro maintenance bulgarian plant', 'text_b': None, 'label': 11},\n",
       " {'guid': 347, 'text_a': 'spain gain control portuguese rival bpi takover', 'text_b': None, 'label': 7},\n",
       " {'guid': 349, 'text_a': 'mexico invest usd 30m renewables report', 'text_b': None, 'label': 14},\n",
       " {'guid': 392, 'text_a': 'russia launch new premium tariff', 'text_b': None, 'label': 6},\n",
       " {'guid': 408, 'text_a': 'nompatelize plant', 'text_b': None, 'label': 11},\n",
       " {'guid': 427, 'text_a': 'add drug class monograph enhancement lexicomp online drug reference', 'text_b': None, 'label': 10},\n",
       " {'guid': 451, 'text_a': 'wealth management specialist st james join expatlands singapore eteam', 'text_b': None, 'label': 9},\n",
       " {'guid': 461, 'text_a': 'reduce stake insurer', 'text_b': None, 'label': 3},\n",
       " {'guid': 469, 'text_a': 'street color deutsche bank considering permanent workfromhome policy', 'text_b': None, 'label': 4},\n",
       " {'guid': 477, 'text_a': 'plan inflation price hike fixed subscription', 'text_b': None, 'label': 6},\n",
       " {'guid': 486, 'text_a': 'expand fathom experience additional company cruise', 'text_b': None, 'label': 10},\n",
       " {'guid': 515, 'text_a': 'sell fireman insurance business ace completing future positioning pc business u', 'text_b': None, 'label': 1},\n",
       " {'guid': 534, 'text_a': 'oil plc sale block aceh onshore indonesia', 'text_b': None, 'label': 1},\n",
       " {'guid': 545, 'text_a': 'macrocure hire credit managing director new cfo', 'text_b': None, 'label': 9},\n",
       " {'guid': 571, 'text_a': 'kluwers corsearch launch corsearch focustmrevolutionary solution empowers trademark practitioner interactive experience quickly identify resolve trademark conflict', 'text_b': None, 'label': 8},\n",
       " {'guid': 577, 'text_a': 'alibaba lab audi honda intelligent incar experience', 'text_b': None, 'label': 13},\n",
       " {'guid': 579, 'text_a': 'wow deploy industry first virtualized distributed access architecture', 'text_b': None, 'label': 8},\n",
       " {'guid': 588, 'text_a': 'acquire animal business', 'text_b': None, 'label': 9},\n",
       " {'guid': 591, 'text_a': 'acquires stake uap holding', 'text_b': None, 'label': 9},\n",
       " {'guid': 652, 'text_a': 'group plc eur13325 million acquisition', 'text_b': None, 'label': 9},\n",
       " {'guid': 658, 'text_a': 'entry service arriel 2e first ec145 t2 drf luftrettung', 'text_b': None, 'label': 8},\n",
       " {'guid': 659, 'text_a': 'boston acquires plc', 'text_b': None, 'label': 9},\n",
       " {'guid': 661, 'text_a': 'begin u phase iii trial evaluating hydroxychloroquine covid19 hospitalised patient', 'text_b': None, 'label': 12},\n",
       " {'guid': 667, 'text_a': 'deal nordic unit could save jobsdeal nordic unit could save job', 'text_b': None, 'label': 9},\n",
       " {'guid': 680, 'text_a': 'launch eur 21bn bid norwegian algeta', 'text_b': None, 'label': 7},\n",
       " {'guid': 723, 'text_a': 'group truck ag lead development sustainable transportation forming joint venture largescale production fuel cell', 'text_b': None, 'label': 14},\n",
       " {'guid': 726, 'text_a': 'deal snapshot acquire staffordshire logistics facility let', 'text_b': None, 'label': 9},\n",
       " {'guid': 730, 'text_a': 'evogene establish validation capability soybean cyst nematodesvalidation activity initially soybean cyst nematode resistance amended collaboration', 'text_b': None, 'label': 9},\n",
       " {'guid': 743, 'text_a': 'acquires anadarkos shareholding mozambique lng', 'text_b': None, 'label': 14},\n",
       " {'guid': 753, 'text_a': 'jc flower completes bank romania acquisition', 'text_b': None, 'label': 9},\n",
       " {'guid': 764, 'text_a': 'credit sa indosuez wealth management completes acquisition banca', 'text_b': None, 'label': 9},\n",
       " {'guid': 766, 'text_a': 'receives license test selfdriving vehicle beijing', 'text_b': None, 'label': 12},\n",
       " {'guid': 770, 'text_a': 'plc acquires neogames', 'text_b': None, 'label': 14},\n",
       " {'guid': 797, 'text_a': 'announces three key ecostruxture product ensuring reliability efficiency world class monitoring', 'text_b': None, 'label': 8},\n",
       " {'guid': 808, 'text_a': 'group plc completion acquisition ee limited', 'text_b': None, 'label': 13},\n",
       " {'guid': 810, 'text_a': 'orange poland polkomtel launch interoperator hd voice', 'text_b': None, 'label': 10},\n",
       " {'guid': 816, 'text_a': 'hire associate foreign desk', 'text_b': None, 'label': 4},\n",
       " {'guid': 817, 'text_a': 'q1 revenue edge form jv trimack plastic', 'text_b': None, 'label': 14},\n",
       " {'guid': 826, 'text_a': 'deutsche bank launch asia pacific innovation lab singapore', 'text_b': None, 'label': 2},\n",
       " {'guid': 847, 'text_a': 'british liberty steel offer buy steel business', 'text_b': None, 'label': 9},\n",
       " {'guid': 849, 'text_a': 'astrazenecas peripheral artery disease trial fails meet primary endpoint', 'text_b': None, 'label': 12},\n",
       " {'guid': 858, 'text_a': 'russia invest rub bln irkutsk', 'text_b': None, 'label': 2},\n",
       " {'guid': 870, 'text_a': 'photo release fall fashion classic ethan allentmethan allen unveil new look design website autumn', 'text_b': None, 'label': 9},\n",
       " {'guid': 918, 'text_a': 'celanese completes acquisition synthesis gas production unit ag', 'text_b': None, 'label': 9},\n",
       " {'guid': 920, 'text_a': 'acquires share thermx undisclosed amount', 'text_b': None, 'label': 14},\n",
       " {'guid': 955, 'text_a': 'commences tender offer relypsa', 'text_b': None, 'label': 14},\n",
       " {'guid': 989, 'text_a': 'raise stake cassiopae', 'text_b': None, 'label': 7},\n",
       " {'guid': 1010, 'text_a': 'present leather fashion trend springsummer season', 'text_b': None, 'label': 6},\n",
       " {'guid': 1014, 'text_a': 'house return music festivaldj performance viewing platform festivalfamous social challenge new enhance experience', 'text_b': None, 'label': 6},\n",
       " {'guid': 1022, 'text_a': 'enables recyclable paper packaging innovative coating solution', 'text_b': None, 'label': 8},\n",
       " {'guid': 1026, 'text_a': 'palo alto network give cloud tougher liningbt customer benefit innovative platformbased breach prevention approach cloud security', 'text_b': None, 'label': 10},\n",
       " {'guid': 1038, 'text_a': 'expands program insulin supply', 'text_b': None, 'label': 2},\n",
       " {'guid': 1048, 'text_a': 'truck north america deploys first pilot vnr truck southern california', 'text_b': None, 'label': 8},\n",
       " {'guid': 1051, 'text_a': 'secures two travelodge site inn', 'text_b': None, 'label': 2},\n",
       " {'guid': 1103, 'text_a': 'launch two new flight wroclawboth route serviced three week starting end october added', 'text_b': None, 'label': 10},\n",
       " {'guid': 1108, 'text_a': 'gnw completes acquisition eoriginal', 'text_b': None, 'label': 9},\n",
       " {'guid': 1141, 'text_a': 'sweden inaugurates new customer service office', 'text_b': None, 'label': 9},\n",
       " {'guid': 1154, 'text_a': 'ogone provides mobile payment solution thalys app', 'text_b': None, 'label': 9},\n",
       " {'guid': 1184, 'text_a': 'name markus enzelberger interim cso sproll take temporary leave', 'text_b': None, 'label': 9},\n",
       " {'guid': 1187, 'text_a': 'takeover monsanto would create global giant', 'text_b': None, 'label': 9},\n",
       " {'guid': 1191, 'text_a': 'wpps brand union buy brazilian epigram', 'text_b': None, 'label': 14},\n",
       " {'guid': 1207, 'text_a': 'start testing fon wifi service april', 'text_b': None, 'label': 12},\n",
       " {'guid': 1209, 'text_a': 'holding uk pilot strike another week', 'text_b': None, 'label': 4},\n",
       " {'guid': 1219, 'text_a': 'ifa congratulates new chair vice chair', 'text_b': None, 'label': 9},\n",
       " {'guid': 1256, 'text_a': 'broadens acclaimed cheetah labor employment law portfolio new content workflow tool', 'text_b': None, 'label': 10},\n",
       " {'guid': 1278, 'text_a': 'french office provider snap uk central laundry', 'text_b': None, 'label': 7},\n",
       " {'guid': 1282, 'text_a': 'xl add first party cyber insurance option platinum coverage', 'text_b': None, 'label': 10},\n",
       " {'guid': 1347, 'text_a': 'royal report buyback share price gbp234816 per share', 'text_b': None, 'label': 3},\n",
       " {'guid': 1360, 'text_a': 'valspar complete waterborne conversion southern china facility', 'text_b': None, 'label': 11},\n",
       " {'guid': 1364, 'text_a': 'support singtels roll first virtual visa card singapore', 'text_b': None, 'label': 8},\n",
       " {'guid': 1366, 'text_a': 'nopsec accelerates enterprise growth appoints three industry veteran board advisorsnopsec inc leader vulnerability prioritization remediation workflow automation breach prediction announces appointment three new board advisor julian wait gm cyber security business unit devo ian kwok vp insight venture dr betty moon senior principal strategic industry advisor join nopsecs advisory board', 'text_b': None, 'label': 9},\n",
       " {'guid': 1373, 'text_a': 'cruise pop openfun bringing island warmth chilly new york city scentsational way', 'text_b': None, 'label': 9},\n",
       " {'guid': 1400, 'text_a': 'siemens build nacelle assemble factory taiwan', 'text_b': None, 'label': 9},\n",
       " {'guid': 1433, 'text_a': 'orange romania launch 4g megahunt app promote 4g network', 'text_b': None, 'label': 6},\n",
       " {'guid': 1462, 'text_a': 'top news raise dividend plan gbp500 million buyback', 'text_b': None, 'label': 3},\n",
       " {'guid': 1463, 'text_a': 'major cabin crew recruitment campaign europeâeurotms favourite airline', 'text_b': None, 'label': 4},\n",
       " {'guid': 1483, 'text_a': 'open stateoftheart facility clayton nc help advance treatment rare lifethreatening disease', 'text_b': None, 'label': 12},\n",
       " {'guid': 1494, 'text_a': 'siemens present efficient radiology solution', 'text_b': None, 'label': 10},\n",
       " {'guid': 1505, 'text_a': 'deal snapshot spanish utlity talk buy enel', 'text_b': None, 'label': 9},\n",
       " {'guid': 1523, 'text_a': 'investment plan europe eur 50m cezs inven capital support growth innovative smart energy cleantech company', 'text_b': None, 'label': 3},\n",
       " {'guid': 1530, 'text_a': 'launch new usasia corridor team', 'text_b': None, 'label': 9},\n",
       " {'guid': 1552, 'text_a': 'deutsche telekom mull selling operation romania report', 'text_b': None, 'label': 1},\n",
       " {'guid': 1564, 'text_a': 'royal bank cut job branchesroyal bank cut job branch', 'text_b': None, 'label': 9},\n",
       " {'guid': 1568, 'text_a': 'industry appoints new head communication', 'text_b': None, 'label': 9},\n",
       " {'guid': 1570, 'text_a': 'cruise igt commemorate year wheel fortune® slot yearlong celebrationfestivities include awarding free cruise shipboard slot tournament celebratory week show wheel fortune', 'text_b': None, 'label': 6},\n",
       " {'guid': 1578, 'text_a': 'build second stage advanced research facility lund sweden sek billion', 'text_b': None, 'label': 9},\n",
       " {'guid': 1584, 'text_a': 'holcim finalize agreement announced divestments', 'text_b': None, 'label': 9},\n",
       " {'guid': 1587, 'text_a': 'plan merger', 'text_b': None, 'label': 9},\n",
       " {'guid': 1595, 'text_a': 'boeing design build service auxiliary unit', 'text_b': None, 'label': 13},\n",
       " {'guid': 1597, 'text_a': 'group car decided transfer ownership ocean race', 'text_b': None, 'label': 1},\n",
       " {'guid': 1626, 'text_a': 'eqsnews group aktiengesellschaft launch new group structure', 'text_b': None, 'label': 9},\n",
       " {'guid': 1637, 'text_a': 'agrees buy u fda priority review voucher sobi', 'text_b': None, 'label': 14},\n",
       " {'guid': 1647, 'text_a': 'announces sap® s4hana cloud editionsap help customer drive digital business transformation cloud', 'text_b': None, 'label': 10},\n",
       " {'guid': 1676, 'text_a': 'group extends openet charging platform rollout ee mobile', 'text_b': None, 'label': 2},\n",
       " {'guid': 1721, 'text_a': 'sell fuel marketing activity italy focus lubricant business', 'text_b': None, 'label': 1},\n",
       " {'guid': 1722, 'text_a': 'deutsche bank plan build new hq london', 'text_b': None, 'label': 2},\n",
       " {'guid': 1730, 'text_a': 'deploys fleet robot virginia college', 'text_b': None, 'label': 4},\n",
       " {'guid': 1741, 'text_a': 'france orange acquire remaining share cloudwatt', 'text_b': None, 'label': 7},\n",
       " {'guid': 1769, 'text_a': 'kinder morgan buy three u terminal usd 158m', 'text_b': None, 'label': 9},\n",
       " {'guid': 1780, 'text_a': 'norwich launch additional seat winter 2020introducing 11night holiday tenerife norwich winter extra seat go sale norwich month', 'text_b': None, 'label': 2},\n",
       " {'guid': 1786, 'text_a': 'tomtom deliver innovative global positioning tool', 'text_b': None, 'label': 8},\n",
       " {'guid': 1796, 'text_a': 'defence space present mobile general ground station warsaw nato summit', 'text_b': None, 'label': 8},\n",
       " {'guid': 1799, 'text_a': 'plc wunderman acquires majority stake pmweb brazil', 'text_b': None, 'label': 14},\n",
       " {'guid': 1815, 'text_a': 'telo genomics announces former executive lead director', 'text_b': None, 'label': 9},\n",
       " {'guid': 1827, 'text_a': 'ibm accelerate cloud transformation', 'text_b': None, 'label': 13},\n",
       " {'guid': 1866, 'text_a': 'football star act campaign film', 'text_b': None, 'label': 6},\n",
       " {'guid': 1880, 'text_a': 'telecom join ec startup project corporate member', 'text_b': None, 'label': 13},\n",
       " {'guid': 1882, 'text_a': 'acquia expands operation europenew data center munich office support growing demand acquias open cloud platform', 'text_b': None, 'label': 2},\n",
       " {'guid': 1888, 'text_a': 'kryvyi rih open new steel product warehouse central ukraine', 'text_b': None, 'label': 11},\n",
       " {'guid': 1920, 'text_a': 'insurance group increase distribution opportunity bulgaria bulstrad acquires ubbaig', 'text_b': None, 'label': 2},\n",
       " {'guid': 1925, 'text_a': 'name steve allen company secretary', 'text_b': None, 'label': 9},\n",
       " {'guid': 1943, 'text_a': 'open new training center dubai', 'text_b': None, 'label': 4},\n",
       " {'guid': 1975, 'text_a': 'solution sign two framework contract bp', 'text_b': None, 'label': 13},\n",
       " {'guid': 1986, 'text_a': 'announces new summer route birmingham newcastle', 'text_b': None, 'label': 10},\n",
       " {'guid': 2005, 'text_a': 'reportedly plan eur bln capital increase', 'text_b': None, 'label': 9},\n",
       " {'guid': 2018, 'text_a': 'open route starting july', 'text_b': None, 'label': 10},\n",
       " {'guid': 2024, 'text_a': 'merlin sell ski resort australia us vail', 'text_b': None, 'label': 9},\n",
       " {'guid': 2025, 'text_a': 'deutsche telekom vodafonetelefonica tie skip outage', 'text_b': None, 'label': 13},\n",
       " {'guid': 2029, 'text_a': 'put hold covid vaccine trial participant illness', 'text_b': None, 'label': 12},\n",
       " {'guid': 2033, 'text_a': 'protect 5g generation network cyberattacks intel guard extension', 'text_b': None, 'label': 10},\n",
       " {'guid': 2035, 'text_a': 'completes sale pelco u transom capital group', 'text_b': None, 'label': 1},\n",
       " {'guid': 2046, 'text_a': 'improves performance metal hybrid technology', 'text_b': None, 'label': 10},\n",
       " {'guid': 2050, 'text_a': 'ramp sustainable mobility strategy sign loan ico installation public charging point spain', 'text_b': None, 'label': 3},\n",
       " {'guid': 2067, 'text_a': 'astrazenecas blood thinner reduces risk stroke trial', 'text_b': None, 'label': 12},\n",
       " {'guid': 2071, 'text_a': 'system announces expansion austin texas new campus development', 'text_b': None, 'label': 2},\n",
       " {'guid': 2091, 'text_a': 'successful placement eurobonds', 'text_b': None, 'label': 3},\n",
       " {'guid': 2099, 'text_a': 'businesswire canal group ea organize fifa ultimate', 'text_b': None, 'label': 6},\n",
       " {'guid': 2104, 'text_a': 'ziylo acquisition highlight nordisks continued diabetes portfolio reliance', 'text_b': None, 'label': 9},\n",
       " {'guid': 2108, 'text_a': 'export russian europe', 'text_b': None, 'label': 2},\n",
       " {'guid': 2117, 'text_a': 'engieled consortium win competitive bidding process brazil acquisition', 'text_b': None, 'label': 7},\n",
       " {'guid': 2129, 'text_a': 'plc disposal stromag business', 'text_b': None, 'label': 1},\n",
       " {'guid': 2139, 'text_a': 'mobile deploy single radio access network advanced network expand lte', 'text_b': None, 'label': 10},\n",
       " {'guid': 2145, 'text_a': 'joint real estate investment company amf pensionsforsakring ilmarinen established', 'text_b': None, 'label': 14},\n",
       " {'guid': 2160, 'text_a': 'russia invest rub mln kaliningrad', 'text_b': None, 'label': 2},\n",
       " {'guid': 2164, 'text_a': 'aberdeen appointed seagreen farm substation', 'text_b': None, 'label': 9},\n",
       " {'guid': 2169, 'text_a': 'open tech center yokohama accelerate development japanese carmaker', 'text_b': None, 'label': 12},\n",
       " {'guid': 2179, 'text_a': 'india intro carry forward mobile data service', 'text_b': None, 'label': 8},\n",
       " {'guid': 2188, 'text_a': 'buy stake russian aig', 'text_b': None, 'label': 14},\n",
       " {'guid': 2215, 'text_a': 'becomes founding member balancing alliance help business measure overall societal impact dependency', 'text_b': None, 'label': 13},\n",
       " {'guid': 2219, 'text_a': 'acbacredit bank new capacity new website', 'text_b': None, 'label': 10},\n",
       " {'guid': 2237, 'text_a': 'heinekens acquisition apb approved competition commission singapore', 'text_b': None, 'label': 7},\n",
       " {'guid': 2271, 'text_a': 'general brings first affordable market', 'text_b': None, 'label': 8},\n",
       " {'guid': 2317, 'text_a': 'eon present 15th festival light berlin', 'text_b': None, 'label': 6},\n",
       " {'guid': 2328, 'text_a': 'german hospital operator rhoenklinikum plan acquisition', 'text_b': None, 'label': 9},\n",
       " {'guid': 2341, 'text_a': 'mylan completes acquisition', 'text_b': None, 'label': 9},\n",
       " {'guid': 2345, 'text_a': 'banco de', 'text_b': None, 'label': 13},\n",
       " {'guid': 2362, 'text_a': 'take full ownership vietnam joint venture', 'text_b': None, 'label': 14},\n",
       " {'guid': 2402, 'text_a': 'issue new share reserved group employee france context saving plan', 'text_b': None, 'label': 9},\n",
       " {'guid': 2404, 'text_a': 'rollsroyce welcome emirate agreement', 'text_b': None, 'label': 13},\n",
       " {'guid': 2412, 'text_a': 'buy fcc outdoor advertising unit cemusa', 'text_b': None, 'label': 14},\n",
       " {'guid': 2442, 'text_a': 'start something new kingfishernew campaign support first unified unique outdoor range', 'text_b': None, 'label': 6},\n",
       " {'guid': 2445, 'text_a': 'network showcase asia first tddfdd carrier aggregation commercial chipset', 'text_b': None, 'label': 8},\n",
       " {'guid': 2449, 'text_a': 'community apexone investment acquire three apartment community south alabamapark summer trace windscape feature combined unit mobilegulf shore market', 'text_b': None, 'label': 2},\n",
       " {'guid': 2459, 'text_a': 'announces vecima network acquire docsis distributed access architecture epondpoe portfolio', 'text_b': None, 'label': 1},\n",
       " {'guid': 2474, 'text_a': 'eqsnews ag executive board contract cfo olaf klinger extended', 'text_b': None, 'label': 0},\n",
       " {'guid': 2489, 'text_a': 'sign agreement taiko pharmaceutical facilitate expansion', 'text_b': None, 'label': 9},\n",
       " {'guid': 2507, 'text_a': 'intro app alipay acceptance mobile device', 'text_b': None, 'label': 8},\n",
       " {'guid': 2511, 'text_a': 'china mobile ink 1bn frame agreement', 'text_b': None, 'label': 13},\n",
       " {'guid': 2576, 'text_a': 'dgapnews announce initiation gecko phase study mor106 atopic dermatitis patient english', 'text_b': None, 'label': 12},\n",
       " {'guid': 2616, 'text_a': 'jec world present new generation composite serving automotive industry', 'text_b': None, 'label': 10},\n",
       " {'guid': 2662, 'text_a': 'india name new head marketing pr passenger car', 'text_b': None, 'label': 9},\n",
       " {'guid': 2690, 'text_a': 'uk oil giant bp plan shed job north sea year regional president', 'text_b': None, 'label': 4},\n",
       " {'guid': 2703, 'text_a': 'deutsche bank russia chief leave moscow', 'text_b': None, 'label': 0},\n",
       " {'guid': 2711, 'text_a': 'greener acre canada sign agreement upgrade utility pole infrastructure', 'text_b': None, 'label': 10},\n",
       " {'guid': 2720, 'text_a': 'announces new phase iii combination study daratumumab frontline multiple myeloma', 'text_b': None, 'label': 9},\n",
       " {'guid': 2755, 'text_a': 'lone star buy basfs construction chemical eur 317bn', 'text_b': None, 'label': 9},\n",
       " {'guid': 2769, 'text_a': 'subsidiary buy majority stake pmweb comunicacao undisclosed sum', 'text_b': None, 'label': 14},\n",
       " {'guid': 2776, 'text_a': 'bank reduction share capital cancellation share', 'text_b': None, 'label': 3},\n",
       " {'guid': 2813, 'text_a': 'deal snapshot acquire american platinum stake jv', 'text_b': None, 'label': 14},\n",
       " {'guid': 2816, 'text_a': 'plc minmetals formalise joint venture updated june', 'text_b': None, 'label': 14},\n",
       " {'guid': 2839, 'text_a': 'eon expands customer solution business netherlands', 'text_b': None, 'label': 2},\n",
       " {'guid': 2862, 'text_a': 'give west london store makeover', 'text_b': None, 'label': 10},\n",
       " {'guid': 2868, 'text_a': 'aerospace receives order increase production f35 bulkhead', 'text_b': None, 'label': 9},\n",
       " {'guid': 2882, 'text_a': 'receives mhlw approval type diabetes drug', 'text_b': None, 'label': 12},\n",
       " {'guid': 2899, 'text_a': 'deutsche telekom launch open telekom cloud partner', 'text_b': None, 'label': 8},\n",
       " {'guid': 2918, 'text_a': 'dgapadhoc fresenius ag co kgaa fresenius resolve share repurchase program aggregate volume one billion euro english', 'text_b': None, 'label': 3},\n",
       " {'guid': 2922, 'text_a': 'pci biotech expansion preclinical research collaboration agreement', 'text_b': None, 'label': 9},\n",
       " {'guid': 2927, 'text_a': 'insurance group consolidates market leadership baltic state', 'text_b': None, 'label': 2},\n",
       " {'guid': 2945, 'text_a': 'dos first patient autosomal dominant polycystic kidney study', 'text_b': None, 'label': 12},\n",
       " {'guid': 2952, 'text_a': 'may sell surgical product unit u baxter report', 'text_b': None, 'label': 1},\n",
       " {'guid': 2961, 'text_a': 'innovation help global fight aid tuberculosis malaria africaextending longstanding partnership founding member global fund new coalition uniting private sector support disease prevention treatment effort', 'text_b': None, 'label': 9},\n",
       " {'guid': 2975, 'text_a': 'eon energy becomes principal sponsor om dallas award', 'text_b': None, 'label': 6},\n",
       " {'guid': 2980, 'text_a': 'study duaklir tezepelumab meet primary endpoint adrs gain prebell', 'text_b': None, 'label': 12},\n",
       " {'guid': 2987, 'text_a': 'offer voluntary retirement chennai plant worker', 'text_b': None, 'label': 4},\n",
       " {'guid': 3000, 'text_a': 'appoints spacex future satellite launch', 'text_b': None, 'label': 9},\n",
       " {'guid': 3004, 'text_a': 'market chatter deutsche bank launch internal probe trade made current former employee', 'text_b': None, 'label': 4},\n",
       " {'guid': 3010, 'text_a': 'accelerate cloud digital transformation initiative', 'text_b': None, 'label': 10},\n",
       " {'guid': 3021, 'text_a': 'plc intercompany funding exercise issuer call option usd813200000 floating rate note due november', 'text_b': None, 'label': 3},\n",
       " {'guid': 3023, 'text_a': 'usa name tubemogul exclusive video advertising partnerthe premium beer importer centralizes video advertising do equis tubemoguls', 'text_b': None, 'label': 13},\n",
       " {'guid': 3029, 'text_a': 'deliver setanta hd channel astra degree east', 'text_b': None, 'label': 10},\n",
       " {'guid': 3036, 'text_a': 'tata motor volkswagens skoda end talk partnership', 'text_b': None, 'label': 9},\n",
       " {'guid': 3055, 'text_a': 'market chatter anadarko statoil seek algeria drilling', 'text_b': None, 'label': 11},\n",
       " {'guid': 3076, 'text_a': 'strike eur 285m deal buy l3 marine system', 'text_b': None, 'label': 7},\n",
       " {'guid': 3084, 'text_a': 'deal snapshot sell skandia switzerland', 'text_b': None, 'label': 1},\n",
       " {'guid': 3117, 'text_a': 'opentext release new cloud hybrid offering solution', 'text_b': None, 'label': 9},\n",
       " {'guid': 3129, 'text_a': 'orange spain launch new customer loyalty programme', 'text_b': None, 'label': 6},\n",
       " {'guid': 3132, 'text_a': 'businesswire increase specialty polyamide global capacity', 'text_b': None, 'label': 9},\n",
       " {'guid': 3189, 'text_a': 'merger acquisition global ivd market leading player abbott danaher', 'text_b': None, 'label': 9},\n",
       " {'guid': 3192, 'text_a': 'name member nomination committee ahead agm', 'text_b': None, 'label': 9},\n",
       " {'guid': 3209, 'text_a': 'imaginab announces collaboration cd8 imaging agent', 'text_b': None, 'label': 9},\n",
       " {'guid': 3215, 'text_a': 'cascade lock try new tack water bottling plant', 'text_b': None, 'label': 11},\n",
       " {'guid': 3231, 'text_a': 'plc appointment board committee', 'text_b': None, 'label': 9},\n",
       " {'guid': 3237, 'text_a': 'business solution roll north america', 'text_b': None, 'label': 5},\n",
       " {'guid': 3248, 'text_a': 'appoints dennis bon global head depositary fiduciary', 'text_b': None, 'label': 9},\n",
       " {'guid': 3249, 'text_a': 'penta fountainepajot reveal sailing catamaran cannesoffering enhanced boating experience penta fountainepajot showcasing concept sailing catamaran cannes yachting festival', 'text_b': None, 'label': 8},\n",
       " {'guid': 3262, 'text_a': 'energy quest carbonzero bp buy u', 'text_b': None, 'label': 14},\n",
       " {'guid': 3285, 'text_a': 'announces new segment reporting', 'text_b': None, 'label': 10},\n",
       " {'guid': 3322, 'text_a': 'isabelle giordano succeed jean jacques goron head group philanthropy general delegate foundation', 'text_b': None, 'label': 9},\n",
       " {'guid': 3347, 'text_a': 'announces copromotion agreement saol therapeutic promote dysport® abobotulinumtoxina united state', 'text_b': None, 'label': 13},\n",
       " {'guid': 3357, 'text_a': 'capital increase investment', 'text_b': None, 'label': 9},\n",
       " {'guid': 3370, 'text_a': 'kanye west sticking together', 'text_b': None, 'label': 13},\n",
       " {'guid': 3402, 'text_a': 'open regional innovation center mumbai india', 'text_b': None, 'label': 5},\n",
       " {'guid': 3410, 'text_a': 'heineken® accepting submission 15secondpremierepitch movie character chance premiere private event tribeca film festival', 'text_b': None, 'label': 6},\n",
       " {'guid': 3415, 'text_a': 'dgapnews ag announces successful completion disposal million share accelerated bookbuilding english', 'text_b': None, 'label': 3},\n",
       " {'guid': 3416, 'text_a': 'leniency agreement signed brazilian authority petrobras', 'text_b': None, 'label': 13},\n",
       " {'guid': 3427, 'text_a': 'st aerospace offer a320a321 freighter conversion program', 'text_b': None, 'label': 8},\n",
       " {'guid': 3433, 'text_a': 'exercise option boeing plane', 'text_b': None, 'label': 2},\n",
       " {'guid': 3459, 'text_a': 'germany appoints head', 'text_b': None, 'label': 9},\n",
       " {'guid': 3463, 'text_a': 'partner plc', 'text_b': None, 'label': 9},\n",
       " {'guid': 3480, 'text_a': 'get eur 739m sale share eqh', 'text_b': None, 'label': 3},\n",
       " {'guid': 3506, 'text_a': 'change alstoms executive committee', 'text_b': None, 'label': 9},\n",
       " {'guid': 3508, 'text_a': 'completes acquisition india essar steel', 'text_b': None, 'label': 9},\n",
       " {'guid': 3519, 'text_a': 'agrees take full ownership chinese life insurance jv', 'text_b': None, 'label': 14},\n",
       " {'guid': 3530, 'text_a': 'xstrata refinance loan us15bn credit facility', 'text_b': None, 'label': 3},\n",
       " {'guid': 3532, 'text_a': 'close acquisition clariants battery material business', 'text_b': None, 'label': 9},\n",
       " {'guid': 3566, 'text_a': 'relocate researcher bergamo germany', 'text_b': None, 'label': 4},\n",
       " {'guid': 3574, 'text_a': 'plc appointment director following', 'text_b': None, 'label': 9},\n",
       " {'guid': 3579, 'text_a': 'swiss ping offer china first mobileenabled typhoon parametric insurance solution', 'text_b': None, 'label': 13},\n",
       " {'guid': 3580, 'text_a': 'siemens say want discus strategic alternative', 'text_b': None, 'label': 13},\n",
       " {'guid': 3581, 'text_a': 'plc plc announces usd bond redemption', 'text_b': None, 'label': 3},\n",
       " {'guid': 3583, 'text_a': 'start taking advance order russia', 'text_b': None, 'label': 5},\n",
       " {'guid': 3602, 'text_a': 'association nursing professional development announce new webinar seriestopics advancing expertise professional oversee clinician professional development', 'text_b': None, 'label': 8},\n",
       " {'guid': 3606, 'text_a': 'deutsche bank set corporate advisory small mediumsized company', 'text_b': None, 'label': 8},\n",
       " {'guid': 3614, 'text_a': 'idea prepaid user receive r refund wrongful international roaming charge', 'text_b': None, 'label': 6},\n",
       " {'guid': 3616, 'text_a': 'employee celebrated queensland award woman', 'text_b': None, 'label': 4},\n",
       " {'guid': 3634, 'text_a': 'talk sale portuguese business eur 1975m', 'text_b': None, 'label': 1},\n",
       " {'guid': 3682, 'text_a': 'introduces mp connect roadmap connected infrastructure nonintrusive series help user identify critical asset recommend digital modification provide budgetary estimate', 'text_b': None, 'label': 8},\n",
       " {'guid': 3705, 'text_a': 'hqnew name uk tax base unveiled', 'text_b': None, 'label': 9},\n",
       " {'guid': 3709, 'text_a': 'govt clear vodafoneidea merger create india largest telco', 'text_b': None, 'label': 9},\n",
       " {'guid': 3716, 'text_a': 'foundation fund five new project advance climate research', 'text_b': None, 'label': 12},\n",
       " {'guid': 3728, 'text_a': 'light hydrogen energiepark mainzfestive kickoff energy storage project collaboration stadtwerke mainz siemens rheinmain university applied science', 'text_b': None, 'label': 13},\n",
       " {'guid': 3731, 'text_a': 'launch procedure branch deal floor clause refund', 'text_b': None, 'label': 8},\n",
       " {'guid': 3760, 'text_a': 'proreta tu darmstadt develop machine learning advanced driver assistance systemthree use case one vehicle assistance system help driver making left turn entering roundabout rightbeforeleft intersectionsthe system adapts driver style driving ass driver behavior level attention give appropriate recommendation', 'text_b': None, 'label': 8},\n",
       " {'guid': 3773, 'text_a': 'launch retail', 'text_b': None, 'label': 2},\n",
       " {'guid': 3808, 'text_a': 'launch offer construction provider rib', 'text_b': None, 'label': 7},\n",
       " {'guid': 3812, 'text_a': 'sign corporate agreement robi', 'text_b': None, 'label': 13},\n",
       " {'guid': 3815, 'text_a': 'accelerates growth strategy acquisition grupo mabe', 'text_b': None, 'label': 7},\n",
       " {'guid': 3830, 'text_a': 'exercise option registration new share', 'text_b': None, 'label': 3},\n",
       " {'guid': 3849, 'text_a': 'india completes sale construction chemical business', 'text_b': None, 'label': 1},\n",
       " {'guid': 3859, 'text_a': 'holding plc peter bellew join coo 8057t', 'text_b': None, 'label': 0},\n",
       " {'guid': 3885, 'text_a': 'expands dualmode bluecore platform turnkey soc bluetooth module embedded iot system', 'text_b': None, 'label': 10},\n",
       " {'guid': 3887, 'text_a': 'deutsche bank undertakes preparatory work potential capital increase strategic measure', 'text_b': None, 'label': 3},\n",
       " {'guid': 3895, 'text_a': 'highlight domino enterprise limited dpe entered binding agreement twothirds equity interest newly formed joint venture partnering uklisted domino group plc dpg existing holder domino master franchise agreement germany acquire joeys pizzachain store germany', 'text_b': None, 'label': 14},\n",
       " {'guid': 3916, 'text_a': 'top news confirms agreed offer worth gbp39 billion allis', 'text_b': None, 'label': 7},\n",
       " {'guid': 3919, 'text_a': 'alcatellucent deploy gbps telefonica network', 'text_b': None, 'label': 8},\n",
       " {'guid': 3956, 'text_a': 'brings endless fun music kk jazz festival', 'text_b': None, 'label': 6},\n",
       " {'guid': 3998, 'text_a': 'temelins unit restored production electricity', 'text_b': None, 'label': 9},\n",
       " {'guid': 4002, 'text_a': 'insurance double commitment bond', 'text_b': None, 'label': 3},\n",
       " {'guid': 4005, 'text_a': 'buy stake nigerian insurer', 'text_b': None, 'label': 14},\n",
       " {'guid': 4012, 'text_a': 'world premiere delivers first series bus strasbourg', 'text_b': None, 'label': 8},\n",
       " {'guid': 4018, 'text_a': 'reach milestone duobody platform collaboration janssen', 'text_b': None, 'label': 9},\n",
       " {'guid': 4021, 'text_a': 'integrated expert solution help clausen associate cpa pc optimize tax compliance practice build tighter client advisory relationship', 'text_b': None, 'label': 10},\n",
       " {'guid': 4029, 'text_a': 'eon launch black friday deal offering gbp1000 solar panel gbp150 boiler', 'text_b': None, 'label': 6},\n",
       " {'guid': 4040, 'text_a': 'vision33 completes acquisition gold partner b1 system', 'text_b': None, 'label': 1},\n",
       " {'guid': 4060, 'text_a': 'ukraine launch unlimited data plan', 'text_b': None, 'label': 6},\n",
       " {'guid': 4079, 'text_a': 'announces longterm polymer supply agreement extension ithaca energy helsinki exchangekemira', 'text_b': None, 'label': 2},\n",
       " {'guid': 4114, 'text_a': 'group confirms billion reassure takeover deal give swiss group', 'text_b': None, 'label': 7},\n",
       " {'guid': 4126, 'text_a': 'dgapnews agreement ag dr olemotz english', 'text_b': None, 'label': 13},\n",
       " {'guid': 4155, 'text_a': 'consolidate mining equipment operation sweden', 'text_b': None, 'label': 11},\n",
       " {'guid': 4158, 'text_a': 'fund trust hit bp latest blow uk dividend', 'text_b': None, 'label': 3},\n",
       " {'guid': 4169, 'text_a': 'sign frame agreement worth eur billion three chinese operator', 'text_b': None, 'label': 2},\n",
       " {'guid': 4199, 'text_a': 'sinopec bp form marine fuel jv singapore', 'text_b': None, 'label': 14},\n",
       " {'guid': 4209, 'text_a': 'v5 system debut turnkey iot security solution isc west collaboration arrow panasonic pelco', 'text_b': None, 'label': 9},\n",
       " {'guid': 4216, 'text_a': 'completes flatiron acquisition', 'text_b': None, 'label': 9},\n",
       " {'guid': 4231, 'text_a': 'installed million smart meter customer', 'text_b': None, 'label': 9},\n",
       " {'guid': 4238, 'text_a': 'education take learning cloudcloudbased sap® learning hub offer access learning content social environment', 'text_b': None, 'label': 10},\n",
       " {'guid': 4243, 'text_a': 'newsbyte help customer apply byod trend mobile device app content protection', 'text_b': None, 'label': 10},\n",
       " {'guid': 4245, 'text_a': 'top news announces maiden resource winu new discovery', 'text_b': None, 'label': 11},\n",
       " {'guid': 4247, 'text_a': 'announces acquisition city london gbp75m', 'text_b': None, 'label': 9},\n",
       " {'guid': 4258, 'text_a': 'orange slovakia extends lte coverage percent', 'text_b': None, 'label': 2},\n",
       " {'guid': 4263, 'text_a': 'salem county offer bonus program military first respondersmilitary first responder salem county resident acquire signon bonus monroeville dealership', 'text_b': None, 'label': 10},\n",
       " {'guid': 4298, 'text_a': 'orange digital investment launch new investment initiative million euro devoted startup africa', 'text_b': None, 'label': 9},\n",
       " {'guid': 4301, 'text_a': 'mise sign mou development research', 'text_b': None, 'label': 13},\n",
       " {'guid': 4303, 'text_a': 'deutsche telekom 5g simple showypartners pimp antenna housing', 'text_b': None, 'label': 13},\n",
       " {'guid': 4321, 'text_a': 'plc pfizer inc form new worldleading consumer joint venture', 'text_b': None, 'label': 14},\n",
       " {'guid': 4324, 'text_a': 'newsbox sartorius biotech modify relationship supply', 'text_b': None, 'label': 13},\n",
       " {'guid': 4329, 'text_a': 'mvm signal intent buy eon hungarias retail gas gas network business', 'text_b': None, 'label': 9},\n",
       " {'guid': 4346, 'text_a': 'siemens eur17m hydrogen project germany', 'text_b': None, 'label': 13},\n",
       " {'guid': 4358, 'text_a': 'announces agreement terminate sale sandoz u generic oral solid dermatology portfolio aurobindo', 'text_b': None, 'label': 1},\n",
       " {'guid': 4366, 'text_a': 'change bonus rule rival becomes successful', 'text_b': None, 'label': 4},\n",
       " {'guid': 4370, 'text_a': 'unveils new nerd collection', 'text_b': None, 'label': 10},\n",
       " {'guid': 4375, 'text_a': 'launch reorganization project group function preparation merger holcim net job loss including france', 'text_b': None, 'label': 9},\n",
       " {'guid': 4394, 'text_a': 'governor mcauliffe announces cruise line return virginia', 'text_b': None, 'label': 2},\n",
       " {'guid': 4399, 'text_a': 'russia cut staff regional restructuring', 'text_b': None, 'label': 4},\n",
       " {'guid': 4419, 'text_a': 'edible arrangement name new york creative agency record', 'text_b': None, 'label': 9},\n",
       " {'guid': 4428, 'text_a': 'sign agreement el corte ingles sell electricity gas customer', 'text_b': None, 'label': 13},\n",
       " {'guid': 4462, 'text_a': 'sa agrees occidental contingent acquisition anadarkos asset africa', 'text_b': None, 'label': 14},\n",
       " {'guid': 4465, 'text_a': '3m cogent integrates miy reader electric andover continuum', 'text_b': None, 'label': 10},\n",
       " {'guid': 4473, 'text_a': 'cut cloth profit slide', 'text_b': None, 'label': 11},\n",
       " {'guid': 4486, 'text_a': 'lake mountain launch summer programme', 'text_b': None, 'label': 9},\n",
       " {'guid': 4493, 'text_a': 'fresenius north america introduces frenova renal researchrenal research first kind clinical trial', 'text_b': None, 'label': 12},\n",
       " {'guid': 4502, 'text_a': 'deutsche launch second factory vehicle', 'text_b': None, 'label': 11},\n",
       " {'guid': 4550, 'text_a': 'brings public eservices zambian office', 'text_b': None, 'label': 5},\n",
       " {'guid': 4551, 'text_a': 'business jcbs livelink', 'text_b': None, 'label': 13},\n",
       " {'guid': 4554, 'text_a': 'greencoat uk name former executive board', 'text_b': None, 'label': 9},\n",
       " {'guid': 4555, 'text_a': 'promotes cashless payment system bazaar', 'text_b': None, 'label': 6},\n",
       " {'guid': 4565, 'text_a': 'know may extend buyback following unit sale', 'text_b': None, 'label': 3},\n",
       " {'guid': 4566, 'text_a': 'offer customer possibility buying energy package', 'text_b': None, 'label': 8},\n",
       " {'guid': 4569, 'text_a': 'suffolk energy waste facility officially opened', 'text_b': None, 'label': 9},\n",
       " {'guid': 4592, 'text_a': 'oil buy eon uk north sea asset', 'text_b': None, 'label': 9},\n",
       " {'guid': 4627, 'text_a': 'comedian change name protest treatment small business', 'text_b': None, 'label': 9},\n",
       " {'guid': 4663, 'text_a': 'plc tender offer', 'text_b': None, 'label': 3},\n",
       " {'guid': 4677, 'text_a': 'british food plc uk bioethanol joint venture vivergo fuel', 'text_b': None, 'label': 14},\n",
       " {'guid': 4681, 'text_a': 'look 3d printer new generation sneaker', 'text_b': None, 'label': 12},\n",
       " {'guid': 4716, 'text_a': 'brighten city provide mobile broadband connectivity smart street lighting', 'text_b': None, 'label': 13},\n",
       " {'guid': 4780, 'text_a': 'credit launch onshore brokerage business china', 'text_b': None, 'label': 2},\n",
       " {'guid': 4809, 'text_a': 'seek acquisition two year', 'text_b': None, 'label': 9},\n",
       " {'guid': 4817, 'text_a': 'shareholder give thumb 29bn caesar takeover', 'text_b': None, 'label': 7},\n",
       " {'guid': 4829, 'text_a': 'give relationship fresh start germany', 'text_b': None, 'label': 13},\n",
       " {'guid': 4830, 'text_a': 'smith plc smith sign 800m private placement', 'text_b': None, 'label': 3},\n",
       " {'guid': 4834, 'text_a': 'bank agrees sale retail npε portfolio equivalent 2261302238mn claim 226130385mn gross book', 'text_b': None, 'label': 1},\n",
       " {'guid': 4852, 'text_a': 'acquisition group boost shell lng standing australia info news alert', 'text_b': None, 'label': 9},\n",
       " {'guid': 4857, 'text_a': 'mobi announces first vehicle identity vid standard blockchain collaboration ford bmw among others', 'text_b': None, 'label': 9},\n",
       " {'guid': 4858, 'text_a': 'supply communication network county fresno california', 'text_b': None, 'label': 2},\n",
       " {'guid': 4889, 'text_a': 'close gbp 236m sale stake highcross shopping centre', 'text_b': None, 'label': 1},\n",
       " {'guid': 4896, 'text_a': 'orange b tap tata communication increase coverage', 'text_b': None, 'label': 2},\n",
       " {'guid': 4911, 'text_a': 'russia triple network volgograd first year', 'text_b': None, 'label': 2},\n",
       " {'guid': 4918, 'text_a': 'announces key appointment', 'text_b': None, 'label': 9},\n",
       " {'guid': 4954, 'text_a': 'job loss major cut since start pandemic', 'text_b': None, 'label': 9},\n",
       " {'guid': 4957, 'text_a': 'strengthens leadership position data center infrastructure management cloudbased ecostruxureâ expert roll', 'text_b': None, 'label': 8},\n",
       " {'guid': 4962, 'text_a': 'tf1 sfr sign distribution deal ending row carriage fee', 'text_b': None, 'label': 2},\n",
       " {'guid': 4979, 'text_a': 'da ist wale year adventure campaign launch germany', 'text_b': None, 'label': 9},\n",
       " {'guid': 4995, 'text_a': 'acquires higher stake', 'text_b': None, 'label': 14},\n",
       " {'guid': 5001, 'text_a': 'sweden sweden launch 4g town', 'text_b': None, 'label': 2},\n",
       " {'guid': 5013, 'text_a': 'grows loan portfolio egypt', 'text_b': None, 'label': 2},\n",
       " {'guid': 5044, 'text_a': 'hail successful first union talk', 'text_b': None, 'label': 4},\n",
       " {'guid': 5056, 'text_a': 'kryvyi rih invest usd million enterprise development', 'text_b': None, 'label': 14},\n",
       " {'guid': 5066, 'text_a': 'catalyst fund create alternative multiasset index', 'text_b': None, 'label': 13},\n",
       " {'guid': 5067, 'text_a': 'change stakeholder pact stake 7distinction bank foreign ended', 'text_b': None, 'label': 14},\n",
       " {'guid': 5091, 'text_a': 'increase staff pay almost two year', 'text_b': None, 'label': 9},\n",
       " {'guid': 5098, 'text_a': 'acquires sato sek1670m', 'text_b': None, 'label': 14},\n",
       " {'guid': 5099, 'text_a': 'spain open first mexico gas station reformspains open first mexico gas station reform', 'text_b': None, 'label': 5},\n",
       " {'guid': 5114, 'text_a': 'telecom open mediaset content deal ceo', 'text_b': None, 'label': 9},\n",
       " {'guid': 5121, 'text_a': 'merge general life insurance division', 'text_b': None, 'label': 9},\n",
       " {'guid': 5129, 'text_a': 'market chatter bp plan offer battery recharging dock diversify revenue base long run adrs jump', 'text_b': None, 'label': 8},\n",
       " {'guid': 5135, 'text_a': 'enhances ecostruxure scada operation missioncritical application', 'text_b': None, 'label': 10},\n",
       " {'guid': 5149, 'text_a': 'avara pharmaceutical acquires manufacturingdistribution facility france', 'text_b': None, 'label': 9},\n",
       " {'guid': 5162, 'text_a': 'edge prebell agreement abbott develop severe asthma diagnostic test', 'text_b': None, 'label': 9},\n",
       " {'guid': 5167, 'text_a': 'sign landmark sixth hotel france bordeaux grand hotel', 'text_b': None, 'label': 2},\n",
       " {'guid': 5190, 'text_a': 'aduro biotech announces milestone achieved collaboration initiation phase trial anticd27 agonist mk5890 nonsmall cell lung cancer', 'text_b': None, 'label': 9},\n",
       " {'guid': 5191, 'text_a': 'concludes societe generale belgian private unit acquisition', 'text_b': None, 'label': 9},\n",
       " {'guid': 5209, 'text_a': 'may boost investment usa report', 'text_b': None, 'label': 2},\n",
       " {'guid': 5219, 'text_a': 'bank launch negative interest rate mortgage', 'text_b': None, 'label': 8},\n",
       " {'guid': 5230, 'text_a': 'report capital increase due exercise employee warrant', 'text_b': None, 'label': 3},\n",
       " {'guid': 5242, 'text_a': 'royal bank group plc natwest market change executive director', 'text_b': None, 'label': 0},\n",
       " {'guid': 5244, 'text_a': 'spencer first lingerie beauty bengaluru open black whitefield road', 'text_b': None, 'label': 5},\n",
       " {'guid': 5245, 'text_a': 'extends multiclient north sea seismic', 'text_b': None, 'label': 9},\n",
       " {'guid': 5251, 'text_a': 'dgapnews bank ag change bank group top management news additional feature english', 'text_b': None, 'label': 0},\n",
       " {'guid': 5256, 'text_a': 'employee fail report case side effect', 'text_b': None, 'label': 4},\n",
       " {'guid': 5267, 'text_a': 'millservices system take operation duisburgbased schaumann company', 'text_b': None, 'label': 7},\n",
       " {'guid': 5288, 'text_a': 'enhances security cloud hybrid onpremises data storage deployment', 'text_b': None, 'label': 10},\n",
       " {'guid': 5308, 'text_a': 'founder end selling bigger stake due strong demand share', 'text_b': None, 'label': 1},\n",
       " {'guid': 5310, 'text_a': 'swisstrax floor sq ft indian well tennis garden open', 'text_b': None, 'label': 9},\n",
       " {'guid': 5318, 'text_a': 'sky deutschland add prosieben fun hd channel', 'text_b': None, 'label': 10},\n",
       " {'guid': 5343, 'text_a': 'agrees lower general purchase price mln euro remedy commission concern', 'text_b': None, 'label': 6},\n",
       " {'guid': 5361, 'text_a': 'gaslog acquires two group lng carrier', 'text_b': None, 'label': 9},\n",
       " {'guid': 5364, 'text_a': 'orange france add four channel multiscreen service', 'text_b': None, 'label': 10},\n",
       " {'guid': 5373, 'text_a': 'iitdelhi use ai make network reliable', 'text_b': None, 'label': 10},\n",
       " {'guid': 5388, 'text_a': 'orange spain tap hat new orange b2b unit', 'text_b': None, 'label': 2},\n",
       " {'guid': 5396, 'text_a': 'germany siemens build plant libyagermanys siemens build plant libya', 'text_b': None, 'label': 9},\n",
       " {'guid': 5399, 'text_a': 'peru entered agreement aages transfer atn3', 'text_b': None, 'label': 1},\n",
       " {'guid': 5407, 'text_a': 'hm jaime host grand opening hm 500th north american miami', 'text_b': None, 'label': 6},\n",
       " {'guid': 5419, 'text_a': 'french buy asmodee', 'text_b': None, 'label': 14},\n",
       " {'guid': 5423, 'text_a': 'explores future cooking partnering leading food tech event', 'text_b': None, 'label': 13},\n",
       " {'guid': 5429, 'text_a': 'ann almeida former group managing director human corporate sustainability holding nominated election board director group ltd annual general meeting april effect june', 'text_b': None, 'label': 0},\n",
       " {'guid': 5459, 'text_a': 'alcatellucent upgrade interlink optical transport network', 'text_b': None, 'label': 10},\n",
       " {'guid': 5494, 'text_a': 'take wrap rs18 f1 car', 'text_b': None, 'label': 10},\n",
       " {'guid': 5505, 'text_a': 'pay usd25m appnexus stake', 'text_b': None, 'label': 14},\n",
       " {'guid': 5513, 'text_a': 'plan u return year exit', 'text_b': None, 'label': 5},\n",
       " {'guid': 5514, 'text_a': 'add variety enhancement gocclcom travel agent portal', 'text_b': None, 'label': 10},\n",
       " {'guid': 5520, 'text_a': 'strengthens multicloud data security portfolionew encryption tokenization key management capability simplify control ensure compliance data security multicloud environment', 'text_b': None, 'label': 10},\n",
       " {'guid': 5521, 'text_a': 'inaugurates brazilian tram factory', 'text_b': None, 'label': 9},\n",
       " {'guid': 5531, 'text_a': 'acquires stake 3d printing startup recreus', 'text_b': None, 'label': 14},\n",
       " {'guid': 5541, 'text_a': 'cyprotex company join new h2020 research project', 'text_b': None, 'label': 13},\n",
       " {'guid': 5547, 'text_a': 'regeneron announce plan make praluenty accessible affordable patient greatest risk unmet need', 'text_b': None, 'label': 13},\n",
       " {'guid': 5564, 'text_a': 'new senior hire geneva association reinforce focus liability risk china engagement darren pain become geneva association director evolving liability effective january economist darren lead researcher swiss institute held various role central', 'text_b': None, 'label': 0},\n",
       " {'guid': 5569, 'text_a': 'open 7th outlet malaysia yearend', 'text_b': None, 'label': 9},\n",
       " {'guid': 5577, 'text_a': 'bechtellinde consortium build largescale ethylene plant baytown complexcompanies bring unmatched experience exxonmobil project', 'text_b': None, 'label': 11},\n",
       " {'guid': 5581, 'text_a': 'agrees pay usd17bn sigmaaldrich', 'text_b': None, 'label': 7},\n",
       " {'guid': 5621, 'text_a': 'unveils fourthgeneration quantiferontb gold plus u', 'text_b': None, 'label': 9},\n",
       " {'guid': 5624, 'text_a': 'investment strengthens indexed etf business europe senior business development appointment', 'text_b': None, 'label': 10},\n",
       " {'guid': 5666, 'text_a': 'exceeded shareholding threshold', 'text_b': None, 'label': 14},\n",
       " {'guid': 5732, 'text_a': 'banco santander unit sell wizink varde adrs prebell', 'text_b': None, 'label': 9},\n",
       " {'guid': 5736, 'text_a': 'novatek complete oilgas research montenegro', 'text_b': None, 'label': 12},\n",
       " {'guid': 5761, 'text_a': 'st1 start pilot project geothermal heat production espoo', 'text_b': None, 'label': 13},\n",
       " {'guid': 5764, 'text_a': 'open new office colombia', 'text_b': None, 'label': 5},\n",
       " {'guid': 5765, 'text_a': 'plc tender offer outstanding subordinated note', 'text_b': None, 'label': 3},\n",
       " {'guid': 5797, 'text_a': 'say director rishton replace outgoing chair gardner', 'text_b': None, 'label': 9},\n",
       " {'guid': 5818, 'text_a': 'strict new emission test disrupt production', 'text_b': None, 'label': 9},\n",
       " {'guid': 5824, 'text_a': 'sign manifesto arhoe fundacion alares support healthy worklife balance worker', 'text_b': None, 'label': 4},\n",
       " {'guid': 5825, 'text_a': 'appoints director consulting capability', 'text_b': None, 'label': 9},\n",
       " {'guid': 5833, 'text_a': 'property reach agreement merger term', 'text_b': None, 'label': 7},\n",
       " {'guid': 5869, 'text_a': 'start latestage isabela trial glpg1690 idiopathic pulmonary fibrosis firm afterhours', 'text_b': None, 'label': 12},\n",
       " {'guid': 5880, 'text_a': 'architectural door accessory release new rockwood handsfree door pullsthe global leader access solution offer arm foot pull minimize everyday skintosurface touchpoints', 'text_b': None, 'label': 8},\n",
       " {'guid': 5906, 'text_a': 'kinder morgan bp form joint venture limited liability company purchase u terminal bpcombined expertise creates synergy key refined product market', 'text_b': None, 'label': 14},\n",
       " {'guid': 5910, 'text_a': 'international invests usd170mn plant upgrade', 'text_b': None, 'label': 9},\n",
       " {'guid': 5919, 'text_a': 'synlab bondco plc synlab agrees sell analytics business', 'text_b': None, 'label': 9},\n",
       " {'guid': 5922, 'text_a': 'open new global innovation test center outside copenhagen', 'text_b': None, 'label': 12},\n",
       " {'guid': 5928, 'text_a': 'talk buy mw portfolio forestalia', 'text_b': None, 'label': 2},\n",
       " {'guid': 5952, 'text_a': 'finnish install nordic biggest battery', 'text_b': None, 'label': 9},\n",
       " {'guid': 5971, 'text_a': 'press last ditch talk head revolt chairman pay guardian', 'text_b': None, 'label': 4},\n",
       " {'guid': 5979, 'text_a': 'property th real estate agree madrid shopping centre jv', 'text_b': None, 'label': 14},\n",
       " {'guid': 6002, 'text_a': 'ooredoo launch myanmar first highspeed 4g service extend managed contract', 'text_b': None, 'label': 5},\n",
       " {'guid': 6033, 'text_a': 'discontinues phase iii trial epanova patient mixed dyslipidaemia', 'text_b': None, 'label': 12},\n",
       " {'guid': 6084, 'text_a': 'businesswire sell office gothenburg sweden sek', 'text_b': None, 'label': 1},\n",
       " {'guid': 6090, 'text_a': 'canal group ea organize fifa ultimate team championship series qualifier france', 'text_b': None, 'label': 6},\n",
       " {'guid': 6097, 'text_a': 'orange spain revamps business freelance offer', 'text_b': None, 'label': 10},\n",
       " {'guid': 6109, 'text_a': 'triumph offer diverse schedule four 14day sailing new york fort lauderdale norfolkvoyages include visit tropical destination throughout caribbean bahamas bermuda canada new england panama canal', 'text_b': None, 'label': 10},\n",
       " {'guid': 6120, 'text_a': 'idea start bonus recharge promotion prepay customer', 'text_b': None, 'label': 6},\n",
       " {'guid': 6160, 'text_a': 'strengthens u management liability team', 'text_b': None, 'label': 4},\n",
       " {'guid': 6161, 'text_a': 'compagnie de saintgobain acquisition', 'text_b': None, 'label': 9},\n",
       " {'guid': 6169, 'text_a': 'credit appoints head compliance', 'text_b': None, 'label': 9},\n",
       " {'guid': 6220, 'text_a': 'advance headtohead superiority trial cosentyx® versus humira® proposed biosimilar adalimumab', 'text_b': None, 'label': 12},\n",
       " {'guid': 6229, 'text_a': 'rollsroyce hispanosuiza sign final agreement create joint venture', 'text_b': None, 'label': 14},\n",
       " {'guid': 6241, 'text_a': 'plan major investment pioneering superabsorbent technology', 'text_b': None, 'label': 12},\n",
       " {'guid': 6250, 'text_a': 'invests e46 million new office project helsinki finland', 'text_b': None, 'label': 9},\n",
       " {'guid': 6279, 'text_a': 'ukraine continues lte expansion reach population', 'text_b': None, 'label': 2},\n",
       " {'guid': 6290, 'text_a': 'university birmingham siemens mobility limited announce new research collaboration', 'text_b': None, 'label': 9},\n",
       " {'guid': 6302, 'text_a': 'american lodge firm bid uk sirius mineral', 'text_b': None, 'label': 7},\n",
       " {'guid': 6310, 'text_a': 'study geothermal project mexico', 'text_b': None, 'label': 12},\n",
       " {'guid': 6314, 'text_a': 'oriola sign new distribution agreement finland', 'text_b': None, 'label': 2},\n",
       " {'guid': 6318, 'text_a': 'launch fight covid19 crisis', 'text_b': None, 'label': 9},\n",
       " {'guid': 6332, 'text_a': 'nutonomy test selfdriving car singapore', 'text_b': None, 'label': 12},\n",
       " {'guid': 6338, 'text_a': 'greencoat uk appoints nonexecutive rich board', 'text_b': None, 'label': 9},\n",
       " {'guid': 6340, 'text_a': 'bharti life insurance launch let shine campaign', 'text_b': None, 'label': 6},\n",
       " {'guid': 6362, 'text_a': 'pay billion share dyax', 'text_b': None, 'label': 7},\n",
       " {'guid': 6367, 'text_a': 'takeda completes acquisition', 'text_b': None, 'label': 9},\n",
       " {'guid': 6376, 'text_a': 'sweden finally take cover redesigned xc90', 'text_b': None, 'label': 10},\n",
       " {'guid': 6377, 'text_a': 'telefónica alcatellucent deploy 100gbps network', 'text_b': None, 'label': 13},\n",
       " {'guid': 6380, 'text_a': 'announces plan initiate clinical study jakavir severe covid19 patient establish international compassionate use program', 'text_b': None, 'label': 12},\n",
       " {'guid': 6390, 'text_a': 'launch sentry score strengthen telehealth platform', 'text_b': None, 'label': 10},\n",
       " {'guid': 6433, 'text_a': 'baltic sea region cooperation closer improve economy', 'text_b': None, 'label': 9},\n",
       " {'guid': 6450, 'text_a': 'deal snapshot boost ownership canadaâeurotms north west geomatics', 'text_b': None, 'label': 7},\n",
       " {'guid': 6468, 'text_a': 'eon completes eur1bn amrumbank west park', 'text_b': None, 'label': 11},\n",
       " {'guid': 6497, 'text_a': 'reduce headcount fresh overhaul', 'text_b': None, 'label': 4},\n",
       " {'guid': 6512, 'text_a': 'expands mobile cheque imaging service android user', 'text_b': None, 'label': 2},\n",
       " {'guid': 6524, 'text_a': 'beloved qantas becomes rollsroyce flying testbed', 'text_b': None, 'label': 12},\n",
       " {'guid': 6541, 'text_a': 'ci megafon sign memorandum first implementation russian company generation system', 'text_b': None, 'label': 13},\n",
       " {'guid': 6548, 'text_a': 'continue implementing strategy selling process automation system business', 'text_b': None, 'label': 1},\n",
       " {'guid': 6550, 'text_a': 'take stake en group return uc rusal stakealliss', 'text_b': None, 'label': 14},\n",
       " {'guid': 6551, 'text_a': 'modernize usbased facility introduces automation system', 'text_b': None, 'label': 11},\n",
       " {'guid': 6600, 'text_a': 'group plc moneygram global agreement', 'text_b': None, 'label': 13},\n",
       " {'guid': 6619, 'text_a': 'rémy end share buyback programme', 'text_b': None, 'label': 9},\n",
       " {'guid': 6629, 'text_a': 'usbg world class sponsored announce laura newman u bartender year', 'text_b': None, 'label': 6},\n",
       " {'guid': 6630, 'text_a': 'cut lumia price russia', 'text_b': None, 'label': 6},\n",
       " {'guid': 6632, 'text_a': 'metsos board decides develop mineral flow control segment separatelyappoints olli isotalo president valve business area', 'text_b': None, 'label': 0},\n",
       " {'guid': 6637, 'text_a': 'group plc group leadership succession', 'text_b': None, 'label': 9},\n",
       " {'guid': 6639, 'text_a': 'pharrell williams original put polka dot stan smith sneaker', 'text_b': None, 'label': 6},\n",
       " {'guid': 6642, 'text_a': 'international asa share buyback', 'text_b': None, 'label': 3},\n",
       " {'guid': 6655, 'text_a': 'credit make new promotion', 'text_b': None, 'label': 4},\n",
       " {'guid': 6672, 'text_a': 'move application performance management cloudâeurooebt connect intelligence infovistaasaserviceâeuro delivers application visibility control optimisation cloud', 'text_b': None, 'label': 10},\n",
       " {'guid': 6674, 'text_a': 'sign training partnership mou china sasac', 'text_b': None, 'label': 9},\n",
       " {'guid': 6678, 'text_a': 'join energy initiative', 'text_b': None, 'label': 9},\n",
       " {'guid': 6711, 'text_a': 'vivo provide private lte vale mining industry project brazil', 'text_b': None, 'label': 13},\n",
       " {'guid': 6728, 'text_a': 'paul hastings monaco telecom acquires malta', 'text_b': None, 'label': 9},\n",
       " {'guid': 6750, 'text_a': 'acquires stake banijay group zodiakbanijay tieup', 'text_b': None, 'label': 14},\n",
       " {'guid': 6751, 'text_a': 'eansadhoc telekom ag telekom group announces capital increase eur bn net proceeds adhoc', 'text_b': None, 'label': 3},\n",
       " {'guid': 6816, 'text_a': 'general invests pound 446m housing homeless family', 'text_b': None, 'label': 9},\n",
       " {'guid': 6822, 'text_a': 'zealand report announces soliquatm available u', 'text_b': None, 'label': 8},\n",
       " {'guid': 6827, 'text_a': 'american sign distribution deal', 'text_b': None, 'label': 2},\n",
       " {'guid': 6833, 'text_a': 'group plc u private placement debt issuance', 'text_b': None, 'label': 3},\n",
       " {'guid': 6837, 'text_a': 'plc acquisition additional share india', 'text_b': None, 'label': 14},\n",
       " {'guid': 6842, 'text_a': 'spain ups fibre speed mobile data bundle', 'text_b': None, 'label': 10},\n",
       " {'guid': 6845, 'text_a': 'deploys nokias video service appliance prepare firsttomarket high definition iptv', 'text_b': None, 'label': 10},\n",
       " {'guid': 6846, 'text_a': 'host mla locksmith apprentice open day portobello west midland', 'text_b': None, 'label': 9},\n",
       " {'guid': 6879, 'text_a': 'energy appoints chief operating officer higgs', 'text_b': None, 'label': 9},\n",
       " {'guid': 6882, 'text_a': 'swiss launch automotive insurance business', 'text_b': None, 'label': 14},\n",
       " {'guid': 6884, 'text_a': 'mwc19 korea telecom conduct 5g trial service automation network virtualization slicing', 'text_b': None, 'label': 12},\n",
       " {'guid': 6885, 'text_a': 'newyorkpresbyterian hospital expands virtual', 'text_b': None, 'label': 9},\n",
       " {'guid': 6897, 'text_a': 'group plc utg convertible bond optional redemption notice', 'text_b': None, 'label': 3},\n",
       " {'guid': 6924, 'text_a': 'enel spa neoenfirst solar develop pv plant', 'text_b': None, 'label': 13},\n",
       " {'guid': 6943, 'text_a': 'neobiocon', 'text_b': None, 'label': 13},\n",
       " {'guid': 6951, 'text_a': 'university alliance program present new industry curriculum', 'text_b': None, 'label': 10},\n",
       " {'guid': 6952, 'text_a': 'asda chooses new uk partner asda mobile', 'text_b': None, 'label': 13},\n",
       " {'guid': 6962, 'text_a': 'spain consumer iot product available', 'text_b': None, 'label': 9},\n",
       " {'guid': 6973, 'text_a': 'danish repurchase 21m share', 'text_b': None, 'label': 3},\n",
       " {'guid': 6982, 'text_a': 'radiotherapiegroep netherlands acquire unity versa hd cancer treatment system', 'text_b': None, 'label': 9},\n",
       " {'guid': 6983, 'text_a': 'secures loan eib ico energy project', 'text_b': None, 'label': 3},\n",
       " {'guid': 6993, 'text_a': 'estonian buy eon holding eesti gaas', 'text_b': None, 'label': 9},\n",
       " {'guid': 6997, 'text_a': 'ukraine launch new broadband tariff', 'text_b': None, 'label': 6},\n",
       " {'guid': 7037, 'text_a': 'consortium led eqt adia enters exclusive negotiation acquire skincare company skin', 'text_b': None, 'label': 9},\n",
       " {'guid': 7049, 'text_a': 'team industry demonstrate two broadcast hd high dynamic range', 'text_b': None, 'label': 13},\n",
       " {'guid': 7051, 'text_a': 'working small business provide comprehensive view small business nationwide', 'text_b': None, 'label': 13},\n",
       " {'guid': 7074, 'text_a': 'car part zenuity', 'text_b': None, 'label': 14},\n",
       " {'guid': 7083, 'text_a': 'applied dna secures grant national partnered new york state mep support manufacture covid19 diagnostic kit vaccine candidate', 'text_b': None, 'label': 13},\n",
       " {'guid': 7122, 'text_a': 'expands gigabit mobile broadband', 'text_b': None, 'label': 10},\n",
       " {'guid': 7126, 'text_a': 'real estate columbia acquire street washington dcclass office building located heart dc golden triangle represents fourth owned joint venture', 'text_b': None, 'label': 9},\n",
       " {'guid': 7130, 'text_a': 'pump r cr indian arm', 'text_b': None, 'label': 3},\n",
       " {'guid': 7170, 'text_a': 'france slam blackmail job ultimatum', 'text_b': None, 'label': 9},\n",
       " {'guid': 7176, 'text_a': 'market egains cloud solution finland', 'text_b': None, 'label': 2},\n",
       " {'guid': 7179, 'text_a': 'bank invests p17m community nationwide', 'text_b': None, 'label': 9},\n",
       " {'guid': 7193, 'text_a': 'exec become new insured retirement institute president ceo', 'text_b': None, 'label': 9},\n",
       " {'guid': 7195, 'text_a': 'telecom nbc universal ink multiyear vod deal', 'text_b': None, 'label': 13},\n",
       " {'guid': 7211, 'text_a': 'allnew bentley gt definition luxury grand touring', 'text_b': None, 'label': 8},\n",
       " {'guid': 7284, 'text_a': 'becomes owner unipro eliminating russian holding co', 'text_b': None, 'label': 7},\n",
       " {'guid': 7288, 'text_a': 'vitol consortium present bid petroleum early april report', 'text_b': None, 'label': 7},\n",
       " {'guid': 7310, 'text_a': 'achieves industryfirst isasecure level two security development lifecycle assurance certification', 'text_b': None, 'label': 8},\n",
       " {'guid': 7312, 'text_a': 'plc completion acquisition isopure company llc', 'text_b': None, 'label': 9},\n",
       " {'guid': 7344, 'text_a': 'appoints bp executive new', 'text_b': None, 'label': 9},\n",
       " {'guid': 7349, 'text_a': 'dgapnews stabilus sa successfully completes acquisition group entity ace hahn gasfedern fabreekatech product english', 'text_b': None, 'label': 9},\n",
       " {'guid': 7360, 'text_a': 'zealand report announces soliquatm available u', 'text_b': None, 'label': 8},\n",
       " {'guid': 7361, 'text_a': 'confirm matthias mueller new', 'text_b': None, 'label': 0},\n",
       " {'guid': 7371, 'text_a': 'build bank future mulesofthsbc one largest bank world building digital platform apis unlock open opportunity', 'text_b': None, 'label': 8},\n",
       " {'guid': 7429, 'text_a': 'national association plan advisor napa name two advisor annual top retirement plan advisor', 'text_b': None, 'label': 9},\n",
       " {'guid': 7435, 'text_a': 'receives u german clearance ablynx acquisition', 'text_b': None, 'label': 9},\n",
       " {'guid': 7459, 'text_a': 'job loss major cut since start pandemic', 'text_b': None, 'label': 9},\n",
       " {'guid': 7464, 'text_a': 'dgapadhoc united resolve cash capital increase', 'text_b': None, 'label': 3},\n",
       " {'guid': 7484, 'text_a': 'finalizes acquisition alcatellucent', 'text_b': None, 'label': 9},\n",
       " {'guid': 7503, 'text_a': 'husqvarnas cfo leave', 'text_b': None, 'label': 0},\n",
       " {'guid': 7504, 'text_a': 'acquires majority share south metro anesthesia', 'text_b': None, 'label': 14},\n",
       " {'guid': 7542, 'text_a': '2ndquadrant using bdr advanced data security application', 'text_b': None, 'label': 13},\n",
       " {'guid': 7560, 'text_a': 'bank appoints acting head group risk managementdanske bank appoints acting head group risk management', 'text_b': None, 'label': 9},\n",
       " {'guid': 7570, 'text_a': 'telecom rebrands fixed mobile tim', 'text_b': None, 'label': 6},\n",
       " {'guid': 7574, 'text_a': 'report capital increase result employee warrant exercise', 'text_b': None, 'label': 3},\n",
       " {'guid': 7576, 'text_a': 'completes share buyback program', 'text_b': None, 'label': 9},\n",
       " {'guid': 7599, 'text_a': 'winter sale campaign create job spain yy', 'text_b': None, 'label': 9},\n",
       " {'guid': 7602, 'text_a': 'orange poland cover percent population lte', 'text_b': None, 'label': 2},\n",
       " {'guid': 7610, 'text_a': 'retail group plc homebase sale battersea freehold', 'text_b': None, 'label': 1},\n",
       " {'guid': 7620, 'text_a': 'university liverpool international join material innovation factory', 'text_b': None, 'label': 12},\n",
       " {'guid': 7643, 'text_a': 'report considers rotation executive', 'text_b': None, 'label': 0},\n",
       " {'guid': 7659, 'text_a': 'susi build 208mw farm norway', 'text_b': None, 'label': 11},\n",
       " {'guid': 7680, 'text_a': 'building work third factory start north america', 'text_b': None, 'label': 9},\n",
       " {'guid': 7682, 'text_a': 'increase headcount mena', 'text_b': None, 'label': 9},\n",
       " {'guid': 7693, 'text_a': 'cocacola drill new well bulgaria bankya mineral water deposit', 'text_b': None, 'label': 11},\n",
       " {'guid': 7697, 'text_a': 'acquires mirec week airec week energy exhibition conference latin americaintegration complementary business increase ubms scale latin america energy sector', 'text_b': None, 'label': 7},\n",
       " {'guid': 7705, 'text_a': 'siemens sign agreement uganda sudan', 'text_b': None, 'label': 13},\n",
       " {'guid': 7706, 'text_a': 'newsbyte sap® future city help urban leader innovate safe prosperous responsive 21st century community', 'text_b': None, 'label': 8},\n",
       " {'guid': 7709, 'text_a': 'estonia sell samsung galaxy note edge', 'text_b': None, 'label': 10},\n",
       " {'guid': 7715, 'text_a': 'u cellular ink multi year 5g network modernization deal', 'text_b': None, 'label': 13},\n",
       " {'guid': 7729, 'text_a': 'completes acquisition alamo anesthesia practice', 'text_b': None, 'label': 9},\n",
       " {'guid': 7735, 'text_a': 'appoints nomination committee prior agm', 'text_b': None, 'label': 9},\n",
       " {'guid': 7759, 'text_a': 'alstoms first prima locomotive delivered indian railway begin operation', 'text_b': None, 'label': 8},\n",
       " {'guid': 7763, 'text_a': 'tessenderlo kerley acquires solicam herbicide asset', 'text_b': None, 'label': 9},\n",
       " {'guid': 7765, 'text_a': 'eon russia reduces electricity generation bln kwh', 'text_b': None, 'label': 11},\n",
       " {'guid': 7774, 'text_a': 'group plc gather gather launch', 'text_b': None, 'label': 5},\n",
       " {'guid': 7822, 'text_a': 'transmission repair san luis obispo company motor work announces immediate availability servicescontinental motor work announced immediate availability transmission repair san luis obispo company operated slo area year deal experience transmission repair every major brand type vehicle', 'text_b': None, 'label': 2},\n",
       " {'guid': 7866, 'text_a': 'simon wandke promoted ceo mining', 'text_b': None, 'label': 0},\n",
       " {'guid': 7881, 'text_a': 'siemens ready work russian railway international project siemens russia ceo', 'text_b': None, 'label': 13},\n",
       " {'guid': 7882, 'text_a': 'sign agreement acquire eurazeos controlling interest anf immobilier subject condition precedent', 'text_b': None, 'label': 9},\n",
       " {'guid': 7915, 'text_a': 'archerdx develop personalized cancer monitoring assay support cancer trial', 'text_b': None, 'label': 12},\n",
       " {'guid': 7929, 'text_a': 'bottrop employ energy module electricityproducing pressure reducing station prosper coking plant making another contribution environmental protection bottrop', 'text_b': None, 'label': 11},\n",
       " {'guid': 7936, 'text_a': 'foundation ceo dr congo first lady mark international day elimination violence woman girl appointing ambassador mothermerck foundation ceo underscored long term commitment social economic development democratic republic congo', 'text_b': None, 'label': 9},\n",
       " {'guid': 7941, 'text_a': 'orange unveils new offer orange young customer', 'text_b': None, 'label': 10},\n",
       " {'guid': 7950, 'text_a': 'psa citroen psa te cooperate publish realworld fuel economy data', 'text_b': None, 'label': 9},\n",
       " {'guid': 7970, 'text_a': 'banco santander sa agreement merlyn property metrovacesa', 'text_b': None, 'label': 13},\n",
       " {'guid': 7979, 'text_a': 'investment announces launch longshort equity', 'text_b': None, 'label': 8},\n",
       " {'guid': 7994, 'text_a': 'announces launch proposed public offering', 'text_b': None, 'label': 3},\n",
       " {'guid': 7998, 'text_a': 'siemens supervisory board make personnel decision set course nextgeneration siemens', 'text_b': None, 'label': 4},\n",
       " {'guid': 8088, 'text_a': 'hm celebrates launch hm studio s see buy collection fashion show fashion weekhm celebrates newest collection special performance weeknd emily ratajkowski unveils new collection exclusive shopping event new york', 'text_b': None, 'label': 6},\n",
       " {'guid': 8092, 'text_a': 'standard mull usd10 billion debt hong kong investor', 'text_b': None, 'label': 3},\n",
       " {'guid': 8106, 'text_a': 'plc confirms departure division president', 'text_b': None, 'label': 9},\n",
       " {'guid': 8111, 'text_a': 'ahima announces collaboration provide student member access mediregs coding center student workflow solution', 'text_b': None, 'label': 9},\n",
       " {'guid': 8124, 'text_a': 'positive community magazine celebrates 15th anniversary award galasponsored financiala special posthumous award poetactivist amiri baraka mayor ra baraka acceptmonday november 2014at njpac event center pm pm', 'text_b': None, 'label': 6},\n",
       " {'guid': 8137, 'text_a': 'credit consumer extend fca bank joint venture december', 'text_b': None, 'label': 14},\n",
       " {'guid': 8145, 'text_a': 'bp sell interest alaska field', 'text_b': None, 'label': 1},\n",
       " {'guid': 8146, 'text_a': 'partner', 'text_b': None, 'label': 9},\n",
       " {'guid': 8155, 'text_a': 'deutsche bank scrap bonus lossdeutsche bank scrap bonus loss', 'text_b': None, 'label': 4},\n",
       " {'guid': 8171, 'text_a': 'sign strategic safepoint agreement u', 'text_b': None, 'label': 9},\n",
       " {'guid': 8173, 'text_a': 'first kenzo hm campaign image jeanpaul goude revealed', 'text_b': None, 'label': 6},\n",
       " {'guid': 8182, 'text_a': 'drill colombia caribbean coast year', 'text_b': None, 'label': 11},\n",
       " {'guid': 8216, 'text_a': 'manchester united strike sponsorship licensing deal worth least bln', 'text_b': None, 'label': 6},\n",
       " {'guid': 8245, 'text_a': 'engieled consortium buy stake gas pipeline unit', 'text_b': None, 'label': 14},\n",
       " {'guid': 8254, 'text_a': 'take marketing agency zweimaleins', 'text_b': None, 'label': 7},\n",
       " {'guid': 8257, 'text_a': 'buy albemarles chemetall coating division bn', 'text_b': None, 'label': 14},\n",
       " {'guid': 8282, 'text_a': 'buy majority stake u battery', 'text_b': None, 'label': 14},\n",
       " {'guid': 8308, 'text_a': 'life introduces index advantage income', 'text_b': None, 'label': 8},\n",
       " {'guid': 8320, 'text_a': 'incadea plc global agreement psa citroen', 'text_b': None, 'label': 13},\n",
       " {'guid': 8326, 'text_a': 'debut limitededition capsule collection film fan', 'text_b': None, 'label': 10},\n",
       " {'guid': 8329, 'text_a': 'bank taiwan launch nfc tsm hub', 'text_b': None, 'label': 9},\n",
       " {'guid': 8338, 'text_a': 'chemchina buy switzerland record bn deal', 'text_b': None, 'label': 9},\n",
       " {'guid': 8405, 'text_a': 'london welcome first chinese sovereign rmb bond issued outside china', 'text_b': None, 'label': 3},\n",
       " {'guid': 8419, 'text_a': 'launch call runner countdown marathon de', 'text_b': None, 'label': 9},\n",
       " {'guid': 8430, 'text_a': 'announces increased coal reserve kestrel', 'text_b': None, 'label': 9},\n",
       " {'guid': 8443, 'text_a': 'velcom introduces smartphone', 'text_b': None, 'label': 9},\n",
       " {'guid': 8452, 'text_a': 'signed definitive agreement pimco fortress sale euro177 bn portfolio defined project fino phase', 'text_b': None, 'label': 1},\n",
       " {'guid': 8462, 'text_a': 'supervisory board term renewal new board member', 'text_b': None, 'label': 9},\n",
       " {'guid': 8496, 'text_a': 'groupama orange enter talk creation mobile bank orange bank', 'text_b': None, 'label': 13},\n",
       " {'guid': 8509, 'text_a': 'plc announces sale pr newswire cision 841m proposes return 245m shareholder', 'text_b': None, 'label': 1},\n",
       " {'guid': 8534, 'text_a': 'car release first fully model', 'text_b': None, 'label': 8},\n",
       " {'guid': 8553, 'text_a': 'defile loreal relive first beauty fashion runway show river seine open', 'text_b': None, 'label': 6},\n",
       " {'guid': 8557, 'text_a': 'renaults new midrange car take talisman name', 'text_b': None, 'label': 8},\n",
       " {'guid': 8558, 'text_a': 'secures least share electricity gas sale company grupa duon sa poland', 'text_b': None, 'label': 14},\n",
       " {'guid': 8585, 'text_a': 'terex sign agreement sale mhps usd13bn termination bca', 'text_b': None, 'label': 7},\n",
       " {'guid': 8591, 'text_a': 'name braverman joenk key post', 'text_b': None, 'label': 0},\n",
       " {'guid': 8596, 'text_a': 'hiring alert job immediately available across united statesadecco staffing usa see holiday season hiring kick early', 'text_b': None, 'label': 9},\n",
       " {'guid': 8619, 'text_a': 'rostelecom set joint venture', 'text_b': None, 'label': 14},\n",
       " {'guid': 8624, 'text_a': 'ready help passenger hit planned national rail strike', 'text_b': None, 'label': 6},\n",
       " {'guid': 8631, 'text_a': 'report change group executive board', 'text_b': None, 'label': 0},\n",
       " {'guid': 8657, 'text_a': 'catalyzes chapter innovation deliver massive performance heightened security needed cloud machine era', 'text_b': None, 'label': 10},\n",
       " {'guid': 8672, 'text_a': 'holding plc open route tofrom', 'text_b': None, 'label': 10},\n",
       " {'guid': 8678, 'text_a': 'cnpc bp sign strategic cooperation agreement', 'text_b': None, 'label': 7},\n",
       " {'guid': 8698, 'text_a': 'businesswire acquisition quitoque take position foodtech', 'text_b': None, 'label': 13},\n",
       " {'guid': 8704, 'text_a': 'announces field trial 5g', 'text_b': None, 'label': 12},\n",
       " {'guid': 8719, 'text_a': 'visa europe mobile wallet', 'text_b': None, 'label': 13},\n",
       " {'guid': 8724, 'text_a': 'psa citroën rémy bayle appointed chief executive officer psa', 'text_b': None, 'label': 9},\n",
       " {'guid': 8738, 'text_a': 'dimension data enters agreement insurance', 'text_b': None, 'label': 13},\n",
       " {'guid': 8768, 'text_a': 'huawei qualcomm create world first laa ready commercial network', 'text_b': None, 'label': 8},\n",
       " {'guid': 8772, 'text_a': 'unveils zip premium inn brand pricesensitive customer', 'text_b': None, 'label': 10},\n",
       " {'guid': 8799, 'text_a': 'deutsche bank hold stake brown group allis', 'text_b': None, 'label': 14},\n",
       " {'guid': 8808, 'text_a': 'danish acquires biological plant u', 'text_b': None, 'label': 11},\n",
       " {'guid': 8824, 'text_a': 'auto drop gaspowered truck build co2neutral fleet', 'text_b': None, 'label': 12},\n",
       " {'guid': 8827, 'text_a': 'shine technology welcome philipp humm board directorsformer chief executive assist carrier ad blocking strategy', 'text_b': None, 'label': 0},\n",
       " {'guid': 8861, 'text_a': 'powder metallurgy expands china', 'text_b': None, 'label': 2},\n",
       " {'guid': 8879, 'text_a': '5g coming acquired frequency 5g network', 'text_b': None, 'label': 12},\n",
       " {'guid': 8901, 'text_a': 'royal issuance new share', 'text_b': None, 'label': 3},\n",
       " {'guid': 8947, 'text_a': 'hyundai mobis appoints former executive maschka head global sale', 'text_b': None, 'label': 9},\n",
       " {'guid': 8948, 'text_a': 'french energy company open office croatia report', 'text_b': None, 'label': 5},\n",
       " {'guid': 8971, 'text_a': 'move closer potential sale egyptian unit stake', 'text_b': None, 'label': 1},\n",
       " {'guid': 8981, 'text_a': 'depth brush brexit continue expanding', 'text_b': None, 'label': 9},\n",
       " {'guid': 8988, 'text_a': 'announces appointment cxe9line fronval general counsel', 'text_b': None, 'label': 9},\n",
       " {'guid': 9004, 'text_a': 'new ishift crawler gear offer slow speed maneuverability extreme startability', 'text_b': None, 'label': 9},\n",
       " {'guid': 9037, 'text_a': 'enters exclusive negotiation sale interest exploration production international', 'text_b': None, 'label': 1},\n",
       " {'guid': 9051, 'text_a': 'help minera esperanza mine chile increase throughput ton per day', 'text_b': None, 'label': 13},\n",
       " {'guid': 9065, 'text_a': 'data quality hire coman wakefield lead', 'text_b': None, 'label': 0},\n",
       " {'guid': 9073, 'text_a': 'apple pay', 'text_b': None, 'label': 10},\n",
       " {'guid': 9095, 'text_a': 'deal snapshot acquires additional stake spainâeurotms kiro robotics eur 128m', 'text_b': None, 'label': 14},\n",
       " {'guid': 9103, 'text_a': 'reach norwegian veripos', 'text_b': None, 'label': 7},\n",
       " {'guid': 9116, 'text_a': 'norsea buy danish danbor', 'text_b': None, 'label': 9},\n",
       " {'guid': 9139, 'text_a': 'debut iqon elite spectral ct scanner enhance imaging emergencytrauma oncology', 'text_b': None, 'label': 9},\n",
       " {'guid': 9144, 'text_a': 'sell paper hydrous kaolin business french', 'text_b': None, 'label': 7},\n",
       " {'guid': 9151, 'text_a': 'rollsroyce siemens announce plan hybridelectric aircraft', 'text_b': None, 'label': 13},\n",
       " {'guid': 9191, 'text_a': 'group say gbp286 million tendered purchase', 'text_b': None, 'label': 3},\n",
       " {'guid': 9200, 'text_a': 'top news national commences first tranche share buyback', 'text_b': None, 'label': 3},\n",
       " {'guid': 9215, 'text_a': 'orange france buy electricity farm energy producer boralex', 'text_b': None, 'label': 9},\n",
       " {'guid': 9229, 'text_a': 'alibaba buy stake swiss travel firm million', 'text_b': None, 'label': 14},\n",
       " {'guid': 9232, 'text_a': 'lonzas proxel bz plus preservative gain blue angel label compliance', 'text_b': None, 'label': 10},\n",
       " {'guid': 9238, 'text_a': 'reduces charge small payment transaction via bancontact', 'text_b': None, 'label': 6},\n",
       " {'guid': 9249, 'text_a': 'appoints pricewaterhousecoopers external auditor', 'text_b': None, 'label': 9},\n",
       " {'guid': 9265, 'text_a': 'kick holiday season macys thanksgiving day parade®balloons iconic parade fly high thanks helium supplied', 'text_b': None, 'label': 6},\n",
       " {'guid': 9273, 'text_a': 'celebrates 2nd safety event', 'text_b': None, 'label': 6},\n",
       " {'guid': 9285, 'text_a': 'delivers sky high connectivity take offsatellite fuel innovative connectivity solution', 'text_b': None, 'label': 10},\n",
       " {'guid': 9289, 'text_a': 'de international sponsor student submarine race eisr', 'text_b': None, 'label': 6},\n",
       " {'guid': 9295, 'text_a': 'real estate investor acquires mixeduse retail lifestyle center naples fla', 'text_b': None, 'label': 2},\n",
       " {'guid': 9299, 'text_a': 'telefonica cut price basic fusion plan eur month', 'text_b': None, 'label': 6},\n",
       " {'guid': 9314, 'text_a': 'businesswire alexandre bompard announces creation group', 'text_b': None, 'label': 0},\n",
       " {'guid': 9319, 'text_a': 'completes construction world largest singleaxis photovoltaic plant', 'text_b': None, 'label': 11},\n",
       " {'guid': 9324, 'text_a': 'rural affinity munich', 'text_b': None, 'label': 13},\n",
       " {'guid': 9325, 'text_a': 'helbiz enel sustainable urban mobilityhelbiz vehicle exclusively powered enel first fully carbonneutral micromobility device across italyhelbiz largest micromobility company italy operating market around world plan global expansion carbon neutral fleet', 'text_b': None, 'label': 13},\n",
       " {'guid': 9328, 'text_a': 'take oil distribution asset east africa', 'text_b': None, 'label': 2},\n",
       " {'guid': 9341, 'text_a': 'get goahead first wholly foreignowned insurance firm china', 'text_b': None, 'label': 5},\n",
       " {'guid': 9344, 'text_a': 'take control share swap offer report', 'text_b': None, 'label': 7},\n",
       " {'guid': 9347, 'text_a': 'introduces book tree paredes de coura', 'text_b': None, 'label': 9},\n",
       " {'guid': 9356, 'text_a': 'selects expand production kwazulunatal steelworks', 'text_b': None, 'label': 13},\n",
       " {'guid': 9367, 'text_a': 'take chyronhego lyrictm pro graphic world cup', 'text_b': None, 'label': 6},\n",
       " {'guid': 9372, 'text_a': 'launch practice tool help professional keep current legislative regulatory changesnew federal knowledge center offer insight analysis new executive action proposed legislation rule', 'text_b': None, 'label': 9},\n",
       " {'guid': 9395, 'text_a': 'market chatter sell tsb share ipo', 'text_b': None, 'label': 1},\n",
       " {'guid': 9405, 'text_a': 'introduces packaging performance testing facility u', 'text_b': None, 'label': 12},\n",
       " {'guid': 9428, 'text_a': 'plc received loan alfabank', 'text_b': None, 'label': 3},\n",
       " {'guid': 9439, 'text_a': 'quiet compact efficient rollsroyce introduces new onsite energy genset', 'text_b': None, 'label': 9},\n",
       " {'guid': 9450, 'text_a': 'acquisition punch share vine acquisition limited', 'text_b': None, 'label': 14},\n",
       " {'guid': 9475, 'text_a': 'sa tta qatar petroleum join partner exploration block 11b12b south africa', 'text_b': None, 'label': 9},\n",
       " {'guid': 9476, 'text_a': 'launch block offer', 'text_b': None, 'label': 9},\n",
       " {'guid': 9489, 'text_a': 'swallow ireland first eur 130m deal', 'text_b': None, 'label': 7},\n",
       " {'guid': 9501, 'text_a': 'deliver lithium beneficiation plant amg brazil', 'text_b': None, 'label': 9},\n",
       " {'guid': 9507, 'text_a': 'enel invest mln euro romania', 'text_b': None, 'label': 2},\n",
       " {'guid': 9509, 'text_a': 'saskia de brauw front latest hm studio collection', 'text_b': None, 'label': 10},\n",
       " {'guid': 9514, 'text_a': 'uk scandalhit bank ax chief executive', 'text_b': None, 'label': 0},\n",
       " {'guid': 9517, 'text_a': 'banco santander sa agreement ge money bank ab', 'text_b': None, 'label': 13},\n",
       " {'guid': 9531, 'text_a': 'geely oked cbrc set automotive jointventure', 'text_b': None, 'label': 14},\n",
       " {'guid': 9543, 'text_a': 'first land berlin new', 'text_b': None, 'label': 2},\n",
       " {'guid': 9544, 'text_a': 'adding energy nouryon form first paneuropean consortium future farm', 'text_b': None, 'label': 13},\n",
       " {'guid': 9552, 'text_a': 'shed izarra deal spirited', 'text_b': None, 'label': 1},\n",
       " {'guid': 9567, 'text_a': 'us app monitor mobile performance smukfest', 'text_b': None, 'label': 9},\n",
       " {'guid': 9601, 'text_a': 'italy enel begin building farm western mexicomexico energy', 'text_b': None, 'label': 2},\n",
       " {'guid': 9629, 'text_a': 'cruise offer travel agent new â\\x80cruise nightâ\\x80\\x99 sale marketing kit', 'text_b': None, 'label': 8},\n",
       " {'guid': 9642, 'text_a': 'plc private placement usd 600m', 'text_b': None, 'label': 3},\n",
       " {'guid': 9665, 'text_a': 'deutsche bank appoints wealth management head north asia', 'text_b': None, 'label': 9},\n",
       " {'guid': 9675, 'text_a': 'early christmas present customer retailer cut petrol price 2p per litre', 'text_b': None, 'label': 6},\n",
       " {'guid': 9689, 'text_a': 'bank would like invite application mobile mortgage manager based dublin month period expected achieve ambitious new mortgage business target meeting customer market mortgage carefully reviewing need recommending mortgage solution suitable appropriate need', 'text_b': None, 'label': 4},\n",
       " {'guid': 9694, 'text_a': 'add seat bristol easter additional flight week sale', 'text_b': None, 'label': 6},\n",
       " {'guid': 9697, 'text_a': 'ehealth company trialbee sign agreement nordisktrialbee sign agreement erecruitment patient clinical study', 'text_b': None, 'label': 13},\n",
       " {'guid': 9705, 'text_a': 'system unit hire high technology graduate two year', 'text_b': None, 'label': 4},\n",
       " {'guid': 9719, 'text_a': 'siemens equips new kia automobile plant distribution technology', 'text_b': None, 'label': 9},\n",
       " {'guid': 9734, 'text_a': 'supply integrated energy management solution optimize generation network operation faroe island', 'text_b': None, 'label': 5},\n",
       " {'guid': 9741, 'text_a': 'deal snapshot china cmoc acquires niobium phosphate business miner american', 'text_b': None, 'label': 9},\n",
       " {'guid': 9794, 'text_a': 'institute cancer research join research consortium', 'text_b': None, 'label': 9},\n",
       " {'guid': 9807, 'text_a': 'deal snapshot marsh mclennan company close acquisition lloyd', 'text_b': None, 'label': 9},\n",
       " {'guid': 9819, 'text_a': 'delhaize zycus drive procurement transformation', 'text_b': None, 'label': 13},\n",
       " {'guid': 9838, 'text_a': 'deutsche telekom coax customer switch ip tech', 'text_b': None, 'label': 6},\n",
       " {'guid': 9854, 'text_a': 'change organizational structure two global business unit', 'text_b': None, 'label': 9},\n",
       " {'guid': 9867, 'text_a': 'alcatellucent deploy 4g lte ip networking solution throughout scandinavia', 'text_b': None, 'label': 8},\n",
       " {'guid': 9873, 'text_a': 'conjoule close series investment innovation hub tepco', 'text_b': None, 'label': 9},\n",
       " {'guid': 9875, 'text_a': 'price war start entry level hatchback segment launch kwid', 'text_b': None, 'label': 9},\n",
       " {'guid': 9884, 'text_a': 'open digital branch qatar', 'text_b': None, 'label': 5},\n",
       " {'guid': 9904, 'text_a': 'orange poland cancel minimum fee nju mobile', 'text_b': None, 'label': 6},\n",
       " {'guid': 9924, 'text_a': 'win first transportation contract vietnam hanoi metro', 'text_b': None, 'label': 5},\n",
       " {'guid': 9931, 'text_a': 'autogrid release integrated adms derms solution', 'text_b': None, 'label': 8},\n",
       " {'guid': 9946, 'text_a': 'alstoms hydrogen train enters regular passenger service', 'text_b': None, 'label': 5},\n",
       " {'guid': 9947, 'text_a': 'sweden mtgs viaplay', 'text_b': None, 'label': 13},\n",
       " {'guid': 9961, 'text_a': 'talk set ice cream jv uk rr', 'text_b': None, 'label': 14},\n",
       " {'guid': 9974, 'text_a': 'alcatellucent enterprise announces hybrid communication blueprint accelerate ucaas cpaas usage', 'text_b': None, 'label': 10},\n",
       " {'guid': 9988, 'text_a': 'investment change name pgim investment', 'text_b': None, 'label': 6},\n",
       " {'guid': 10007, 'text_a': 'highquality safe new elastollan grade food contact applicationssafe food contact application elastollan fc portfolio', 'text_b': None, 'label': 10},\n",
       " {'guid': 10025, 'text_a': 'uk open order book tiguan', 'text_b': None, 'label': 8},\n",
       " {'guid': 10049, 'text_a': 'uem edgenta sign agreement amanah maybank invest cimb invest', 'text_b': None, 'label': 9},\n",
       " {'guid': 10072, 'text_a': 'officially inaugurates construction nunez de balboa photovoltaic plant', 'text_b': None, 'label': 9},\n",
       " {'guid': 10075, 'text_a': 'orange spain launch new euro contest', 'text_b': None, 'label': 9},\n",
       " {'guid': 10103, 'text_a': 'lloyd strengthen position pension market via befrank buyout analyst', 'text_b': None, 'label': 14},\n",
       " {'guid': 10204, 'text_a': 'gnw announcement ag regarding board renewal', 'text_b': None, 'label': 0},\n",
       " {'guid': 10211, 'text_a': 'market chatter credit group among bank bidding swiss arm grupo pactual reuters', 'text_b': None, 'label': 14},\n",
       " {'guid': 10231, 'text_a': 'top news royal mail sell nine elm plot telford help buyer', 'text_b': None, 'label': 1},\n",
       " {'guid': 10235, 'text_a': 'slows bakery collaboration plan', 'text_b': None, 'label': 9},\n",
       " {'guid': 10243, 'text_a': 'build uniform customer experience grocery trade', 'text_b': None, 'label': 6},\n",
       " {'guid': 10254, 'text_a': 'spain buy gwh omip solar auction', 'text_b': None, 'label': 14},\n",
       " {'guid': 10267, 'text_a': 'group plc equity raise acquisition', 'text_b': None, 'label': 9},\n",
       " {'guid': 10270, 'text_a': 'business solution roll north america', 'text_b': None, 'label': 5},\n",
       " {'guid': 10276, 'text_a': 'italy launch naples winter schedule', 'text_b': None, 'label': 9},\n",
       " {'guid': 10277, 'text_a': 'national replace gas main street newham', 'text_b': None, 'label': 11},\n",
       " {'guid': 10285, 'text_a': 'sanofiregeneron conduct phase iib trial eczema drug', 'text_b': None, 'label': 12},\n",
       " {'guid': 10335, 'text_a': 'sir crowned new celebrity makeup artist loreal', 'text_b': None, 'label': 6},\n",
       " {'guid': 10349, 'text_a': 'moneysupermarketcom group plc appointment genevieve shore', 'text_b': None, 'label': 9},\n",
       " {'guid': 10355, 'text_a': 'partnership expands training portfolio', 'text_b': None, 'label': 2},\n",
       " {'guid': 10378, 'text_a': 'kasa bank sa second announcement contemplated merger pko bank sa bank polska sacurrent report second announcement contemplated merger pko bank sa bank polska sa', 'text_b': None, 'label': 7},\n",
       " {'guid': 10379, 'text_a': 'dgapnews bank ag supervisory board bank ag reappoints hermann merkens chairman management board prior expiry contract another term five year english', 'text_b': None, 'label': 0},\n",
       " {'guid': 10382, 'text_a': 'connects 100mw solar plant india', 'text_b': None, 'label': 9},\n",
       " {'guid': 10388, 'text_a': 'welcome 3g talk text appeal spread even', 'text_b': None, 'label': 8},\n",
       " {'guid': 10398, 'text_a': 'telefonica huawei collaborate accelerate digital adoption market', 'text_b': None, 'label': 9},\n",
       " {'guid': 10407, 'text_a': 'bosch connected device solution iot', 'text_b': None, 'label': 13},\n",
       " {'guid': 10432, 'text_a': 'announces new data broad hiv program croi', 'text_b': None, 'label': 9},\n",
       " {'guid': 10452, 'text_a': 'schreiber appointed noodle company board director', 'text_b': None, 'label': 9},\n",
       " {'guid': 10463, 'text_a': 'loréal transforms athome hair color experience launch colorco new directtoconsumer brand specializing personalized hair color powered professional colorist', 'text_b': None, 'label': 5},\n",
       " {'guid': 10471, 'text_a': 'brings dooloop music tv channel smart tv', 'text_b': None, 'label': 10},\n",
       " {'guid': 10521, 'text_a': 'announces increase backlog 537m', 'text_b': None, 'label': 9},\n",
       " {'guid': 10524, 'text_a': 'accused exbarclays chief quits board', 'text_b': None, 'label': 0},\n",
       " {'guid': 10549, 'text_a': 'bridge alliance member access ondemand connectivity consumer iot device press release issued', 'text_b': None, 'label': 9},\n",
       " {'guid': 10592, 'text_a': 'launch reusable bamboo cup coffee go', 'text_b': None, 'label': 10},\n",
       " {'guid': 10593, 'text_a': 'quintin price leave deutsche bank', 'text_b': None, 'label': 0},\n",
       " {'guid': 10620, 'text_a': 'jesuit launch two electrician training program lubumbashi electrician trained region lacking qualified worker', 'text_b': None, 'label': 9},\n",
       " {'guid': 10639, 'text_a': 'hire ceo replace hainer', 'text_b': None, 'label': 9},\n",
       " {'guid': 10645, 'text_a': 'hubert zajicek elected worldsteel executive committee', 'text_b': None, 'label': 9},\n",
       " {'guid': 10657, 'text_a': 'holding issue 5year eur850 million eurobond fixed coupon', 'text_b': None, 'label': 3},\n",
       " {'guid': 10665, 'text_a': 'annica bresky leave', 'text_b': None, 'label': 0},\n",
       " {'guid': 10676, 'text_a': 'newsbox group invests aud million farm development', 'text_b': None, 'label': 14},\n",
       " {'guid': 10700, 'text_a': 'first ever kidfriendly christmas veg shape launched', 'text_b': None, 'label': 10},\n",
       " {'guid': 10702, 'text_a': 'change board directorsnathalie rachou mark hughes nominated election board director group ag forthcoming annual general meeting david sidwell isabelle romy standing reelection', 'text_b': None, 'label': 0},\n",
       " {'guid': 10727, 'text_a': 'blockchain open new era authentic luxury', 'text_b': None, 'label': 9},\n",
       " {'guid': 10728, 'text_a': 'worker strike total north sea rig', 'text_b': None, 'label': 4},\n",
       " {'guid': 10797, 'text_a': 'romania add smart x9 flagship smartphone offer', 'text_b': None, 'label': 10},\n",
       " {'guid': 10799, 'text_a': 'ignacio galan emphasised environment offer opportunity creating wealth job wellbeing', 'text_b': None, 'label': 9}]"
      ]
     },
     "execution_count": 46,
     "metadata": {},
     "output_type": "execute_result"
    }
   ],
   "source": [
    "wrong_predictions"
   ]
  },
  {
   "cell_type": "code",
   "execution_count": null,
   "id": "553f196d",
   "metadata": {},
   "outputs": [],
   "source": []
  },
  {
   "cell_type": "code",
   "execution_count": 47,
   "id": "5720f3ea",
   "metadata": {},
   "outputs": [
    {
     "data": {
      "text/html": [
       "<div>\n",
       "<style scoped>\n",
       "    .dataframe tbody tr th:only-of-type {\n",
       "        vertical-align: middle;\n",
       "    }\n",
       "\n",
       "    .dataframe tbody tr th {\n",
       "        vertical-align: top;\n",
       "    }\n",
       "\n",
       "    .dataframe thead th {\n",
       "        text-align: right;\n",
       "    }\n",
       "</style>\n",
       "<table border=\"1\" class=\"dataframe\">\n",
       "  <thead>\n",
       "    <tr style=\"text-align: right;\">\n",
       "      <th></th>\n",
       "      <th>id</th>\n",
       "      <th>Headline</th>\n",
       "      <th>category</th>\n",
       "      <th>cleaned_headline</th>\n",
       "      <th>label_encoded</th>\n",
       "    </tr>\n",
       "  </thead>\n",
       "  <tbody>\n",
       "    <tr>\n",
       "      <th>0</th>\n",
       "      <td>194578</td>\n",
       "      <td>Head Line: US Patent granted to BASF SE (Delaw...</td>\n",
       "      <td>None</td>\n",
       "      <td>head u patent granted se delaware may titled c...</td>\n",
       "      <td>9</td>\n",
       "    </tr>\n",
       "    <tr>\n",
       "      <th>1</th>\n",
       "      <td>564295</td>\n",
       "      <td>Societe Generale Launches a Next-Generation Ca...</td>\n",
       "      <td>None</td>\n",
       "      <td>societe generale launch nextgeneration card in...</td>\n",
       "      <td>9</td>\n",
       "    </tr>\n",
       "    <tr>\n",
       "      <th>2</th>\n",
       "      <td>504138</td>\n",
       "      <td>BARCLAYS PLC Form 8.3 - EUTELSAT COMMUNICATION...</td>\n",
       "      <td>None</td>\n",
       "      <td>plc form communication</td>\n",
       "      <td>9</td>\n",
       "    </tr>\n",
       "    <tr>\n",
       "      <th>3</th>\n",
       "      <td>91379</td>\n",
       "      <td>ASML: 4Q Earnings Snapshot</td>\n",
       "      <td>None</td>\n",
       "      <td>4q earnings snapshot</td>\n",
       "      <td>9</td>\n",
       "    </tr>\n",
       "    <tr>\n",
       "      <th>4</th>\n",
       "      <td>265750</td>\n",
       "      <td>Form 8.3 - AXA INVESTMENT MANAGERS : Booker Gr...</td>\n",
       "      <td>None</td>\n",
       "      <td>form investment manager group plc</td>\n",
       "      <td>9</td>\n",
       "    </tr>\n",
       "    <tr>\n",
       "      <th>...</th>\n",
       "      <td>...</td>\n",
       "      <td>...</td>\n",
       "      <td>...</td>\n",
       "      <td>...</td>\n",
       "      <td>...</td>\n",
       "    </tr>\n",
       "    <tr>\n",
       "      <th>43241</th>\n",
       "      <td>1329576</td>\n",
       "      <td>Tomra Systems ASA: TOM: Purchase of own shares</td>\n",
       "      <td>Financing</td>\n",
       "      <td>system asa tom purchase share</td>\n",
       "      <td>3</td>\n",
       "    </tr>\n",
       "    <tr>\n",
       "      <th>43242</th>\n",
       "      <td>671948</td>\n",
       "      <td>Swiss Federal Institute of Intellectual Proper...</td>\n",
       "      <td>None</td>\n",
       "      <td>swiss federal institute intellectual granted p...</td>\n",
       "      <td>9</td>\n",
       "    </tr>\n",
       "    <tr>\n",
       "      <th>43243</th>\n",
       "      <td>1057600</td>\n",
       "      <td>ICON: Pfizer and Roche Join ADDPLAN DF Consort...</td>\n",
       "      <td>Strategic alliance</td>\n",
       "      <td>icon pfizer join addplan df consortiumnew memb...</td>\n",
       "      <td>13</td>\n",
       "    </tr>\n",
       "    <tr>\n",
       "      <th>43244</th>\n",
       "      <td>1036538</td>\n",
       "      <td>Rio Tinto PLC Transaction in Own Shares -3-</td>\n",
       "      <td>None</td>\n",
       "      <td>plc transaction share</td>\n",
       "      <td>9</td>\n",
       "    </tr>\n",
       "    <tr>\n",
       "      <th>43245</th>\n",
       "      <td>1060958</td>\n",
       "      <td>Roche Building Capacity To Front Next Generati...</td>\n",
       "      <td>None</td>\n",
       "      <td>building capacity front generation epigenetic ...</td>\n",
       "      <td>9</td>\n",
       "    </tr>\n",
       "  </tbody>\n",
       "</table>\n",
       "<p>43246 rows × 5 columns</p>\n",
       "</div>"
      ],
      "text/plain": [
       "            id                                           Headline  \\\n",
       "0       194578  Head Line: US Patent granted to BASF SE (Delaw...   \n",
       "1       564295  Societe Generale Launches a Next-Generation Ca...   \n",
       "2       504138  BARCLAYS PLC Form 8.3 - EUTELSAT COMMUNICATION...   \n",
       "3        91379                         ASML: 4Q Earnings Snapshot   \n",
       "4       265750  Form 8.3 - AXA INVESTMENT MANAGERS : Booker Gr...   \n",
       "...        ...                                                ...   \n",
       "43241  1329576     Tomra Systems ASA: TOM: Purchase of own shares   \n",
       "43242   671948  Swiss Federal Institute of Intellectual Proper...   \n",
       "43243  1057600  ICON: Pfizer and Roche Join ADDPLAN DF Consort...   \n",
       "43244  1036538        Rio Tinto PLC Transaction in Own Shares -3-   \n",
       "43245  1060958  Roche Building Capacity To Front Next Generati...   \n",
       "\n",
       "                 category                                   cleaned_headline  \\\n",
       "0                    None  head u patent granted se delaware may titled c...   \n",
       "1                    None  societe generale launch nextgeneration card in...   \n",
       "2                    None                             plc form communication   \n",
       "3                    None                               4q earnings snapshot   \n",
       "4                    None                  form investment manager group plc   \n",
       "...                   ...                                                ...   \n",
       "43241           Financing                      system asa tom purchase share   \n",
       "43242                None  swiss federal institute intellectual granted p...   \n",
       "43243  Strategic alliance  icon pfizer join addplan df consortiumnew memb...   \n",
       "43244                None                              plc transaction share   \n",
       "43245                None  building capacity front generation epigenetic ...   \n",
       "\n",
       "       label_encoded  \n",
       "0                  9  \n",
       "1                  9  \n",
       "2                  9  \n",
       "3                  9  \n",
       "4                  9  \n",
       "...              ...  \n",
       "43241              3  \n",
       "43242              9  \n",
       "43243             13  \n",
       "43244              9  \n",
       "43245              9  \n",
       "\n",
       "[43246 rows x 5 columns]"
      ]
     },
     "execution_count": 47,
     "metadata": {},
     "output_type": "execute_result"
    }
   ],
   "source": [
    "df_train"
   ]
  },
  {
   "cell_type": "code",
   "execution_count": 14,
   "id": "ba052d3f",
   "metadata": {},
   "outputs": [],
   "source": [
    "# Prefixing each row of the category column with '__label__'\n",
    "df_train.iloc[:, 2] = df_train.iloc[:, 2].apply(lambda x: '__label__' + x)\n",
    "df_test.iloc[:, 2] = df_test.iloc[:, 2].apply(lambda x: '__label__' + x)"
   ]
  },
  {
   "cell_type": "code",
   "execution_count": 15,
   "id": "ed86fe4e",
   "metadata": {},
   "outputs": [
    {
     "data": {
      "text/html": [
       "<div>\n",
       "<style scoped>\n",
       "    .dataframe tbody tr th:only-of-type {\n",
       "        vertical-align: middle;\n",
       "    }\n",
       "\n",
       "    .dataframe tbody tr th {\n",
       "        vertical-align: top;\n",
       "    }\n",
       "\n",
       "    .dataframe thead th {\n",
       "        text-align: right;\n",
       "    }\n",
       "</style>\n",
       "<table border=\"1\" class=\"dataframe\">\n",
       "  <thead>\n",
       "    <tr style=\"text-align: right;\">\n",
       "      <th></th>\n",
       "      <th>id</th>\n",
       "      <th>Headline</th>\n",
       "      <th>category</th>\n",
       "      <th>cleaned_headline</th>\n",
       "    </tr>\n",
       "  </thead>\n",
       "  <tbody>\n",
       "    <tr>\n",
       "      <th>0</th>\n",
       "      <td>194578</td>\n",
       "      <td>Head Line: US Patent granted to BASF SE (Delaw...</td>\n",
       "      <td>__label__None</td>\n",
       "      <td>head u patent granted se delaware may titled c...</td>\n",
       "    </tr>\n",
       "    <tr>\n",
       "      <th>1</th>\n",
       "      <td>564295</td>\n",
       "      <td>Societe Generale Launches a Next-Generation Ca...</td>\n",
       "      <td>__label__None</td>\n",
       "      <td>societe generale launch nextgeneration card in...</td>\n",
       "    </tr>\n",
       "    <tr>\n",
       "      <th>2</th>\n",
       "      <td>504138</td>\n",
       "      <td>BARCLAYS PLC Form 8.3 - EUTELSAT COMMUNICATION...</td>\n",
       "      <td>__label__None</td>\n",
       "      <td>plc form communication</td>\n",
       "    </tr>\n",
       "    <tr>\n",
       "      <th>3</th>\n",
       "      <td>91379</td>\n",
       "      <td>ASML: 4Q Earnings Snapshot</td>\n",
       "      <td>__label__None</td>\n",
       "      <td>4q earnings snapshot</td>\n",
       "    </tr>\n",
       "    <tr>\n",
       "      <th>4</th>\n",
       "      <td>265750</td>\n",
       "      <td>Form 8.3 - AXA INVESTMENT MANAGERS : Booker Gr...</td>\n",
       "      <td>__label__None</td>\n",
       "      <td>form investment manager group plc</td>\n",
       "    </tr>\n",
       "    <tr>\n",
       "      <th>...</th>\n",
       "      <td>...</td>\n",
       "      <td>...</td>\n",
       "      <td>...</td>\n",
       "      <td>...</td>\n",
       "    </tr>\n",
       "    <tr>\n",
       "      <th>43241</th>\n",
       "      <td>1329576</td>\n",
       "      <td>Tomra Systems ASA: TOM: Purchase of own shares</td>\n",
       "      <td>__label__Financing</td>\n",
       "      <td>system asa tom purchase share</td>\n",
       "    </tr>\n",
       "    <tr>\n",
       "      <th>43242</th>\n",
       "      <td>671948</td>\n",
       "      <td>Swiss Federal Institute of Intellectual Proper...</td>\n",
       "      <td>__label__None</td>\n",
       "      <td>swiss federal institute intellectual granted p...</td>\n",
       "    </tr>\n",
       "    <tr>\n",
       "      <th>43243</th>\n",
       "      <td>1057600</td>\n",
       "      <td>ICON: Pfizer and Roche Join ADDPLAN DF Consort...</td>\n",
       "      <td>__label__Strategic alliance</td>\n",
       "      <td>icon pfizer join addplan df consortiumnew memb...</td>\n",
       "    </tr>\n",
       "    <tr>\n",
       "      <th>43244</th>\n",
       "      <td>1036538</td>\n",
       "      <td>Rio Tinto PLC Transaction in Own Shares -3-</td>\n",
       "      <td>__label__None</td>\n",
       "      <td>plc transaction share</td>\n",
       "    </tr>\n",
       "    <tr>\n",
       "      <th>43245</th>\n",
       "      <td>1060958</td>\n",
       "      <td>Roche Building Capacity To Front Next Generati...</td>\n",
       "      <td>__label__None</td>\n",
       "      <td>building capacity front generation epigenetic ...</td>\n",
       "    </tr>\n",
       "  </tbody>\n",
       "</table>\n",
       "<p>43246 rows × 4 columns</p>\n",
       "</div>"
      ],
      "text/plain": [
       "            id                                           Headline  \\\n",
       "0       194578  Head Line: US Patent granted to BASF SE (Delaw...   \n",
       "1       564295  Societe Generale Launches a Next-Generation Ca...   \n",
       "2       504138  BARCLAYS PLC Form 8.3 - EUTELSAT COMMUNICATION...   \n",
       "3        91379                         ASML: 4Q Earnings Snapshot   \n",
       "4       265750  Form 8.3 - AXA INVESTMENT MANAGERS : Booker Gr...   \n",
       "...        ...                                                ...   \n",
       "43241  1329576     Tomra Systems ASA: TOM: Purchase of own shares   \n",
       "43242   671948  Swiss Federal Institute of Intellectual Proper...   \n",
       "43243  1057600  ICON: Pfizer and Roche Join ADDPLAN DF Consort...   \n",
       "43244  1036538        Rio Tinto PLC Transaction in Own Shares -3-   \n",
       "43245  1060958  Roche Building Capacity To Front Next Generati...   \n",
       "\n",
       "                          category  \\\n",
       "0                    __label__None   \n",
       "1                    __label__None   \n",
       "2                    __label__None   \n",
       "3                    __label__None   \n",
       "4                    __label__None   \n",
       "...                            ...   \n",
       "43241           __label__Financing   \n",
       "43242                __label__None   \n",
       "43243  __label__Strategic alliance   \n",
       "43244                __label__None   \n",
       "43245                __label__None   \n",
       "\n",
       "                                        cleaned_headline  \n",
       "0      head u patent granted se delaware may titled c...  \n",
       "1      societe generale launch nextgeneration card in...  \n",
       "2                                 plc form communication  \n",
       "3                                   4q earnings snapshot  \n",
       "4                      form investment manager group plc  \n",
       "...                                                  ...  \n",
       "43241                      system asa tom purchase share  \n",
       "43242  swiss federal institute intellectual granted p...  \n",
       "43243  icon pfizer join addplan df consortiumnew memb...  \n",
       "43244                              plc transaction share  \n",
       "43245  building capacity front generation epigenetic ...  \n",
       "\n",
       "[43246 rows x 4 columns]"
      ]
     },
     "execution_count": 15,
     "metadata": {},
     "output_type": "execute_result"
    }
   ],
   "source": [
    "df_train"
   ]
  },
  {
   "cell_type": "code",
   "execution_count": 18,
   "id": "288b008b",
   "metadata": {},
   "outputs": [],
   "source": [
    "import fasttext\n",
    "import csv"
   ]
  },
  {
   "cell_type": "code",
   "execution_count": 26,
   "id": "9caee448",
   "metadata": {},
   "outputs": [],
   "source": [
    "# Saving the CSV file as a text file to train/test the classifier\n",
    "train_fasttext = df_train[['category', 'cleaned_headline']].to_csv('train.txt', \n",
    "                                          index = False, \n",
    "                                          sep = ' ',\n",
    "                                          header = None, \n",
    "                                          quoting = csv.QUOTE_NONE, \n",
    "                                          quotechar = \"\", \n",
    "                                          escapechar = \" \")\n",
    "\n",
    "test_fasttext = df_test[['category', 'cleaned_headline']].to_csv('test.txt', \n",
    "                                     index = False, \n",
    "                                     sep = ' ',\n",
    "                                     header = None, \n",
    "                                     quoting = csv.QUOTE_NONE, \n",
    "                                     quotechar = \"\", \n",
    "                                     escapechar = \" \")\n"
   ]
  },
  {
   "cell_type": "code",
   "execution_count": 36,
   "id": "50640b0b",
   "metadata": {},
   "outputs": [
    {
     "data": {
      "text/plain": [
       "0         unitedhealth group lift buy rating deutsche bank\n",
       "1                                    plc form eptnonri plc\n",
       "2                             blackrock group form sky plc\n",
       "3        fda grant mercks keytruda priority review firs...\n",
       "4        profile cicile tandeau de marsac group general...\n",
       "                               ...                        \n",
       "10805                                  plc form prezzo plc\n",
       "10806      uk contract award emu win contract hydrodynamic\n",
       "10807    u patent granted system dk april titled bearin...\n",
       "10808                     morgan stanley form eptnonri plc\n",
       "10809    military federal contract awarded system infor...\n",
       "Name: cleaned_headline, Length: 10810, dtype: object"
      ]
     },
     "execution_count": 36,
     "metadata": {},
     "output_type": "execute_result"
    }
   ],
   "source": [
    "X_test"
   ]
  },
  {
   "cell_type": "code",
   "execution_count": 31,
   "id": "f8d381a8",
   "metadata": {},
   "outputs": [],
   "source": [
    "# Training the fastText classifier\n",
    "model = fasttext.train_supervised('train.txt', wordNgrams = 2, epoch = 25, loss=’hs’)"
   ]
  },
  {
   "cell_type": "code",
   "execution_count": 32,
   "id": "8e17f7b8",
   "metadata": {},
   "outputs": [
    {
     "data": {
      "text/plain": [
       "(10810, 0.9624421831637373, 0.9624421831637373)"
      ]
     },
     "execution_count": 32,
     "metadata": {},
     "output_type": "execute_result"
    }
   ],
   "source": [
    "# Evaluating performance on the entire test file\n",
    "model.test('test.txt')     "
   ]
  },
  {
   "cell_type": "code",
   "execution_count": 40,
   "id": "3088fc72",
   "metadata": {},
   "outputs": [],
   "source": [
    "# Make predictions for each text\n",
    "predictions = []\n",
    "for text in X_test:\n",
    "    prediction = model.predict(text)\n",
    "    predictions.append(prediction[0][0])  # Extract the predicted label\n"
   ]
  },
  {
   "cell_type": "code",
   "execution_count": 44,
   "id": "90143218",
   "metadata": {},
   "outputs": [
    {
     "data": {
      "text/plain": [
       "0        None\n",
       "1        None\n",
       "2        None\n",
       "3        None\n",
       "4        None\n",
       "         ... \n",
       "10805    None\n",
       "10806    None\n",
       "10807    None\n",
       "10808    None\n",
       "10809    None\n",
       "Name: prediction, Length: 10810, dtype: object"
      ]
     },
     "execution_count": 44,
     "metadata": {},
     "output_type": "execute_result"
    }
   ],
   "source": [
    "# Add the predictions to the DataFrame\n",
    "df_test['prediction'] = predictions\n",
    "\n",
    "# Extract the category from the prediction\n",
    "y_pred = df_test['prediction'].str.replace('__label__', '')\n",
    "\n",
    "y_pred"
   ]
  },
  {
   "cell_type": "code",
   "execution_count": 47,
   "id": "438f683e",
   "metadata": {},
   "outputs": [],
   "source": [
    "y_test = df_test['category'].str.replace('__label__', '')"
   ]
  },
  {
   "cell_type": "code",
   "execution_count": 48,
   "id": "7613ef00",
   "metadata": {},
   "outputs": [
    {
     "name": "stderr",
     "output_type": "stream",
     "text": [
      "/Users/juarel/opt/anaconda3/lib/python3.8/site-packages/sklearn/metrics/_classification.py:1344: UndefinedMetricWarning: Precision is ill-defined and being set to 0.0 in labels with no predicted samples. Use `zero_division` parameter to control this behavior.\n",
      "  _warn_prf(average, modifier, msg_start, len(result))\n",
      "/Users/juarel/opt/anaconda3/lib/python3.8/site-packages/sklearn/metrics/_classification.py:1344: UndefinedMetricWarning: Recall is ill-defined and being set to 0.0 in labels with no true samples. Use `zero_division` parameter to control this behavior.\n",
      "  _warn_prf(average, modifier, msg_start, len(result))\n"
     ]
    },
    {
     "data": {
      "text/plain": [
       "(0.8980573543015726,\n",
       " 0.07389683601477365,\n",
       " 0.06907068747330308,\n",
       " 0.07135904011448346)"
      ]
     },
     "execution_count": 48,
     "metadata": {},
     "output_type": "execute_result"
    }
   ],
   "source": [
    "accuracy, precision, recall, f1 = get_classification_metrics(y_pred, y_test)\n",
    "accuracy, precision, recall, f1"
   ]
  },
  {
   "cell_type": "code",
   "execution_count": 22,
   "id": "76ae8826",
   "metadata": {
    "scrolled": true
   },
   "outputs": [
    {
     "data": {
      "application/vnd.jupyter.widget-view+json": {
       "model_id": "6e69be139d934a74a769bd508e60acdb",
       "version_major": 2,
       "version_minor": 0
      },
      "text/plain": [
       "Downloading (…)lve/main/config.json:   0%|          | 0.00/481 [00:00<?, ?B/s]"
      ]
     },
     "metadata": {},
     "output_type": "display_data"
    },
    {
     "data": {
      "application/vnd.jupyter.widget-view+json": {
       "model_id": "ad852f3b74274a7db2605d9a9c19ccc1",
       "version_major": 2,
       "version_minor": 0
      },
      "text/plain": [
       "Downloading (…)olve/main/vocab.json:   0%|          | 0.00/899k [00:00<?, ?B/s]"
      ]
     },
     "metadata": {},
     "output_type": "display_data"
    },
    {
     "data": {
      "application/vnd.jupyter.widget-view+json": {
       "model_id": "4c04ac55119a4a37b733edf55cc3d2b7",
       "version_major": 2,
       "version_minor": 0
      },
      "text/plain": [
       "Downloading (…)olve/main/merges.txt:   0%|          | 0.00/456k [00:00<?, ?B/s]"
      ]
     },
     "metadata": {},
     "output_type": "display_data"
    },
    {
     "data": {
      "application/vnd.jupyter.widget-view+json": {
       "model_id": "8babd61e64cb4829b3b950f8d603deb9",
       "version_major": 2,
       "version_minor": 0
      },
      "text/plain": [
       "Downloading (…)/main/tokenizer.json:   0%|          | 0.00/1.36M [00:00<?, ?B/s]"
      ]
     },
     "metadata": {},
     "output_type": "display_data"
    },
    {
     "data": {
      "application/vnd.jupyter.widget-view+json": {
       "model_id": "0ac9191dad0247d5930e8b8a48e781e2",
       "version_major": 2,
       "version_minor": 0
      },
      "text/plain": [
       "Downloading pytorch_model.bin:   0%|          | 0.00/501M [00:00<?, ?B/s]"
      ]
     },
     "metadata": {},
     "output_type": "display_data"
    }
   ],
   "source": [
    "from transformers import AutoTokenizer, AutoModelForSequenceClassification\n",
    "\n",
    "# Load the tokenizer and model\n",
    "tokenizer = AutoTokenizer.from_pretrained(\"roberta-base\")\n",
    "model = AutoModelForSequenceClassification.from_pretrained(\"roberta-base\")\n",
    "\n"
   ]
  },
  {
   "cell_type": "code",
   "execution_count": 23,
   "id": "8df3c4b7",
   "metadata": {},
   "outputs": [],
   "source": [
    "# Tokenize your text data\n",
    "text = \"This is an example sentence.\"\n",
    "inputs = tokenizer(text, return_tensors=\"pt\")\n",
    "\n",
    "# Pass the tokenized inputs through the model\n",
    "outputs = model(**inputs)\n",
    "\n",
    "# Get the logits (predictions) from the model's output\n",
    "logits = outputs.logits\n"
   ]
  },
  {
   "cell_type": "code",
   "execution_count": 25,
   "id": "549be457",
   "metadata": {},
   "outputs": [
    {
     "data": {
      "text/plain": [
       "{'input_ids': tensor([[   0,  713,   16,   41, 1246, 3645,    4,    2]]), 'attention_mask': tensor([[1, 1, 1, 1, 1, 1, 1, 1]])}"
      ]
     },
     "execution_count": 25,
     "metadata": {},
     "output_type": "execute_result"
    }
   ],
   "source": [
    "inputs"
   ]
  },
  {
   "cell_type": "code",
   "execution_count": 35,
   "id": "b2f5a56e",
   "metadata": {},
   "outputs": [],
   "source": [
    "TrainingDataframe = list(zip( list(X_train), list(y_train)))\n",
    "TestDataframe = list(zip( list(X_test), list(y_test)))"
   ]
  },
  {
   "cell_type": "code",
   "execution_count": 41,
   "id": "af4f0b74",
   "metadata": {},
   "outputs": [
    {
     "ename": "ValueError",
     "evalue": "invalid literal for int() with base 10: 'N'",
     "output_type": "error",
     "traceback": [
      "\u001b[0;31m---------------------------------------------------------------------------\u001b[0m",
      "\u001b[0;31mValueError\u001b[0m                                Traceback (most recent call last)",
      "\u001b[0;32m<ipython-input-41-227e9d27d54f>\u001b[0m in \u001b[0;36m<module>\u001b[0;34m\u001b[0m\n\u001b[1;32m      1\u001b[0m \u001b[0mtrain_df\u001b[0m \u001b[0;34m=\u001b[0m \u001b[0mpd\u001b[0m\u001b[0;34m.\u001b[0m\u001b[0mDataFrame\u001b[0m\u001b[0;34m(\u001b[0m\u001b[0mTrainingDataframe\u001b[0m\u001b[0;34m)\u001b[0m\u001b[0;34m\u001b[0m\u001b[0;34m\u001b[0m\u001b[0m\n\u001b[1;32m      2\u001b[0m \u001b[0mtrain_df\u001b[0m\u001b[0;34m.\u001b[0m\u001b[0mcolumns\u001b[0m \u001b[0;34m=\u001b[0m \u001b[0;34m[\u001b[0m\u001b[0;34m\"text\"\u001b[0m\u001b[0;34m,\u001b[0m \u001b[0;34m\"label\"\u001b[0m\u001b[0;34m]\u001b[0m\u001b[0;34m\u001b[0m\u001b[0;34m\u001b[0m\u001b[0m\n\u001b[0;32m----> 3\u001b[0;31m \u001b[0mtrain_df\u001b[0m\u001b[0;34m[\u001b[0m\u001b[0;34m\"label\"\u001b[0m\u001b[0;34m]\u001b[0m \u001b[0;34m=\u001b[0m \u001b[0mtrain_df\u001b[0m\u001b[0;34m[\u001b[0m\u001b[0;34m\"label\"\u001b[0m\u001b[0;34m]\u001b[0m\u001b[0;34m.\u001b[0m\u001b[0mapply\u001b[0m\u001b[0;34m(\u001b[0m\u001b[0;32mlambda\u001b[0m \u001b[0mx\u001b[0m\u001b[0;34m:\u001b[0m \u001b[0mlist\u001b[0m\u001b[0;34m(\u001b[0m\u001b[0mmap\u001b[0m\u001b[0;34m(\u001b[0m\u001b[0mint\u001b[0m\u001b[0;34m,\u001b[0m \u001b[0mx\u001b[0m\u001b[0;34m)\u001b[0m\u001b[0;34m)\u001b[0m\u001b[0;34m)\u001b[0m\u001b[0;34m\u001b[0m\u001b[0;34m\u001b[0m\u001b[0m\n\u001b[0m",
      "\u001b[0;32m~/opt/anaconda3/lib/python3.8/site-packages/pandas/core/series.py\u001b[0m in \u001b[0;36mapply\u001b[0;34m(self, func, convert_dtype, args, **kwds)\u001b[0m\n\u001b[1;32m   4136\u001b[0m             \u001b[0;32melse\u001b[0m\u001b[0;34m:\u001b[0m\u001b[0;34m\u001b[0m\u001b[0;34m\u001b[0m\u001b[0m\n\u001b[1;32m   4137\u001b[0m                 \u001b[0mvalues\u001b[0m \u001b[0;34m=\u001b[0m \u001b[0mself\u001b[0m\u001b[0;34m.\u001b[0m\u001b[0mastype\u001b[0m\u001b[0;34m(\u001b[0m\u001b[0mobject\u001b[0m\u001b[0;34m)\u001b[0m\u001b[0;34m.\u001b[0m\u001b[0m_values\u001b[0m\u001b[0;34m\u001b[0m\u001b[0;34m\u001b[0m\u001b[0m\n\u001b[0;32m-> 4138\u001b[0;31m                 \u001b[0mmapped\u001b[0m \u001b[0;34m=\u001b[0m \u001b[0mlib\u001b[0m\u001b[0;34m.\u001b[0m\u001b[0mmap_infer\u001b[0m\u001b[0;34m(\u001b[0m\u001b[0mvalues\u001b[0m\u001b[0;34m,\u001b[0m \u001b[0mf\u001b[0m\u001b[0;34m,\u001b[0m \u001b[0mconvert\u001b[0m\u001b[0;34m=\u001b[0m\u001b[0mconvert_dtype\u001b[0m\u001b[0;34m)\u001b[0m\u001b[0;34m\u001b[0m\u001b[0;34m\u001b[0m\u001b[0m\n\u001b[0m\u001b[1;32m   4139\u001b[0m \u001b[0;34m\u001b[0m\u001b[0m\n\u001b[1;32m   4140\u001b[0m         \u001b[0;32mif\u001b[0m \u001b[0mlen\u001b[0m\u001b[0;34m(\u001b[0m\u001b[0mmapped\u001b[0m\u001b[0;34m)\u001b[0m \u001b[0;32mand\u001b[0m \u001b[0misinstance\u001b[0m\u001b[0;34m(\u001b[0m\u001b[0mmapped\u001b[0m\u001b[0;34m[\u001b[0m\u001b[0;36m0\u001b[0m\u001b[0;34m]\u001b[0m\u001b[0;34m,\u001b[0m \u001b[0mSeries\u001b[0m\u001b[0;34m)\u001b[0m\u001b[0;34m:\u001b[0m\u001b[0;34m\u001b[0m\u001b[0;34m\u001b[0m\u001b[0m\n",
      "\u001b[0;32mpandas/_libs/lib.pyx\u001b[0m in \u001b[0;36mpandas._libs.lib.map_infer\u001b[0;34m()\u001b[0m\n",
      "\u001b[0;32m<ipython-input-41-227e9d27d54f>\u001b[0m in \u001b[0;36m<lambda>\u001b[0;34m(x)\u001b[0m\n\u001b[1;32m      1\u001b[0m \u001b[0mtrain_df\u001b[0m \u001b[0;34m=\u001b[0m \u001b[0mpd\u001b[0m\u001b[0;34m.\u001b[0m\u001b[0mDataFrame\u001b[0m\u001b[0;34m(\u001b[0m\u001b[0mTrainingDataframe\u001b[0m\u001b[0;34m)\u001b[0m\u001b[0;34m\u001b[0m\u001b[0;34m\u001b[0m\u001b[0m\n\u001b[1;32m      2\u001b[0m \u001b[0mtrain_df\u001b[0m\u001b[0;34m.\u001b[0m\u001b[0mcolumns\u001b[0m \u001b[0;34m=\u001b[0m \u001b[0;34m[\u001b[0m\u001b[0;34m\"text\"\u001b[0m\u001b[0;34m,\u001b[0m \u001b[0;34m\"label\"\u001b[0m\u001b[0;34m]\u001b[0m\u001b[0;34m\u001b[0m\u001b[0;34m\u001b[0m\u001b[0m\n\u001b[0;32m----> 3\u001b[0;31m \u001b[0mtrain_df\u001b[0m\u001b[0;34m[\u001b[0m\u001b[0;34m\"label\"\u001b[0m\u001b[0;34m]\u001b[0m \u001b[0;34m=\u001b[0m \u001b[0mtrain_df\u001b[0m\u001b[0;34m[\u001b[0m\u001b[0;34m\"label\"\u001b[0m\u001b[0;34m]\u001b[0m\u001b[0;34m.\u001b[0m\u001b[0mapply\u001b[0m\u001b[0;34m(\u001b[0m\u001b[0;32mlambda\u001b[0m \u001b[0mx\u001b[0m\u001b[0;34m:\u001b[0m \u001b[0mlist\u001b[0m\u001b[0;34m(\u001b[0m\u001b[0mmap\u001b[0m\u001b[0;34m(\u001b[0m\u001b[0mint\u001b[0m\u001b[0;34m,\u001b[0m \u001b[0mx\u001b[0m\u001b[0;34m)\u001b[0m\u001b[0;34m)\u001b[0m\u001b[0;34m)\u001b[0m\u001b[0;34m\u001b[0m\u001b[0;34m\u001b[0m\u001b[0m\n\u001b[0m",
      "\u001b[0;31mValueError\u001b[0m: invalid literal for int() with base 10: 'N'"
     ]
    }
   ],
   "source": [
    "train_df = pd.DataFrame(TrainingDataframe)\n",
    "train_df.columns = [\"text\", \"labels\"]\n",
    "#train_df[\"label\"] = train_df[\"label\"].apply(lambda x: list(map(int, x)))"
   ]
  },
  {
   "cell_type": "code",
   "execution_count": null,
   "id": "aca6257c",
   "metadata": {},
   "outputs": [],
   "source": []
  },
  {
   "cell_type": "code",
   "execution_count": null,
   "id": "797810f5",
   "metadata": {},
   "outputs": [],
   "source": []
  },
  {
   "cell_type": "code",
   "execution_count": null,
   "id": "bdba4889",
   "metadata": {},
   "outputs": [],
   "source": []
  },
  {
   "cell_type": "code",
   "execution_count": null,
   "id": "379b1564",
   "metadata": {},
   "outputs": [],
   "source": []
  },
  {
   "cell_type": "code",
   "execution_count": null,
   "id": "f2bc36c9",
   "metadata": {},
   "outputs": [],
   "source": []
  },
  {
   "cell_type": "code",
   "execution_count": null,
   "id": "876b203a",
   "metadata": {},
   "outputs": [],
   "source": []
  },
  {
   "cell_type": "markdown",
   "id": "a7bb63da",
   "metadata": {},
   "source": [
    "### 2.1.1 Without resampling"
   ]
  },
  {
   "cell_type": "code",
   "execution_count": 16,
   "id": "3a7f0a40",
   "metadata": {},
   "outputs": [],
   "source": [
    "# Define the resampling technique\n",
    "resampling = 'None'"
   ]
  },
  {
   "cell_type": "markdown",
   "id": "c1c32853",
   "metadata": {},
   "source": [
    "#### A. Logistic regression"
   ]
  },
  {
   "cell_type": "code",
   "execution_count": 17,
   "id": "feb03e9d",
   "metadata": {},
   "outputs": [],
   "source": [
    "# define the model characteristics\n",
    "model_name = 'cbow_log_w'\n",
    "classifier = 'logR'\n",
    "\n",
    "# Initialize the classifier\n",
    "logreg = LogisticRegression(random_state = 7)\n",
    "\n",
    "# Define the parameter grid\n",
    "param_grid_log = {\n",
    "    'penalty': ['None', 'l2'], # normal or ridge regression\n",
    "    'C': [0.1, 1, 10]          # The inverse penalization term (smaller is higher penalization)\n",
    "}"
   ]
  },
  {
   "cell_type": "code",
   "execution_count": 18,
   "id": "b0bc2428",
   "metadata": {
    "scrolled": true
   },
   "outputs": [
    {
     "name": "stdout",
     "output_type": "stream",
     "text": [
      "best parameters: {'C': 10, 'penalty': 'l2'}\n",
      "Results for cbow_log_w:\n",
      "Accuracy: 0.9148011100832563\n",
      "Precision: 0.48967905538511797\n",
      "Recall: 0.3354442829833037\n",
      "F1: 0.39040754592519994\n"
     ]
    }
   ],
   "source": [
    "# perform a grid search for the logistic regression model\n",
    "# the results are automatically stored in results_all_df and best_params_dict\n",
    "perform_grid_search(model_name, logreg, param_grid_log, X_train_cbow, X_test_cbow, y_train, y_test,\n",
    "                   vectorizer, FS, classifier, resampling)"
   ]
  },
  {
   "cell_type": "markdown",
   "id": "adb18666",
   "metadata": {},
   "source": [
    "#### B. Decision Tree"
   ]
  },
  {
   "cell_type": "code",
   "execution_count": 103,
   "id": "6b663d50",
   "metadata": {},
   "outputs": [],
   "source": [
    "# define the model characteristics\n",
    "model_name = 'cbow_DT_w'\n",
    "classifier = 'DT'\n",
    "\n",
    "# Initialize the classifier\n",
    "tree = DecisionTreeClassifier(random_state = 7)\n",
    "\n",
    "# Define the parameter grid\n",
    "param_grid_DT = {\n",
    "    'criterion': ['gini'],          # Define the splitting criteria: Gini index for node impurity\n",
    "    'min_samples_leaf': [1, 2],     # Define the minimum number of samples required to be at leaf node\n",
    "    'max_features': [None, 'sqrt']  # Define the number of features to consider when looking for the best split\n",
    "}"
   ]
  },
  {
   "cell_type": "code",
   "execution_count": 104,
   "id": "e38d4198",
   "metadata": {},
   "outputs": [
    {
     "name": "stdout",
     "output_type": "stream",
     "text": [
      "best parameters: {'criterion': 'gini', 'max_features': None, 'min_samples_leaf': 1}\n",
      "Results for cbow_DT_w:\n",
      "Accuracy: 0.8632328463103385\n",
      "Precision: 0.22000515730664244\n",
      "Recall: 0.2291982476151896\n",
      "F1: 0.22370150639969272\n"
     ]
    }
   ],
   "source": [
    "# perform a grid search for the logistic regression model\n",
    "# the results are automatically stored in results_all_df and best_params_dict\n",
    "perform_grid_search(model_name, tree, param_grid_DT, X_train_cbow, X_test_cbow, y_train, y_test,\n",
    "                   vectorizer, FS, classifier, resampling)"
   ]
  },
  {
   "cell_type": "markdown",
   "id": "e87582e6",
   "metadata": {},
   "source": [
    "#### C. Support Vector Machine"
   ]
  },
  {
   "cell_type": "code",
   "execution_count": 105,
   "id": "ba127b5b",
   "metadata": {},
   "outputs": [],
   "source": [
    "# define the model characteristics\n",
    "model_name = 'cbow_svm_w'\n",
    "classifier = 'SVM'\n",
    "\n",
    "# Initialize the classifier\n",
    "svm = SVC(random_state = 7)\n",
    "\n",
    "# Define the parameter grid\n",
    "param_grid_svm = {\n",
    "    'C': [0.1, 1, 10, 100], # inverse regularization parameter\n",
    "    'kernel': ['linear', 'poly', 'rbf'], # what type of kernel need to be used (rbf = radial kernel)\n",
    "}"
   ]
  },
  {
   "cell_type": "code",
   "execution_count": 106,
   "id": "47a7dca8",
   "metadata": {},
   "outputs": [
    {
     "name": "stdout",
     "output_type": "stream",
     "text": [
      "best parameters: {'C': 100, 'kernel': 'rbf'}\n",
      "Results for cbow_svm_w:\n",
      "Accuracy: 0.9107638246717218\n",
      "Precision: 0.4642520570714127\n",
      "Recall: 0.34885371463321097\n",
      "F1: 0.3932336178387882\n"
     ]
    }
   ],
   "source": [
    "# perform a grid search for the logistic regression model\n",
    "# the results are automatically stored in results_all_df and best_params_dict\n",
    "perform_grid_search(model_name, svm, param_grid_svm, X_train_cbow, X_test_cbow, y_train, y_test,\n",
    "                   vectorizer, FS, classifier, resampling)"
   ]
  },
  {
   "cell_type": "markdown",
   "id": "f2d27ae5",
   "metadata": {},
   "source": [
    "#### D. Random Forest Classifier"
   ]
  },
  {
   "cell_type": "code",
   "execution_count": 107,
   "id": "aa3955b0",
   "metadata": {},
   "outputs": [],
   "source": [
    "# define the model characteristics\n",
    "model_name = 'cbow_rf_w'\n",
    "classifier = 'RF'\n",
    "\n",
    "# Initialize the classifier\n",
    "rfc = RandomForestClassifier(random_state = 7, n_jobs = -1)\n",
    "\n",
    "# Define the parameter grid\n",
    "param_grid_rf = {\n",
    "    'criterion': ['gini'],          # Define the splitting criteria: Gini index for node impurity\n",
    "    'n_estimators': [100, 500],     # the number of trees to use when building the model\n",
    "    'min_samples_leaf': [1, 2],     # Define the minimum number of samples required to be at leaf node\n",
    "    'max_features': [None, 'sqrt']  # Define the number of features to consider when looking for the best split\n",
    "}"
   ]
  },
  {
   "cell_type": "code",
   "execution_count": 108,
   "id": "14eac49a",
   "metadata": {},
   "outputs": [
    {
     "ename": "KeyboardInterrupt",
     "evalue": "",
     "output_type": "error",
     "traceback": [
      "\u001b[0;31m---------------------------------------------------------------------------\u001b[0m",
      "\u001b[0;31mKeyboardInterrupt\u001b[0m                         Traceback (most recent call last)",
      "\u001b[0;32m<ipython-input-108-c9fd8dd194c1>\u001b[0m in \u001b[0;36m<module>\u001b[0;34m\u001b[0m\n\u001b[1;32m      1\u001b[0m \u001b[0;31m# perform a grid search for the logistic regression model\u001b[0m\u001b[0;34m\u001b[0m\u001b[0;34m\u001b[0m\u001b[0;34m\u001b[0m\u001b[0m\n\u001b[1;32m      2\u001b[0m \u001b[0;31m# the results are automatically stored in results_all_df and best_params_dict\u001b[0m\u001b[0;34m\u001b[0m\u001b[0;34m\u001b[0m\u001b[0;34m\u001b[0m\u001b[0m\n\u001b[0;32m----> 3\u001b[0;31m perform_grid_search(model_name, rfc, param_grid_rf, X_train_cbow, X_test_cbow, y_train, y_test,\n\u001b[0m\u001b[1;32m      4\u001b[0m                    vectorizer, FS, classifier, resampling)\n",
      "\u001b[0;32m<ipython-input-93-597a598ecee4>\u001b[0m in \u001b[0;36mperform_grid_search\u001b[0;34m(name, model, param_grid, X_train, X_test, y_train, y_test, vectorizer, FS, classifier, resampling)\u001b[0m\n\u001b[1;32m      7\u001b[0m     \u001b[0;31m# Perform the grid search using cross-validation\u001b[0m\u001b[0;34m\u001b[0m\u001b[0;34m\u001b[0m\u001b[0;34m\u001b[0m\u001b[0m\n\u001b[1;32m      8\u001b[0m     \u001b[0mgrid_search\u001b[0m \u001b[0;34m=\u001b[0m \u001b[0mGridSearchCV\u001b[0m\u001b[0;34m(\u001b[0m\u001b[0mmodel\u001b[0m\u001b[0;34m,\u001b[0m \u001b[0mparam_grid\u001b[0m\u001b[0;34m,\u001b[0m \u001b[0mcv\u001b[0m\u001b[0;34m=\u001b[0m\u001b[0mskf\u001b[0m\u001b[0;34m,\u001b[0m \u001b[0mscoring\u001b[0m\u001b[0;34m=\u001b[0m\u001b[0mscoring\u001b[0m\u001b[0;34m)\u001b[0m\u001b[0;34m\u001b[0m\u001b[0;34m\u001b[0m\u001b[0m\n\u001b[0;32m----> 9\u001b[0;31m     \u001b[0mgrid_search\u001b[0m\u001b[0;34m.\u001b[0m\u001b[0mfit\u001b[0m\u001b[0;34m(\u001b[0m\u001b[0mX_train\u001b[0m\u001b[0;34m,\u001b[0m \u001b[0my_train\u001b[0m\u001b[0;34m)\u001b[0m\u001b[0;34m\u001b[0m\u001b[0;34m\u001b[0m\u001b[0m\n\u001b[0m\u001b[1;32m     10\u001b[0m \u001b[0;34m\u001b[0m\u001b[0m\n\u001b[1;32m     11\u001b[0m     \u001b[0;31m# Get the best model and its hyperparameters\u001b[0m\u001b[0;34m\u001b[0m\u001b[0;34m\u001b[0m\u001b[0;34m\u001b[0m\u001b[0m\n",
      "\u001b[0;32m~/opt/anaconda3/lib/python3.8/site-packages/sklearn/model_selection/_search.py\u001b[0m in \u001b[0;36mfit\u001b[0;34m(self, X, y, groups, **fit_params)\u001b[0m\n\u001b[1;32m    872\u001b[0m                 \u001b[0;32mreturn\u001b[0m \u001b[0mresults\u001b[0m\u001b[0;34m\u001b[0m\u001b[0;34m\u001b[0m\u001b[0m\n\u001b[1;32m    873\u001b[0m \u001b[0;34m\u001b[0m\u001b[0m\n\u001b[0;32m--> 874\u001b[0;31m             \u001b[0mself\u001b[0m\u001b[0;34m.\u001b[0m\u001b[0m_run_search\u001b[0m\u001b[0;34m(\u001b[0m\u001b[0mevaluate_candidates\u001b[0m\u001b[0;34m)\u001b[0m\u001b[0;34m\u001b[0m\u001b[0;34m\u001b[0m\u001b[0m\n\u001b[0m\u001b[1;32m    875\u001b[0m \u001b[0;34m\u001b[0m\u001b[0m\n\u001b[1;32m    876\u001b[0m             \u001b[0;31m# multimetric is determined here because in the case of a callable\u001b[0m\u001b[0;34m\u001b[0m\u001b[0;34m\u001b[0m\u001b[0;34m\u001b[0m\u001b[0m\n",
      "\u001b[0;32m~/opt/anaconda3/lib/python3.8/site-packages/sklearn/model_selection/_search.py\u001b[0m in \u001b[0;36m_run_search\u001b[0;34m(self, evaluate_candidates)\u001b[0m\n\u001b[1;32m   1386\u001b[0m     \u001b[0;32mdef\u001b[0m \u001b[0m_run_search\u001b[0m\u001b[0;34m(\u001b[0m\u001b[0mself\u001b[0m\u001b[0;34m,\u001b[0m \u001b[0mevaluate_candidates\u001b[0m\u001b[0;34m)\u001b[0m\u001b[0;34m:\u001b[0m\u001b[0;34m\u001b[0m\u001b[0;34m\u001b[0m\u001b[0m\n\u001b[1;32m   1387\u001b[0m         \u001b[0;34m\"\"\"Search all candidates in param_grid\"\"\"\u001b[0m\u001b[0;34m\u001b[0m\u001b[0;34m\u001b[0m\u001b[0m\n\u001b[0;32m-> 1388\u001b[0;31m         \u001b[0mevaluate_candidates\u001b[0m\u001b[0;34m(\u001b[0m\u001b[0mParameterGrid\u001b[0m\u001b[0;34m(\u001b[0m\u001b[0mself\u001b[0m\u001b[0;34m.\u001b[0m\u001b[0mparam_grid\u001b[0m\u001b[0;34m)\u001b[0m\u001b[0;34m)\u001b[0m\u001b[0;34m\u001b[0m\u001b[0;34m\u001b[0m\u001b[0m\n\u001b[0m\u001b[1;32m   1389\u001b[0m \u001b[0;34m\u001b[0m\u001b[0m\n\u001b[1;32m   1390\u001b[0m \u001b[0;34m\u001b[0m\u001b[0m\n",
      "\u001b[0;32m~/opt/anaconda3/lib/python3.8/site-packages/sklearn/model_selection/_search.py\u001b[0m in \u001b[0;36mevaluate_candidates\u001b[0;34m(candidate_params, cv, more_results)\u001b[0m\n\u001b[1;32m    819\u001b[0m                     )\n\u001b[1;32m    820\u001b[0m \u001b[0;34m\u001b[0m\u001b[0m\n\u001b[0;32m--> 821\u001b[0;31m                 out = parallel(\n\u001b[0m\u001b[1;32m    822\u001b[0m                     delayed(_fit_and_score)(\n\u001b[1;32m    823\u001b[0m                         \u001b[0mclone\u001b[0m\u001b[0;34m(\u001b[0m\u001b[0mbase_estimator\u001b[0m\u001b[0;34m)\u001b[0m\u001b[0;34m,\u001b[0m\u001b[0;34m\u001b[0m\u001b[0;34m\u001b[0m\u001b[0m\n",
      "\u001b[0;32m~/opt/anaconda3/lib/python3.8/site-packages/sklearn/utils/parallel.py\u001b[0m in \u001b[0;36m__call__\u001b[0;34m(self, iterable)\u001b[0m\n\u001b[1;32m     61\u001b[0m             \u001b[0;32mfor\u001b[0m \u001b[0mdelayed_func\u001b[0m\u001b[0;34m,\u001b[0m \u001b[0margs\u001b[0m\u001b[0;34m,\u001b[0m \u001b[0mkwargs\u001b[0m \u001b[0;32min\u001b[0m \u001b[0miterable\u001b[0m\u001b[0;34m\u001b[0m\u001b[0;34m\u001b[0m\u001b[0m\n\u001b[1;32m     62\u001b[0m         )\n\u001b[0;32m---> 63\u001b[0;31m         \u001b[0;32mreturn\u001b[0m \u001b[0msuper\u001b[0m\u001b[0;34m(\u001b[0m\u001b[0;34m)\u001b[0m\u001b[0;34m.\u001b[0m\u001b[0m__call__\u001b[0m\u001b[0;34m(\u001b[0m\u001b[0miterable_with_config\u001b[0m\u001b[0;34m)\u001b[0m\u001b[0;34m\u001b[0m\u001b[0;34m\u001b[0m\u001b[0m\n\u001b[0m\u001b[1;32m     64\u001b[0m \u001b[0;34m\u001b[0m\u001b[0m\n\u001b[1;32m     65\u001b[0m \u001b[0;34m\u001b[0m\u001b[0m\n",
      "\u001b[0;32m~/opt/anaconda3/lib/python3.8/site-packages/joblib/parallel.py\u001b[0m in \u001b[0;36m__call__\u001b[0;34m(self, iterable)\u001b[0m\n\u001b[1;32m   1086\u001b[0m                 \u001b[0mself\u001b[0m\u001b[0;34m.\u001b[0m\u001b[0m_iterating\u001b[0m \u001b[0;34m=\u001b[0m \u001b[0mself\u001b[0m\u001b[0;34m.\u001b[0m\u001b[0m_original_iterator\u001b[0m \u001b[0;32mis\u001b[0m \u001b[0;32mnot\u001b[0m \u001b[0;32mNone\u001b[0m\u001b[0;34m\u001b[0m\u001b[0;34m\u001b[0m\u001b[0m\n\u001b[1;32m   1087\u001b[0m \u001b[0;34m\u001b[0m\u001b[0m\n\u001b[0;32m-> 1088\u001b[0;31m             \u001b[0;32mwhile\u001b[0m \u001b[0mself\u001b[0m\u001b[0;34m.\u001b[0m\u001b[0mdispatch_one_batch\u001b[0m\u001b[0;34m(\u001b[0m\u001b[0miterator\u001b[0m\u001b[0;34m)\u001b[0m\u001b[0;34m:\u001b[0m\u001b[0;34m\u001b[0m\u001b[0;34m\u001b[0m\u001b[0m\n\u001b[0m\u001b[1;32m   1089\u001b[0m                 \u001b[0;32mpass\u001b[0m\u001b[0;34m\u001b[0m\u001b[0;34m\u001b[0m\u001b[0m\n\u001b[1;32m   1090\u001b[0m \u001b[0;34m\u001b[0m\u001b[0m\n",
      "\u001b[0;32m~/opt/anaconda3/lib/python3.8/site-packages/joblib/parallel.py\u001b[0m in \u001b[0;36mdispatch_one_batch\u001b[0;34m(self, iterator)\u001b[0m\n\u001b[1;32m    899\u001b[0m                 \u001b[0;32mreturn\u001b[0m \u001b[0;32mFalse\u001b[0m\u001b[0;34m\u001b[0m\u001b[0;34m\u001b[0m\u001b[0m\n\u001b[1;32m    900\u001b[0m             \u001b[0;32melse\u001b[0m\u001b[0;34m:\u001b[0m\u001b[0;34m\u001b[0m\u001b[0;34m\u001b[0m\u001b[0m\n\u001b[0;32m--> 901\u001b[0;31m                 \u001b[0mself\u001b[0m\u001b[0;34m.\u001b[0m\u001b[0m_dispatch\u001b[0m\u001b[0;34m(\u001b[0m\u001b[0mtasks\u001b[0m\u001b[0;34m)\u001b[0m\u001b[0;34m\u001b[0m\u001b[0;34m\u001b[0m\u001b[0m\n\u001b[0m\u001b[1;32m    902\u001b[0m                 \u001b[0;32mreturn\u001b[0m \u001b[0;32mTrue\u001b[0m\u001b[0;34m\u001b[0m\u001b[0;34m\u001b[0m\u001b[0m\n\u001b[1;32m    903\u001b[0m \u001b[0;34m\u001b[0m\u001b[0m\n",
      "\u001b[0;32m~/opt/anaconda3/lib/python3.8/site-packages/joblib/parallel.py\u001b[0m in \u001b[0;36m_dispatch\u001b[0;34m(self, batch)\u001b[0m\n\u001b[1;32m    817\u001b[0m         \u001b[0;32mwith\u001b[0m \u001b[0mself\u001b[0m\u001b[0;34m.\u001b[0m\u001b[0m_lock\u001b[0m\u001b[0;34m:\u001b[0m\u001b[0;34m\u001b[0m\u001b[0;34m\u001b[0m\u001b[0m\n\u001b[1;32m    818\u001b[0m             \u001b[0mjob_idx\u001b[0m \u001b[0;34m=\u001b[0m \u001b[0mlen\u001b[0m\u001b[0;34m(\u001b[0m\u001b[0mself\u001b[0m\u001b[0;34m.\u001b[0m\u001b[0m_jobs\u001b[0m\u001b[0;34m)\u001b[0m\u001b[0;34m\u001b[0m\u001b[0;34m\u001b[0m\u001b[0m\n\u001b[0;32m--> 819\u001b[0;31m             \u001b[0mjob\u001b[0m \u001b[0;34m=\u001b[0m \u001b[0mself\u001b[0m\u001b[0;34m.\u001b[0m\u001b[0m_backend\u001b[0m\u001b[0;34m.\u001b[0m\u001b[0mapply_async\u001b[0m\u001b[0;34m(\u001b[0m\u001b[0mbatch\u001b[0m\u001b[0;34m,\u001b[0m \u001b[0mcallback\u001b[0m\u001b[0;34m=\u001b[0m\u001b[0mcb\u001b[0m\u001b[0;34m)\u001b[0m\u001b[0;34m\u001b[0m\u001b[0;34m\u001b[0m\u001b[0m\n\u001b[0m\u001b[1;32m    820\u001b[0m             \u001b[0;31m# A job can complete so quickly than its callback is\u001b[0m\u001b[0;34m\u001b[0m\u001b[0;34m\u001b[0m\u001b[0;34m\u001b[0m\u001b[0m\n\u001b[1;32m    821\u001b[0m             \u001b[0;31m# called before we get here, causing self._jobs to\u001b[0m\u001b[0;34m\u001b[0m\u001b[0;34m\u001b[0m\u001b[0;34m\u001b[0m\u001b[0m\n",
      "\u001b[0;32m~/opt/anaconda3/lib/python3.8/site-packages/joblib/_parallel_backends.py\u001b[0m in \u001b[0;36mapply_async\u001b[0;34m(self, func, callback)\u001b[0m\n\u001b[1;32m    206\u001b[0m     \u001b[0;32mdef\u001b[0m \u001b[0mapply_async\u001b[0m\u001b[0;34m(\u001b[0m\u001b[0mself\u001b[0m\u001b[0;34m,\u001b[0m \u001b[0mfunc\u001b[0m\u001b[0;34m,\u001b[0m \u001b[0mcallback\u001b[0m\u001b[0;34m=\u001b[0m\u001b[0;32mNone\u001b[0m\u001b[0;34m)\u001b[0m\u001b[0;34m:\u001b[0m\u001b[0;34m\u001b[0m\u001b[0;34m\u001b[0m\u001b[0m\n\u001b[1;32m    207\u001b[0m         \u001b[0;34m\"\"\"Schedule a func to be run\"\"\"\u001b[0m\u001b[0;34m\u001b[0m\u001b[0;34m\u001b[0m\u001b[0m\n\u001b[0;32m--> 208\u001b[0;31m         \u001b[0mresult\u001b[0m \u001b[0;34m=\u001b[0m \u001b[0mImmediateResult\u001b[0m\u001b[0;34m(\u001b[0m\u001b[0mfunc\u001b[0m\u001b[0;34m)\u001b[0m\u001b[0;34m\u001b[0m\u001b[0;34m\u001b[0m\u001b[0m\n\u001b[0m\u001b[1;32m    209\u001b[0m         \u001b[0;32mif\u001b[0m \u001b[0mcallback\u001b[0m\u001b[0;34m:\u001b[0m\u001b[0;34m\u001b[0m\u001b[0;34m\u001b[0m\u001b[0m\n\u001b[1;32m    210\u001b[0m             \u001b[0mcallback\u001b[0m\u001b[0;34m(\u001b[0m\u001b[0mresult\u001b[0m\u001b[0;34m)\u001b[0m\u001b[0;34m\u001b[0m\u001b[0;34m\u001b[0m\u001b[0m\n",
      "\u001b[0;32m~/opt/anaconda3/lib/python3.8/site-packages/joblib/_parallel_backends.py\u001b[0m in \u001b[0;36m__init__\u001b[0;34m(self, batch)\u001b[0m\n\u001b[1;32m    595\u001b[0m         \u001b[0;31m# Don't delay the application, to avoid keeping the input\u001b[0m\u001b[0;34m\u001b[0m\u001b[0;34m\u001b[0m\u001b[0;34m\u001b[0m\u001b[0m\n\u001b[1;32m    596\u001b[0m         \u001b[0;31m# arguments in memory\u001b[0m\u001b[0;34m\u001b[0m\u001b[0;34m\u001b[0m\u001b[0;34m\u001b[0m\u001b[0m\n\u001b[0;32m--> 597\u001b[0;31m         \u001b[0mself\u001b[0m\u001b[0;34m.\u001b[0m\u001b[0mresults\u001b[0m \u001b[0;34m=\u001b[0m \u001b[0mbatch\u001b[0m\u001b[0;34m(\u001b[0m\u001b[0;34m)\u001b[0m\u001b[0;34m\u001b[0m\u001b[0;34m\u001b[0m\u001b[0m\n\u001b[0m\u001b[1;32m    598\u001b[0m \u001b[0;34m\u001b[0m\u001b[0m\n\u001b[1;32m    599\u001b[0m     \u001b[0;32mdef\u001b[0m \u001b[0mget\u001b[0m\u001b[0;34m(\u001b[0m\u001b[0mself\u001b[0m\u001b[0;34m)\u001b[0m\u001b[0;34m:\u001b[0m\u001b[0;34m\u001b[0m\u001b[0;34m\u001b[0m\u001b[0m\n",
      "\u001b[0;32m~/opt/anaconda3/lib/python3.8/site-packages/joblib/parallel.py\u001b[0m in \u001b[0;36m__call__\u001b[0;34m(self)\u001b[0m\n\u001b[1;32m    286\u001b[0m         \u001b[0;31m# change the default number of processes to -1\u001b[0m\u001b[0;34m\u001b[0m\u001b[0;34m\u001b[0m\u001b[0;34m\u001b[0m\u001b[0m\n\u001b[1;32m    287\u001b[0m         \u001b[0;32mwith\u001b[0m \u001b[0mparallel_backend\u001b[0m\u001b[0;34m(\u001b[0m\u001b[0mself\u001b[0m\u001b[0;34m.\u001b[0m\u001b[0m_backend\u001b[0m\u001b[0;34m,\u001b[0m \u001b[0mn_jobs\u001b[0m\u001b[0;34m=\u001b[0m\u001b[0mself\u001b[0m\u001b[0;34m.\u001b[0m\u001b[0m_n_jobs\u001b[0m\u001b[0;34m)\u001b[0m\u001b[0;34m:\u001b[0m\u001b[0;34m\u001b[0m\u001b[0;34m\u001b[0m\u001b[0m\n\u001b[0;32m--> 288\u001b[0;31m             return [func(*args, **kwargs)\n\u001b[0m\u001b[1;32m    289\u001b[0m                     for func, args, kwargs in self.items]\n\u001b[1;32m    290\u001b[0m \u001b[0;34m\u001b[0m\u001b[0m\n",
      "\u001b[0;32m~/opt/anaconda3/lib/python3.8/site-packages/joblib/parallel.py\u001b[0m in \u001b[0;36m<listcomp>\u001b[0;34m(.0)\u001b[0m\n\u001b[1;32m    286\u001b[0m         \u001b[0;31m# change the default number of processes to -1\u001b[0m\u001b[0;34m\u001b[0m\u001b[0;34m\u001b[0m\u001b[0;34m\u001b[0m\u001b[0m\n\u001b[1;32m    287\u001b[0m         \u001b[0;32mwith\u001b[0m \u001b[0mparallel_backend\u001b[0m\u001b[0;34m(\u001b[0m\u001b[0mself\u001b[0m\u001b[0;34m.\u001b[0m\u001b[0m_backend\u001b[0m\u001b[0;34m,\u001b[0m \u001b[0mn_jobs\u001b[0m\u001b[0;34m=\u001b[0m\u001b[0mself\u001b[0m\u001b[0;34m.\u001b[0m\u001b[0m_n_jobs\u001b[0m\u001b[0;34m)\u001b[0m\u001b[0;34m:\u001b[0m\u001b[0;34m\u001b[0m\u001b[0;34m\u001b[0m\u001b[0m\n\u001b[0;32m--> 288\u001b[0;31m             return [func(*args, **kwargs)\n\u001b[0m\u001b[1;32m    289\u001b[0m                     for func, args, kwargs in self.items]\n\u001b[1;32m    290\u001b[0m \u001b[0;34m\u001b[0m\u001b[0m\n",
      "\u001b[0;32m~/opt/anaconda3/lib/python3.8/site-packages/sklearn/utils/parallel.py\u001b[0m in \u001b[0;36m__call__\u001b[0;34m(self, *args, **kwargs)\u001b[0m\n\u001b[1;32m    121\u001b[0m             \u001b[0mconfig\u001b[0m \u001b[0;34m=\u001b[0m \u001b[0;34m{\u001b[0m\u001b[0;34m}\u001b[0m\u001b[0;34m\u001b[0m\u001b[0;34m\u001b[0m\u001b[0m\n\u001b[1;32m    122\u001b[0m         \u001b[0;32mwith\u001b[0m \u001b[0mconfig_context\u001b[0m\u001b[0;34m(\u001b[0m\u001b[0;34m**\u001b[0m\u001b[0mconfig\u001b[0m\u001b[0;34m)\u001b[0m\u001b[0;34m:\u001b[0m\u001b[0;34m\u001b[0m\u001b[0;34m\u001b[0m\u001b[0m\n\u001b[0;32m--> 123\u001b[0;31m             \u001b[0;32mreturn\u001b[0m \u001b[0mself\u001b[0m\u001b[0;34m.\u001b[0m\u001b[0mfunction\u001b[0m\u001b[0;34m(\u001b[0m\u001b[0;34m*\u001b[0m\u001b[0margs\u001b[0m\u001b[0;34m,\u001b[0m \u001b[0;34m**\u001b[0m\u001b[0mkwargs\u001b[0m\u001b[0;34m)\u001b[0m\u001b[0;34m\u001b[0m\u001b[0;34m\u001b[0m\u001b[0m\n\u001b[0m",
      "\u001b[0;32m~/opt/anaconda3/lib/python3.8/site-packages/sklearn/model_selection/_validation.py\u001b[0m in \u001b[0;36m_fit_and_score\u001b[0;34m(estimator, X, y, scorer, train, test, verbose, parameters, fit_params, return_train_score, return_parameters, return_n_test_samples, return_times, return_estimator, split_progress, candidate_progress, error_score)\u001b[0m\n\u001b[1;32m    684\u001b[0m             \u001b[0mestimator\u001b[0m\u001b[0;34m.\u001b[0m\u001b[0mfit\u001b[0m\u001b[0;34m(\u001b[0m\u001b[0mX_train\u001b[0m\u001b[0;34m,\u001b[0m \u001b[0;34m**\u001b[0m\u001b[0mfit_params\u001b[0m\u001b[0;34m)\u001b[0m\u001b[0;34m\u001b[0m\u001b[0;34m\u001b[0m\u001b[0m\n\u001b[1;32m    685\u001b[0m         \u001b[0;32melse\u001b[0m\u001b[0;34m:\u001b[0m\u001b[0;34m\u001b[0m\u001b[0;34m\u001b[0m\u001b[0m\n\u001b[0;32m--> 686\u001b[0;31m             \u001b[0mestimator\u001b[0m\u001b[0;34m.\u001b[0m\u001b[0mfit\u001b[0m\u001b[0;34m(\u001b[0m\u001b[0mX_train\u001b[0m\u001b[0;34m,\u001b[0m \u001b[0my_train\u001b[0m\u001b[0;34m,\u001b[0m \u001b[0;34m**\u001b[0m\u001b[0mfit_params\u001b[0m\u001b[0;34m)\u001b[0m\u001b[0;34m\u001b[0m\u001b[0;34m\u001b[0m\u001b[0m\n\u001b[0m\u001b[1;32m    687\u001b[0m \u001b[0;34m\u001b[0m\u001b[0m\n\u001b[1;32m    688\u001b[0m     \u001b[0;32mexcept\u001b[0m \u001b[0mException\u001b[0m\u001b[0;34m:\u001b[0m\u001b[0;34m\u001b[0m\u001b[0;34m\u001b[0m\u001b[0m\n",
      "\u001b[0;32m~/opt/anaconda3/lib/python3.8/site-packages/sklearn/ensemble/_forest.py\u001b[0m in \u001b[0;36mfit\u001b[0;34m(self, X, y, sample_weight)\u001b[0m\n\u001b[1;32m    471\u001b[0m             \u001b[0;31m# parallel_backend contexts set at a higher level,\u001b[0m\u001b[0;34m\u001b[0m\u001b[0;34m\u001b[0m\u001b[0;34m\u001b[0m\u001b[0m\n\u001b[1;32m    472\u001b[0m             \u001b[0;31m# since correctness does not rely on using threads.\u001b[0m\u001b[0;34m\u001b[0m\u001b[0;34m\u001b[0m\u001b[0;34m\u001b[0m\u001b[0m\n\u001b[0;32m--> 473\u001b[0;31m             trees = Parallel(\n\u001b[0m\u001b[1;32m    474\u001b[0m                 \u001b[0mn_jobs\u001b[0m\u001b[0;34m=\u001b[0m\u001b[0mself\u001b[0m\u001b[0;34m.\u001b[0m\u001b[0mn_jobs\u001b[0m\u001b[0;34m,\u001b[0m\u001b[0;34m\u001b[0m\u001b[0;34m\u001b[0m\u001b[0m\n\u001b[1;32m    475\u001b[0m                 \u001b[0mverbose\u001b[0m\u001b[0;34m=\u001b[0m\u001b[0mself\u001b[0m\u001b[0;34m.\u001b[0m\u001b[0mverbose\u001b[0m\u001b[0;34m,\u001b[0m\u001b[0;34m\u001b[0m\u001b[0;34m\u001b[0m\u001b[0m\n",
      "\u001b[0;32m~/opt/anaconda3/lib/python3.8/site-packages/sklearn/utils/parallel.py\u001b[0m in \u001b[0;36m__call__\u001b[0;34m(self, iterable)\u001b[0m\n\u001b[1;32m     61\u001b[0m             \u001b[0;32mfor\u001b[0m \u001b[0mdelayed_func\u001b[0m\u001b[0;34m,\u001b[0m \u001b[0margs\u001b[0m\u001b[0;34m,\u001b[0m \u001b[0mkwargs\u001b[0m \u001b[0;32min\u001b[0m \u001b[0miterable\u001b[0m\u001b[0;34m\u001b[0m\u001b[0;34m\u001b[0m\u001b[0m\n\u001b[1;32m     62\u001b[0m         )\n\u001b[0;32m---> 63\u001b[0;31m         \u001b[0;32mreturn\u001b[0m \u001b[0msuper\u001b[0m\u001b[0;34m(\u001b[0m\u001b[0;34m)\u001b[0m\u001b[0;34m.\u001b[0m\u001b[0m__call__\u001b[0m\u001b[0;34m(\u001b[0m\u001b[0miterable_with_config\u001b[0m\u001b[0;34m)\u001b[0m\u001b[0;34m\u001b[0m\u001b[0;34m\u001b[0m\u001b[0m\n\u001b[0m\u001b[1;32m     64\u001b[0m \u001b[0;34m\u001b[0m\u001b[0m\n\u001b[1;32m     65\u001b[0m \u001b[0;34m\u001b[0m\u001b[0m\n",
      "\u001b[0;32m~/opt/anaconda3/lib/python3.8/site-packages/joblib/parallel.py\u001b[0m in \u001b[0;36m__call__\u001b[0;34m(self, iterable)\u001b[0m\n\u001b[1;32m   1096\u001b[0m \u001b[0;34m\u001b[0m\u001b[0m\n\u001b[1;32m   1097\u001b[0m             \u001b[0;32mwith\u001b[0m \u001b[0mself\u001b[0m\u001b[0;34m.\u001b[0m\u001b[0m_backend\u001b[0m\u001b[0;34m.\u001b[0m\u001b[0mretrieval_context\u001b[0m\u001b[0;34m(\u001b[0m\u001b[0;34m)\u001b[0m\u001b[0;34m:\u001b[0m\u001b[0;34m\u001b[0m\u001b[0;34m\u001b[0m\u001b[0m\n\u001b[0;32m-> 1098\u001b[0;31m                 \u001b[0mself\u001b[0m\u001b[0;34m.\u001b[0m\u001b[0mretrieve\u001b[0m\u001b[0;34m(\u001b[0m\u001b[0;34m)\u001b[0m\u001b[0;34m\u001b[0m\u001b[0;34m\u001b[0m\u001b[0m\n\u001b[0m\u001b[1;32m   1099\u001b[0m             \u001b[0;31m# Make sure that we get a last message telling us we are done\u001b[0m\u001b[0;34m\u001b[0m\u001b[0;34m\u001b[0m\u001b[0;34m\u001b[0m\u001b[0m\n\u001b[1;32m   1100\u001b[0m             \u001b[0melapsed_time\u001b[0m \u001b[0;34m=\u001b[0m \u001b[0mtime\u001b[0m\u001b[0;34m.\u001b[0m\u001b[0mtime\u001b[0m\u001b[0;34m(\u001b[0m\u001b[0;34m)\u001b[0m \u001b[0;34m-\u001b[0m \u001b[0mself\u001b[0m\u001b[0;34m.\u001b[0m\u001b[0m_start_time\u001b[0m\u001b[0;34m\u001b[0m\u001b[0;34m\u001b[0m\u001b[0m\n",
      "\u001b[0;32m~/opt/anaconda3/lib/python3.8/site-packages/joblib/parallel.py\u001b[0m in \u001b[0;36mretrieve\u001b[0;34m(self)\u001b[0m\n\u001b[1;32m    973\u001b[0m             \u001b[0;32mtry\u001b[0m\u001b[0;34m:\u001b[0m\u001b[0;34m\u001b[0m\u001b[0;34m\u001b[0m\u001b[0m\n\u001b[1;32m    974\u001b[0m                 \u001b[0;32mif\u001b[0m \u001b[0mgetattr\u001b[0m\u001b[0;34m(\u001b[0m\u001b[0mself\u001b[0m\u001b[0;34m.\u001b[0m\u001b[0m_backend\u001b[0m\u001b[0;34m,\u001b[0m \u001b[0;34m'supports_timeout'\u001b[0m\u001b[0;34m,\u001b[0m \u001b[0;32mFalse\u001b[0m\u001b[0;34m)\u001b[0m\u001b[0;34m:\u001b[0m\u001b[0;34m\u001b[0m\u001b[0;34m\u001b[0m\u001b[0m\n\u001b[0;32m--> 975\u001b[0;31m                     \u001b[0mself\u001b[0m\u001b[0;34m.\u001b[0m\u001b[0m_output\u001b[0m\u001b[0;34m.\u001b[0m\u001b[0mextend\u001b[0m\u001b[0;34m(\u001b[0m\u001b[0mjob\u001b[0m\u001b[0;34m.\u001b[0m\u001b[0mget\u001b[0m\u001b[0;34m(\u001b[0m\u001b[0mtimeout\u001b[0m\u001b[0;34m=\u001b[0m\u001b[0mself\u001b[0m\u001b[0;34m.\u001b[0m\u001b[0mtimeout\u001b[0m\u001b[0;34m)\u001b[0m\u001b[0;34m)\u001b[0m\u001b[0;34m\u001b[0m\u001b[0;34m\u001b[0m\u001b[0m\n\u001b[0m\u001b[1;32m    976\u001b[0m                 \u001b[0;32melse\u001b[0m\u001b[0;34m:\u001b[0m\u001b[0;34m\u001b[0m\u001b[0;34m\u001b[0m\u001b[0m\n\u001b[1;32m    977\u001b[0m                     \u001b[0mself\u001b[0m\u001b[0;34m.\u001b[0m\u001b[0m_output\u001b[0m\u001b[0;34m.\u001b[0m\u001b[0mextend\u001b[0m\u001b[0;34m(\u001b[0m\u001b[0mjob\u001b[0m\u001b[0;34m.\u001b[0m\u001b[0mget\u001b[0m\u001b[0;34m(\u001b[0m\u001b[0;34m)\u001b[0m\u001b[0;34m)\u001b[0m\u001b[0;34m\u001b[0m\u001b[0;34m\u001b[0m\u001b[0m\n",
      "\u001b[0;32m~/opt/anaconda3/lib/python3.8/site-packages/joblib/_parallel_backends.py\u001b[0m in \u001b[0;36mwrap_future_result\u001b[0;34m(future, timeout)\u001b[0m\n\u001b[1;32m    565\u001b[0m         AsyncResults.get from multiprocessing.\"\"\"\n\u001b[1;32m    566\u001b[0m         \u001b[0;32mtry\u001b[0m\u001b[0;34m:\u001b[0m\u001b[0;34m\u001b[0m\u001b[0;34m\u001b[0m\u001b[0m\n\u001b[0;32m--> 567\u001b[0;31m             \u001b[0;32mreturn\u001b[0m \u001b[0mfuture\u001b[0m\u001b[0;34m.\u001b[0m\u001b[0mresult\u001b[0m\u001b[0;34m(\u001b[0m\u001b[0mtimeout\u001b[0m\u001b[0;34m=\u001b[0m\u001b[0mtimeout\u001b[0m\u001b[0;34m)\u001b[0m\u001b[0;34m\u001b[0m\u001b[0;34m\u001b[0m\u001b[0m\n\u001b[0m\u001b[1;32m    568\u001b[0m         \u001b[0;32mexcept\u001b[0m \u001b[0mCfTimeoutError\u001b[0m \u001b[0;32mas\u001b[0m \u001b[0me\u001b[0m\u001b[0;34m:\u001b[0m\u001b[0;34m\u001b[0m\u001b[0;34m\u001b[0m\u001b[0m\n\u001b[1;32m    569\u001b[0m             \u001b[0;32mraise\u001b[0m \u001b[0mTimeoutError\u001b[0m \u001b[0;32mfrom\u001b[0m \u001b[0me\u001b[0m\u001b[0;34m\u001b[0m\u001b[0;34m\u001b[0m\u001b[0m\n",
      "\u001b[0;32m~/opt/anaconda3/lib/python3.8/concurrent/futures/_base.py\u001b[0m in \u001b[0;36mresult\u001b[0;34m(self, timeout)\u001b[0m\n\u001b[1;32m    432\u001b[0m                 \u001b[0;32mreturn\u001b[0m \u001b[0mself\u001b[0m\u001b[0;34m.\u001b[0m\u001b[0m__get_result\u001b[0m\u001b[0;34m(\u001b[0m\u001b[0;34m)\u001b[0m\u001b[0;34m\u001b[0m\u001b[0;34m\u001b[0m\u001b[0m\n\u001b[1;32m    433\u001b[0m \u001b[0;34m\u001b[0m\u001b[0m\n\u001b[0;32m--> 434\u001b[0;31m             \u001b[0mself\u001b[0m\u001b[0;34m.\u001b[0m\u001b[0m_condition\u001b[0m\u001b[0;34m.\u001b[0m\u001b[0mwait\u001b[0m\u001b[0;34m(\u001b[0m\u001b[0mtimeout\u001b[0m\u001b[0;34m)\u001b[0m\u001b[0;34m\u001b[0m\u001b[0;34m\u001b[0m\u001b[0m\n\u001b[0m\u001b[1;32m    435\u001b[0m \u001b[0;34m\u001b[0m\u001b[0m\n\u001b[1;32m    436\u001b[0m             \u001b[0;32mif\u001b[0m \u001b[0mself\u001b[0m\u001b[0;34m.\u001b[0m\u001b[0m_state\u001b[0m \u001b[0;32min\u001b[0m \u001b[0;34m[\u001b[0m\u001b[0mCANCELLED\u001b[0m\u001b[0;34m,\u001b[0m \u001b[0mCANCELLED_AND_NOTIFIED\u001b[0m\u001b[0;34m]\u001b[0m\u001b[0;34m:\u001b[0m\u001b[0;34m\u001b[0m\u001b[0;34m\u001b[0m\u001b[0m\n",
      "\u001b[0;32m~/opt/anaconda3/lib/python3.8/threading.py\u001b[0m in \u001b[0;36mwait\u001b[0;34m(self, timeout)\u001b[0m\n\u001b[1;32m    300\u001b[0m         \u001b[0;32mtry\u001b[0m\u001b[0;34m:\u001b[0m    \u001b[0;31m# restore state no matter what (e.g., KeyboardInterrupt)\u001b[0m\u001b[0;34m\u001b[0m\u001b[0;34m\u001b[0m\u001b[0m\n\u001b[1;32m    301\u001b[0m             \u001b[0;32mif\u001b[0m \u001b[0mtimeout\u001b[0m \u001b[0;32mis\u001b[0m \u001b[0;32mNone\u001b[0m\u001b[0;34m:\u001b[0m\u001b[0;34m\u001b[0m\u001b[0;34m\u001b[0m\u001b[0m\n\u001b[0;32m--> 302\u001b[0;31m                 \u001b[0mwaiter\u001b[0m\u001b[0;34m.\u001b[0m\u001b[0macquire\u001b[0m\u001b[0;34m(\u001b[0m\u001b[0;34m)\u001b[0m\u001b[0;34m\u001b[0m\u001b[0;34m\u001b[0m\u001b[0m\n\u001b[0m\u001b[1;32m    303\u001b[0m                 \u001b[0mgotit\u001b[0m \u001b[0;34m=\u001b[0m \u001b[0;32mTrue\u001b[0m\u001b[0;34m\u001b[0m\u001b[0;34m\u001b[0m\u001b[0m\n\u001b[1;32m    304\u001b[0m             \u001b[0;32melse\u001b[0m\u001b[0;34m:\u001b[0m\u001b[0;34m\u001b[0m\u001b[0;34m\u001b[0m\u001b[0m\n",
      "\u001b[0;31mKeyboardInterrupt\u001b[0m: "
     ]
    }
   ],
   "source": [
    "# perform a grid search for the logistic regression model\n",
    "# the results are automatically stored in results_all_df and best_params_dict\n",
    "perform_grid_search(model_name, rfc, param_grid_rf, X_train_cbow, X_test_cbow, y_train, y_test,\n",
    "                   vectorizer, FS, classifier, resampling)"
   ]
  },
  {
   "cell_type": "markdown",
   "id": "4c5bd69e",
   "metadata": {},
   "source": [
    "#### E. Adaboost classifier"
   ]
  },
  {
   "cell_type": "code",
   "execution_count": null,
   "id": "ce9de3d0",
   "metadata": {},
   "outputs": [],
   "source": [
    "# define the model characteristics\n",
    "model_name = 'cbow_ada_w'\n",
    "classifier = 'ADA'\n",
    "\n",
    "# Initialize decision tree base estimator for AdaBoost\n",
    "base_estimator = DecisionTreeClassifier(random_state = 7)\n",
    "\n",
    "# Initialize AdaBoost classifier\n",
    "ada = AdaBoostClassifier(base_estimator = base_estimator, random_state = 7)\n",
    "\n",
    "# Define parameter grid for AdaBoost\n",
    "param_grid_ada = {\n",
    "    'n_estimators': [50, 100, 250],   # the maximum number of estimators before boosting is terminated\n",
    "    'learning_rate': [0.1, 0.5, 1.0], # weight applied to each classifier at boosting iteration\n",
    "                                      # A higher learning rate increases the contribution of each classifier. \n",
    "}"
   ]
  },
  {
   "cell_type": "code",
   "execution_count": null,
   "id": "96cf4aea",
   "metadata": {},
   "outputs": [],
   "source": [
    "# perform a grid search for the logistic regression model\n",
    "# the results are automatically stored in results_all_df and best_params_dict\n",
    "perform_grid_search(model_name, ada, param_grid_ada, X_train_cbow, X_test_cbow, y_train, y_test,\n",
    "                   vectorizer, FS, classifier, resampling)"
   ]
  },
  {
   "cell_type": "markdown",
   "id": "ff40b2e5",
   "metadata": {},
   "source": [
    "### 2.1.2 With undersampling"
   ]
  },
  {
   "cell_type": "code",
   "execution_count": null,
   "id": "0efd195b",
   "metadata": {},
   "outputs": [],
   "source": [
    "# Define the resampling technique\n",
    "resampling = 'Und'"
   ]
  },
  {
   "cell_type": "code",
   "execution_count": null,
   "id": "1ac4e41c",
   "metadata": {},
   "outputs": [],
   "source": [
    "# Define the categories and the maximum number of samples\n",
    "categories = df_train[\"category\"].unique()"
   ]
  },
  {
   "cell_type": "markdown",
   "id": "81489ad4",
   "metadata": {},
   "source": [
    "#### Random undersampling"
   ]
  },
  {
   "cell_type": "markdown",
   "id": "317855e3",
   "metadata": {},
   "source": [
    "Again, we used the same undersampling strategy as we used in the notebook 'Vectorization'. We used random undersampling and reduced the imbalance ratio to 4:1 for each category."
   ]
  },
  {
   "cell_type": "markdown",
   "id": "e9dc2794",
   "metadata": {},
   "source": [
    "#### Second strategy"
   ]
  },
  {
   "cell_type": "code",
   "execution_count": null,
   "id": "36f8b62e",
   "metadata": {},
   "outputs": [],
   "source": [
    "# Calculate the number of samples in the biggest minority category\n",
    "rus_n = df_train['category'].value_counts().sort_values(ascending=False)[1]\n",
    "\n",
    "# Dictionary to store the actual maximum imbalance per class for undersampling\n",
    "max_imbalance_u = {}\n",
    "\n",
    "# Calculate the actual maximum imbalance for each class\n",
    "for category in categories:\n",
    "    if category == 'None':\n",
    "        max_imbalance_u[category] = rus_n\n",
    "    else:\n",
    "        # Set the actual maximum to the number of available samples\n",
    "        max_imbalance_u[category] = y_train.value_counts()[category]"
   ]
  },
  {
   "cell_type": "code",
   "execution_count": null,
   "id": "9c83283d",
   "metadata": {},
   "outputs": [],
   "source": [
    "# Create the random undersampler with maximum imbalance\n",
    "undersampler = RandomUnderSampler(sampling_strategy = max_imbalance_u, random_state = 7)\n",
    "\n",
    "# Undersample the data\n",
    "X_train_cbow_und, y_train_cbow_und = undersampler.fit_resample(X_train_cbow, y_train)\n",
    "#y_train_cbow_und.value_counts()"
   ]
  },
  {
   "cell_type": "markdown",
   "id": "cd752072",
   "metadata": {},
   "source": [
    "#### A. Logistic Regression"
   ]
  },
  {
   "cell_type": "code",
   "execution_count": null,
   "id": "a7c39c5d",
   "metadata": {},
   "outputs": [],
   "source": [
    "# define the model characteristics\n",
    "model_name = 'cbow_log_u'\n",
    "classifier = 'logR'"
   ]
  },
  {
   "cell_type": "code",
   "execution_count": null,
   "id": "fc6f1ed9",
   "metadata": {},
   "outputs": [],
   "source": [
    "# perform a grid search for the logistic regression model\n",
    "# the results are automatically stored in results_all_df and best_params_dict\n",
    "perform_grid_search(model_name, logreg, param_grid_log, X_train_cbow_und, X_test_cbow, y_train_cbow_und, y_test,\n",
    "                   vectorizer, FS, classifier, resampling)"
   ]
  },
  {
   "cell_type": "markdown",
   "id": "77751dd0",
   "metadata": {},
   "source": [
    "#### B. Decision Tree"
   ]
  },
  {
   "cell_type": "code",
   "execution_count": null,
   "id": "294863fe",
   "metadata": {},
   "outputs": [],
   "source": [
    "# define the model characteristics\n",
    "model_name = 'cbow_DT_u'\n",
    "classifier = 'DT'"
   ]
  },
  {
   "cell_type": "code",
   "execution_count": null,
   "id": "93c34879",
   "metadata": {},
   "outputs": [],
   "source": [
    "# perform a grid search for the logistic regression model\n",
    "# the results are automatically stored in results_all_df and best_params_dict\n",
    "perform_grid_search(model_name, tree, param_grid_DT, X_train_cbow_und, X_test_cbow, y_train_cbow_und, y_test,\n",
    "                   vectorizer, FS, classifier, resampling)"
   ]
  },
  {
   "cell_type": "markdown",
   "id": "bb224122",
   "metadata": {},
   "source": [
    "#### C. Support Vector Machine"
   ]
  },
  {
   "cell_type": "code",
   "execution_count": null,
   "id": "50569b2b",
   "metadata": {},
   "outputs": [],
   "source": [
    "# define the model characteristics\n",
    "model_name = 'cbow_svm_u'\n",
    "classifier = 'SVM'"
   ]
  },
  {
   "cell_type": "code",
   "execution_count": null,
   "id": "2b5a7ae6",
   "metadata": {},
   "outputs": [],
   "source": [
    "# perform a grid search for the logistic regression model\n",
    "# the results are automatically stored in results_all_df and best_params_dict\n",
    "perform_grid_search(model_name, svm, param_grid_svm, X_train_cbow_und, X_test_cbow, y_train_cbow_und, y_test,\n",
    "                   vectorizer, FS, classifier, resampling)"
   ]
  },
  {
   "cell_type": "markdown",
   "id": "0d8cd8d6",
   "metadata": {},
   "source": [
    "#### D. Random Forest Classifier"
   ]
  },
  {
   "cell_type": "code",
   "execution_count": null,
   "id": "ada17123",
   "metadata": {},
   "outputs": [],
   "source": [
    "# define the model characteristics\n",
    "model_name = 'cbow_rf_u'\n",
    "classifier = 'RF'"
   ]
  },
  {
   "cell_type": "code",
   "execution_count": null,
   "id": "e835e960",
   "metadata": {},
   "outputs": [],
   "source": [
    "# perform a grid search for the logistic regression model\n",
    "# the results are automatically stored in results_all_df and best_params_dict\n",
    "perform_grid_search(model_name, rfc, param_grid_rf, X_train_cbow_und, X_test_cbow, y_train_cbow_und, y_test,\n",
    "                   vectorizer, FS, classifier, resampling)"
   ]
  },
  {
   "cell_type": "markdown",
   "id": "b9c76cc2",
   "metadata": {},
   "source": [
    "#### E. Adaboost classifier"
   ]
  },
  {
   "cell_type": "code",
   "execution_count": null,
   "id": "bef66e01",
   "metadata": {},
   "outputs": [],
   "source": [
    "# define the model characteristics\n",
    "model_name = 'cbow_ada_u'\n",
    "classifier = 'ADA'"
   ]
  },
  {
   "cell_type": "code",
   "execution_count": null,
   "id": "d0214c1d",
   "metadata": {},
   "outputs": [],
   "source": [
    "# perform a grid search for the logistic regression model\n",
    "# the results are automatically stored in results_all_df and best_params_dict\n",
    "perform_grid_search(model_name, ada, param_grid_ada, X_train_cbow_und, X_test_cbow, y_train_cbow_und, y_test,\n",
    "                   vectorizer, FS, classifier, resampling)"
   ]
  },
  {
   "cell_type": "markdown",
   "id": "fc769c64",
   "metadata": {},
   "source": [
    "### 2.1.3 With oversampling"
   ]
  },
  {
   "cell_type": "code",
   "execution_count": null,
   "id": "1dafedce",
   "metadata": {},
   "outputs": [],
   "source": [
    "# Define the resampling technique\n",
    "resampling = 'Ove'"
   ]
  },
  {
   "cell_type": "markdown",
   "id": "2df08c82",
   "metadata": {},
   "source": [
    "#### Oversampling with SMOTE"
   ]
  },
  {
   "cell_type": "markdown",
   "id": "44e22ebc",
   "metadata": {},
   "source": [
    "Again, we used the same oversampling strategy as we used in the notebook 'Vectorization'. We used SMOTE and reduced the imbalance ratio to 4:1 for each category."
   ]
  },
  {
   "cell_type": "code",
   "execution_count": null,
   "id": "ab748192",
   "metadata": {},
   "outputs": [],
   "source": [
    "# Calculate the number of samples in the majority class\n",
    "ove_n = df_train['category'].value_counts().sort_values(ascending=False)[0]\n",
    "\n",
    "# Oversample until the number of observations equals a fourth of the majority class\n",
    "max_samples = int(ove_n/4)\n",
    "\n",
    "# Dictionary to store the actual maximum imbalance per class for oversampling\n",
    "max_imbalance_o = {}\n",
    "\n",
    "# Calculate the actual maximum imbalance for each class\n",
    "for category in categories:\n",
    "    if category == 'None':\n",
    "        max_imbalance_o[category] = y_train.value_counts()[category]\n",
    "    else:\n",
    "        # Set the actual maximum to the number of available samples\n",
    "        max_imbalance_o[category] = max_samples"
   ]
  },
  {
   "cell_type": "code",
   "execution_count": null,
   "id": "17c54e18",
   "metadata": {},
   "outputs": [],
   "source": [
    "# Create the SMOTE oversampler\n",
    "oversampler = SMOTE(sampling_strategy=max_imbalance_o, random_state=7)\n",
    "\n",
    "# Undersample the data\n",
    "X_train_cbow_ove, y_train_cbow_ove = oversampler.fit_resample(X_train_cbow, y_train)\n",
    "y_train_cbow_ove.value_counts()"
   ]
  },
  {
   "cell_type": "markdown",
   "id": "9ca3e0aa",
   "metadata": {},
   "source": [
    "#### A. Logistic Regression"
   ]
  },
  {
   "cell_type": "code",
   "execution_count": null,
   "id": "0e731af5",
   "metadata": {},
   "outputs": [],
   "source": [
    "# define the model characteristics\n",
    "model_name = 'cbow_log_o'\n",
    "classifier = 'logR'"
   ]
  },
  {
   "cell_type": "code",
   "execution_count": null,
   "id": "7d307746",
   "metadata": {},
   "outputs": [],
   "source": [
    "# perform a grid search for the logistic regression model\n",
    "# the results are automatically stored in results_all_df and best_params_dict\n",
    "perform_grid_search(model_name, logreg, param_grid_log, X_train_cbow_ove, X_test_cbow, y_train_cbow_ove, y_test,\n",
    "                   vectorizer, FS, classifier, resampling)"
   ]
  },
  {
   "cell_type": "markdown",
   "id": "69b41767",
   "metadata": {},
   "source": [
    "#### B. Decision Tree"
   ]
  },
  {
   "cell_type": "code",
   "execution_count": null,
   "id": "d08c63da",
   "metadata": {},
   "outputs": [],
   "source": [
    "# define the model characteristics\n",
    "model_name = 'cbow_DT_o'\n",
    "classifier = 'DT'"
   ]
  },
  {
   "cell_type": "code",
   "execution_count": null,
   "id": "d42368b0",
   "metadata": {},
   "outputs": [],
   "source": [
    "# perform a grid search for the logistic regression model\n",
    "# the results are automatically stored in results_all_df and best_params_dict\n",
    "perform_grid_search(model_name, tree, param_grid_DT, X_train_cbow_ove, X_test_cbow, y_train_cbow_ove, y_test,\n",
    "                   vectorizer, FS, classifier, resampling)"
   ]
  },
  {
   "cell_type": "markdown",
   "id": "a9bb2138",
   "metadata": {},
   "source": [
    "#### C. Support Vector Machine"
   ]
  },
  {
   "cell_type": "code",
   "execution_count": null,
   "id": "8b9fadbd",
   "metadata": {},
   "outputs": [],
   "source": [
    "# define the model characteristics\n",
    "model_name = 'cbow_svm_o'\n",
    "classifier = 'SVM'"
   ]
  },
  {
   "cell_type": "code",
   "execution_count": null,
   "id": "46798c26",
   "metadata": {},
   "outputs": [],
   "source": [
    "# perform a grid search for the logistic regression model\n",
    "# the results are automatically stored in results_all_df and best_params_dict\n",
    "perform_grid_search(model_name, svm, param_grid_svm, X_train_cbow_ove, X_test_cbow, y_train_cbow_ove, y_test,\n",
    "                   vectorizer, FS, classifier, resampling)"
   ]
  },
  {
   "cell_type": "markdown",
   "id": "02e739f4",
   "metadata": {},
   "source": [
    "#### D. Random Forest Classifier"
   ]
  },
  {
   "cell_type": "code",
   "execution_count": null,
   "id": "3fe5a2b8",
   "metadata": {},
   "outputs": [],
   "source": [
    "# define the model characteristics\n",
    "model_name = 'cbow_rf_o'\n",
    "classifier = 'RF'"
   ]
  },
  {
   "cell_type": "code",
   "execution_count": null,
   "id": "df561e90",
   "metadata": {},
   "outputs": [],
   "source": [
    "# perform a grid search for the logistic regression model\n",
    "# the results are automatically stored in results_all_df and best_params_dict\n",
    "perform_grid_search(model_name, rfc, param_grid_rf, X_train_cbow_ove, X_test_cbow, y_train_cbow_ove, y_test,\n",
    "                   vectorizer, FS, classifier, resampling)"
   ]
  },
  {
   "cell_type": "markdown",
   "id": "07d1015a",
   "metadata": {},
   "source": [
    "#### E. Adaboost classifier"
   ]
  },
  {
   "cell_type": "code",
   "execution_count": null,
   "id": "ba687ec6",
   "metadata": {},
   "outputs": [],
   "source": [
    "# define the model characteristics\n",
    "model_name = 'cbow_ada_o'\n",
    "classifier = 'ADA'"
   ]
  },
  {
   "cell_type": "code",
   "execution_count": null,
   "id": "a78eb5dd",
   "metadata": {},
   "outputs": [],
   "source": [
    "# perform a grid search for the logistic regression model\n",
    "# the results are automatically stored in results_all_df and best_params_dict\n",
    "perform_grid_search(model_name, ada, param_grid_ada, X_train_cbow_ove, X_test_cbow, y_train_cbow_ove, y_test,\n",
    "                   vectorizer, FS, classifier, resampling)"
   ]
  },
  {
   "cell_type": "markdown",
   "id": "1bbddde1",
   "metadata": {},
   "source": [
    "## 2.2 Create word embeddings with Skipgram"
   ]
  },
  {
   "cell_type": "code",
   "execution_count": null,
   "id": "5e366467",
   "metadata": {},
   "outputs": [],
   "source": [
    "# Define the implementation method of word2vec\n",
    "FS = 'skip'"
   ]
  },
  {
   "cell_type": "code",
   "execution_count": null,
   "id": "12b4f94f",
   "metadata": {},
   "outputs": [],
   "source": [
    "# Define the dimension of the vector\n",
    "size = 300\n",
    "\n",
    "# define the cbow_model and train on training set headlines\n",
    "skip_model = Word2Vec(headlines_train, \n",
    "                 min_count = 2,          # Ignore words that appear less than this\n",
    "                 vector_size = size,      # Dimensionality of word embeddings\n",
    "                 workers = 8,            # Number of processors (parallelisation)\n",
    "                 window = 5,             # Context window for words during training\n",
    "                 epochs = 20,            # Number of epochs training over corpus\n",
    "                 sg = 1)                 # 0 for CBOW and 1 for skipgram"
   ]
  },
  {
   "cell_type": "code",
   "execution_count": null,
   "id": "7a803622",
   "metadata": {},
   "outputs": [],
   "source": [
    "# Transform the independent variable of the train and the test set\n",
    "X_train_skip = np.array([vectorize_embedding(headline, skip_model, size) for headline in X_train])\n",
    "X_test_skip = np.array([vectorize_embedding(headline, skip_model, size) for headline in X_test])"
   ]
  },
  {
   "cell_type": "markdown",
   "id": "82157e11",
   "metadata": {},
   "source": [
    "### 2.2.1 Without resampling"
   ]
  },
  {
   "cell_type": "code",
   "execution_count": null,
   "id": "f38757f2",
   "metadata": {},
   "outputs": [],
   "source": [
    "# Define the resampling technique\n",
    "resampling = 'None'"
   ]
  },
  {
   "cell_type": "markdown",
   "id": "2377a5df",
   "metadata": {},
   "source": [
    "#### A. Logistic regression"
   ]
  },
  {
   "cell_type": "code",
   "execution_count": null,
   "id": "4d5a57ab",
   "metadata": {},
   "outputs": [],
   "source": [
    "# define the model characteristics\n",
    "model_name = 'skip_log_w'\n",
    "classifier = 'logR'"
   ]
  },
  {
   "cell_type": "code",
   "execution_count": null,
   "id": "4db34ca7",
   "metadata": {
    "scrolled": true
   },
   "outputs": [],
   "source": [
    "# perform a grid search for the logistic regression model\n",
    "# the results are automatically stored in results_all_df and best_params_dict\n",
    "perform_grid_search(model_name, logreg, param_grid_log, X_train_skip, X_test_skip, y_train, y_test,\n",
    "                   vectorizer, FS, classifier, resampling)"
   ]
  },
  {
   "cell_type": "markdown",
   "id": "e52b1fa5",
   "metadata": {},
   "source": [
    "#### B. Decision Tree"
   ]
  },
  {
   "cell_type": "code",
   "execution_count": null,
   "id": "b83f7888",
   "metadata": {},
   "outputs": [],
   "source": [
    "# define the model characteristics\n",
    "model_name = 'skip_DT_w'\n",
    "classifier = 'DT'"
   ]
  },
  {
   "cell_type": "code",
   "execution_count": null,
   "id": "dd267db8",
   "metadata": {},
   "outputs": [],
   "source": [
    "# perform a grid search for the logistic regression model\n",
    "# the results are automatically stored in results_all_df and best_params_dict\n",
    "perform_grid_search(model_name, tree, param_grid_DT, X_train_skip, X_test_skip, y_train, y_test,\n",
    "                   vectorizer, FS, classifier, resampling)"
   ]
  },
  {
   "cell_type": "markdown",
   "id": "0584b692",
   "metadata": {},
   "source": [
    "#### C. Support Vector Machine"
   ]
  },
  {
   "cell_type": "code",
   "execution_count": null,
   "id": "76ef1b08",
   "metadata": {},
   "outputs": [],
   "source": [
    "# define the model characteristics\n",
    "model_name = 'skip_svm_w'\n",
    "classifier = 'SVM'"
   ]
  },
  {
   "cell_type": "code",
   "execution_count": null,
   "id": "f8add2bc",
   "metadata": {},
   "outputs": [],
   "source": [
    "# perform a grid search for the logistic regression model\n",
    "# the results are automatically stored in results_all_df and best_params_dict\n",
    "perform_grid_search(model_name, svm, param_grid_svm, X_train_skip, X_test_skip, y_train, y_test,\n",
    "                   vectorizer, FS, classifier, resampling)"
   ]
  },
  {
   "cell_type": "markdown",
   "id": "4882f859",
   "metadata": {},
   "source": [
    "#### D. Random Forest Classifier"
   ]
  },
  {
   "cell_type": "code",
   "execution_count": null,
   "id": "de8f0a19",
   "metadata": {},
   "outputs": [],
   "source": [
    "# define the model characteristics\n",
    "model_name = 'skip_rf_w'\n",
    "classifier = 'RF'"
   ]
  },
  {
   "cell_type": "code",
   "execution_count": null,
   "id": "adac73ff",
   "metadata": {},
   "outputs": [],
   "source": [
    "# perform a grid search for the logistic regression model\n",
    "# the results are automatically stored in results_all_df and best_params_dict\n",
    "perform_grid_search(model_name, rfc, param_grid_rf, X_train_skip, X_test_skip, y_train, y_test,\n",
    "                   vectorizer, FS, classifier, resampling)"
   ]
  },
  {
   "cell_type": "markdown",
   "id": "0bcafa60",
   "metadata": {},
   "source": [
    "#### E. Adaboost classifier"
   ]
  },
  {
   "cell_type": "code",
   "execution_count": null,
   "id": "5d605285",
   "metadata": {},
   "outputs": [],
   "source": [
    "# define the model characteristics\n",
    "model_name = 'skip_ada_w'\n",
    "classifier = 'ADA'"
   ]
  },
  {
   "cell_type": "code",
   "execution_count": null,
   "id": "59028886",
   "metadata": {},
   "outputs": [],
   "source": [
    "# perform a grid search for the logistic regression model\n",
    "# the results are automatically stored in results_all_df and best_params_dict\n",
    "perform_grid_search(model_name, ada, param_grid_ada, X_train_skip, X_test_skip, y_train, y_test,\n",
    "                   vectorizer, FS, classifier, resampling)"
   ]
  },
  {
   "cell_type": "markdown",
   "id": "83d4109d",
   "metadata": {},
   "source": [
    "### 2.1.2 With undersampling"
   ]
  },
  {
   "cell_type": "code",
   "execution_count": null,
   "id": "a6d6f0d6",
   "metadata": {},
   "outputs": [],
   "source": [
    "# Define the resampling technique\n",
    "resampling = 'Und'"
   ]
  },
  {
   "cell_type": "markdown",
   "id": "def53ffe",
   "metadata": {},
   "source": [
    "#### Second strategy"
   ]
  },
  {
   "cell_type": "code",
   "execution_count": null,
   "id": "abace06e",
   "metadata": {},
   "outputs": [],
   "source": [
    "# Undersample the data\n",
    "X_train_skip_und, y_train_skip_und = undersampler.fit_resample(X_train_skip, y_train)\n",
    "#y_train_cbow_und.value_counts()"
   ]
  },
  {
   "cell_type": "markdown",
   "id": "c1e6438b",
   "metadata": {},
   "source": [
    "#### A. Logistic Regression"
   ]
  },
  {
   "cell_type": "code",
   "execution_count": null,
   "id": "1923cb20",
   "metadata": {},
   "outputs": [],
   "source": [
    "# define the model characteristics\n",
    "model_name = 'skip_log_u'\n",
    "classifier = 'logR'"
   ]
  },
  {
   "cell_type": "code",
   "execution_count": null,
   "id": "8cb5cbe4",
   "metadata": {},
   "outputs": [],
   "source": [
    "# perform a grid search for the logistic regression model\n",
    "# the results are automatically stored in results_all_df and best_params_dict\n",
    "perform_grid_search(model_name, logreg, param_grid_log, X_train_skip_und, X_test_skip, y_train_skip_und, y_test,\n",
    "                   vectorizer, FS, classifier, resampling)"
   ]
  },
  {
   "cell_type": "markdown",
   "id": "98238e53",
   "metadata": {},
   "source": [
    "#### B. Decision Tree"
   ]
  },
  {
   "cell_type": "code",
   "execution_count": null,
   "id": "b4c9e57e",
   "metadata": {},
   "outputs": [],
   "source": [
    "# define the model characteristics\n",
    "model_name = 'skip_DT_u'\n",
    "classifier = 'DT'"
   ]
  },
  {
   "cell_type": "code",
   "execution_count": null,
   "id": "7124e0d9",
   "metadata": {},
   "outputs": [],
   "source": [
    "# perform a grid search for the logistic regression model\n",
    "# the results are automatically stored in results_all_df and best_params_dict\n",
    "perform_grid_search(model_name, tree, param_grid_DT, X_train_skip_und, X_test_skip, y_train_skip_und, y_test,\n",
    "                   vectorizer, FS, classifier, resampling)"
   ]
  },
  {
   "cell_type": "markdown",
   "id": "1189ac57",
   "metadata": {},
   "source": [
    "#### C. Support Vector Machine"
   ]
  },
  {
   "cell_type": "code",
   "execution_count": null,
   "id": "11ff3686",
   "metadata": {},
   "outputs": [],
   "source": [
    "# define the model characteristics\n",
    "model_name = 'skip_svm_u'\n",
    "classifier = 'SVM'"
   ]
  },
  {
   "cell_type": "code",
   "execution_count": null,
   "id": "244d5f6d",
   "metadata": {},
   "outputs": [],
   "source": [
    "# perform a grid search for the logistic regression model\n",
    "# the results are automatically stored in results_all_df and best_params_dict\n",
    "perform_grid_search(model_name, svm, param_grid_svm, X_train_skip_und, X_test_skip, y_train_skip_und, y_test,\n",
    "                   vectorizer, FS, classifier, resampling)"
   ]
  },
  {
   "cell_type": "markdown",
   "id": "c661bede",
   "metadata": {},
   "source": [
    "#### D. Random Forest Classifier"
   ]
  },
  {
   "cell_type": "code",
   "execution_count": null,
   "id": "a5178cb5",
   "metadata": {},
   "outputs": [],
   "source": [
    "# define the model characteristics\n",
    "model_name = 'skip_rf_u'\n",
    "classifier = 'RF'"
   ]
  },
  {
   "cell_type": "code",
   "execution_count": null,
   "id": "e342634b",
   "metadata": {},
   "outputs": [],
   "source": [
    "# perform a grid search for the logistic regression model\n",
    "# the results are automatically stored in results_all_df and best_params_dict\n",
    "perform_grid_search(model_name, rfc, param_grid_rf, X_train_skip_und, X_test_skip, y_train_skip_und, y_test,\n",
    "                   vectorizer, FS, classifier, resampling)"
   ]
  },
  {
   "cell_type": "markdown",
   "id": "72558681",
   "metadata": {},
   "source": [
    "#### E. Adaboost classifier"
   ]
  },
  {
   "cell_type": "code",
   "execution_count": null,
   "id": "af83e1ca",
   "metadata": {},
   "outputs": [],
   "source": [
    "# define the model characteristics\n",
    "model_name = 'skip_ada_u'\n",
    "classifier = 'ADA'"
   ]
  },
  {
   "cell_type": "code",
   "execution_count": null,
   "id": "de1c1ad0",
   "metadata": {},
   "outputs": [],
   "source": [
    "# perform a grid search for the logistic regression model\n",
    "# the results are automatically stored in results_all_df and best_params_dict\n",
    "perform_grid_search(model_name, ada, param_grid_ada, X_train_skip_und, X_test_skip, y_train_skip_und, y_test,\n",
    "                   vectorizer, FS, classifier, resampling)"
   ]
  },
  {
   "cell_type": "markdown",
   "id": "b86df289",
   "metadata": {},
   "source": [
    "### 2.1.3 With oversampling"
   ]
  },
  {
   "cell_type": "code",
   "execution_count": null,
   "id": "1f3b5d92",
   "metadata": {},
   "outputs": [],
   "source": [
    "# Define the resampling technique\n",
    "resampling = 'Ove'"
   ]
  },
  {
   "cell_type": "code",
   "execution_count": null,
   "id": "9f3d74b7",
   "metadata": {},
   "outputs": [],
   "source": [
    "# Undersample the data\n",
    "X_train_skip_ove, y_train_skip_ove = oversampler.fit_resample(X_train_skip, y_train)\n",
    "#y_train_skip_ove.value_counts()"
   ]
  },
  {
   "cell_type": "markdown",
   "id": "35594c82",
   "metadata": {},
   "source": [
    "#### A. Logistic Regression"
   ]
  },
  {
   "cell_type": "code",
   "execution_count": null,
   "id": "fe347cc5",
   "metadata": {},
   "outputs": [],
   "source": [
    "# define the model characteristics\n",
    "model_name = 'skip_log_o'\n",
    "classifier = 'logR'"
   ]
  },
  {
   "cell_type": "code",
   "execution_count": null,
   "id": "96249416",
   "metadata": {},
   "outputs": [],
   "source": [
    "# perform a grid search for the logistic regression model\n",
    "# the results are automatically stored in results_all_df and best_params_dict\n",
    "perform_grid_search(model_name, logreg, param_grid_log, X_train_skip_ove, X_test_skip, y_train_skip_ove, y_test,\n",
    "                   vectorizer, FS, classifier, resampling)"
   ]
  },
  {
   "cell_type": "markdown",
   "id": "7dff4d1f",
   "metadata": {},
   "source": [
    "#### B. Decision Tree"
   ]
  },
  {
   "cell_type": "code",
   "execution_count": null,
   "id": "48b156aa",
   "metadata": {},
   "outputs": [],
   "source": [
    "# define the model characteristics\n",
    "model_name = 'skip_DT_o'\n",
    "classifier = 'DT'"
   ]
  },
  {
   "cell_type": "code",
   "execution_count": null,
   "id": "c35cbd5d",
   "metadata": {},
   "outputs": [],
   "source": [
    "# perform a grid search for the logistic regression model\n",
    "# the results are automatically stored in results_all_df and best_params_dict\n",
    "perform_grid_search(model_name, tree, param_grid_DT, X_train_skip_ove, X_test_skip, y_train_skip_ove, y_test,\n",
    "                   vectorizer, FS, classifier, resampling)\n"
   ]
  },
  {
   "cell_type": "markdown",
   "id": "43d98f52",
   "metadata": {},
   "source": [
    "#### C. Support Vector Machine"
   ]
  },
  {
   "cell_type": "code",
   "execution_count": null,
   "id": "392ebbaf",
   "metadata": {},
   "outputs": [],
   "source": [
    "# define the model characteristics\n",
    "model_name = 'skip_svm_o'\n",
    "classifier = 'SVM'"
   ]
  },
  {
   "cell_type": "code",
   "execution_count": null,
   "id": "bc27e74d",
   "metadata": {},
   "outputs": [],
   "source": [
    "# perform a grid search for the logistic regression model\n",
    "# the results are automatically stored in results_all_df and best_params_dict\n",
    "perform_grid_search(model_name, svm, param_grid_svm, X_train_skip_ove, X_test_skip, y_train_skip_ove, y_test,\n",
    "                   vectorizer, FS, classifier, resampling)"
   ]
  },
  {
   "cell_type": "markdown",
   "id": "91b51615",
   "metadata": {},
   "source": [
    "#### D. Random Forest Classifier"
   ]
  },
  {
   "cell_type": "code",
   "execution_count": null,
   "id": "6216b3a2",
   "metadata": {},
   "outputs": [],
   "source": [
    "# define the model characteristics\n",
    "model_name = 'skip_rf_o'\n",
    "classifier = 'RF'"
   ]
  },
  {
   "cell_type": "code",
   "execution_count": null,
   "id": "36f6b3d2",
   "metadata": {},
   "outputs": [],
   "source": [
    "# perform a grid search for the logistic regression model\n",
    "# the results are automatically stored in results_all_df and best_params_dict\n",
    "perform_grid_search(model_name, rfc, param_grid_rf, X_train_skip_ove, X_test_skip, y_train_skip_ove, y_test,\n",
    "                   vectorizer, FS, classifier, resampling)"
   ]
  },
  {
   "cell_type": "markdown",
   "id": "e4ddb647",
   "metadata": {},
   "source": [
    "#### E. Adaboost classifier"
   ]
  },
  {
   "cell_type": "code",
   "execution_count": null,
   "id": "55fdb244",
   "metadata": {},
   "outputs": [],
   "source": [
    "# define the model characteristics\n",
    "model_name = 'skip_ada_o'\n",
    "classifier = 'ADA'"
   ]
  },
  {
   "cell_type": "code",
   "execution_count": null,
   "id": "04f16679",
   "metadata": {},
   "outputs": [],
   "source": [
    "# perform a grid search for the logistic regression model\n",
    "# the results are automatically stored in results_all_df and best_params_dict\n",
    "perform_grid_search(model_name, ada, param_grid_ada, X_train_skip_ove, X_test_skip, y_train_skip_ove, y_test,\n",
    "                   vectorizer, FS, classifier, resampling)"
   ]
  },
  {
   "cell_type": "markdown",
   "id": "d50b3148",
   "metadata": {},
   "source": [
    "#### Intermediate: write the data away"
   ]
  },
  {
   "cell_type": "code",
   "execution_count": null,
   "id": "46269f45",
   "metadata": {},
   "outputs": [],
   "source": [
    "# write away results\n",
    "results_all_df.to_csv('./Output/Model performance/results_embeddings.csv', index = False, header = True)"
   ]
  },
  {
   "cell_type": "code",
   "execution_count": null,
   "id": "f76ebd62",
   "metadata": {},
   "outputs": [],
   "source": [
    "# Write the dictionary with the best parameters away\n",
    "with open('./Output/parameters/embeddings.json', 'w') as file:\n",
    "    json.dump(best_params_dict, file)"
   ]
  },
  {
   "cell_type": "markdown",
   "id": "01f222d5",
   "metadata": {},
   "source": [
    "## 3. Pretrained embeddings"
   ]
  },
  {
   "cell_type": "code",
   "execution_count": null,
   "id": "83a63a23",
   "metadata": {},
   "outputs": [],
   "source": [
    "# define vectorizer method\n",
    "vectorizer = 'pretrained'"
   ]
  },
  {
   "cell_type": "markdown",
   "id": "2b9af000",
   "metadata": {},
   "source": [
    "### 3.1 Google news embeddings"
   ]
  },
  {
   "cell_type": "code",
   "execution_count": 109,
   "id": "2a86bbe4",
   "metadata": {},
   "outputs": [],
   "source": [
    "# define type of pretrained embedding model\n",
    "FS = 'google news'"
   ]
  },
  {
   "cell_type": "markdown",
   "id": "18532cc4",
   "metadata": {},
   "source": [
    "Uses continious skipgram: http://vectors.nlpl.eu/repository/?ref=blog.paperspace.com\n",
    "\n",
    "https://www.analyticsvidhya.com/blog/2020/03/pretrained-word-embeddings-nlp/\n"
   ]
  },
  {
   "cell_type": "code",
   "execution_count": 111,
   "id": "122e44ac",
   "metadata": {},
   "outputs": [],
   "source": [
    "# if downloaded offline\n",
    "google_news = KeyedVectors.load_word2vec_format('/Users/Artur/Desktop/thesis_HIR_versie5/big files/google/GoogleNews-vectors-negative300.bin', binary=True)"
   ]
  },
  {
   "cell_type": "code",
   "execution_count": 19,
   "id": "62d9e667",
   "metadata": {},
   "outputs": [
    {
     "name": "stdout",
     "output_type": "stream",
     "text": [
      "[=================================================-] 98.1% 1631.7/1662.8MB downloaded"
     ]
    },
    {
     "name": "stderr",
     "output_type": "stream",
     "text": [
      "IOPub message rate exceeded.\n",
      "The notebook server will temporarily stop sending output\n",
      "to the client in order to avoid crashing it.\n",
      "To change this limit, set the config variable\n",
      "`--NotebookApp.iopub_msg_rate_limit`.\n",
      "\n",
      "Current values:\n",
      "NotebookApp.iopub_msg_rate_limit=1000.0 (msgs/sec)\n",
      "NotebookApp.rate_limit_window=3.0 (secs)\n",
      "\n"
     ]
    },
    {
     "name": "stdout",
     "output_type": "stream",
     "text": [
      "[==================================================] 100.0% 1662.8/1662.8MB downloaded\n"
     ]
    }
   ],
   "source": [
    "# Download the \"word2vec-google-news-300\" embeddings if not downloaded ofline\n",
    "#google_news = gensim.downloader.load('word2vec-google-news-300')"
   ]
  },
  {
   "cell_type": "code",
   "execution_count": 116,
   "id": "c536d425",
   "metadata": {},
   "outputs": [],
   "source": [
    "# Create embeddings of the train and test set based on the pretrained google_news model\n",
    "X_train_google_news = np.vstack([vectorize_pretrained(headline, google_news, 300) for headline in X_train])\n",
    "X_test_google_news = np.vstack([vectorize_pretrained(headline, google_news, 300) for headline in X_test])"
   ]
  },
  {
   "cell_type": "markdown",
   "id": "ad0ad320",
   "metadata": {},
   "source": [
    "### 3.1.1 Without resampling"
   ]
  },
  {
   "cell_type": "code",
   "execution_count": 110,
   "id": "5c653c77",
   "metadata": {},
   "outputs": [],
   "source": [
    "# Define the resampling technique\n",
    "resampling = 'None'"
   ]
  },
  {
   "cell_type": "markdown",
   "id": "35cd2ef9",
   "metadata": {},
   "source": [
    "#### A. Logistic regression"
   ]
  },
  {
   "cell_type": "code",
   "execution_count": null,
   "id": "406102c9",
   "metadata": {},
   "outputs": [],
   "source": [
    "# define the model characteristics\n",
    "model_name = 'google_log_w'\n",
    "classifier = 'logR'"
   ]
  },
  {
   "cell_type": "code",
   "execution_count": null,
   "id": "806626e6",
   "metadata": {
    "scrolled": true
   },
   "outputs": [],
   "source": [
    "# perform a grid search for the logistic regression model\n",
    "# the results are automatically stored in results_all_df and best_params_dict\n",
    "perform_grid_search(model_name, logreg, param_grid_log, X_train_google_news, X_test_google_news, y_train, y_test,\n",
    "                   vectorizer, FS, classifier, resampling)"
   ]
  },
  {
   "cell_type": "markdown",
   "id": "2dd72fe4",
   "metadata": {},
   "source": [
    "#### B. Decision Tree"
   ]
  },
  {
   "cell_type": "code",
   "execution_count": null,
   "id": "75bb1839",
   "metadata": {},
   "outputs": [],
   "source": [
    "# define the model characteristics\n",
    "model_name = 'google_DT_w'\n",
    "classifier = 'DT'"
   ]
  },
  {
   "cell_type": "code",
   "execution_count": null,
   "id": "e081c2a9",
   "metadata": {},
   "outputs": [],
   "source": [
    "# perform a grid search for the logistic regression model\n",
    "# the results are automatically stored in results_all_df and best_params_dict\n",
    "perform_grid_search(model_name, tree, param_grid_DT, X_train_google_news, X_test_google_news, y_train, y_test,\n",
    "                   vectorizer, FS, classifier, resampling)"
   ]
  },
  {
   "cell_type": "markdown",
   "id": "95e9df38",
   "metadata": {},
   "source": [
    "#### C. Support Vector Machine"
   ]
  },
  {
   "cell_type": "code",
   "execution_count": null,
   "id": "ffa7df48",
   "metadata": {},
   "outputs": [],
   "source": [
    "# define the model characteristics\n",
    "model_name = 'google_svm_w'\n",
    "classifier = 'SVM'"
   ]
  },
  {
   "cell_type": "code",
   "execution_count": null,
   "id": "f50d3c0f",
   "metadata": {},
   "outputs": [],
   "source": [
    "# perform a grid search for the logistic regression model\n",
    "# the results are automatically stored in results_all_df and best_params_dict\n",
    "perform_grid_search(model_name, svm, param_grid_svm, X_train_google_news, X_test_google_news, y_train, y_test,\n",
    "                   vectorizer, FS, classifier, resampling)"
   ]
  },
  {
   "cell_type": "markdown",
   "id": "89e6b6c9",
   "metadata": {},
   "source": [
    "#### D. Random Forest Classifier"
   ]
  },
  {
   "cell_type": "code",
   "execution_count": null,
   "id": "aa9df9d4",
   "metadata": {},
   "outputs": [],
   "source": [
    "# define the model characteristics\n",
    "model_name = 'google_rf_w'\n",
    "classifier = 'RF'"
   ]
  },
  {
   "cell_type": "code",
   "execution_count": null,
   "id": "75a6e324",
   "metadata": {},
   "outputs": [],
   "source": [
    "# perform a grid search for the logistic regression model\n",
    "# the results are automatically stored in results_all_df and best_params_dict\n",
    "perform_grid_search(model_name, rfc, param_grid_rf, X_train_google_news, X_test_google_news, y_train, y_test,\n",
    "                   vectorizer, FS, classifier, resampling)"
   ]
  },
  {
   "cell_type": "markdown",
   "id": "8dd16f14",
   "metadata": {},
   "source": [
    "#### E. Adaboost classifier"
   ]
  },
  {
   "cell_type": "code",
   "execution_count": null,
   "id": "431a6692",
   "metadata": {},
   "outputs": [],
   "source": [
    "# define the model characteristics\n",
    "model_name = 'google_ada_w'\n",
    "classifier = 'ADA'"
   ]
  },
  {
   "cell_type": "code",
   "execution_count": null,
   "id": "a17ec368",
   "metadata": {},
   "outputs": [],
   "source": [
    "# perform a grid search for the logistic regression model\n",
    "# the results are automatically stored in results_all_df and best_params_dict\n",
    "perform_grid_search(model_name, ada, param_grid_ada, X_train_google_news, X_test_google_news, y_train, y_test,\n",
    "                   vectorizer, FS, classifier, resampling)"
   ]
  },
  {
   "cell_type": "markdown",
   "id": "e4be21bc",
   "metadata": {},
   "source": [
    "### 3.1.2 With undersampling"
   ]
  },
  {
   "cell_type": "code",
   "execution_count": null,
   "id": "e858dcc3",
   "metadata": {},
   "outputs": [],
   "source": [
    "# Define the resampling technique\n",
    "resampling = 'Und'"
   ]
  },
  {
   "cell_type": "markdown",
   "id": "9428c36c",
   "metadata": {},
   "source": [
    "#### Second strategy"
   ]
  },
  {
   "cell_type": "code",
   "execution_count": null,
   "id": "5bdd72ea",
   "metadata": {},
   "outputs": [],
   "source": [
    "# Undersample the data\n",
    "X_train_google_news_und, y_train_google_news_und = undersampler.fit_resample(X_train_google_news, y_train)\n",
    "#y_train_cbow_und.value_counts()"
   ]
  },
  {
   "cell_type": "markdown",
   "id": "9cad9fea",
   "metadata": {},
   "source": [
    "#### A. Logistic Regression"
   ]
  },
  {
   "cell_type": "code",
   "execution_count": null,
   "id": "380cb566",
   "metadata": {},
   "outputs": [],
   "source": [
    "# define the model characteristics\n",
    "model_name = 'google_log_u'\n",
    "classifier = 'logR'"
   ]
  },
  {
   "cell_type": "code",
   "execution_count": null,
   "id": "95558221",
   "metadata": {},
   "outputs": [],
   "source": [
    "# perform a grid search for the logistic regression model\n",
    "# the results are automatically stored in results_all_df and best_params_dict\n",
    "perform_grid_search(model_name, logreg, param_grid_log, X_train_google_news_und, X_test_google_news,\n",
    "                    y_train_google_news_und, y_test, vectorizer, FS, classifier, resampling)"
   ]
  },
  {
   "cell_type": "markdown",
   "id": "038e66e5",
   "metadata": {},
   "source": [
    "#### B. Decision Tree"
   ]
  },
  {
   "cell_type": "code",
   "execution_count": null,
   "id": "e514d97d",
   "metadata": {},
   "outputs": [],
   "source": [
    "# define the model characteristics\n",
    "model_name = 'google_DT_u'\n",
    "classifier = 'DT'"
   ]
  },
  {
   "cell_type": "code",
   "execution_count": null,
   "id": "f2f75029",
   "metadata": {},
   "outputs": [],
   "source": [
    "# perform a grid search for the logistic regression model\n",
    "# the results are automatically stored in results_all_df and best_params_dict\n",
    "perform_grid_search(model_name, tree, param_grid_DT, X_train_google_news_und, X_test_google_news,\n",
    "                    y_train_google_news_und, y_test, vectorizer, FS, classifier, resampling)"
   ]
  },
  {
   "cell_type": "markdown",
   "id": "c0b27818",
   "metadata": {},
   "source": [
    "#### C. Support Vector Machine"
   ]
  },
  {
   "cell_type": "code",
   "execution_count": null,
   "id": "067a8bb2",
   "metadata": {},
   "outputs": [],
   "source": [
    "# define the model characteristics\n",
    "model_name = 'google_svm_u'\n",
    "classifier = 'SVM'"
   ]
  },
  {
   "cell_type": "code",
   "execution_count": null,
   "id": "9b18dba0",
   "metadata": {},
   "outputs": [],
   "source": [
    "# perform a grid search for the logistic regression model\n",
    "# the results are automatically stored in results_all_df and best_params_dict\n",
    "perform_grid_search(model_name, svm, param_grid_svm, X_train_google_news_und, X_test_google_news,\n",
    "                    y_train_google_news_und, y_test, vectorizer, FS, classifier, resampling)"
   ]
  },
  {
   "cell_type": "markdown",
   "id": "b20cf92b",
   "metadata": {},
   "source": [
    "#### D. Random Forest Classifier"
   ]
  },
  {
   "cell_type": "code",
   "execution_count": null,
   "id": "0fa72444",
   "metadata": {},
   "outputs": [],
   "source": [
    "# define the model characteristics\n",
    "model_name = 'google_rf_u'\n",
    "classifier = 'RF'"
   ]
  },
  {
   "cell_type": "code",
   "execution_count": null,
   "id": "810c290f",
   "metadata": {},
   "outputs": [],
   "source": [
    "# perform a grid search for the logistic regression model\n",
    "# the results are automatically stored in results_all_df and best_params_dict\n",
    "perform_grid_search(model_name, rfc, param_grid_rf, X_train_google_news_und, X_test_google_news,\n",
    "                    y_train_google_news_und, y_test, vectorizer, FS, classifier, resampling)"
   ]
  },
  {
   "cell_type": "markdown",
   "id": "b41631fd",
   "metadata": {},
   "source": [
    "#### E. Adaboost classifier"
   ]
  },
  {
   "cell_type": "code",
   "execution_count": null,
   "id": "f83f948e",
   "metadata": {},
   "outputs": [],
   "source": [
    "# define the model characteristics\n",
    "model_name = 'google_ada_u'\n",
    "classifier = 'ADA'"
   ]
  },
  {
   "cell_type": "code",
   "execution_count": null,
   "id": "c540522b",
   "metadata": {},
   "outputs": [],
   "source": [
    "# perform a grid search for the logistic regression model\n",
    "# the results are automatically stored in results_all_df and best_params_dict\n",
    "perform_grid_search(model_name, ada, param_grid_ada, X_train_google_news_und, X_test_google_news,\n",
    "                    y_train_google_news_und, y_test, vectorizer, FS, classifier, resampling)"
   ]
  },
  {
   "cell_type": "markdown",
   "id": "024b2338",
   "metadata": {},
   "source": [
    "### 3.1.3 With oversampling"
   ]
  },
  {
   "cell_type": "code",
   "execution_count": null,
   "id": "b30e4cd8",
   "metadata": {},
   "outputs": [],
   "source": [
    "# Define the resampling technique\n",
    "resampling = 'Ove'"
   ]
  },
  {
   "cell_type": "code",
   "execution_count": null,
   "id": "9a3481f6",
   "metadata": {},
   "outputs": [],
   "source": [
    "# Undersample the data\n",
    "X_train_google_news_ove, y_train_google_news_ove = oversampler.fit_resample(X_train_google_news, y_train)\n",
    "#y_train_skip_ove.value_counts()"
   ]
  },
  {
   "cell_type": "markdown",
   "id": "5f77534c",
   "metadata": {},
   "source": [
    "#### A. Logistic Regression"
   ]
  },
  {
   "cell_type": "code",
   "execution_count": null,
   "id": "7650ebe8",
   "metadata": {},
   "outputs": [],
   "source": [
    "# define the model characteristics\n",
    "model_name = 'google_log_o'\n",
    "classifier = 'logR'"
   ]
  },
  {
   "cell_type": "code",
   "execution_count": null,
   "id": "be1b6b7f",
   "metadata": {},
   "outputs": [],
   "source": [
    "# perform a grid search for the logistic regression model\n",
    "# the results are automatically stored in results_all_df and best_params_dict\n",
    "perform_grid_search(model_name, logreg, param_grid_log, X_train_google_news_ove, X_test_google_news,\n",
    "                    y_train_google_news_ove, y_test, vectorizer, FS, classifier, resampling)"
   ]
  },
  {
   "cell_type": "markdown",
   "id": "1b31a10c",
   "metadata": {},
   "source": [
    "#### B. Decision Tree"
   ]
  },
  {
   "cell_type": "code",
   "execution_count": null,
   "id": "2097986f",
   "metadata": {},
   "outputs": [],
   "source": [
    "# define the model characteristics\n",
    "model_name = 'google_DT_o'\n",
    "classifier = 'DT'"
   ]
  },
  {
   "cell_type": "code",
   "execution_count": null,
   "id": "f59d7309",
   "metadata": {},
   "outputs": [],
   "source": [
    "# perform a grid search for the logistic regression model\n",
    "# the results are automatically stored in results_all_df and best_params_dict\n",
    "perform_grid_search(model_name, tree, param_grid_DT, X_train_google_news_ove, X_test_google_news,\n",
    "                    y_train_google_news_ove, y_test, vectorizer, FS, classifier, resampling)"
   ]
  },
  {
   "cell_type": "markdown",
   "id": "e8e06b9d",
   "metadata": {},
   "source": [
    "#### C. Support Vector Machine"
   ]
  },
  {
   "cell_type": "code",
   "execution_count": null,
   "id": "01c45fc0",
   "metadata": {},
   "outputs": [],
   "source": [
    "# define the model characteristics\n",
    "model_name = 'google_svm_o'\n",
    "classifier = 'SVM'"
   ]
  },
  {
   "cell_type": "code",
   "execution_count": null,
   "id": "a89c21f1",
   "metadata": {},
   "outputs": [],
   "source": [
    "# perform a grid search for the logistic regression model\n",
    "# the results are automatically stored in results_all_df and best_params_dict\n",
    "perform_grid_search(model_name, svm, param_grid_svm, X_train_google_news_ove, X_test_google_news,\n",
    "                    y_train_google_news_ove, y_test, vectorizer, FS, classifier, resampling)"
   ]
  },
  {
   "cell_type": "markdown",
   "id": "74aa4fc0",
   "metadata": {},
   "source": [
    "#### D. Random Forest Classifier"
   ]
  },
  {
   "cell_type": "code",
   "execution_count": null,
   "id": "37bd320d",
   "metadata": {},
   "outputs": [],
   "source": [
    "# define the model characteristics\n",
    "model_name = 'google_rf_o'\n",
    "classifier = 'RF'"
   ]
  },
  {
   "cell_type": "code",
   "execution_count": null,
   "id": "27481118",
   "metadata": {},
   "outputs": [],
   "source": [
    "# perform a grid search for the logistic regression model\n",
    "# the results are automatically stored in results_all_df and best_params_dict\n",
    "perform_grid_search(model_name, rfc, param_grid_rf, X_train_google_news_ove, X_test_google_news,\n",
    "                    y_train_google_news_ove, y_test, vectorizer, FS, classifier, resampling)"
   ]
  },
  {
   "cell_type": "markdown",
   "id": "433c9e51",
   "metadata": {},
   "source": [
    "#### E. Adaboost classifier"
   ]
  },
  {
   "cell_type": "code",
   "execution_count": null,
   "id": "146f47b2",
   "metadata": {},
   "outputs": [],
   "source": [
    "# define the model characteristics\n",
    "model_name = 'google_ada_o'\n",
    "classifier = 'ADA'"
   ]
  },
  {
   "cell_type": "code",
   "execution_count": null,
   "id": "2f767921",
   "metadata": {},
   "outputs": [],
   "source": [
    "# perform a grid search for the logistic regression model\n",
    "# the results are automatically stored in results_all_df and best_params_dict\n",
    "perform_grid_search(model_name, ada, param_grid_ada, X_train_google_news_ove, X_test_google_news,\n",
    "                    y_train_google_news_ove, y_test, vectorizer, FS, classifier, resampling)"
   ]
  },
  {
   "cell_type": "markdown",
   "id": "269cc479",
   "metadata": {},
   "source": [
    "## 3.2 Glove embeddings"
   ]
  },
  {
   "cell_type": "markdown",
   "id": "525df819",
   "metadata": {},
   "source": [
    "In order to use the Glove embeddings, you first need to download their pretrained vectors on the website below. In our scenario, I used the vectors that were trained based on the Wikipedia 2014 and Gigaword 5. These vectors were trained on 6B tokens and a vocabulary of 400.000 words. It is possible to retrieve embeddins that were trained on a larger dataset. Moreover, these vectors come in 4 dimension. You can choose between 50, 100, 200 or 300 dimensions.\n",
    "\n",
    "https://nlp.stanford.edu/projects/glove/"
   ]
  },
  {
   "cell_type": "code",
   "execution_count": null,
   "id": "6d045cac",
   "metadata": {},
   "outputs": [],
   "source": [
    "# define vectorizer method\n",
    "vectorizer = 'pretrained'"
   ]
  },
  {
   "cell_type": "code",
   "execution_count": 109,
   "id": "dea6a7f7",
   "metadata": {},
   "outputs": [],
   "source": [
    "# define type of pretrained embedding model\n",
    "FS = 'Glove'"
   ]
  },
  {
   "cell_type": "code",
   "execution_count": 36,
   "id": "728f5937",
   "metadata": {},
   "outputs": [
    {
     "data": {
      "text/plain": [
       "(400000, 300)"
      ]
     },
     "execution_count": 36,
     "metadata": {},
     "output_type": "execute_result"
    }
   ],
   "source": [
    "# Convert the formats\n",
    "glove_300_w2v = 'glove.6B.300d.text' + '.w2v'\n",
    "glove2word2vec('/Users/juarel/Desktop/studies artur/thesis_HIR/big files/glove/glove.6B.300d.txt', glove_300_w2v)"
   ]
  },
  {
   "cell_type": "code",
   "execution_count": 37,
   "id": "e171db63",
   "metadata": {},
   "outputs": [],
   "source": [
    "glove_300_w2v_model = KeyedVectors.load_word2vec_format(glove_300_w2v, binary=False)"
   ]
  },
  {
   "cell_type": "code",
   "execution_count": 38,
   "id": "b36d6fd8",
   "metadata": {},
   "outputs": [],
   "source": [
    "X_train_glove_300 = np.vstack([vectorize_pretrained(headline, glove_300_w2v_model, 300) for headline in X_train])\n",
    "X_test_glove_300 = np.vstack([vectorize_pretrained(headline, glove_300_w2v_model, 300) for headline in X_test])"
   ]
  },
  {
   "cell_type": "markdown",
   "id": "7d78eaf9",
   "metadata": {},
   "source": [
    "### 3.2.1 Without resampling"
   ]
  },
  {
   "cell_type": "code",
   "execution_count": 110,
   "id": "0b4e416a",
   "metadata": {},
   "outputs": [],
   "source": [
    "# Define the resampling technique\n",
    "resampling = 'None'"
   ]
  },
  {
   "cell_type": "markdown",
   "id": "f419af0a",
   "metadata": {},
   "source": [
    "#### A. Logistic regression"
   ]
  },
  {
   "cell_type": "code",
   "execution_count": null,
   "id": "f416c6df",
   "metadata": {},
   "outputs": [],
   "source": [
    "# define the model characteristics\n",
    "model_name = 'glove_log_w'\n",
    "classifier = 'logR'"
   ]
  },
  {
   "cell_type": "code",
   "execution_count": null,
   "id": "668178ee",
   "metadata": {
    "scrolled": true
   },
   "outputs": [],
   "source": [
    "# perform a grid search for the logistic regression model\n",
    "# the results are automatically stored in results_all_df and best_params_dict\n",
    "perform_grid_search(model_name, logreg, param_grid_log, X_train_glove_300, X_test_glove_300, y_train, y_test,\n",
    "                   vectorizer, FS, classifier, resampling)"
   ]
  },
  {
   "cell_type": "markdown",
   "id": "1e9ac908",
   "metadata": {},
   "source": [
    "#### B. Decision Tree"
   ]
  },
  {
   "cell_type": "code",
   "execution_count": null,
   "id": "7d47e4c2",
   "metadata": {},
   "outputs": [],
   "source": [
    "# define the model characteristics\n",
    "model_name = 'glove_DT_w'\n",
    "classifier = 'DT'"
   ]
  },
  {
   "cell_type": "code",
   "execution_count": null,
   "id": "643c7f18",
   "metadata": {},
   "outputs": [],
   "source": [
    "# perform a grid search for the logistic regression model\n",
    "# the results are automatically stored in results_all_df and best_params_dict\n",
    "perform_grid_search(model_name, tree, param_grid_DT, X_train_glove_300, X_test_glove_300, y_train, y_test,\n",
    "                   vectorizer, FS, classifier, resampling)"
   ]
  },
  {
   "cell_type": "markdown",
   "id": "550f74d2",
   "metadata": {},
   "source": [
    "#### C. Support Vector Machine"
   ]
  },
  {
   "cell_type": "code",
   "execution_count": null,
   "id": "2f5411ce",
   "metadata": {},
   "outputs": [],
   "source": [
    "# define the model characteristics\n",
    "model_name = 'glove_svm_w'\n",
    "classifier = 'SVM'"
   ]
  },
  {
   "cell_type": "code",
   "execution_count": null,
   "id": "241c31d0",
   "metadata": {},
   "outputs": [],
   "source": [
    "# perform a grid search for the logistic regression model\n",
    "# the results are automatically stored in results_all_df and best_params_dict\n",
    "perform_grid_search(model_name, svm, param_grid_svm, X_train_glove_300, X_test_glove_300, y_train, y_test,\n",
    "                   vectorizer, FS, classifier, resampling)"
   ]
  },
  {
   "cell_type": "markdown",
   "id": "ff5e6333",
   "metadata": {},
   "source": [
    "#### D. Random Forest Classifier"
   ]
  },
  {
   "cell_type": "code",
   "execution_count": null,
   "id": "6a4c51b3",
   "metadata": {},
   "outputs": [],
   "source": [
    "# define the model characteristics\n",
    "model_name = 'glove_rf_w'\n",
    "classifier = 'RF'"
   ]
  },
  {
   "cell_type": "code",
   "execution_count": null,
   "id": "65044585",
   "metadata": {},
   "outputs": [],
   "source": [
    "# perform a grid search for the logistic regression model\n",
    "# the results are automatically stored in results_all_df and best_params_dict\n",
    "perform_grid_search(model_name, rfc, param_grid_rf, X_train_glove_300, X_test_glove_300, y_train, y_test,\n",
    "                   vectorizer, FS, classifier, resampling)"
   ]
  },
  {
   "cell_type": "markdown",
   "id": "952932c0",
   "metadata": {},
   "source": [
    "#### E. Adaboost classifier"
   ]
  },
  {
   "cell_type": "code",
   "execution_count": null,
   "id": "497f6396",
   "metadata": {},
   "outputs": [],
   "source": [
    "# define the model characteristics\n",
    "model_name = 'glove_ada_w'\n",
    "classifier = 'ADA'"
   ]
  },
  {
   "cell_type": "code",
   "execution_count": null,
   "id": "ede1e749",
   "metadata": {},
   "outputs": [],
   "source": [
    "# perform a grid search for the logistic regression model\n",
    "# the results are automatically stored in results_all_df and best_params_dict\n",
    "perform_grid_search(model_name, ada, param_grid_ada, X_train_glove_300, X_test_glove_300, y_train, y_test,\n",
    "                   vectorizer, FS, classifier, resampling)"
   ]
  },
  {
   "cell_type": "markdown",
   "id": "dbd72c2c",
   "metadata": {},
   "source": [
    "### 3.2.2 With undersampling"
   ]
  },
  {
   "cell_type": "code",
   "execution_count": null,
   "id": "412da1e2",
   "metadata": {},
   "outputs": [],
   "source": [
    "# Define the resampling technique\n",
    "resampling = 'Und'"
   ]
  },
  {
   "cell_type": "markdown",
   "id": "b24ceea4",
   "metadata": {},
   "source": [
    "#### Second strategy"
   ]
  },
  {
   "cell_type": "code",
   "execution_count": null,
   "id": "537a79da",
   "metadata": {},
   "outputs": [],
   "source": [
    "# Undersample the data\n",
    "X_train_glove_300_und, y_train_glove_300_und = undersampler.fit_resample(X_train_glove_300, y_train)\n",
    "#y_train_cbow_und.value_counts()"
   ]
  },
  {
   "cell_type": "markdown",
   "id": "fe0d8959",
   "metadata": {},
   "source": [
    "#### A. Logistic Regression"
   ]
  },
  {
   "cell_type": "code",
   "execution_count": null,
   "id": "0574a789",
   "metadata": {},
   "outputs": [],
   "source": [
    "# define the model characteristics\n",
    "model_name = 'glove_log_u'\n",
    "classifier = 'logR'"
   ]
  },
  {
   "cell_type": "code",
   "execution_count": null,
   "id": "46b035a1",
   "metadata": {},
   "outputs": [],
   "source": [
    "# perform a grid search for the logistic regression model\n",
    "# the results are automatically stored in results_all_df and best_params_dict\n",
    "perform_grid_search(model_name, logreg, param_grid_log, X_train_glove_300_und, X_test_glove_300,\n",
    "                    y_train_glove_300_und, y_test, vectorizer, FS, classifier, resampling)"
   ]
  },
  {
   "cell_type": "markdown",
   "id": "9fb59f38",
   "metadata": {},
   "source": [
    "#### B. Decision Tree"
   ]
  },
  {
   "cell_type": "code",
   "execution_count": null,
   "id": "dcaa510d",
   "metadata": {},
   "outputs": [],
   "source": [
    "# define the model characteristics\n",
    "model_name = 'glove_DT_u'\n",
    "classifier = 'DT'"
   ]
  },
  {
   "cell_type": "code",
   "execution_count": null,
   "id": "28b754a5",
   "metadata": {},
   "outputs": [],
   "source": [
    "# perform a grid search for the logistic regression model\n",
    "# the results are automatically stored in results_all_df and best_params_dict\n",
    "perform_grid_search(model_name, tree, param_grid_DT, X_train_glove_300_und, X_test_glove_300,\n",
    "                    y_train_glove_300_und, y_test, vectorizer, FS, classifier, resampling)"
   ]
  },
  {
   "cell_type": "markdown",
   "id": "aacda6c3",
   "metadata": {},
   "source": [
    "#### C. Support Vector Machine"
   ]
  },
  {
   "cell_type": "code",
   "execution_count": null,
   "id": "0b9d2293",
   "metadata": {},
   "outputs": [],
   "source": [
    "# define the model characteristics\n",
    "model_name = 'glove_svm_u'\n",
    "classifier = 'SVM'"
   ]
  },
  {
   "cell_type": "code",
   "execution_count": null,
   "id": "d9d6795a",
   "metadata": {},
   "outputs": [],
   "source": [
    "# perform a grid search for the logistic regression model\n",
    "# the results are automatically stored in results_all_df and best_params_dict\n",
    "perform_grid_search(model_name, svm, param_grid_svm, X_train_glove_300_und, X_test_glove_300,\n",
    "                    y_train_glove_300_und, y_test, vectorizer, FS, classifier, resampling)"
   ]
  },
  {
   "cell_type": "markdown",
   "id": "00c2b5db",
   "metadata": {},
   "source": [
    "#### D. Random Forest Classifier"
   ]
  },
  {
   "cell_type": "code",
   "execution_count": null,
   "id": "e46f2ea7",
   "metadata": {},
   "outputs": [],
   "source": [
    "# define the model characteristics\n",
    "model_name = 'glove_rf_u'\n",
    "classifier = 'RF'"
   ]
  },
  {
   "cell_type": "code",
   "execution_count": null,
   "id": "53214e6b",
   "metadata": {},
   "outputs": [],
   "source": [
    "# perform a grid search for the logistic regression model\n",
    "# the results are automatically stored in results_all_df and best_params_dict\n",
    "perform_grid_search(model_name, rfc, param_grid_rf, X_train_glove_300_und, X_test_glove_300,\n",
    "                    y_train_glove_300_und, y_test, vectorizer, FS, classifier, resampling)"
   ]
  },
  {
   "cell_type": "markdown",
   "id": "10fbaa05",
   "metadata": {},
   "source": [
    "#### E. Adaboost classifier"
   ]
  },
  {
   "cell_type": "code",
   "execution_count": null,
   "id": "f6ddc985",
   "metadata": {},
   "outputs": [],
   "source": [
    "# define the model characteristics\n",
    "model_name = 'glove_ada_u'\n",
    "classifier = 'ADA'"
   ]
  },
  {
   "cell_type": "code",
   "execution_count": null,
   "id": "2f6114de",
   "metadata": {},
   "outputs": [],
   "source": [
    "# perform a grid search for the logistic regression model\n",
    "# the results are automatically stored in results_all_df and best_params_dict\n",
    "perform_grid_search(model_name, ada, param_grid_ada, X_train_glove_300_und, X_test_glove_300,\n",
    "                    y_train_glove_300_und, y_test, vectorizer, FS, classifier, resampling)"
   ]
  },
  {
   "cell_type": "markdown",
   "id": "e6c308e9",
   "metadata": {},
   "source": [
    "### 3.2.3 With oversampling"
   ]
  },
  {
   "cell_type": "code",
   "execution_count": null,
   "id": "180d1519",
   "metadata": {},
   "outputs": [],
   "source": [
    "# Define the resampling technique\n",
    "resampling = 'Ove'"
   ]
  },
  {
   "cell_type": "code",
   "execution_count": null,
   "id": "3aea61aa",
   "metadata": {},
   "outputs": [],
   "source": [
    "# Undersample the data\n",
    "X_train_glove_300_ove, y_train_glove_300_ove = oversampler.fit_resample(X_train_glove_300, y_train)\n",
    "#y_train_skip_ove.value_counts()"
   ]
  },
  {
   "cell_type": "markdown",
   "id": "44551fdf",
   "metadata": {},
   "source": [
    "#### A. Logistic Regression"
   ]
  },
  {
   "cell_type": "code",
   "execution_count": null,
   "id": "a2fd2c96",
   "metadata": {},
   "outputs": [],
   "source": [
    "# define the model characteristics\n",
    "model_name = 'glove_log_o'\n",
    "classifier = 'logR'"
   ]
  },
  {
   "cell_type": "code",
   "execution_count": null,
   "id": "8e6650f8",
   "metadata": {},
   "outputs": [],
   "source": [
    "# perform a grid search for the logistic regression model\n",
    "# the results are automatically stored in results_all_df and best_params_dict\n",
    "perform_grid_search(model_name, logreg, param_grid_log, X_train_glove_300_ove, X_test_glove_300,\n",
    "                    y_train_glove_300_ove, y_test, vectorizer, FS, classifier, resampling)"
   ]
  },
  {
   "cell_type": "markdown",
   "id": "d375b59c",
   "metadata": {},
   "source": [
    "#### B. Decision Tree"
   ]
  },
  {
   "cell_type": "code",
   "execution_count": null,
   "id": "cc52832e",
   "metadata": {},
   "outputs": [],
   "source": [
    "# define the model characteristics\n",
    "model_name = 'glove_DT_o'\n",
    "classifier = 'DT'"
   ]
  },
  {
   "cell_type": "code",
   "execution_count": null,
   "id": "af9605bd",
   "metadata": {},
   "outputs": [],
   "source": [
    "# perform a grid search for the logistic regression model\n",
    "# the results are automatically stored in results_all_df and best_params_dict\n",
    "perform_grid_search(model_name, tree, param_grid_DT, X_train_glove_300_ove, X_test_glove_300,\n",
    "                    y_train_glove_300_ove, y_test, vectorizer, FS, classifier, resampling)"
   ]
  },
  {
   "cell_type": "markdown",
   "id": "8e2e9f1e",
   "metadata": {},
   "source": [
    "#### C. Support Vector Machine"
   ]
  },
  {
   "cell_type": "code",
   "execution_count": null,
   "id": "83430488",
   "metadata": {},
   "outputs": [],
   "source": [
    "# define the model characteristics\n",
    "model_name = 'glove_svm_o'\n",
    "classifier = 'SVM'"
   ]
  },
  {
   "cell_type": "code",
   "execution_count": null,
   "id": "21301891",
   "metadata": {},
   "outputs": [],
   "source": [
    "# perform a grid search for the logistic regression model\n",
    "# the results are automatically stored in results_all_df and best_params_dict\n",
    "perform_grid_search(model_name, svm, param_grid_svm, X_train_glove_300_ove, X_test_glove_300,\n",
    "                    y_train_glove_300_ove, y_test, vectorizer, FS, classifier, resampling)"
   ]
  },
  {
   "cell_type": "markdown",
   "id": "fd676d85",
   "metadata": {},
   "source": [
    "#### D. Random Forest Classifier"
   ]
  },
  {
   "cell_type": "code",
   "execution_count": null,
   "id": "d972f410",
   "metadata": {},
   "outputs": [],
   "source": [
    "# define the model characteristics\n",
    "model_name = 'glove_rf_o'\n",
    "classifier = 'RF'"
   ]
  },
  {
   "cell_type": "code",
   "execution_count": null,
   "id": "fd6e0856",
   "metadata": {},
   "outputs": [],
   "source": [
    "# perform a grid search for the logistic regression model\n",
    "# the results are automatically stored in results_all_df and best_params_dict\n",
    "perform_grid_search(model_name, rfc, param_grid_rf, X_train_glove_300_ove, X_test_glove_300,\n",
    "                    y_train_glove_300_ove, y_test, vectorizer, FS, classifier, resampling)"
   ]
  },
  {
   "cell_type": "markdown",
   "id": "c9f2f596",
   "metadata": {},
   "source": [
    "#### E. Adaboost classifier"
   ]
  },
  {
   "cell_type": "code",
   "execution_count": null,
   "id": "b2de349d",
   "metadata": {},
   "outputs": [],
   "source": [
    "# define the model characteristics\n",
    "model_name = 'glove_ada_o'\n",
    "classifier = 'ADA'"
   ]
  },
  {
   "cell_type": "code",
   "execution_count": null,
   "id": "55e68056",
   "metadata": {},
   "outputs": [],
   "source": [
    "# perform a grid search for the logistic regression model\n",
    "# the results are automatically stored in results_all_df and best_params_dict\n",
    "perform_grid_search(model_name, ada, param_grid_ada, X_train_glove_300_ove, X_test_glove_300,\n",
    "                    y_train_glove_300_ove, y_test, vectorizer, FS, classifier, resampling)"
   ]
  },
  {
   "cell_type": "markdown",
   "id": "1cc160da",
   "metadata": {},
   "source": [
    "## 3.3 Spacy model"
   ]
  },
  {
   "cell_type": "markdown",
   "id": "3d9791bd",
   "metadata": {},
   "source": [
    "https://spacy.io/models/en#en_core_web_lg"
   ]
  },
  {
   "cell_type": "markdown",
   "id": "3b8f7a9d",
   "metadata": {},
   "source": [
    "One of the shortcomings of the two previous pretrained models is that they are trained on data from 2013 (google news dataset) and 2014 (Glove embeddings). However, our data consists out headlines that were published between 2014 and 2020. Therefore, we also aimed to use a pretrained model based on more recent data. Therefore, we use the Spacy package. Spacy is a powerful natural language package that has four basic pipeline models to convert English words from text to embeddings:\n",
    "\n",
    "1. en_core_web_sm\n",
    "2. en_core_web_md\n",
    "3. en_core_web_lg\n",
    "4. en_core_web_trf\n",
    "\n",
    "The sm (small), md (medium) and lg (large) models are all designed to run on a CPU (regular computer). The trf is transformer based (Roberta Model) and runs best on a GPU. "
   ]
  },
  {
   "cell_type": "code",
   "execution_count": 64,
   "id": "809249a2",
   "metadata": {},
   "outputs": [
    {
     "name": "stdout",
     "output_type": "stream",
     "text": [
      "\u001b[38;5;2m✔ Download and installation successful\u001b[0m\n",
      "You can now load the package via spacy.load('en_core_web_lg')\n"
     ]
    }
   ],
   "source": [
    "# In case it's not already downloaded, then run this code to download it # \n",
    "#import spacy.cli\n",
    "#spacy.cli.download(\"en_core_web_lg\")"
   ]
  },
  {
   "cell_type": "code",
   "execution_count": 68,
   "id": "42cc40a5",
   "metadata": {},
   "outputs": [],
   "source": [
    "# Load NLP Model from Spacy #\n",
    "spacy_lg = spacy.load('en_core_web_lg')"
   ]
  },
  {
   "cell_type": "code",
   "execution_count": 90,
   "id": "421a54df",
   "metadata": {},
   "outputs": [],
   "source": [
    "X_train_spacy_lg = np.vstack([spacy_lg(headline).vector.reshape(1,-1) for headline in X_train])\n",
    "X_test_spacy_lg = np.vstack([spacy_lg(headline).vector.reshape(1,-1) for headline in X_test])"
   ]
  },
  {
   "cell_type": "code",
   "execution_count": null,
   "id": "e7446650",
   "metadata": {},
   "outputs": [],
   "source": [
    "# define vectorizer method\n",
    "vectorizer = 'pretrained'"
   ]
  },
  {
   "cell_type": "code",
   "execution_count": 109,
   "id": "07bed20d",
   "metadata": {},
   "outputs": [],
   "source": [
    "# define type of pretrained embedding model\n",
    "FS = 'Spacy'"
   ]
  },
  {
   "cell_type": "markdown",
   "id": "4e34f725",
   "metadata": {},
   "source": [
    "### 3.3.1 Without resampling"
   ]
  },
  {
   "cell_type": "code",
   "execution_count": 110,
   "id": "8caee020",
   "metadata": {},
   "outputs": [],
   "source": [
    "# Define the resampling technique\n",
    "resampling = 'None'"
   ]
  },
  {
   "cell_type": "markdown",
   "id": "f04267ed",
   "metadata": {},
   "source": [
    "#### A. Logistic regression"
   ]
  },
  {
   "cell_type": "code",
   "execution_count": null,
   "id": "f0571bab",
   "metadata": {},
   "outputs": [],
   "source": [
    "# define the model characteristics\n",
    "model_name = 'spacy_log_w'\n",
    "classifier = 'logR'"
   ]
  },
  {
   "cell_type": "code",
   "execution_count": null,
   "id": "63404acd",
   "metadata": {
    "scrolled": true
   },
   "outputs": [],
   "source": [
    "# perform a grid search for the logistic regression model\n",
    "# the results are automatically stored in results_all_df and best_params_dict\n",
    "perform_grid_search(model_name, logreg, param_grid_log, X_train_spacy_lg, X_test_spacy_lg, y_train, y_test,\n",
    "                   vectorizer, FS, classifier, resampling)"
   ]
  },
  {
   "cell_type": "markdown",
   "id": "5b935be6",
   "metadata": {},
   "source": [
    "#### B. Decision Tree"
   ]
  },
  {
   "cell_type": "code",
   "execution_count": null,
   "id": "637d808e",
   "metadata": {},
   "outputs": [],
   "source": [
    "# define the model characteristics\n",
    "model_name = 'spacy_DT_w'\n",
    "classifier = 'DT'"
   ]
  },
  {
   "cell_type": "code",
   "execution_count": null,
   "id": "43fb41d9",
   "metadata": {},
   "outputs": [],
   "source": [
    "# perform a grid search for the logistic regression model\n",
    "# the results are automatically stored in results_all_df and best_params_dict\n",
    "perform_grid_search(model_name, tree, param_grid_DT, X_train_spacy_lg, X_test_spacy_lg, y_train, y_test,\n",
    "                   vectorizer, FS, classifier, resampling)"
   ]
  },
  {
   "cell_type": "markdown",
   "id": "c9cb6c53",
   "metadata": {},
   "source": [
    "#### C. Support Vector Machine"
   ]
  },
  {
   "cell_type": "code",
   "execution_count": null,
   "id": "533941e0",
   "metadata": {},
   "outputs": [],
   "source": [
    "# define the model characteristics\n",
    "model_name = 'spacy_svm_w'\n",
    "classifier = 'SVM'"
   ]
  },
  {
   "cell_type": "code",
   "execution_count": null,
   "id": "35a3922e",
   "metadata": {},
   "outputs": [],
   "source": [
    "# perform a grid search for the logistic regression model\n",
    "# the results are automatically stored in results_all_df and best_params_dict\n",
    "perform_grid_search(model_name, svm, param_grid_svm, X_train_spacy_lg, X_test_spacy_lg, y_train, y_test,\n",
    "                   vectorizer, FS, classifier, resampling)"
   ]
  },
  {
   "cell_type": "markdown",
   "id": "ac07444e",
   "metadata": {},
   "source": [
    "#### D. Random Forest Classifier"
   ]
  },
  {
   "cell_type": "code",
   "execution_count": null,
   "id": "d5695c0b",
   "metadata": {},
   "outputs": [],
   "source": [
    "# define the model characteristics\n",
    "model_name = 'spacy_rf_w'\n",
    "classifier = 'RF'"
   ]
  },
  {
   "cell_type": "code",
   "execution_count": null,
   "id": "59254968",
   "metadata": {},
   "outputs": [],
   "source": [
    "# perform a grid search for the logistic regression model\n",
    "# the results are automatically stored in results_all_df and best_params_dict\n",
    "perform_grid_search(model_name, rfc, param_grid_rf, X_train_spacy_lg, X_test_spacy_lg, y_train, y_test,\n",
    "                   vectorizer, FS, classifier, resampling)"
   ]
  },
  {
   "cell_type": "markdown",
   "id": "056f236c",
   "metadata": {},
   "source": [
    "#### E. Adaboost classifier"
   ]
  },
  {
   "cell_type": "code",
   "execution_count": null,
   "id": "aebeb7ca",
   "metadata": {},
   "outputs": [],
   "source": [
    "# define the model characteristics\n",
    "model_name = 'spacy_ada_w'\n",
    "classifier = 'ADA'"
   ]
  },
  {
   "cell_type": "code",
   "execution_count": null,
   "id": "d26713fc",
   "metadata": {},
   "outputs": [],
   "source": [
    "# perform a grid search for the logistic regression model\n",
    "# the results are automatically stored in results_all_df and best_params_dict\n",
    "perform_grid_search(model_name, ada, param_grid_ada, X_train_spacy_lg, X_test_spacy_lg, y_train, y_test,\n",
    "                   vectorizer, FS, classifier, resampling)"
   ]
  },
  {
   "cell_type": "markdown",
   "id": "e4e44681",
   "metadata": {},
   "source": [
    "### 3.3.2 With undersampling"
   ]
  },
  {
   "cell_type": "code",
   "execution_count": null,
   "id": "d6eea21e",
   "metadata": {},
   "outputs": [],
   "source": [
    "# Define the resampling technique\n",
    "resampling = 'Und'"
   ]
  },
  {
   "cell_type": "markdown",
   "id": "73ead4df",
   "metadata": {},
   "source": [
    "#### Second strategy"
   ]
  },
  {
   "cell_type": "code",
   "execution_count": null,
   "id": "eb44bc80",
   "metadata": {},
   "outputs": [],
   "source": [
    "# Undersample the data\n",
    "X_train_spacy_und, y_train_spacy_und = undersampler.fit_resample(X_train_spacy_lg, y_train)\n",
    "#y_train_cbow_und.value_counts()"
   ]
  },
  {
   "cell_type": "markdown",
   "id": "9b00a3e3",
   "metadata": {},
   "source": [
    "#### A. Logistic Regression"
   ]
  },
  {
   "cell_type": "code",
   "execution_count": null,
   "id": "c34aa424",
   "metadata": {},
   "outputs": [],
   "source": [
    "# define the model characteristics\n",
    "model_name = 'spacy_log_u'\n",
    "classifier = 'logR'"
   ]
  },
  {
   "cell_type": "code",
   "execution_count": null,
   "id": "48d39bd5",
   "metadata": {},
   "outputs": [],
   "source": [
    "# perform a grid search for the logistic regression model\n",
    "# the results are automatically stored in results_all_df and best_params_dict\n",
    "perform_grid_search(model_name, logreg, param_grid_log, X_train_spacy_und, X_test_spacy_lg,\n",
    "                    y_train_spacy_und, y_test, vectorizer, FS, classifier, resampling)"
   ]
  },
  {
   "cell_type": "markdown",
   "id": "7c0f2f5a",
   "metadata": {},
   "source": [
    "#### B. Decision Tree"
   ]
  },
  {
   "cell_type": "code",
   "execution_count": null,
   "id": "5b7370bd",
   "metadata": {},
   "outputs": [],
   "source": [
    "# define the model characteristics\n",
    "model_name = 'spacy_DT_u'\n",
    "classifier = 'DT'"
   ]
  },
  {
   "cell_type": "code",
   "execution_count": null,
   "id": "6ce72d66",
   "metadata": {},
   "outputs": [],
   "source": [
    "# perform a grid search for the logistic regression model\n",
    "# the results are automatically stored in results_all_df and best_params_dict\n",
    "perform_grid_search(model_name, tree, param_grid_DT, X_train_spacy_und, X_test_spacy_lg,\n",
    "                    y_train_spacy_und, y_test, vectorizer, FS, classifier, resampling)"
   ]
  },
  {
   "cell_type": "markdown",
   "id": "f6f33d4e",
   "metadata": {},
   "source": [
    "#### C. Support Vector Machine"
   ]
  },
  {
   "cell_type": "code",
   "execution_count": null,
   "id": "e229ef1b",
   "metadata": {},
   "outputs": [],
   "source": [
    "# define the model characteristics\n",
    "model_name = 'spacy_svm_u'\n",
    "classifier = 'SVM'"
   ]
  },
  {
   "cell_type": "code",
   "execution_count": null,
   "id": "c69b263b",
   "metadata": {},
   "outputs": [],
   "source": [
    "# perform a grid search for the logistic regression model\n",
    "# the results are automatically stored in results_all_df and best_params_dict\n",
    "perform_grid_search(model_name, svm, param_grid_svm, X_train_spacy_und, X_test_spacy_lg,\n",
    "                    y_train_spacy_und, y_test, vectorizer, FS, classifier, resampling)"
   ]
  },
  {
   "cell_type": "markdown",
   "id": "841e75d8",
   "metadata": {},
   "source": [
    "#### D. Random Forest Classifier"
   ]
  },
  {
   "cell_type": "code",
   "execution_count": null,
   "id": "080a7829",
   "metadata": {},
   "outputs": [],
   "source": [
    "# define the model characteristics\n",
    "model_name = 'spacy_rf_u'\n",
    "classifier = 'RF'"
   ]
  },
  {
   "cell_type": "code",
   "execution_count": null,
   "id": "e06b622e",
   "metadata": {},
   "outputs": [],
   "source": [
    "# perform a grid search for the logistic regression model\n",
    "# the results are automatically stored in results_all_df and best_params_dict\n",
    "perform_grid_search(model_name, rfc, param_grid_rf, X_train_spacy_und, X_test_spacy_lg,\n",
    "                    y_train_spacy_und, y_test, vectorizer, FS, classifier, resampling)"
   ]
  },
  {
   "cell_type": "markdown",
   "id": "cedd4ff6",
   "metadata": {},
   "source": [
    "#### E. Adaboost classifier"
   ]
  },
  {
   "cell_type": "code",
   "execution_count": null,
   "id": "13cc4e2b",
   "metadata": {},
   "outputs": [],
   "source": [
    "# define the model characteristics\n",
    "model_name = 'spacy_ada_u'\n",
    "classifier = 'ADA'"
   ]
  },
  {
   "cell_type": "code",
   "execution_count": null,
   "id": "1d17566f",
   "metadata": {},
   "outputs": [],
   "source": [
    "# perform a grid search for the logistic regression model\n",
    "# the results are automatically stored in results_all_df and best_params_dict\n",
    "perform_grid_search(model_name, ada, param_grid_ada, X_train_spacy_und, X_test_spacy_lg,\n",
    "                    y_train_spacy_und, y_test, vectorizer, FS, classifier, resampling)"
   ]
  },
  {
   "cell_type": "markdown",
   "id": "b0b24ba3",
   "metadata": {},
   "source": [
    "### 3.3.3 With oversampling"
   ]
  },
  {
   "cell_type": "code",
   "execution_count": null,
   "id": "2300168c",
   "metadata": {},
   "outputs": [],
   "source": [
    "# Define the resampling technique\n",
    "resampling = 'Ove'"
   ]
  },
  {
   "cell_type": "code",
   "execution_count": null,
   "id": "ad9317a3",
   "metadata": {},
   "outputs": [],
   "source": [
    "# Undersample the data\n",
    "X_train_spacy_ove, y_train_spacy_ove = oversampler.fit_resample(X_train_spacy_lg, y_train)\n",
    "#y_train_skip_ove.value_counts()"
   ]
  },
  {
   "cell_type": "markdown",
   "id": "f5e429cd",
   "metadata": {},
   "source": [
    "#### A. Logistic Regression"
   ]
  },
  {
   "cell_type": "code",
   "execution_count": null,
   "id": "34fac039",
   "metadata": {},
   "outputs": [],
   "source": [
    "# define the model characteristics\n",
    "model_name = 'spacy_log_o'\n",
    "classifier = 'logR'"
   ]
  },
  {
   "cell_type": "code",
   "execution_count": null,
   "id": "f92d1366",
   "metadata": {},
   "outputs": [],
   "source": [
    "# perform a grid search for the logistic regression model\n",
    "# the results are automatically stored in results_all_df and best_params_dict\n",
    "perform_grid_search(model_name, logreg, param_grid_log, X_train_spacy_ove, X_test_spacy_lg,\n",
    "                    y_train_spacy_ove, y_test, vectorizer, FS, classifier, resampling)"
   ]
  },
  {
   "cell_type": "markdown",
   "id": "1fb43da7",
   "metadata": {},
   "source": [
    "#### B. Decision Tree"
   ]
  },
  {
   "cell_type": "code",
   "execution_count": null,
   "id": "963cafb1",
   "metadata": {},
   "outputs": [],
   "source": [
    "# define the model characteristics\n",
    "model_name = 'spacy_DT_o'\n",
    "classifier = 'DT'"
   ]
  },
  {
   "cell_type": "code",
   "execution_count": null,
   "id": "68335116",
   "metadata": {},
   "outputs": [],
   "source": [
    "# perform a grid search for the logistic regression model\n",
    "# the results are automatically stored in results_all_df and best_params_dict\n",
    "perform_grid_search(model_name, tree, param_grid_DT, X_train_spacy_ove, X_test_spacy_lg,\n",
    "                    y_train_spacy_ove, y_test, vectorizer, FS, classifier, resampling)"
   ]
  },
  {
   "cell_type": "markdown",
   "id": "aa2bd9e6",
   "metadata": {},
   "source": [
    "#### C. Support Vector Machine"
   ]
  },
  {
   "cell_type": "code",
   "execution_count": null,
   "id": "475dea05",
   "metadata": {},
   "outputs": [],
   "source": [
    "# define the model characteristics\n",
    "model_name = 'google_svm_o'\n",
    "classifier = 'SVM'"
   ]
  },
  {
   "cell_type": "code",
   "execution_count": null,
   "id": "fdaf0343",
   "metadata": {},
   "outputs": [],
   "source": [
    "# perform a grid search for the logistic regression model\n",
    "# the results are automatically stored in results_all_df and best_params_dict\n",
    "perform_grid_search(model_name, svm, param_grid_svm, X_train_google_news_ove, X_test_google_news,\n",
    "                    y_train_google_news_ove, y_test, vectorizer, FS, classifier, resampling)"
   ]
  },
  {
   "cell_type": "markdown",
   "id": "e24bb386",
   "metadata": {},
   "source": [
    "#### D. Random Forest Classifier"
   ]
  },
  {
   "cell_type": "code",
   "execution_count": null,
   "id": "0a842207",
   "metadata": {},
   "outputs": [],
   "source": [
    "# define the model characteristics\n",
    "model_name = 'spacy_rf_o'\n",
    "classifier = 'RF'"
   ]
  },
  {
   "cell_type": "code",
   "execution_count": null,
   "id": "f82ed403",
   "metadata": {},
   "outputs": [],
   "source": [
    "# perform a grid search for the logistic regression model\n",
    "# the results are automatically stored in results_all_df and best_params_dict\n",
    "perform_grid_search(model_name, rfc, param_grid_rf, X_train_spacy_ove, X_test_spacy_lg,\n",
    "                    y_train_spacy_ove, y_test, vectorizer, FS, classifier, resampling)"
   ]
  },
  {
   "cell_type": "markdown",
   "id": "7c4af538",
   "metadata": {},
   "source": [
    "#### E. Adaboost classifier"
   ]
  },
  {
   "cell_type": "code",
   "execution_count": null,
   "id": "e63254af",
   "metadata": {},
   "outputs": [],
   "source": [
    "# define the model characteristics\n",
    "model_name = 'spacy_ada_o'\n",
    "classifier = 'ADA'"
   ]
  },
  {
   "cell_type": "code",
   "execution_count": null,
   "id": "c8499086",
   "metadata": {},
   "outputs": [],
   "source": [
    "# perform a grid search for the logistic regression model\n",
    "# the results are automatically stored in results_all_df and best_params_dict\n",
    "perform_grid_search(model_name, ada, param_grid_ada, X_train_spacy_ove, X_test_spacy_lg,\n",
    "                    y_train_spacy_ove, y_test, vectorizer, FS, classifier, resampling)"
   ]
  },
  {
   "cell_type": "markdown",
   "id": "ed8db03c",
   "metadata": {},
   "source": [
    "## 4. Write away results"
   ]
  },
  {
   "cell_type": "code",
   "execution_count": null,
   "id": "a345ee3c",
   "metadata": {},
   "outputs": [],
   "source": [
    "# write away results\n",
    "results_all_df.to_csv('./Output/Model performance/results_embeddings.csv', index = False, header = True)"
   ]
  },
  {
   "cell_type": "code",
   "execution_count": null,
   "id": "d795114f",
   "metadata": {},
   "outputs": [],
   "source": [
    "# Write the dictionary with the best parameters away\n",
    "with open('./Output/parameters/embeddings.json', 'w') as file:\n",
    "    json.dump(best_params_dict, file)"
   ]
  }
 ],
 "metadata": {
  "kernelspec": {
   "display_name": "Python 3",
   "language": "python",
   "name": "python3"
  },
  "language_info": {
   "codemirror_mode": {
    "name": "ipython",
    "version": 3
   },
   "file_extension": ".py",
   "mimetype": "text/x-python",
   "name": "python",
   "nbconvert_exporter": "python",
   "pygments_lexer": "ipython3",
   "version": "3.8.8"
  }
 },
 "nbformat": 4,
 "nbformat_minor": 5
}
